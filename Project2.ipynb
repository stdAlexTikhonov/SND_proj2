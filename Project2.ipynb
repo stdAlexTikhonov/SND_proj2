{
 "cells": [
  {
   "cell_type": "code",
   "execution_count": 1,
   "metadata": {},
   "outputs": [],
   "source": [
    "# Import everything needed to edit/save/watch video clips\n",
    "import numpy as np\n",
    "import cv2\n",
    "import glob\n",
    "import matplotlib.pyplot as plt\n",
    "%matplotlib qt\n",
    "\n",
    "# prepare object points, like (0,0,0), (1,0,0), (2,0,0) ....,(6,5,0)\n",
    "objp = np.zeros((6*9,3), np.float32)\n",
    "objp[:,:2] = np.mgrid[0:9,0:6].T.reshape(-1,2)\n",
    "\n",
    "# Arrays to store object points and image points from all the images.\n",
    "objpoints = [] # 3d points in real world space\n",
    "imgpoints = [] # 2d points in image plane.\n",
    "\n",
    "# Make a list of calibration images\n",
    "images = glob.glob('camera_cal/calibration*.jpg')\n",
    "\n",
    "# Step through the list and search for chessboard corners\n",
    "for fname in images:\n",
    "    img = cv2.imread(fname)\n",
    "    gray = cv2.cvtColor(img,cv2.COLOR_BGR2GRAY)\n",
    "\n",
    "    # Find the chessboard corners\n",
    "    ret, corners = cv2.findChessboardCorners(gray, (9,6),None)\n",
    "\n",
    "    # If found, add object points, image points\n",
    "    if ret == True:\n",
    "        objpoints.append(objp)\n",
    "        imgpoints.append(corners)\n",
    "\n",
    "        # Draw and display the corners\n",
    "        img = cv2.drawChessboardCorners(img, (9,6), corners, ret)\n",
    "        cv2.imshow('img',img)\n",
    "        cv2.waitKey(500)\n",
    "\n",
    "cv2.destroyAllWindows()\n"
   ]
  },
  {
   "cell_type": "code",
   "execution_count": 2,
   "metadata": {},
   "outputs": [],
   "source": [
    "gray = cv2.cvtColor(img, cv2.COLOR_BGR2GRAY)\n",
    "\n",
    "ret, mtx, dist, rvecs, tvecs = cv2.calibrateCamera(objpoints, imgpoints, gray.shape[::-1], None, None)\n"
   ]
  },
  {
   "cell_type": "code",
   "execution_count": 14,
   "metadata": {},
   "outputs": [
    {
     "name": "stderr",
     "output_type": "stream",
     "text": [
      "\r",
      "t:   0%|          | 0/1260 [00:00<?, ?it/s, now=None]"
     ]
    },
    {
     "name": "stdout",
     "output_type": "stream",
     "text": [
      "640 midpoint\n",
      "395.0 left_base\n",
      "919.0 right_base\n",
      "Moviepy - Building video test_videos_output/project_video.mp4.\n",
      "Moviepy - Writing video test_videos_output/project_video.mp4\n",
      "\n",
      "640 midpoint\n",
      "395.0 left_base\n",
      "919.0 right_base\n"
     ]
    },
    {
     "name": "stderr",
     "output_type": "stream",
     "text": [
      "t:   0%|          | 3/1260 [00:00<03:27,  6.06it/s, now=None]"
     ]
    },
    {
     "name": "stdout",
     "output_type": "stream",
     "text": [
      "640 midpoint\n",
      "392.0 left_base\n",
      "922.0 right_base\n",
      "640 midpoint\n"
     ]
    },
    {
     "name": "stderr",
     "output_type": "stream",
     "text": [
      "\r",
      "t:   0%|          | 4/1260 [00:00<03:57,  5.29it/s, now=None]"
     ]
    },
    {
     "name": "stdout",
     "output_type": "stream",
     "text": [
      "393.0 left_base\n",
      "924.0 right_base\n",
      "640 midpoint\n",
      "394.0 left_base\n",
      "922.0 right_base\n"
     ]
    },
    {
     "name": "stderr",
     "output_type": "stream",
     "text": [
      "t:   0%|          | 6/1260 [00:01<04:21,  4.80it/s, now=None]"
     ]
    },
    {
     "name": "stdout",
     "output_type": "stream",
     "text": [
      "640 midpoint\n",
      "394.0 left_base\n",
      "924.0 right_base\n",
      "640 midpoint\n",
      "393.0 left_base\n",
      "923.0 right_base\n"
     ]
    },
    {
     "name": "stderr",
     "output_type": "stream",
     "text": [
      "t:   1%|          | 8/1260 [00:01<04:44,  4.41it/s, now=None]"
     ]
    },
    {
     "name": "stdout",
     "output_type": "stream",
     "text": [
      "640 midpoint\n",
      "391.0 left_base\n",
      "921.0 right_base\n",
      "640 midpoint\n",
      "392.0 left_base\n",
      "903.0 right_base\n"
     ]
    },
    {
     "name": "stderr",
     "output_type": "stream",
     "text": [
      "t:   1%|          | 10/1260 [00:02<04:57,  4.20it/s, now=None]"
     ]
    },
    {
     "name": "stdout",
     "output_type": "stream",
     "text": [
      "640 midpoint\n",
      "390.0 left_base\n",
      "908.0 right_base\n",
      "640 midpoint\n",
      "388.0 left_base\n",
      "916.0 right_base\n"
     ]
    },
    {
     "name": "stderr",
     "output_type": "stream",
     "text": [
      "t:   1%|          | 12/1260 [00:02<04:50,  4.30it/s, now=None]"
     ]
    },
    {
     "name": "stdout",
     "output_type": "stream",
     "text": [
      "640 midpoint\n",
      "387.0 left_base\n",
      "914.0 right_base\n",
      "640 midpoint\n",
      "382.0"
     ]
    },
    {
     "name": "stderr",
     "output_type": "stream",
     "text": [
      "\r",
      "t:   1%|          | 13/1260 [00:02<04:41,  4.44it/s, now=None]"
     ]
    },
    {
     "name": "stdout",
     "output_type": "stream",
     "text": [
      " left_base\n",
      "915.0 right_base\n",
      "640 midpoint\n",
      "379.0 left_base\n",
      "898.0 right_base\n"
     ]
    },
    {
     "name": "stderr",
     "output_type": "stream",
     "text": [
      "t:   1%|          | 15/1260 [00:03<04:39,  4.46it/s, now=None]"
     ]
    },
    {
     "name": "stdout",
     "output_type": "stream",
     "text": [
      "640 midpoint\n",
      "376.0 left_base\n",
      "901.0 right_base\n",
      "640 midpoint\n",
      "377.0 left_base\n",
      "902.0 right_base\n"
     ]
    },
    {
     "name": "stderr",
     "output_type": "stream",
     "text": [
      "t:   1%|▏         | 17/1260 [00:03<04:38,  4.47it/s, now=None]"
     ]
    },
    {
     "name": "stdout",
     "output_type": "stream",
     "text": [
      "640 midpoint\n",
      "378.0 left_base\n",
      "898.0 right_base\n",
      "640 midpoint\n",
      "377.0 left_base\n",
      "899.0 right_base\n"
     ]
    },
    {
     "name": "stderr",
     "output_type": "stream",
     "text": [
      "t:   2%|▏         | 19/1260 [00:04<04:35,  4.50it/s, now=None]"
     ]
    },
    {
     "name": "stdout",
     "output_type": "stream",
     "text": [
      "640 midpoint\n",
      "376.0 left_base\n",
      "899.0 right_base\n",
      "640 midpoint\n",
      "375.0 left_base\n",
      "898.0 right_base\n"
     ]
    },
    {
     "name": "stderr",
     "output_type": "stream",
     "text": [
      "t:   2%|▏         | 21/1260 [00:04<04:33,  4.53it/s, now=None]"
     ]
    },
    {
     "name": "stdout",
     "output_type": "stream",
     "text": [
      "640 midpoint\n",
      "373.0 left_base\n",
      "911.0 right_base\n",
      "640 midpoint\n",
      "371.0 left_base\n",
      "896.0 right_base\n"
     ]
    },
    {
     "name": "stderr",
     "output_type": "stream",
     "text": [
      "t:   2%|▏         | 23/1260 [00:05<04:33,  4.52it/s, now=None]"
     ]
    },
    {
     "name": "stdout",
     "output_type": "stream",
     "text": [
      "640 midpoint\n",
      "370.0 left_base\n",
      "904.0 right_base\n",
      "640 midpoint\n",
      "368.0 left_base\n",
      "916.0 right_base\n"
     ]
    },
    {
     "name": "stderr",
     "output_type": "stream",
     "text": [
      "t:   2%|▏         | 25/1260 [00:05<04:36,  4.46it/s, now=None]"
     ]
    },
    {
     "name": "stdout",
     "output_type": "stream",
     "text": [
      "640 midpoint\n",
      "369.0 left_base\n",
      "917.0 right_base\n",
      "640 midpoint\n",
      "370.0 left_base\n",
      "914.0 right_base\n"
     ]
    },
    {
     "name": "stderr",
     "output_type": "stream",
     "text": [
      "t:   2%|▏         | 27/1260 [00:06<04:48,  4.27it/s, now=None]"
     ]
    },
    {
     "name": "stdout",
     "output_type": "stream",
     "text": [
      "640 midpoint\n",
      "369.0 left_base\n",
      "908.0 right_base\n",
      "640 midpoint\n",
      "367.0 left_base\n",
      "907.0 right_base\n"
     ]
    },
    {
     "name": "stderr",
     "output_type": "stream",
     "text": [
      "t:   2%|▏         | 29/1260 [00:06<04:42,  4.35it/s, now=None]"
     ]
    },
    {
     "name": "stdout",
     "output_type": "stream",
     "text": [
      "640 midpoint\n",
      "367.0 left_base\n",
      "922.0 right_base\n",
      "640 midpoint\n",
      "369.0 left_base\n",
      "923.0 right_base\n"
     ]
    },
    {
     "name": "stderr",
     "output_type": "stream",
     "text": [
      "t:   2%|▏         | 31/1260 [00:07<04:52,  4.20it/s, now=None]"
     ]
    },
    {
     "name": "stdout",
     "output_type": "stream",
     "text": [
      "640 midpoint\n",
      "372.0 left_base\n",
      "919.0 right_base\n",
      "640 midpoint\n",
      "376.0 left_base\n",
      "916.0 right_base\n"
     ]
    },
    {
     "name": "stderr",
     "output_type": "stream",
     "text": [
      "t:   3%|▎         | 33/1260 [00:07<04:44,  4.31it/s, now=None]"
     ]
    },
    {
     "name": "stdout",
     "output_type": "stream",
     "text": [
      "640 midpoint\n",
      "380.0 left_base\n",
      "906.0 right_base\n",
      "640 midpoint\n",
      "378.0 left_base\n",
      "909.0 right_base\n"
     ]
    },
    {
     "name": "stderr",
     "output_type": "stream",
     "text": [
      "t:   3%|▎         | 35/1260 [00:07<04:37,  4.42it/s, now=None]"
     ]
    },
    {
     "name": "stdout",
     "output_type": "stream",
     "text": [
      "640 midpoint\n",
      "380.0 left_base\n",
      "903.0 right_base\n",
      "640 midpoint\n",
      "382.0 left_base\n",
      "909.0 right_base\n"
     ]
    },
    {
     "name": "stderr",
     "output_type": "stream",
     "text": [
      "t:   3%|▎         | 37/1260 [00:08<04:36,  4.43it/s, now=None]"
     ]
    },
    {
     "name": "stdout",
     "output_type": "stream",
     "text": [
      "640 midpoint\n",
      "384.0 left_base\n",
      "908.0 right_base\n",
      "640 midpoint\n",
      "383.0 left_base\n",
      "903.0 right_base\n"
     ]
    },
    {
     "name": "stderr",
     "output_type": "stream",
     "text": [
      "t:   3%|▎         | 39/1260 [00:08<04:46,  4.26it/s, now=None]"
     ]
    },
    {
     "name": "stdout",
     "output_type": "stream",
     "text": [
      "640 midpoint\n",
      "385.0 left_base\n",
      "894.0 right_base\n",
      "640 midpoint\n",
      "386.0 left_base\n",
      "890.0 right_base\n"
     ]
    },
    {
     "name": "stderr",
     "output_type": "stream",
     "text": [
      "t:   3%|▎         | 41/1260 [00:09<04:38,  4.37it/s, now=None]"
     ]
    },
    {
     "name": "stdout",
     "output_type": "stream",
     "text": [
      "640 midpoint\n",
      "384.0 left_base\n",
      "895.0 right_base\n",
      "640 midpoint\n",
      "384.0 left_base\n",
      "898.0 right_base\n"
     ]
    },
    {
     "name": "stderr",
     "output_type": "stream",
     "text": [
      "t:   3%|▎         | 43/1260 [00:09<04:39,  4.35it/s, now=None]"
     ]
    },
    {
     "name": "stdout",
     "output_type": "stream",
     "text": [
      "640 midpoint\n",
      "383.0 left_base\n",
      "899.0 right_base\n",
      "640 midpoint\n",
      "381.0 left_base\n",
      "905.0 right_base\n"
     ]
    },
    {
     "name": "stderr",
     "output_type": "stream",
     "text": [
      "t:   4%|▎         | 45/1260 [00:10<04:46,  4.24it/s, now=None]"
     ]
    },
    {
     "name": "stdout",
     "output_type": "stream",
     "text": [
      "640 midpoint\n",
      "379.0 left_base\n",
      "913.0 right_base\n",
      "640 midpoint\n",
      "378.0 left_base\n",
      "915.0 right_base\n"
     ]
    },
    {
     "name": "stderr",
     "output_type": "stream",
     "text": [
      "t:   4%|▎         | 47/1260 [00:10<04:38,  4.35it/s, now=None]"
     ]
    },
    {
     "name": "stdout",
     "output_type": "stream",
     "text": [
      "640 midpoint\n",
      "376.0 left_base\n",
      "903.0 right_base\n",
      "640 midpoint\n",
      "376.0 left_base\n",
      "898.0 right_base\n"
     ]
    },
    {
     "name": "stderr",
     "output_type": "stream",
     "text": [
      "t:   4%|▍         | 49/1260 [00:11<04:48,  4.20it/s, now=None]"
     ]
    },
    {
     "name": "stdout",
     "output_type": "stream",
     "text": [
      "640 midpoint\n",
      "375.0 left_base\n",
      "905.0 right_base\n",
      "640 midpoint\n",
      "371.0 left_base\n",
      "912.0 right_base\n"
     ]
    },
    {
     "name": "stderr",
     "output_type": "stream",
     "text": [
      "t:   4%|▍         | 51/1260 [00:11<04:41,  4.30it/s, now=None]"
     ]
    },
    {
     "name": "stdout",
     "output_type": "stream",
     "text": [
      "640 midpoint\n",
      "368.0 left_base\n",
      "907.0 right_base\n",
      "640 midpoint\n",
      "367.0 left_base\n",
      "893.0 right_base\n"
     ]
    },
    {
     "name": "stderr",
     "output_type": "stream",
     "text": [
      "t:   4%|▍         | 53/1260 [00:12<04:51,  4.14it/s, now=None]"
     ]
    },
    {
     "name": "stdout",
     "output_type": "stream",
     "text": [
      "640 midpoint\n",
      "365.0 left_base\n",
      "894.0 right_base\n",
      "640 midpoint\n",
      "365.0 left_base\n",
      "895.0 right_base\n"
     ]
    },
    {
     "name": "stderr",
     "output_type": "stream",
     "text": [
      "t:   4%|▍         | 55/1260 [00:12<05:09,  3.89it/s, now=None]"
     ]
    },
    {
     "name": "stdout",
     "output_type": "stream",
     "text": [
      "640 midpoint\n",
      "364.0 left_base\n",
      "896.0 right_base\n",
      "640 midpoint\n",
      "361.0 left_base\n",
      "899.0 right_base\n"
     ]
    },
    {
     "name": "stderr",
     "output_type": "stream",
     "text": [
      "t:   5%|▍         | 57/1260 [00:13<05:04,  3.95it/s, now=None]"
     ]
    },
    {
     "name": "stdout",
     "output_type": "stream",
     "text": [
      "640 midpoint\n",
      "359.0 left_base\n",
      "902.0 right_base\n",
      "640 midpoint\n",
      "361.0 left_base\n",
      "901.0 right_base\n"
     ]
    },
    {
     "name": "stderr",
     "output_type": "stream",
     "text": [
      "t:   5%|▍         | 59/1260 [00:13<04:48,  4.16it/s, now=None]"
     ]
    },
    {
     "name": "stdout",
     "output_type": "stream",
     "text": [
      "640 midpoint\n",
      "361.0 left_base\n",
      "893.0 right_base\n",
      "640 midpoint\n",
      "366.0 left_base\n",
      "878.0 right_base\n"
     ]
    },
    {
     "name": "stderr",
     "output_type": "stream",
     "text": [
      "t:   5%|▍         | 61/1260 [00:14<04:49,  4.14it/s, now=None]"
     ]
    },
    {
     "name": "stdout",
     "output_type": "stream",
     "text": [
      "640 midpoint\n",
      "370.0 left_base\n",
      "887.0 right_base\n",
      "640 midpoint\n",
      "372.0 left_base\n",
      "889.0 right_base\n"
     ]
    },
    {
     "name": "stderr",
     "output_type": "stream",
     "text": [
      "t:   5%|▌         | 63/1260 [00:14<04:53,  4.08it/s, now=None]"
     ]
    },
    {
     "name": "stdout",
     "output_type": "stream",
     "text": [
      "640 midpoint\n",
      "373.0 left_base\n",
      "875.0 right_base\n",
      "640 midpoint\n",
      "374.0 left_base\n",
      "870.0 right_base\n"
     ]
    },
    {
     "name": "stderr",
     "output_type": "stream",
     "text": [
      "t:   5%|▌         | 65/1260 [00:15<04:46,  4.17it/s, now=None]"
     ]
    },
    {
     "name": "stdout",
     "output_type": "stream",
     "text": [
      "640 midpoint\n",
      "377.0 left_base\n",
      "871.0 right_base\n",
      "640 midpoint\n",
      "375.0 left_base\n",
      "877.0 right_base\n"
     ]
    },
    {
     "name": "stderr",
     "output_type": "stream",
     "text": [
      "t:   5%|▌         | 67/1260 [00:15<04:49,  4.13it/s, now=None]"
     ]
    },
    {
     "name": "stdout",
     "output_type": "stream",
     "text": [
      "640 midpoint\n",
      "377.0 left_base\n",
      "877.0 right_base\n",
      "640"
     ]
    },
    {
     "name": "stderr",
     "output_type": "stream",
     "text": [
      "\r",
      "t:   5%|▌         | 68/1260 [00:15<04:51,  4.08it/s, now=None]"
     ]
    },
    {
     "name": "stdout",
     "output_type": "stream",
     "text": [
      " midpoint\n",
      "378.0 left_base\n",
      "880.0 right_base\n",
      "640 midpoint\n",
      "374.0 left_base\n",
      "886.0 right_base\n"
     ]
    },
    {
     "name": "stderr",
     "output_type": "stream",
     "text": [
      "t:   6%|▌         | 70/1260 [00:16<04:41,  4.23it/s, now=None]"
     ]
    },
    {
     "name": "stdout",
     "output_type": "stream",
     "text": [
      "640 midpoint\n",
      "375.0 left_base\n",
      "880.0 right_base\n",
      "640 midpoint\n",
      "373.0 left_base\n",
      "884.0 right_base\n"
     ]
    },
    {
     "name": "stderr",
     "output_type": "stream",
     "text": [
      "t:   6%|▌         | 72/1260 [00:16<04:43,  4.19it/s, now=None]"
     ]
    },
    {
     "name": "stdout",
     "output_type": "stream",
     "text": [
      "640 midpoint\n",
      "371.0 left_base\n",
      "874.0 right_base\n",
      "640 midpoint\n",
      "368.0 left_base\n",
      "887.0 right_base\n"
     ]
    },
    {
     "name": "stderr",
     "output_type": "stream",
     "text": [
      "t:   6%|▌         | 74/1260 [00:17<04:46,  4.13it/s, now=None]"
     ]
    },
    {
     "name": "stdout",
     "output_type": "stream",
     "text": [
      "640 midpoint\n",
      "365.0 left_base\n",
      "891.0 right_base\n",
      "640 midpoint\n",
      "363.0 left_base\n",
      "895.0 right_base\n"
     ]
    },
    {
     "name": "stderr",
     "output_type": "stream",
     "text": [
      "t:   6%|▌         | 76/1260 [00:17<04:38,  4.24it/s, now=None]"
     ]
    },
    {
     "name": "stdout",
     "output_type": "stream",
     "text": [
      "640 midpoint\n",
      "359.0 left_base\n",
      "893.0 right_base\n",
      "640 midpoint\n",
      "359.0 left_base\n",
      "884.0 "
     ]
    },
    {
     "name": "stderr",
     "output_type": "stream",
     "text": [
      "\r",
      "t:   6%|▌         | 77/1260 [00:18<04:41,  4.21it/s, now=None]"
     ]
    },
    {
     "name": "stdout",
     "output_type": "stream",
     "text": [
      "right_base\n",
      "640 midpoint\n",
      "353.0 left_base\n",
      "891.0 right_base\n"
     ]
    },
    {
     "name": "stderr",
     "output_type": "stream",
     "text": [
      "t:   6%|▋         | 79/1260 [00:18<04:45,  4.13it/s, now=None]"
     ]
    },
    {
     "name": "stdout",
     "output_type": "stream",
     "text": [
      "640 midpoint\n",
      "353.0 left_base\n",
      "898.0 right_base\n",
      "640 midpoint\n",
      "354.0 left_base\n",
      "903.0 right_base\n"
     ]
    },
    {
     "name": "stderr",
     "output_type": "stream",
     "text": [
      "t:   6%|▋         | 81/1260 [00:19<04:52,  4.02it/s, now=None]"
     ]
    },
    {
     "name": "stdout",
     "output_type": "stream",
     "text": [
      "640 midpoint\n",
      "352.0 left_base\n",
      "903.0 right_base\n",
      "640 midpoint\n",
      "354.0 left_base\n",
      "901.0 right_base\n"
     ]
    },
    {
     "name": "stderr",
     "output_type": "stream",
     "text": [
      "t:   7%|▋         | 83/1260 [00:19<05:11,  3.78it/s, now=None]"
     ]
    },
    {
     "name": "stdout",
     "output_type": "stream",
     "text": [
      "640 midpoint\n",
      "353.0 left_base\n",
      "903.0 right_base\n",
      "640 midpoint\n",
      "355.0 left_base\n",
      "900.0 right_base\n"
     ]
    },
    {
     "name": "stderr",
     "output_type": "stream",
     "text": [
      "t:   7%|▋         | 85/1260 [00:20<05:00,  3.91it/s, now=None]"
     ]
    },
    {
     "name": "stdout",
     "output_type": "stream",
     "text": [
      "640 midpoint\n",
      "352.0 left_base\n",
      "909.0 right_base\n",
      "640"
     ]
    },
    {
     "name": "stderr",
     "output_type": "stream",
     "text": [
      "\r",
      "t:   7%|▋         | 86/1260 [00:20<04:58,  3.93it/s, now=None]"
     ]
    },
    {
     "name": "stdout",
     "output_type": "stream",
     "text": [
      " midpoint\n",
      "353.0 left_base\n",
      "909.0 right_base\n",
      "640 midpoint\n",
      "355.0 left_base\n",
      "910.0 right_base\n"
     ]
    },
    {
     "name": "stderr",
     "output_type": "stream",
     "text": [
      "t:   7%|▋         | 88/1260 [00:20<05:06,  3.82it/s, now=None]"
     ]
    },
    {
     "name": "stdout",
     "output_type": "stream",
     "text": [
      "640 midpoint\n",
      "362.0 left_base\n",
      "903.0 right_base\n",
      "640 midpoint"
     ]
    },
    {
     "name": "stderr",
     "output_type": "stream",
     "text": [
      "\r",
      "t:   7%|▋         | 89/1260 [00:21<05:05,  3.83it/s, now=None]"
     ]
    },
    {
     "name": "stdout",
     "output_type": "stream",
     "text": [
      "\n",
      "368.0 left_base\n",
      "894.0 right_base\n",
      "640 midpoint\n",
      "371.0 left_base\n",
      "882.0 right_base\n"
     ]
    },
    {
     "name": "stderr",
     "output_type": "stream",
     "text": [
      "t:   7%|▋         | 91/1260 [00:21<05:29,  3.54it/s, now=None]"
     ]
    },
    {
     "name": "stdout",
     "output_type": "stream",
     "text": [
      "640 midpoint\n",
      "376.0 left_base\n",
      "878.0 right_base\n",
      "640 midpoint\n",
      "375.0 left_base\n",
      "883.0 right_base\n"
     ]
    },
    {
     "name": "stderr",
     "output_type": "stream",
     "text": [
      "t:   7%|▋         | 93/1260 [00:22<05:13,  3.72it/s, now=None]"
     ]
    },
    {
     "name": "stdout",
     "output_type": "stream",
     "text": [
      "640 midpoint\n",
      "375.0 left_base\n",
      "886.0 right_base\n",
      "640 midpoint\n",
      "377.0 left_base\n",
      "887.0 right_base\n"
     ]
    },
    {
     "name": "stderr",
     "output_type": "stream",
     "text": [
      "t:   8%|▊         | 95/1260 [00:22<04:58,  3.90it/s, now=None]"
     ]
    },
    {
     "name": "stdout",
     "output_type": "stream",
     "text": [
      "640 midpoint\n",
      "378.0 left_base\n",
      "888.0 right_base\n",
      "640 midpoint\n",
      "376.0 left_base\n",
      "893.0 right_base\n"
     ]
    },
    {
     "name": "stderr",
     "output_type": "stream",
     "text": [
      "t:   8%|▊         | 97/1260 [00:23<04:45,  4.07it/s, now=None]"
     ]
    },
    {
     "name": "stdout",
     "output_type": "stream",
     "text": [
      "640 midpoint\n",
      "377.0 left_base\n",
      "895.0 right_base\n",
      "640 midpoint\n",
      "377.0 left_base\n",
      "890.0 right_base\n"
     ]
    },
    {
     "name": "stderr",
     "output_type": "stream",
     "text": [
      "t:   8%|▊         | 99/1260 [00:23<04:30,  4.30it/s, now=None]"
     ]
    },
    {
     "name": "stdout",
     "output_type": "stream",
     "text": [
      "640 midpoint\n",
      "374.0 left_base\n",
      "900.0 right_base\n",
      "640 midpoint\n"
     ]
    },
    {
     "name": "stderr",
     "output_type": "stream",
     "text": [
      "\r",
      "t:   8%|▊         | 100/1260 [00:23<04:33,  4.24it/s, now=None]"
     ]
    },
    {
     "name": "stdout",
     "output_type": "stream",
     "text": [
      "375.0 left_base\n",
      "896.0 right_base\n",
      "640 midpoint\n",
      "374.0 left_base\n",
      "903.0 right_base\n"
     ]
    },
    {
     "name": "stderr",
     "output_type": "stream",
     "text": [
      "t:   8%|▊         | 102/1260 [00:24<04:28,  4.31it/s, now=None]"
     ]
    },
    {
     "name": "stdout",
     "output_type": "stream",
     "text": [
      "640 midpoint\n",
      "375.0 left_base\n",
      "889.0 right_base\n",
      "640 midpoint\n",
      "377.0 left_base\n",
      "890.0 right_base\n"
     ]
    },
    {
     "name": "stderr",
     "output_type": "stream",
     "text": [
      "t:   8%|▊         | 104/1260 [00:24<04:34,  4.20it/s, now=None]"
     ]
    },
    {
     "name": "stdout",
     "output_type": "stream",
     "text": [
      "640 midpoint\n",
      "377.0 left_base\n",
      "893.0 right_base\n",
      "640 midpoint\n",
      "376.0 left_base\n",
      "895.0 right_base\n"
     ]
    },
    {
     "name": "stderr",
     "output_type": "stream",
     "text": [
      "t:   8%|▊         | 106/1260 [00:25<04:28,  4.29it/s, now=None]"
     ]
    },
    {
     "name": "stdout",
     "output_type": "stream",
     "text": [
      "640 midpoint\n",
      "374.0 left_base\n",
      "902.0 right_base\n",
      "640 midpoint\n",
      "373.0 left_base\n",
      "908.0 right_base\n"
     ]
    },
    {
     "name": "stderr",
     "output_type": "stream",
     "text": [
      "t:   9%|▊         | 108/1260 [00:25<04:35,  4.19it/s, now=None]"
     ]
    },
    {
     "name": "stdout",
     "output_type": "stream",
     "text": [
      "640 midpoint\n",
      "373.0 left_base\n",
      "914.0 right_base\n",
      "640 midpoint\n",
      "377.0 left_base\n",
      "910.0 "
     ]
    },
    {
     "name": "stderr",
     "output_type": "stream",
     "text": [
      "\r",
      "t:   9%|▊         | 109/1260 [00:26<04:38,  4.14it/s, now=None]"
     ]
    },
    {
     "name": "stdout",
     "output_type": "stream",
     "text": [
      "right_base\n",
      "640 midpoint\n",
      "378.0 left_base\n",
      "903.0 right_base\n"
     ]
    },
    {
     "name": "stderr",
     "output_type": "stream",
     "text": [
      "t:   9%|▉         | 111/1260 [00:26<04:29,  4.27it/s, now=None]"
     ]
    },
    {
     "name": "stdout",
     "output_type": "stream",
     "text": [
      "640 midpoint\n",
      "379.0 left_base\n",
      "900.0 right_base\n",
      "640 midpoint\n",
      "379.0 left_base\n",
      "910.0 right_base\n"
     ]
    },
    {
     "name": "stderr",
     "output_type": "stream",
     "text": [
      "t:   9%|▉         | 113/1260 [00:26<04:46,  4.01it/s, now=None]"
     ]
    },
    {
     "name": "stdout",
     "output_type": "stream",
     "text": [
      "640 midpoint\n",
      "376.0 left_base\n",
      "923.0 right_base\n",
      "640 midpoint\n",
      "379.0 left_base\n",
      "917.0 right_base\n"
     ]
    },
    {
     "name": "stderr",
     "output_type": "stream",
     "text": [
      "t:   9%|▉         | 115/1260 [00:27<04:34,  4.18it/s, now=None]"
     ]
    },
    {
     "name": "stdout",
     "output_type": "stream",
     "text": [
      "640 midpoint\n",
      "380.0 left_base\n",
      "908.0 right_base\n",
      "640 midpoint\n",
      "384.0 left_base\n",
      "901.0 right_base\n"
     ]
    },
    {
     "name": "stderr",
     "output_type": "stream",
     "text": [
      "t:   9%|▉         | 117/1260 [00:27<04:39,  4.09it/s, now=None]"
     ]
    },
    {
     "name": "stdout",
     "output_type": "stream",
     "text": [
      "640 midpoint\n",
      "382.0 left_base\n",
      "905.0 right_base\n",
      "640 midpoint\n",
      "383.0 left_base\n",
      "909.0 right_base\n"
     ]
    },
    {
     "name": "stderr",
     "output_type": "stream",
     "text": [
      "t:   9%|▉         | 119/1260 [00:28<04:41,  4.06it/s, now=None]"
     ]
    },
    {
     "name": "stdout",
     "output_type": "stream",
     "text": [
      "640 midpoint\n",
      "382.0 left_base\n",
      "908.0 right_base\n",
      "640 midpoint\n",
      "383.0 left_base\n",
      "910.0 right_base\n"
     ]
    },
    {
     "name": "stderr",
     "output_type": "stream",
     "text": [
      "t:  10%|▉         | 121/1260 [00:28<04:43,  4.02it/s, now=None]"
     ]
    },
    {
     "name": "stdout",
     "output_type": "stream",
     "text": [
      "640 midpoint\n",
      "386.0 left_base\n",
      "909.0 right_base\n",
      "640 midpoint\n",
      "386.0 left_base\n",
      "908.0 right_base\n"
     ]
    },
    {
     "name": "stderr",
     "output_type": "stream",
     "text": [
      "t:  10%|▉         | 123/1260 [00:29<04:42,  4.02it/s, now=None]"
     ]
    },
    {
     "name": "stdout",
     "output_type": "stream",
     "text": [
      "640 midpoint\n",
      "387.0 left_base\n",
      "900.0 right_base\n",
      "640 midpoint\n",
      "389.0 left_base\n",
      "902.0 right_base\n"
     ]
    },
    {
     "name": "stderr",
     "output_type": "stream",
     "text": [
      "t:  10%|▉         | 125/1260 [00:29<04:30,  4.20it/s, now=None]"
     ]
    },
    {
     "name": "stdout",
     "output_type": "stream",
     "text": [
      "640 midpoint\n",
      "389.0 left_base\n",
      "905.0 right_base\n",
      "640 midpoint\n",
      "389.0 left_base\n",
      "902.0 right_base\n"
     ]
    },
    {
     "name": "stderr",
     "output_type": "stream",
     "text": [
      "t:  10%|█         | 127/1260 [00:30<04:31,  4.17it/s, now=None]"
     ]
    },
    {
     "name": "stdout",
     "output_type": "stream",
     "text": [
      "640 midpoint\n",
      "385.0 left_base\n",
      "901.0 right_base\n",
      "640 midpoint\n",
      "387.0 left_base\n",
      "897.0 right_base\n"
     ]
    },
    {
     "name": "stderr",
     "output_type": "stream",
     "text": [
      "t:  10%|█         | 129/1260 [00:30<04:24,  4.27it/s, now=None]"
     ]
    },
    {
     "name": "stdout",
     "output_type": "stream",
     "text": [
      "640 midpoint\n",
      "386.0 left_base\n",
      "902.0 right_base\n",
      "640 midpoint\n",
      "387.0 left_base\n",
      "895.0 right_base\n"
     ]
    },
    {
     "name": "stderr",
     "output_type": "stream",
     "text": [
      "t:  10%|█         | 131/1260 [00:31<05:41,  3.31it/s, now=None]"
     ]
    },
    {
     "name": "stdout",
     "output_type": "stream",
     "text": [
      "640 midpoint\n",
      "385.0 left_base\n",
      "897.0 right_base\n",
      "640 midpoint\n",
      "386.0 left_base\n",
      "898.0 right_base\n"
     ]
    },
    {
     "name": "stderr",
     "output_type": "stream",
     "text": [
      "t:  11%|█         | 133/1260 [00:32<05:09,  3.64it/s, now=None]"
     ]
    },
    {
     "name": "stdout",
     "output_type": "stream",
     "text": [
      "640 midpoint\n",
      "387.0 left_base\n",
      "897.0 right_base\n",
      "640 midpoint\n",
      "386.0 left_base\n",
      "901.0 right_base\n"
     ]
    },
    {
     "name": "stderr",
     "output_type": "stream",
     "text": [
      "t:  11%|█         | 135/1260 [00:32<04:53,  3.83it/s, now=None]"
     ]
    },
    {
     "name": "stdout",
     "output_type": "stream",
     "text": [
      "640 midpoint\n",
      "388.0 left_base\n",
      "890.0 right_base\n",
      "640 midpoint\n",
      "389.0 left_base\n",
      "900.0 right_base\n"
     ]
    },
    {
     "name": "stderr",
     "output_type": "stream",
     "text": [
      "t:  11%|█         | 137/1260 [00:33<05:04,  3.69it/s, now=None]"
     ]
    },
    {
     "name": "stdout",
     "output_type": "stream",
     "text": [
      "640 midpoint\n",
      "390.0 left_base\n",
      "904.0 right_base\n",
      "640 midpoint\n",
      "388.0 left_base\n",
      "912.0 right_base\n"
     ]
    },
    {
     "name": "stderr",
     "output_type": "stream",
     "text": [
      "t:  11%|█         | 139/1260 [00:33<05:06,  3.65it/s, now=None]"
     ]
    },
    {
     "name": "stdout",
     "output_type": "stream",
     "text": [
      "640 midpoint\n",
      "385.0 left_base\n",
      "913.0 right_base\n",
      "640 midpoint\n",
      "383.0 left_base\n",
      "905.0 right_base\n"
     ]
    },
    {
     "name": "stderr",
     "output_type": "stream",
     "text": [
      "t:  11%|█         | 141/1260 [00:34<05:31,  3.38it/s, now=None]"
     ]
    },
    {
     "name": "stdout",
     "output_type": "stream",
     "text": [
      "640 midpoint\n",
      "380.0 left_base\n",
      "909.0 right_base\n",
      "640 midpoint\n",
      "383.0 left_base\n",
      "913.0 right_base\n"
     ]
    },
    {
     "name": "stderr",
     "output_type": "stream",
     "text": [
      "t:  11%|█▏        | 143/1260 [00:34<05:32,  3.36it/s, now=None]"
     ]
    },
    {
     "name": "stdout",
     "output_type": "stream",
     "text": [
      "640 midpoint\n",
      "381.0 left_base\n",
      "916.0 right_base\n",
      "640 "
     ]
    },
    {
     "name": "stderr",
     "output_type": "stream",
     "text": [
      "\r",
      "t:  11%|█▏        | 144/1260 [00:35<05:50,  3.19it/s, now=None]"
     ]
    },
    {
     "name": "stdout",
     "output_type": "stream",
     "text": [
      "midpoint\n",
      "384.0 left_base\n",
      "909.0 right_base\n",
      "640 midpoint\n",
      "385.0 left_base\n",
      "910.0 right_base\n"
     ]
    },
    {
     "name": "stderr",
     "output_type": "stream",
     "text": [
      "t:  12%|█▏        | 146/1260 [00:35<05:30,  3.37it/s, now=None]"
     ]
    },
    {
     "name": "stdout",
     "output_type": "stream",
     "text": [
      "640 midpoint\n",
      "384.0 left_base\n",
      "910.0 right_base\n",
      "640 midpoint\n",
      "386.0 left_base\n",
      "910.0 right_base\n"
     ]
    },
    {
     "name": "stderr",
     "output_type": "stream",
     "text": [
      "t:  12%|█▏        | 148/1260 [00:36<05:37,  3.29it/s, now=None]"
     ]
    },
    {
     "name": "stdout",
     "output_type": "stream",
     "text": [
      "640 midpoint\n",
      "385.0 left_base\n",
      "899.0 right_base\n",
      "640 "
     ]
    },
    {
     "name": "stderr",
     "output_type": "stream",
     "text": [
      "\r",
      "t:  12%|█▏        | 149/1260 [00:36<05:33,  3.33it/s, now=None]"
     ]
    },
    {
     "name": "stdout",
     "output_type": "stream",
     "text": [
      "midpoint\n",
      "390.0 left_base\n",
      "898.0 right_base\n",
      "640 midpoint\n",
      "390.0 left_base\n",
      "906.0 right_base\n"
     ]
    },
    {
     "name": "stderr",
     "output_type": "stream",
     "text": [
      "t:  12%|█▏        | 151/1260 [00:37<05:05,  3.63it/s, now=None]"
     ]
    },
    {
     "name": "stdout",
     "output_type": "stream",
     "text": [
      "640 midpoint\n",
      "387.0 left_base\n",
      "901.0 right_base\n",
      "640 midpoint\n",
      "385.0 left_base\n",
      "894.0 right_base\n"
     ]
    },
    {
     "name": "stderr",
     "output_type": "stream",
     "text": [
      "t:  12%|█▏        | 153/1260 [00:37<04:49,  3.82it/s, now=None]"
     ]
    },
    {
     "name": "stdout",
     "output_type": "stream",
     "text": [
      "640 midpoint\n",
      "383.0 left_base\n",
      "906.0 right_base\n",
      "640 midpoint\n",
      "385.0 left_base\n",
      "905.0 right_base\n"
     ]
    },
    {
     "name": "stderr",
     "output_type": "stream",
     "text": [
      "t:  12%|█▏        | 155/1260 [00:38<04:43,  3.89it/s, now=None]"
     ]
    },
    {
     "name": "stdout",
     "output_type": "stream",
     "text": [
      "640 midpoint\n",
      "382.0 left_base\n",
      "912.0 right_base\n",
      "640 midpoint\n",
      "379.0 left_base\n",
      "915.0 right_base\n"
     ]
    },
    {
     "name": "stderr",
     "output_type": "stream",
     "text": [
      "t:  12%|█▏        | 157/1260 [00:38<04:54,  3.75it/s, now=None]"
     ]
    },
    {
     "name": "stdout",
     "output_type": "stream",
     "text": [
      "640 midpoint\n",
      "380.0 left_base\n",
      "915.0 right_base\n",
      "640"
     ]
    },
    {
     "name": "stderr",
     "output_type": "stream",
     "text": [
      "\r",
      "t:  13%|█▎        | 158/1260 [00:39<05:01,  3.66it/s, now=None]"
     ]
    },
    {
     "name": "stdout",
     "output_type": "stream",
     "text": [
      " midpoint\n",
      "380.0 left_base\n",
      "913.0 right_base\n"
     ]
    },
    {
     "name": "stderr",
     "output_type": "stream",
     "text": [
      "\r",
      "t:  13%|█▎        | 159/1260 [00:39<06:50,  2.68it/s, now=None]"
     ]
    },
    {
     "name": "stdout",
     "output_type": "stream",
     "text": [
      "640 midpoint\n",
      "382.0 left_base\n",
      "904.0 right_base\n"
     ]
    },
    {
     "name": "stderr",
     "output_type": "stream",
     "text": [
      "\r",
      "t:  13%|█▎        | 160/1260 [00:40<09:25,  1.95it/s, now=None]"
     ]
    },
    {
     "name": "stdout",
     "output_type": "stream",
     "text": [
      "640 midpoint\n",
      "379.0 left_base\n",
      "908.0 right_base\n",
      "640 midpoint\n",
      "380.0 left_base\n",
      "899.0 right_base\n"
     ]
    },
    {
     "name": "stderr",
     "output_type": "stream",
     "text": [
      "t:  13%|█▎        | 162/1260 [00:41<07:12,  2.54it/s, now=None]"
     ]
    },
    {
     "name": "stdout",
     "output_type": "stream",
     "text": [
      "640 midpoint\n",
      "376.0 left_base\n",
      "903.0 right_base\n",
      "640"
     ]
    },
    {
     "name": "stderr",
     "output_type": "stream",
     "text": [
      "\r",
      "t:  13%|█▎        | 163/1260 [00:41<06:26,  2.84it/s, now=None]"
     ]
    },
    {
     "name": "stdout",
     "output_type": "stream",
     "text": [
      " midpoint\n",
      "374.0 left_base\n",
      "903.0 right_base\n",
      "640 midpoint\n",
      "371.0 left_base\n",
      "906.0 right_base\n"
     ]
    },
    {
     "name": "stderr",
     "output_type": "stream",
     "text": [
      "t:  13%|█▎        | 165/1260 [00:41<05:39,  3.22it/s, now=None]"
     ]
    },
    {
     "name": "stdout",
     "output_type": "stream",
     "text": [
      "640 midpoint\n",
      "371.0 left_base\n",
      "891.0 right_base\n",
      "640 midpoint\n",
      "371.0 left_base\n",
      "890.0 right_base\n"
     ]
    },
    {
     "name": "stderr",
     "output_type": "stream",
     "text": [
      "t:  13%|█▎        | 167/1260 [00:42<05:22,  3.39it/s, now=None]"
     ]
    },
    {
     "name": "stdout",
     "output_type": "stream",
     "text": [
      "640 midpoint\n",
      "370.0 left_base\n",
      "893.0 right_base\n",
      "640 midpoint\n",
      "373.0 left_base\n",
      "890.0 right_base\n"
     ]
    },
    {
     "name": "stderr",
     "output_type": "stream",
     "text": [
      "t:  13%|█▎        | 169/1260 [00:43<05:35,  3.26it/s, now=None]"
     ]
    },
    {
     "name": "stdout",
     "output_type": "stream",
     "text": [
      "640 midpoint\n",
      "368.0 left_base\n",
      "899.0 right_base\n",
      "640 midpoint\n",
      "366.0 left_base\n",
      "905.0 right_base\n"
     ]
    },
    {
     "name": "stderr",
     "output_type": "stream",
     "text": [
      "t:  14%|█▎        | 171/1260 [00:43<04:49,  3.76it/s, now=None]"
     ]
    },
    {
     "name": "stdout",
     "output_type": "stream",
     "text": [
      "640 midpoint\n",
      "362.0 left_base\n",
      "908.0 right_base\n",
      "640 midpoint\n",
      "360.0 left_base\n",
      "910.0 right_base\n"
     ]
    },
    {
     "name": "stderr",
     "output_type": "stream",
     "text": [
      "t:  14%|█▎        | 173/1260 [00:44<04:36,  3.93it/s, now=None]"
     ]
    },
    {
     "name": "stdout",
     "output_type": "stream",
     "text": [
      "640 midpoint\n",
      "360.0 left_base\n",
      "900.0 right_base\n",
      "640 midpoint\n",
      "359.0 left_base\n",
      "905.0 right_base\n"
     ]
    },
    {
     "name": "stderr",
     "output_type": "stream",
     "text": [
      "t:  14%|█▍        | 175/1260 [00:44<04:31,  4.00it/s, now=None]"
     ]
    },
    {
     "name": "stdout",
     "output_type": "stream",
     "text": [
      "640 midpoint\n",
      "360.0 left_base\n",
      "897.0 right_base\n",
      "640 midpoint\n",
      "361.0 left_base\n",
      "893.0 right_base\n"
     ]
    },
    {
     "name": "stderr",
     "output_type": "stream",
     "text": [
      "t:  14%|█▍        | 177/1260 [00:45<04:30,  4.01it/s, now=None]"
     ]
    },
    {
     "name": "stdout",
     "output_type": "stream",
     "text": [
      "640 midpoint\n",
      "361.0 left_base\n",
      "884.0 right_base\n",
      "640 midpoint\n",
      "357.0 left_base\n",
      "892.0 right_base\n"
     ]
    },
    {
     "name": "stderr",
     "output_type": "stream",
     "text": [
      "t:  14%|█▍        | 179/1260 [00:45<04:20,  4.16it/s, now=None]"
     ]
    },
    {
     "name": "stdout",
     "output_type": "stream",
     "text": [
      "640 midpoint\n",
      "357.0 left_base\n",
      "898.0 right_base\n",
      "640 midpoint\n",
      "358.0 left_base\n",
      "903.0 right_base\n"
     ]
    },
    {
     "name": "stderr",
     "output_type": "stream",
     "text": [
      "t:  14%|█▍        | 181/1260 [00:46<04:38,  3.88it/s, now=None]"
     ]
    },
    {
     "name": "stdout",
     "output_type": "stream",
     "text": [
      "640 midpoint\n",
      "358.0 left_base\n",
      "907.0 right_base\n",
      "640 midpoint\n",
      "364.0 left_base\n",
      "905.0 right_base\n"
     ]
    },
    {
     "name": "stderr",
     "output_type": "stream",
     "text": [
      "t:  15%|█▍        | 183/1260 [00:46<04:30,  3.98it/s, now=None]"
     ]
    },
    {
     "name": "stdout",
     "output_type": "stream",
     "text": [
      "640 midpoint\n",
      "365.0 left_base\n",
      "909.0 right_base\n",
      "640 midpoint\n",
      "370.0 left_base\n",
      "908.0 right_base\n"
     ]
    },
    {
     "name": "stderr",
     "output_type": "stream",
     "text": [
      "t:  15%|█▍        | 185/1260 [00:47<04:28,  4.01it/s, now=None]"
     ]
    },
    {
     "name": "stdout",
     "output_type": "stream",
     "text": [
      "640 midpoint\n",
      "374.0 left_base\n",
      "886.0 right_base\n",
      "640 midpoint\n",
      "376.0 left_base\n",
      "887.0 right_base\n"
     ]
    },
    {
     "name": "stderr",
     "output_type": "stream",
     "text": [
      "t:  15%|█▍        | 187/1260 [00:47<04:05,  4.38it/s, now=None]"
     ]
    },
    {
     "name": "stdout",
     "output_type": "stream",
     "text": [
      "640 midpoint\n",
      "381.0 left_base\n",
      "878.0 right_base\n",
      "640 midpoint\n",
      "379.0 left_base\n",
      "870.0 right_base\n"
     ]
    },
    {
     "name": "stderr",
     "output_type": "stream",
     "text": [
      "t:  15%|█▌        | 189/1260 [00:48<04:24,  4.04it/s, now=None]"
     ]
    },
    {
     "name": "stdout",
     "output_type": "stream",
     "text": [
      "640 midpoint\n",
      "381.0 left_base\n",
      "866.0 right_base\n",
      "640 midpoint\n",
      "380.0 left_base\n",
      "869.0 right_base\n"
     ]
    },
    {
     "name": "stderr",
     "output_type": "stream",
     "text": [
      "t:  15%|█▌        | 191/1260 [00:48<04:12,  4.23it/s, now=None]"
     ]
    },
    {
     "name": "stdout",
     "output_type": "stream",
     "text": [
      "640 midpoint\n",
      "379.0 left_base\n",
      "870.0 right_base\n",
      "640"
     ]
    },
    {
     "name": "stderr",
     "output_type": "stream",
     "text": [
      "\r",
      "t:  15%|█▌        | 192/1260 [00:48<04:15,  4.17it/s, now=None]"
     ]
    },
    {
     "name": "stdout",
     "output_type": "stream",
     "text": [
      " midpoint\n",
      "381.0 left_base\n",
      "868.0 right_base\n",
      "640 midpoint\n",
      "378.0 left_base\n",
      "874.0 right_base\n"
     ]
    },
    {
     "name": "stderr",
     "output_type": "stream",
     "text": [
      "t:  15%|█▌        | 194/1260 [00:49<04:07,  4.31it/s, now=None]"
     ]
    },
    {
     "name": "stdout",
     "output_type": "stream",
     "text": [
      "640 midpoint\n",
      "381.0 left_base\n",
      "873.0 right_base\n",
      "640 midpoint\n",
      "381.0 left_base\n",
      "875.0 right_base\n"
     ]
    },
    {
     "name": "stderr",
     "output_type": "stream",
     "text": [
      "t:  16%|█▌        | 196/1260 [00:49<04:13,  4.20it/s, now=None]"
     ]
    },
    {
     "name": "stdout",
     "output_type": "stream",
     "text": [
      "640 midpoint\n",
      "382.0 left_base\n",
      "872.0 right_base\n",
      "640 midpoint\n",
      "375.0 left_base\n",
      "881.0 right_base\n"
     ]
    },
    {
     "name": "stderr",
     "output_type": "stream",
     "text": [
      "t:  16%|█▌        | 198/1260 [00:50<04:23,  4.03it/s, now=None]"
     ]
    },
    {
     "name": "stdout",
     "output_type": "stream",
     "text": [
      "640 midpoint\n",
      "369.0 left_base\n",
      "893.0 right_base\n",
      "640 midpoint\n",
      "361.0 left_base\n",
      "913.0 right_base\n"
     ]
    },
    {
     "name": "stderr",
     "output_type": "stream",
     "text": [
      "t:  16%|█▌        | 200/1260 [00:50<04:52,  3.62it/s, now=None]"
     ]
    },
    {
     "name": "stdout",
     "output_type": "stream",
     "text": [
      "640 midpoint\n",
      "356.0 left_base\n",
      "926.0 right_base\n",
      "640 midpoint\n",
      "355.0 left_base\n",
      "918.0 right_base\n"
     ]
    },
    {
     "name": "stderr",
     "output_type": "stream",
     "text": [
      "t:  16%|█▌        | 202/1260 [00:51<04:35,  3.84it/s, now=None]"
     ]
    },
    {
     "name": "stdout",
     "output_type": "stream",
     "text": [
      "640 midpoint\n",
      "353.0 left_base\n",
      "908.0 right_base\n",
      "640 midpoint\n",
      "352.0 left_base\n",
      "903.0 right_base\n"
     ]
    },
    {
     "name": "stderr",
     "output_type": "stream",
     "text": [
      "t:  16%|█▌        | 204/1260 [00:51<04:19,  4.07it/s, now=None]"
     ]
    },
    {
     "name": "stdout",
     "output_type": "stream",
     "text": [
      "640 midpoint\n",
      "355.0 left_base\n",
      "905.0 right_base\n",
      "640 midpoint\n",
      "353.0 left_base\n",
      "909.0 right_base\n"
     ]
    },
    {
     "name": "stderr",
     "output_type": "stream",
     "text": [
      "t:  16%|█▋        | 206/1260 [00:52<04:19,  4.06it/s, now=None]"
     ]
    },
    {
     "name": "stdout",
     "output_type": "stream",
     "text": [
      "640 midpoint\n",
      "356.0 left_base\n",
      "900.0 right_base\n",
      "640 "
     ]
    },
    {
     "name": "stderr",
     "output_type": "stream",
     "text": [
      "\r",
      "t:  16%|█▋        | 207/1260 [00:52<04:21,  4.03it/s, now=None]"
     ]
    },
    {
     "name": "stdout",
     "output_type": "stream",
     "text": [
      "midpoint\n",
      "358.0 left_base\n",
      "900.0 right_base\n",
      "640 "
     ]
    },
    {
     "name": "stderr",
     "output_type": "stream",
     "text": [
      "\r",
      "t:  17%|█▋        | 208/1260 [00:52<04:22,  4.01it/s, now=None]"
     ]
    },
    {
     "name": "stdout",
     "output_type": "stream",
     "text": [
      "midpoint\n",
      "364.0 left_base\n",
      "886.0 right_base\n",
      "640 midpoint\n",
      "368.0 left_base\n",
      "869.0 right_base\n"
     ]
    },
    {
     "name": "stderr",
     "output_type": "stream",
     "text": [
      "t:  17%|█▋        | 210/1260 [00:53<04:21,  4.01it/s, now=None]"
     ]
    },
    {
     "name": "stdout",
     "output_type": "stream",
     "text": [
      "640 midpoint\n",
      "367.0 left_base\n",
      "878.0 right_base\n",
      "640 midpoint\n",
      "365.0 left_base\n",
      "896.0 right_base\n"
     ]
    },
    {
     "name": "stderr",
     "output_type": "stream",
     "text": [
      "t:  17%|█▋        | 212/1260 [00:53<05:10,  3.37it/s, now=None]"
     ]
    },
    {
     "name": "stdout",
     "output_type": "stream",
     "text": [
      "640 midpoint\n",
      "362.0 left_base\n",
      "903.0 right_base\n",
      "640 midpoint\n",
      "363.0 left_base\n",
      "896.0 right_base\n"
     ]
    },
    {
     "name": "stderr",
     "output_type": "stream",
     "text": [
      "t:  17%|█▋        | 214/1260 [00:54<05:48,  3.00it/s, now=None]"
     ]
    },
    {
     "name": "stdout",
     "output_type": "stream",
     "text": [
      "640 midpoint\n",
      "364.0 left_base\n",
      "886.0 right_base\n",
      "640 midpoint\n",
      "365.0 left_base\n",
      "885.0 right_base\n"
     ]
    },
    {
     "name": "stderr",
     "output_type": "stream",
     "text": [
      "t:  17%|█▋        | 216/1260 [00:55<07:48,  2.23it/s, now=None]"
     ]
    },
    {
     "name": "stdout",
     "output_type": "stream",
     "text": [
      "640 midpoint\n",
      "362.0 left_base\n",
      "888.0 right_base\n",
      "640"
     ]
    },
    {
     "name": "stderr",
     "output_type": "stream",
     "text": [
      "\r",
      "t:  17%|█▋        | 217/1260 [00:56<07:15,  2.39it/s, now=None]"
     ]
    },
    {
     "name": "stdout",
     "output_type": "stream",
     "text": [
      " midpoint\n",
      "361.0 left_base\n",
      "891.0 right_base\n",
      "640 midpoint\n",
      "359.0 left_base\n",
      "884.0 right_base\n"
     ]
    },
    {
     "name": "stderr",
     "output_type": "stream",
     "text": [
      "t:  17%|█▋        | 219/1260 [00:56<06:06,  2.84it/s, now=None]"
     ]
    },
    {
     "name": "stdout",
     "output_type": "stream",
     "text": [
      "640 midpoint\n",
      "355.0 left_base\n",
      "888.0 right_base\n",
      "640"
     ]
    },
    {
     "name": "stderr",
     "output_type": "stream",
     "text": [
      "\r",
      "t:  17%|█▋        | 220/1260 [00:56<05:34,  3.11it/s, now=None]"
     ]
    },
    {
     "name": "stdout",
     "output_type": "stream",
     "text": [
      " midpoint\n",
      "356.0 left_base\n",
      "875.0 right_base\n",
      "640 midpoint\n",
      "353.0 left_base\n",
      "891.0 right_base\n"
     ]
    },
    {
     "name": "stderr",
     "output_type": "stream",
     "text": [
      "t:  18%|█▊        | 222/1260 [00:57<05:04,  3.40it/s, now=None]"
     ]
    },
    {
     "name": "stdout",
     "output_type": "stream",
     "text": [
      "640 midpoint\n",
      "351.0 left_base\n",
      "873.0 right_base\n",
      "640 midpoint\n",
      "351.0 left_base\n",
      "880.0 right_base\n"
     ]
    },
    {
     "name": "stderr",
     "output_type": "stream",
     "text": [
      "t:  18%|█▊        | 224/1260 [00:57<04:46,  3.62it/s, now=None]"
     ]
    },
    {
     "name": "stdout",
     "output_type": "stream",
     "text": [
      "640 midpoint\n",
      "349.0 left_base\n",
      "881.0 right_base\n",
      "640 midpoint\n",
      "353.0 left_base\n",
      "870.0 right_base\n"
     ]
    },
    {
     "name": "stderr",
     "output_type": "stream",
     "text": [
      "t:  18%|█▊        | 226/1260 [00:58<04:33,  3.77it/s, now=None]"
     ]
    },
    {
     "name": "stdout",
     "output_type": "stream",
     "text": [
      "640 midpoint\n",
      "351.0 left_base\n",
      "867.0 right_base\n",
      "640 midpoint\n",
      "353.0 left_base\n",
      "867.0 right_base\n"
     ]
    },
    {
     "name": "stderr",
     "output_type": "stream",
     "text": [
      "t:  18%|█▊        | 228/1260 [00:58<04:37,  3.73it/s, now=None]"
     ]
    },
    {
     "name": "stdout",
     "output_type": "stream",
     "text": [
      "640 midpoint\n",
      "350.0 left_base\n",
      "872.0 right_base\n",
      "640 midpoint\n",
      "348.0 left_base\n",
      "878.0 right_base\n"
     ]
    },
    {
     "name": "stderr",
     "output_type": "stream",
     "text": [
      "t:  18%|█▊        | 230/1260 [00:59<04:24,  3.89it/s, now=None]"
     ]
    },
    {
     "name": "stdout",
     "output_type": "stream",
     "text": [
      "640 midpoint\n",
      "346.0 left_base\n",
      "879.0 right_base\n",
      "640 midpoint\n",
      "344.0 left_base\n",
      "883.0 right_base\n"
     ]
    },
    {
     "name": "stderr",
     "output_type": "stream",
     "text": [
      "t:  18%|█▊        | 232/1260 [00:59<04:21,  3.93it/s, now=None]"
     ]
    },
    {
     "name": "stdout",
     "output_type": "stream",
     "text": [
      "640 midpoint\n",
      "345.0 left_base\n",
      "880.0 right_base\n",
      "640"
     ]
    },
    {
     "name": "stderr",
     "output_type": "stream",
     "text": [
      "\r",
      "t:  18%|█▊        | 233/1260 [01:00<04:18,  3.97it/s, now=None]"
     ]
    },
    {
     "name": "stdout",
     "output_type": "stream",
     "text": [
      " midpoint\n",
      "341.0 left_base\n",
      "887.0 right_base\n",
      "640 midpoint\n",
      "340.0 left_base\n",
      "874.0 right_base\n"
     ]
    },
    {
     "name": "stderr",
     "output_type": "stream",
     "text": [
      "t:  19%|█▊        | 235/1260 [01:00<04:30,  3.78it/s, now=None]"
     ]
    },
    {
     "name": "stdout",
     "output_type": "stream",
     "text": [
      "640 midpoint\n",
      "339.0 left_base\n",
      "877.0 right_base\n",
      "640 midpoint\n",
      "338.0 left_base\n",
      "881.0 right_base\n"
     ]
    },
    {
     "name": "stderr",
     "output_type": "stream",
     "text": [
      "t:  19%|█▉        | 237/1260 [01:01<05:08,  3.31it/s, now=None]"
     ]
    },
    {
     "name": "stdout",
     "output_type": "stream",
     "text": [
      "640 midpoint\n",
      "341.0 left_base\n",
      "875.0 right_base\n",
      "640"
     ]
    },
    {
     "name": "stderr",
     "output_type": "stream",
     "text": [
      "\r",
      "t:  19%|█▉        | 238/1260 [01:01<05:39,  3.01it/s, now=None]"
     ]
    },
    {
     "name": "stdout",
     "output_type": "stream",
     "text": [
      " midpoint\n",
      "341.0 left_base\n",
      "866.0 right_base\n",
      "640 midpoint\n",
      "343.0 left_base\n",
      "864.0 right_base\n"
     ]
    },
    {
     "name": "stderr",
     "output_type": "stream",
     "text": [
      "t:  19%|█▉        | 240/1260 [01:02<04:55,  3.46it/s, now=None]"
     ]
    },
    {
     "name": "stdout",
     "output_type": "stream",
     "text": [
      "640 midpoint\n",
      "345.0 left_base\n",
      "865.0 right_base\n",
      "640 midpoint\n",
      "345.0 left_base\n",
      "866.0 right_base\n"
     ]
    },
    {
     "name": "stderr",
     "output_type": "stream",
     "text": [
      "t:  19%|█▉        | 242/1260 [01:02<04:11,  4.05it/s, now=None]"
     ]
    },
    {
     "name": "stdout",
     "output_type": "stream",
     "text": [
      "640 midpoint\n",
      "345.0 left_base\n",
      "868.0 right_base\n",
      "640 midpoint\n",
      "341.0 left_base\n",
      "874.0 right_base\n"
     ]
    },
    {
     "name": "stderr",
     "output_type": "stream",
     "text": [
      "t:  19%|█▉        | 244/1260 [01:03<04:08,  4.09it/s, now=None]"
     ]
    },
    {
     "name": "stdout",
     "output_type": "stream",
     "text": [
      "640 midpoint\n",
      "345.0 left_base\n",
      "870.0 right_base\n",
      "640 midpoint\n",
      "344.0 left_base\n",
      "871.0 right_base\n"
     ]
    },
    {
     "name": "stderr",
     "output_type": "stream",
     "text": [
      "t:  20%|█▉        | 246/1260 [01:03<03:47,  4.46it/s, now=None]"
     ]
    },
    {
     "name": "stdout",
     "output_type": "stream",
     "text": [
      "640 midpoint\n",
      "345.0 left_base\n",
      "859.0 right_base\n",
      "640 midpoint\n",
      "346.0 left_base\n",
      "862.0 right_base\n"
     ]
    },
    {
     "name": "stderr",
     "output_type": "stream",
     "text": [
      "t:  20%|█▉        | 248/1260 [01:04<03:35,  4.69it/s, now=None]"
     ]
    },
    {
     "name": "stdout",
     "output_type": "stream",
     "text": [
      "640 midpoint\n",
      "344.0 left_base\n",
      "861.0 right_base\n",
      "640 midpoint\n",
      "349.0 left_base\n",
      "860.0 right_base\n"
     ]
    },
    {
     "name": "stderr",
     "output_type": "stream",
     "text": [
      "t:  20%|█▉        | 250/1260 [01:04<03:39,  4.60it/s, now=None]"
     ]
    },
    {
     "name": "stdout",
     "output_type": "stream",
     "text": [
      "640 midpoint\n",
      "346.0 left_base\n",
      "857.0 right_base\n",
      "640 midpoint\n",
      "349.0 left_base\n",
      "853.0 right_base\n"
     ]
    },
    {
     "name": "stderr",
     "output_type": "stream",
     "text": [
      "t:  20%|██        | 252/1260 [01:04<03:41,  4.56it/s, now=None]"
     ]
    },
    {
     "name": "stdout",
     "output_type": "stream",
     "text": [
      "640 midpoint\n",
      "346.0 left_base\n",
      "859.0 right_base\n",
      "640 "
     ]
    },
    {
     "name": "stderr",
     "output_type": "stream",
     "text": [
      "\r",
      "t:  20%|██        | 253/1260 [01:05<03:36,  4.66it/s, now=None]"
     ]
    },
    {
     "name": "stdout",
     "output_type": "stream",
     "text": [
      "midpoint\n",
      "347.0 left_base\n",
      "863.0 right_base\n",
      "640 midpoint\n",
      "346.0 left_base\n",
      "864.0 right_base\n"
     ]
    },
    {
     "name": "stderr",
     "output_type": "stream",
     "text": [
      "t:  20%|██        | 255/1260 [01:05<03:51,  4.35it/s, now=None]"
     ]
    },
    {
     "name": "stdout",
     "output_type": "stream",
     "text": [
      "640 midpoint\n",
      "344.0 left_base\n",
      "871.0 right_base\n",
      "640 midpoint\n",
      "348.0 left_base\n",
      "870.0 right_base\n"
     ]
    },
    {
     "name": "stderr",
     "output_type": "stream",
     "text": [
      "t:  20%|██        | 257/1260 [01:06<03:59,  4.18it/s, now=None]"
     ]
    },
    {
     "name": "stdout",
     "output_type": "stream",
     "text": [
      "640 midpoint\n",
      "347.0 left_base\n",
      "877.0 right_base\n",
      "640 midpoint\n",
      "349.0 left_base\n",
      "865.0 right_base"
     ]
    },
    {
     "name": "stderr",
     "output_type": "stream",
     "text": [
      "\r",
      "t:  20%|██        | 258/1260 [01:06<03:51,  4.33it/s, now=None]"
     ]
    },
    {
     "name": "stdout",
     "output_type": "stream",
     "text": [
      "\n",
      "640 midpoint\n",
      "351.0 left_base\n",
      "867.0 right_base\n"
     ]
    },
    {
     "name": "stderr",
     "output_type": "stream",
     "text": [
      "t:  21%|██        | 260/1260 [01:06<03:57,  4.21it/s, now=None]"
     ]
    },
    {
     "name": "stdout",
     "output_type": "stream",
     "text": [
      "640 midpoint\n",
      "352.0 left_base\n",
      "870.0 right_base\n",
      "640 midpoint\n",
      "355.0 left_base\n",
      "868.0 right_base\n"
     ]
    },
    {
     "name": "stderr",
     "output_type": "stream",
     "text": [
      "t:  21%|██        | 262/1260 [01:07<03:41,  4.51it/s, now=None]"
     ]
    },
    {
     "name": "stdout",
     "output_type": "stream",
     "text": [
      "640 midpoint\n",
      "354.0 left_base\n",
      "878.0 right_base\n",
      "640 midpoint\n",
      "356.0 left_base\n",
      "871.0 right_base\n"
     ]
    },
    {
     "name": "stderr",
     "output_type": "stream",
     "text": [
      "t:  21%|██        | 264/1260 [01:07<03:50,  4.31it/s, now=None]"
     ]
    },
    {
     "name": "stdout",
     "output_type": "stream",
     "text": [
      "640 midpoint\n",
      "358.0 left_base\n",
      "880.0 right_base\n",
      "640 midpoint\n",
      "360.0 left_base\n",
      "885.0 right_base\n"
     ]
    },
    {
     "name": "stderr",
     "output_type": "stream",
     "text": [
      "t:  21%|██        | 266/1260 [01:08<03:46,  4.39it/s, now=None]"
     ]
    },
    {
     "name": "stdout",
     "output_type": "stream",
     "text": [
      "640 midpoint\n",
      "358.0 left_base\n",
      "887.0 right_base\n",
      "640 midpoint\n",
      "356.0 left_base\n",
      "894.0 right_base\n"
     ]
    },
    {
     "name": "stderr",
     "output_type": "stream",
     "text": [
      "t:  21%|██▏       | 268/1260 [01:08<03:54,  4.24it/s, now=None]"
     ]
    },
    {
     "name": "stdout",
     "output_type": "stream",
     "text": [
      "640 midpoint\n",
      "359.0 left_base\n",
      "893.0 right_base\n",
      "640 midpoint\n",
      "358.0 left_base\n",
      "895.0 right_base\n"
     ]
    },
    {
     "name": "stderr",
     "output_type": "stream",
     "text": [
      "t:  21%|██▏       | 270/1260 [01:09<03:47,  4.36it/s, now=None]"
     ]
    },
    {
     "name": "stdout",
     "output_type": "stream",
     "text": [
      "640 midpoint\n",
      "356.0 left_base\n",
      "903.0 right_base\n",
      "640 midpoint\n",
      "357.0 left_base\n",
      "886.0 right_base\n"
     ]
    },
    {
     "name": "stderr",
     "output_type": "stream",
     "text": [
      "t:  22%|██▏       | 272/1260 [01:09<03:56,  4.17it/s, now=None]"
     ]
    },
    {
     "name": "stdout",
     "output_type": "stream",
     "text": [
      "640 midpoint\n",
      "359.0 left_base\n",
      "894.0 right_base\n",
      "640 midpoint\n",
      "365.0 left_base\n",
      "882.0 right_base\n"
     ]
    },
    {
     "name": "stderr",
     "output_type": "stream",
     "text": [
      "t:  22%|██▏       | 274/1260 [01:10<04:00,  4.09it/s, now=None]"
     ]
    },
    {
     "name": "stdout",
     "output_type": "stream",
     "text": [
      "640 midpoint\n",
      "366.0 left_base\n",
      "884.0 right_base\n",
      "640 midpoint\n",
      "371.0 left_base\n",
      "877.0 right_base\n"
     ]
    },
    {
     "name": "stderr",
     "output_type": "stream",
     "text": [
      "t:  22%|██▏       | 276/1260 [01:10<04:05,  4.01it/s, now=None]"
     ]
    },
    {
     "name": "stdout",
     "output_type": "stream",
     "text": [
      "640 midpoint\n",
      "371.0 left_base\n",
      "883.0 right_base\n",
      "640 midpoint\n",
      "369.0 left_base\n",
      "889.0 right_base\n"
     ]
    },
    {
     "name": "stderr",
     "output_type": "stream",
     "text": [
      "t:  22%|██▏       | 278/1260 [01:11<04:05,  4.01it/s, now=None]"
     ]
    },
    {
     "name": "stdout",
     "output_type": "stream",
     "text": [
      "640 midpoint\n",
      "368.0 left_base\n",
      "893.0 right_base\n",
      "640 midpoint\n",
      "368.0 left_base"
     ]
    },
    {
     "name": "stderr",
     "output_type": "stream",
     "text": [
      "\r",
      "t:  22%|██▏       | 279/1260 [01:11<04:06,  3.98it/s, now=None]"
     ]
    },
    {
     "name": "stdout",
     "output_type": "stream",
     "text": [
      "\n",
      "901.0 right_base\n",
      "640 midpoint\n",
      "372.0 left_base\n",
      "900.0 right_base\n"
     ]
    },
    {
     "name": "stderr",
     "output_type": "stream",
     "text": [
      "t:  22%|██▏       | 281/1260 [01:11<04:04,  4.01it/s, now=None]"
     ]
    },
    {
     "name": "stdout",
     "output_type": "stream",
     "text": [
      "640 midpoint\n",
      "373.0 left_base\n",
      "903.0 right_base\n",
      "640"
     ]
    },
    {
     "name": "stderr",
     "output_type": "stream",
     "text": [
      "\r",
      "t:  22%|██▏       | 282/1260 [01:12<04:20,  3.75it/s, now=None]"
     ]
    },
    {
     "name": "stdout",
     "output_type": "stream",
     "text": [
      " midpoint\n",
      "374.0 left_base\n",
      "888.0 right_base\n",
      "640 midpoint\n",
      "376.0 left_base\n",
      "894.0 right_base\n"
     ]
    },
    {
     "name": "stderr",
     "output_type": "stream",
     "text": [
      "t:  23%|██▎       | 284/1260 [01:12<04:11,  3.89it/s, now=None]"
     ]
    },
    {
     "name": "stdout",
     "output_type": "stream",
     "text": [
      "640 midpoint\n",
      "376.0 left_base\n",
      "898.0 right_base\n",
      "640 midpoint"
     ]
    },
    {
     "name": "stderr",
     "output_type": "stream",
     "text": [
      "\r",
      "t:  23%|██▎       | 285/1260 [01:13<04:23,  3.70it/s, now=None]"
     ]
    },
    {
     "name": "stdout",
     "output_type": "stream",
     "text": [
      "\n",
      "378.0 left_base\n",
      "898.0 right_base\n",
      "640 midpoint\n",
      "378.0 left_base\n",
      "903.0 right_base\n"
     ]
    },
    {
     "name": "stderr",
     "output_type": "stream",
     "text": [
      "t:  23%|██▎       | 287/1260 [01:13<04:11,  3.88it/s, now=None]"
     ]
    },
    {
     "name": "stdout",
     "output_type": "stream",
     "text": [
      "640 midpoint\n",
      "377.0 left_base\n",
      "897.0 right_base\n",
      "640 midpoint\n",
      "377.0 left_base\n",
      "909.0 right_base\n"
     ]
    },
    {
     "name": "stderr",
     "output_type": "stream",
     "text": [
      "t:  23%|██▎       | 289/1260 [01:13<03:55,  4.12it/s, now=None]"
     ]
    },
    {
     "name": "stdout",
     "output_type": "stream",
     "text": [
      "640 midpoint\n",
      "378.0 left_base\n",
      "917.0 right_base\n",
      "640"
     ]
    },
    {
     "name": "stderr",
     "output_type": "stream",
     "text": [
      "\r",
      "t:  23%|██▎       | 290/1260 [01:14<04:37,  3.50it/s, now=None]"
     ]
    },
    {
     "name": "stdout",
     "output_type": "stream",
     "text": [
      " midpoint\n",
      "383.0 left_base\n",
      "915.0 right_base\n",
      "640"
     ]
    },
    {
     "name": "stderr",
     "output_type": "stream",
     "text": [
      "\r",
      "t:  23%|██▎       | 291/1260 [01:14<04:42,  3.43it/s, now=None]"
     ]
    },
    {
     "name": "stdout",
     "output_type": "stream",
     "text": [
      " midpoint\n",
      "382.0 left_base\n",
      "920.0 right_base\n",
      "640"
     ]
    },
    {
     "name": "stderr",
     "output_type": "stream",
     "text": [
      "\r",
      "t:  23%|██▎       | 292/1260 [01:14<04:30,  3.58it/s, now=None]"
     ]
    },
    {
     "name": "stdout",
     "output_type": "stream",
     "text": [
      " midpoint\n",
      "387.0 left_base\n",
      "919.0 right_base\n",
      "640 midpoint\n",
      "390.0 left_base\n",
      "921.0 right_base\n"
     ]
    },
    {
     "name": "stderr",
     "output_type": "stream",
     "text": [
      "t:  23%|██▎       | 294/1260 [01:15<04:15,  3.78it/s, now=None]"
     ]
    },
    {
     "name": "stdout",
     "output_type": "stream",
     "text": [
      "640 midpoint\n",
      "390.0 left_base\n",
      "908.0 right_base\n",
      "640 midpoint\n",
      "392.0 left_base\n",
      "910.0 right_base\n"
     ]
    },
    {
     "name": "stderr",
     "output_type": "stream",
     "text": [
      "t:  23%|██▎       | 296/1260 [01:15<03:58,  4.04it/s, now=None]"
     ]
    },
    {
     "name": "stdout",
     "output_type": "stream",
     "text": [
      "640 midpoint\n",
      "391.0 left_base\n",
      "912.0 right_base\n",
      "640 midpoint\n",
      "392.0 left_base\n",
      "911.0 right_base\n"
     ]
    },
    {
     "name": "stderr",
     "output_type": "stream",
     "text": [
      "t:  24%|██▎       | 298/1260 [01:16<03:46,  4.26it/s, now=None]"
     ]
    },
    {
     "name": "stdout",
     "output_type": "stream",
     "text": [
      "640 midpoint\n",
      "391.0 left_base\n",
      "909.0 right_base\n",
      "640 midpoint\n",
      "387.0 left_base\n",
      "904.0 right_base\n"
     ]
    },
    {
     "name": "stderr",
     "output_type": "stream",
     "text": [
      "t:  24%|██▍       | 300/1260 [01:16<04:03,  3.94it/s, now=None]"
     ]
    },
    {
     "name": "stdout",
     "output_type": "stream",
     "text": [
      "640 midpoint\n",
      "388.0 left_base\n",
      "914.0 right_base\n",
      "640 midpoint\n",
      "387.0 left_base\n",
      "918.0 right_base\n"
     ]
    },
    {
     "name": "stderr",
     "output_type": "stream",
     "text": [
      "t:  24%|██▍       | 302/1260 [01:17<03:51,  4.14it/s, now=None]"
     ]
    },
    {
     "name": "stdout",
     "output_type": "stream",
     "text": [
      "640 midpoint\n",
      "387.0 left_base\n",
      "919.0 right_base\n",
      "640 midpoint\n",
      "382.0 left_base\n",
      "926.0 right_base\n"
     ]
    },
    {
     "name": "stderr",
     "output_type": "stream",
     "text": [
      "t:  24%|██▍       | 304/1260 [01:17<03:43,  4.28it/s, now=None]"
     ]
    },
    {
     "name": "stdout",
     "output_type": "stream",
     "text": [
      "640 midpoint\n",
      "383.0 left_base\n",
      "925.0 right_base\n",
      "640 midpoint\n",
      "384.0 left_base\n",
      "922.0 right_base\n"
     ]
    },
    {
     "name": "stderr",
     "output_type": "stream",
     "text": [
      "t:  24%|██▍       | 306/1260 [01:18<03:49,  4.16it/s, now=None]"
     ]
    },
    {
     "name": "stdout",
     "output_type": "stream",
     "text": [
      "640 midpoint\n",
      "382.0 left_base\n",
      "913.0 right_base\n",
      "640 midpoint\n",
      "386.0 left_base\n",
      "908.0 right_base\n"
     ]
    },
    {
     "name": "stderr",
     "output_type": "stream",
     "text": [
      "t:  24%|██▍       | 308/1260 [01:18<03:53,  4.07it/s, now=None]"
     ]
    },
    {
     "name": "stdout",
     "output_type": "stream",
     "text": [
      "640 midpoint\n",
      "383.0 left_base\n",
      "917.0 right_base\n",
      "640 midpoint\n",
      "391.0 left_base\n",
      "911.0 right_base\n"
     ]
    },
    {
     "name": "stderr",
     "output_type": "stream",
     "text": [
      "t:  25%|██▍       | 310/1260 [01:19<03:45,  4.22it/s, now=None]"
     ]
    },
    {
     "name": "stdout",
     "output_type": "stream",
     "text": [
      "640 midpoint\n",
      "392.0 left_base\n",
      "906.0 right_base\n",
      "640"
     ]
    },
    {
     "name": "stderr",
     "output_type": "stream",
     "text": [
      "\r",
      "t:  25%|██▍       | 311/1260 [01:19<03:48,  4.15it/s, now=None]"
     ]
    },
    {
     "name": "stdout",
     "output_type": "stream",
     "text": [
      " midpoint\n",
      "395.0 left_base\n",
      "905.0 right_base\n",
      "640"
     ]
    },
    {
     "name": "stderr",
     "output_type": "stream",
     "text": [
      "\r",
      "t:  25%|██▍       | 312/1260 [01:19<03:50,  4.10it/s, now=None]"
     ]
    },
    {
     "name": "stdout",
     "output_type": "stream",
     "text": [
      " midpoint\n",
      "399.0 left_base\n",
      "905.0 right_base\n",
      "640 midpoint\n",
      "400.0 left_base\n",
      "909.0 right_base\n"
     ]
    },
    {
     "name": "stderr",
     "output_type": "stream",
     "text": [
      "t:  25%|██▍       | 314/1260 [01:20<03:53,  4.06it/s, now=None]"
     ]
    },
    {
     "name": "stdout",
     "output_type": "stream",
     "text": [
      "640 midpoint\n",
      "406.0 left_base\n",
      "905.0 right_base\n",
      "640 midpoint\n",
      "405.0 left_base\n",
      "915.0 right_base\n"
     ]
    },
    {
     "name": "stderr",
     "output_type": "stream",
     "text": [
      "t:  25%|██▌       | 316/1260 [01:20<03:54,  4.03it/s, now=None]"
     ]
    },
    {
     "name": "stdout",
     "output_type": "stream",
     "text": [
      "640 midpoint\n",
      "406.0 left_base\n",
      "917.0 right_base\n",
      "640 midpoint\n",
      "405.0 left_base\n",
      "925.0 right_base\n"
     ]
    },
    {
     "name": "stderr",
     "output_type": "stream",
     "text": [
      "t:  25%|██▌       | 318/1260 [01:21<03:45,  4.19it/s, now=None]"
     ]
    },
    {
     "name": "stdout",
     "output_type": "stream",
     "text": [
      "640 midpoint\n",
      "405.0 left_base\n",
      "911.0 right_base\n",
      "640 midpoint\n",
      "410.0 left_base\n",
      "918.0 right_base\n"
     ]
    },
    {
     "name": "stderr",
     "output_type": "stream",
     "text": [
      "t:  25%|██▌       | 320/1260 [01:21<03:49,  4.09it/s, now=None]"
     ]
    },
    {
     "name": "stdout",
     "output_type": "stream",
     "text": [
      "640 midpoint\n",
      "410.0 left_base\n",
      "919.0 right_base\n",
      "640 midpoint\n",
      "412.0 left_base\n",
      "918.0 right_base\n"
     ]
    },
    {
     "name": "stderr",
     "output_type": "stream",
     "text": [
      "t:  26%|██▌       | 322/1260 [01:22<03:38,  4.28it/s, now=None]"
     ]
    },
    {
     "name": "stdout",
     "output_type": "stream",
     "text": [
      "640 midpoint\n",
      "410.0 left_base\n",
      "920.0 right_base\n",
      "640 midpoint\n",
      "408.0 left_base\n",
      "917.0 right_base\n"
     ]
    },
    {
     "name": "stderr",
     "output_type": "stream",
     "text": [
      "t:  26%|██▌       | 324/1260 [01:22<03:34,  4.36it/s, now=None]"
     ]
    },
    {
     "name": "stdout",
     "output_type": "stream",
     "text": [
      "640 midpoint\n",
      "411.0 left_base\n",
      "924.0 right_base\n",
      "640 midpoint\n",
      "408.0 left_base\n",
      "932.0 right_base\n"
     ]
    },
    {
     "name": "stderr",
     "output_type": "stream",
     "text": [
      "t:  26%|██▌       | 326/1260 [01:23<03:38,  4.27it/s, now=None]"
     ]
    },
    {
     "name": "stdout",
     "output_type": "stream",
     "text": [
      "640 midpoint\n",
      "409.0 left_base\n",
      "933.0 right_base\n",
      "640"
     ]
    },
    {
     "name": "stderr",
     "output_type": "stream",
     "text": [
      "\r",
      "t:  26%|██▌       | 327/1260 [01:23<03:42,  4.19it/s, now=None]"
     ]
    },
    {
     "name": "stdout",
     "output_type": "stream",
     "text": [
      " midpoint\n",
      "411.0 left_base\n",
      "936.0 right_base\n",
      "640 midpoint\n",
      "408.0 left_base\n",
      "941.0 right_base\n"
     ]
    },
    {
     "name": "stderr",
     "output_type": "stream",
     "text": [
      "t:  26%|██▌       | 329/1260 [01:23<04:00,  3.87it/s, now=None]"
     ]
    },
    {
     "name": "stdout",
     "output_type": "stream",
     "text": [
      "640 midpoint\n",
      "409.0 left_base\n",
      "942.0 right_base\n",
      "640 midpoint\n",
      "405.0 left_base\n",
      "934.0 right_base\n"
     ]
    },
    {
     "name": "stderr",
     "output_type": "stream",
     "text": [
      "t:  26%|██▋       | 331/1260 [01:24<03:55,  3.95it/s, now=None]"
     ]
    },
    {
     "name": "stdout",
     "output_type": "stream",
     "text": [
      "640 midpoint\n",
      "409.0 left_base\n",
      "932.0 right_base\n",
      "640"
     ]
    },
    {
     "name": "stderr",
     "output_type": "stream",
     "text": [
      "\r",
      "t:  26%|██▋       | 332/1260 [01:24<03:57,  3.92it/s, now=None]"
     ]
    },
    {
     "name": "stdout",
     "output_type": "stream",
     "text": [
      " midpoint\n",
      "412.0 left_base\n",
      "933.0 right_base\n",
      "640 midpoint\n",
      "418.0 left_base\n",
      "931.0 right_base\n"
     ]
    },
    {
     "name": "stderr",
     "output_type": "stream",
     "text": [
      "t:  27%|██▋       | 334/1260 [01:25<04:20,  3.56it/s, now=None]"
     ]
    },
    {
     "name": "stdout",
     "output_type": "stream",
     "text": [
      "640 midpoint\n",
      "420.0 left_base\n",
      "920.0 right_base\n",
      "640 midpoint\n",
      "419.0 left_base\n",
      "920.0 right_base\n"
     ]
    },
    {
     "name": "stderr",
     "output_type": "stream",
     "text": [
      "t:  27%|██▋       | 336/1260 [01:25<04:23,  3.51it/s, now=None]"
     ]
    },
    {
     "name": "stdout",
     "output_type": "stream",
     "text": [
      "640 midpoint\n",
      "419.0 left_base\n",
      "924.0 right_base\n",
      "640 midpoint\n",
      "414.0 left_base\n",
      "934.0 right_base\n"
     ]
    },
    {
     "name": "stderr",
     "output_type": "stream",
     "text": [
      "t:  27%|██▋       | 338/1260 [01:26<04:30,  3.41it/s, now=None]"
     ]
    },
    {
     "name": "stdout",
     "output_type": "stream",
     "text": [
      "640 midpoint\n",
      "413.0 left_base\n",
      "937.0 right_base\n",
      "640 midpoint\n",
      "413.0 left_base\n",
      "941.0 right_base\n"
     ]
    },
    {
     "name": "stderr",
     "output_type": "stream",
     "text": [
      "t:  27%|██▋       | 340/1260 [01:27<04:29,  3.41it/s, now=None]"
     ]
    },
    {
     "name": "stdout",
     "output_type": "stream",
     "text": [
      "640 midpoint\n",
      "414.0 left_base\n",
      "939.0 right_base\n",
      "640 midpoint\n",
      "418.0 left_base\n",
      "934.0 right_base\n"
     ]
    },
    {
     "name": "stderr",
     "output_type": "stream",
     "text": [
      "t:  27%|██▋       | 342/1260 [01:27<04:17,  3.57it/s, now=None]"
     ]
    },
    {
     "name": "stdout",
     "output_type": "stream",
     "text": [
      "640 midpoint\n",
      "419.0 left_base\n",
      "925.0 right_base\n",
      "640 midpoint\n",
      "423.0 left_base\n",
      "927.0 right_base\n"
     ]
    },
    {
     "name": "stderr",
     "output_type": "stream",
     "text": [
      "t:  27%|██▋       | 344/1260 [01:28<03:52,  3.94it/s, now=None]"
     ]
    },
    {
     "name": "stdout",
     "output_type": "stream",
     "text": [
      "640 midpoint\n",
      "420.0 left_base\n",
      "930.0 right_base\n",
      "640 midpoint\n",
      "416.0 left_base\n",
      "937.0 right_base\n"
     ]
    },
    {
     "name": "stderr",
     "output_type": "stream",
     "text": [
      "t:  27%|██▋       | 346/1260 [01:28<03:48,  4.00it/s, now=None]"
     ]
    },
    {
     "name": "stdout",
     "output_type": "stream",
     "text": [
      "640 midpoint\n",
      "413.0 left_base\n",
      "937.0 right_base\n",
      "640 midpoint\n",
      "409.0 left_base\n",
      "929.0 right_base\n"
     ]
    },
    {
     "name": "stderr",
     "output_type": "stream",
     "text": [
      "t:  28%|██▊       | 348/1260 [01:28<03:36,  4.22it/s, now=None]"
     ]
    },
    {
     "name": "stdout",
     "output_type": "stream",
     "text": [
      "640 midpoint\n",
      "413.0 left_base\n",
      "933.0 right_base\n",
      "640 midpoint\n",
      "411.0 left_base\n",
      "939.0 right_base\n"
     ]
    },
    {
     "name": "stderr",
     "output_type": "stream",
     "text": [
      "t:  28%|██▊       | 350/1260 [01:29<03:39,  4.14it/s, now=None]"
     ]
    },
    {
     "name": "stdout",
     "output_type": "stream",
     "text": [
      "640 midpoint\n",
      "413.0 left_base\n",
      "940.0 right_base\n",
      "640 midpoint\n",
      "411.0 left_base\n",
      "946.0 right_base\n"
     ]
    },
    {
     "name": "stderr",
     "output_type": "stream",
     "text": [
      "t:  28%|██▊       | 352/1260 [01:29<03:42,  4.08it/s, now=None]"
     ]
    },
    {
     "name": "stdout",
     "output_type": "stream",
     "text": [
      "640 midpoint\n",
      "413.0 left_base\n",
      "947.0 right_base\n",
      "640 midpoint\n",
      "414.0 left_base\n",
      "949.0 right_base\n"
     ]
    },
    {
     "name": "stderr",
     "output_type": "stream",
     "text": [
      "t:  28%|██▊       | 354/1260 [01:30<03:31,  4.28it/s, now=None]"
     ]
    },
    {
     "name": "stdout",
     "output_type": "stream",
     "text": [
      "640 midpoint\n",
      "413.0 left_base\n",
      "945.0 right_base\n",
      "640 midpoint\n",
      "416.0 left_base\n",
      "930.0 right_base\n"
     ]
    },
    {
     "name": "stderr",
     "output_type": "stream",
     "text": [
      "t:  28%|██▊       | 356/1260 [01:30<03:26,  4.37it/s, now=None]"
     ]
    },
    {
     "name": "stdout",
     "output_type": "stream",
     "text": [
      "640 midpoint\n",
      "416.0 left_base\n",
      "947.0 right_base\n",
      "640 midpoint\n",
      "416.0 left_base\n",
      "949.0 right_base\n"
     ]
    },
    {
     "name": "stderr",
     "output_type": "stream",
     "text": [
      "t:  28%|██▊       | 358/1260 [01:31<03:34,  4.21it/s, now=None]"
     ]
    },
    {
     "name": "stdout",
     "output_type": "stream",
     "text": [
      "640 midpoint\n",
      "419.0 left_base\n",
      "935.0 right_base\n",
      "640 midpoint\n",
      "417.0 left_base\n",
      "927.0 right_base\n"
     ]
    },
    {
     "name": "stderr",
     "output_type": "stream",
     "text": [
      "t:  29%|██▊       | 360/1260 [01:31<03:39,  4.10it/s, now=None]"
     ]
    },
    {
     "name": "stdout",
     "output_type": "stream",
     "text": [
      "640 midpoint\n",
      "419.0 left_base\n",
      "938.0 right_base\n",
      "640 midpoint\n",
      "418.0 left_base\n",
      "943.0 right_base\n"
     ]
    },
    {
     "name": "stderr",
     "output_type": "stream",
     "text": [
      "t:  29%|██▊       | 362/1260 [01:32<03:41,  4.05it/s, now=None]"
     ]
    },
    {
     "name": "stdout",
     "output_type": "stream",
     "text": [
      "640 midpoint\n",
      "414.0 left_base\n",
      "946.0 right_base\n",
      "640 midpoint\n",
      "415.0 left_base\n",
      "945.0 right_base\n"
     ]
    },
    {
     "name": "stderr",
     "output_type": "stream",
     "text": [
      "t:  29%|██▉       | 364/1260 [01:32<03:42,  4.02it/s, now=None]"
     ]
    },
    {
     "name": "stdout",
     "output_type": "stream",
     "text": [
      "640 midpoint\n",
      "414.0 left_base\n",
      "947.0 right_base\n"
     ]
    },
    {
     "name": "stderr",
     "output_type": "stream",
     "text": [
      "\r",
      "t:  29%|██▉       | 365/1260 [01:33<03:42,  4.02it/s, now=None]"
     ]
    },
    {
     "name": "stdout",
     "output_type": "stream",
     "text": [
      "640 midpoint\n",
      "417.0 left_base\n",
      "943.0 right_base\n",
      "640 midpoint\n",
      "414.0 left_base\n",
      "926.0 right_base\n"
     ]
    },
    {
     "name": "stderr",
     "output_type": "stream",
     "text": [
      "t:  29%|██▉       | 367/1260 [01:33<03:44,  3.97it/s, now=None]"
     ]
    },
    {
     "name": "stdout",
     "output_type": "stream",
     "text": [
      "640 midpoint\n",
      "415.0 left_base\n",
      "933.0 right_base\n",
      "640 midpoint\n",
      "413.0 left_base\n",
      "941.0 right_base\n"
     ]
    },
    {
     "name": "stderr",
     "output_type": "stream",
     "text": [
      "t:  29%|██▉       | 369/1260 [01:34<03:43,  3.98it/s, now=None]"
     ]
    },
    {
     "name": "stdout",
     "output_type": "stream",
     "text": [
      "640 midpoint\n",
      "411.0 left_base\n",
      "944.0 right_base\n",
      "640 midpoint\n",
      "414.0 left_base\n",
      "929.0 right_base\n"
     ]
    },
    {
     "name": "stderr",
     "output_type": "stream",
     "text": [
      "t:  29%|██▉       | 371/1260 [01:34<03:33,  4.16it/s, now=None]"
     ]
    },
    {
     "name": "stdout",
     "output_type": "stream",
     "text": [
      "640 midpoint\n",
      "414.0 left_base\n",
      "926.0 right_base\n",
      "640 midpoint\n",
      "414.0 left_base\n",
      "937.0 right_base\n"
     ]
    },
    {
     "name": "stderr",
     "output_type": "stream",
     "text": [
      "t:  30%|██▉       | 373/1260 [01:35<03:36,  4.09it/s, now=None]"
     ]
    },
    {
     "name": "stdout",
     "output_type": "stream",
     "text": [
      "640 midpoint\n",
      "412.0 left_base\n",
      "943.0 right_base\n",
      "640 midpoint\n",
      "413.0 left_base\n",
      "944.0 right_base\n"
     ]
    },
    {
     "name": "stderr",
     "output_type": "stream",
     "text": [
      "t:  30%|██▉       | 375/1260 [01:35<03:32,  4.16it/s, now=None]"
     ]
    },
    {
     "name": "stdout",
     "output_type": "stream",
     "text": [
      "640 midpoint\n",
      "416.0 left_base\n",
      "942.0 right_base\n"
     ]
    },
    {
     "name": "stderr",
     "output_type": "stream",
     "text": [
      "\r",
      "t:  30%|██▉       | 376/1260 [01:35<03:32,  4.16it/s, now=None]"
     ]
    },
    {
     "name": "stdout",
     "output_type": "stream",
     "text": [
      "640 midpoint\n",
      "419.0 left_base\n",
      "943.0 right_base\n",
      "640 midpoint\n",
      "426.0 left_base\n",
      "937.0 right_base\n"
     ]
    },
    {
     "name": "stderr",
     "output_type": "stream",
     "text": [
      "t:  30%|███       | 378/1260 [01:36<03:23,  4.33it/s, now=None]"
     ]
    },
    {
     "name": "stdout",
     "output_type": "stream",
     "text": [
      "640 midpoint\n",
      "426.0 left_base\n",
      "921.0 right_base\n",
      "640 midpoint\n",
      "428.0 left_base\n",
      "927.0 right_base\n"
     ]
    },
    {
     "name": "stderr",
     "output_type": "stream",
     "text": [
      "t:  30%|███       | 380/1260 [01:36<03:30,  4.17it/s, now=None]"
     ]
    },
    {
     "name": "stdout",
     "output_type": "stream",
     "text": [
      "640 midpoint\n",
      "426.0 left_base\n",
      "929.0 right_base\n",
      "640"
     ]
    },
    {
     "name": "stderr",
     "output_type": "stream",
     "text": [
      "\r",
      "t:  30%|███       | 381/1260 [01:36<03:21,  4.36it/s, now=None]"
     ]
    },
    {
     "name": "stdout",
     "output_type": "stream",
     "text": [
      " midpoint\n",
      "425.0 left_base\n",
      "939.0 right_base\n",
      "640 midpoint\n",
      "423.0 left_base\n",
      "928.0 right_base\n"
     ]
    },
    {
     "name": "stderr",
     "output_type": "stream",
     "text": [
      "t:  30%|███       | 383/1260 [01:37<03:28,  4.20it/s, now=None]"
     ]
    },
    {
     "name": "stdout",
     "output_type": "stream",
     "text": [
      "640 midpoint\n",
      "423.0 left_base\n",
      "926.0 right_base\n",
      "640 midpoint\n",
      "424.0 left_base\n",
      "936.0 right_base\n"
     ]
    },
    {
     "name": "stderr",
     "output_type": "stream",
     "text": [
      "t:  31%|███       | 385/1260 [01:37<03:14,  4.50it/s, now=None]"
     ]
    },
    {
     "name": "stdout",
     "output_type": "stream",
     "text": [
      "640 midpoint\n",
      "424.0 left_base\n",
      "936.0 right_base\n",
      "640 midpoint\n",
      "423.0 left_base\n",
      "939.0 right_base\n"
     ]
    },
    {
     "name": "stderr",
     "output_type": "stream",
     "text": [
      "t:  31%|███       | 387/1260 [01:38<03:24,  4.27it/s, now=None]"
     ]
    },
    {
     "name": "stdout",
     "output_type": "stream",
     "text": [
      "640 midpoint\n",
      "419.0 left_base\n",
      "945.0 right_base\n",
      "640 midpoint\n",
      "414.0 left_base\n",
      "951.0 right_base\n"
     ]
    },
    {
     "name": "stderr",
     "output_type": "stream",
     "text": [
      "t:  31%|███       | 389/1260 [01:38<03:30,  4.14it/s, now=None]"
     ]
    },
    {
     "name": "stdout",
     "output_type": "stream",
     "text": [
      "640 midpoint\n",
      "414.0 left_base\n",
      "951.0 right_base\n",
      "640 midpoint\n",
      "411.0 left_base\n",
      "955.0 right_base\n"
     ]
    },
    {
     "name": "stderr",
     "output_type": "stream",
     "text": [
      "t:  31%|███       | 391/1260 [01:39<03:33,  4.07it/s, now=None]"
     ]
    },
    {
     "name": "stdout",
     "output_type": "stream",
     "text": [
      "640 midpoint\n",
      "409.0 left_base\n",
      "929.0 right_base\n",
      "640 midpoint\n",
      "407.0 left_base\n",
      "944.0 right_base\n"
     ]
    },
    {
     "name": "stderr",
     "output_type": "stream",
     "text": [
      "t:  31%|███       | 393/1260 [01:39<03:34,  4.04it/s, now=None]"
     ]
    },
    {
     "name": "stdout",
     "output_type": "stream",
     "text": [
      "640 midpoint\n",
      "404.0 left_base\n",
      "951.0 right_base\n",
      "640 midpoint\n",
      "406.0 left_base\n",
      "934.0 right_base\n"
     ]
    },
    {
     "name": "stderr",
     "output_type": "stream",
     "text": [
      "t:  31%|███▏      | 395/1260 [01:40<03:27,  4.18it/s, now=None]"
     ]
    },
    {
     "name": "stdout",
     "output_type": "stream",
     "text": [
      "640 midpoint\n",
      "404.0 left_base\n",
      "919.0 right_base\n",
      "640 midpoint"
     ]
    },
    {
     "name": "stderr",
     "output_type": "stream",
     "text": [
      "\r",
      "t:  31%|███▏      | 396/1260 [01:40<03:29,  4.13it/s, now=None]"
     ]
    },
    {
     "name": "stdout",
     "output_type": "stream",
     "text": [
      "\n",
      "404.0 left_base\n",
      "929.0 right_base\n",
      "640 midpoint\n",
      "403.0 left_base\n",
      "933.0 right_base\n"
     ]
    },
    {
     "name": "stderr",
     "output_type": "stream",
     "text": [
      "t:  32%|███▏      | 398/1260 [01:41<03:31,  4.08it/s, now=None]"
     ]
    },
    {
     "name": "stdout",
     "output_type": "stream",
     "text": [
      "640 midpoint\n",
      "403.0 left_base\n",
      "941.0 right_base\n",
      "640 midpoint\n",
      "401.0 left_base\n",
      "942.0 right_base\n"
     ]
    },
    {
     "name": "stderr",
     "output_type": "stream",
     "text": [
      "t:  32%|███▏      | 400/1260 [01:41<03:34,  4.01it/s, now=None]"
     ]
    },
    {
     "name": "stdout",
     "output_type": "stream",
     "text": [
      "640 midpoint\n",
      "400.0 left_base\n",
      "946.0 right_base\n"
     ]
    },
    {
     "name": "stderr",
     "output_type": "stream",
     "text": [
      "\r",
      "t:  32%|███▏      | 401/1260 [01:41<03:33,  4.02it/s, now=None]"
     ]
    },
    {
     "name": "stdout",
     "output_type": "stream",
     "text": [
      "640 midpoint\n",
      "401.0 left_base\n",
      "945.0 right_base\n",
      "640 midpoint\n",
      "400.0 left_base\n",
      "948.0 right_base\n"
     ]
    },
    {
     "name": "stderr",
     "output_type": "stream",
     "text": [
      "t:  32%|███▏      | 403/1260 [01:42<03:32,  4.03it/s, now=None]"
     ]
    },
    {
     "name": "stdout",
     "output_type": "stream",
     "text": [
      "640 midpoint\n",
      "398.0 left_base\n",
      "922.0 right_base\n",
      "640 midpoint\n",
      "398.0 left_base\n",
      "936.0 right_base\n"
     ]
    },
    {
     "name": "stderr",
     "output_type": "stream",
     "text": [
      "t:  32%|███▏      | 405/1260 [01:42<03:48,  3.74it/s, now=None]"
     ]
    },
    {
     "name": "stdout",
     "output_type": "stream",
     "text": [
      "640 midpoint\n",
      "394.0 left_base\n",
      "945.0 right_base\n",
      "640 midpoint\n",
      "394.0 left_base\n",
      "931.0 right_base\n"
     ]
    },
    {
     "name": "stderr",
     "output_type": "stream",
     "text": [
      "t:  32%|███▏      | 407/1260 [01:43<03:33,  4.00it/s, now=None]"
     ]
    },
    {
     "name": "stdout",
     "output_type": "stream",
     "text": [
      "640 midpoint\n",
      "391.0 left_base\n",
      "920.0 right_base\n",
      "640 midpoint\n",
      "387.0 left_base\n",
      "920.0 right_base\n"
     ]
    },
    {
     "name": "stderr",
     "output_type": "stream",
     "text": [
      "t:  32%|███▏      | 409/1260 [01:43<03:22,  4.21it/s, now=None]"
     ]
    },
    {
     "name": "stdout",
     "output_type": "stream",
     "text": [
      "640 midpoint\n",
      "388.0 left_base\n",
      "935.0 right_base\n",
      "640 midpoint\n",
      "387.0 left_base\n",
      "940.0 right_base\n"
     ]
    },
    {
     "name": "stderr",
     "output_type": "stream",
     "text": [
      "t:  33%|███▎      | 411/1260 [01:44<03:33,  3.98it/s, now=None]"
     ]
    },
    {
     "name": "stdout",
     "output_type": "stream",
     "text": [
      "640 midpoint\n",
      "388.0 left_base\n",
      "939.0 right_base\n",
      "640 midpoint\n",
      "388.0 left_base\n",
      "941.0 right_base\n"
     ]
    },
    {
     "name": "stderr",
     "output_type": "stream",
     "text": [
      "t:  33%|███▎      | 413/1260 [01:44<03:22,  4.19it/s, now=None]"
     ]
    },
    {
     "name": "stdout",
     "output_type": "stream",
     "text": [
      "640 midpoint\n",
      "390.0 left_base\n",
      "942.0 right_base\n",
      "640 midpoint\n",
      "391.0 left_base\n",
      "931.0 right_base\n"
     ]
    },
    {
     "name": "stderr",
     "output_type": "stream",
     "text": [
      "t:  33%|███▎      | 415/1260 [01:45<03:24,  4.13it/s, now=None]"
     ]
    },
    {
     "name": "stdout",
     "output_type": "stream",
     "text": [
      "640 midpoint\n",
      "392.0 left_base\n",
      "912.0 right_base\n",
      "640 midpoint\n",
      "396.0 left_base\n",
      "924.0 right_base\n"
     ]
    },
    {
     "name": "stderr",
     "output_type": "stream",
     "text": [
      "t:  33%|███▎      | 417/1260 [01:45<03:27,  4.07it/s, now=None]"
     ]
    },
    {
     "name": "stdout",
     "output_type": "stream",
     "text": [
      "640 midpoint\n",
      "391.0 left_base\n",
      "937.0 right_base\n",
      "640 midpoint\n",
      "393.0 left_base\n",
      "928.0 right_base\n"
     ]
    },
    {
     "name": "stderr",
     "output_type": "stream",
     "text": [
      "t:  33%|███▎      | 419/1260 [01:46<03:28,  4.03it/s, now=None]"
     ]
    },
    {
     "name": "stdout",
     "output_type": "stream",
     "text": [
      "640 midpoint\n",
      "392.0 left_base\n",
      "910.0 right_base\n",
      "640 midpoint\n",
      "390.0 left_base\n",
      "920.0 right_base\n"
     ]
    },
    {
     "name": "stderr",
     "output_type": "stream",
     "text": [
      "t:  33%|███▎      | 421/1260 [01:46<03:29,  4.01it/s, now=None]"
     ]
    },
    {
     "name": "stdout",
     "output_type": "stream",
     "text": [
      "640 midpoint\n",
      "394.0 left_base\n",
      "925.0 right_base\n",
      "640 midpoint\n",
      "394.0 left_base\n",
      "928.0 right_base\n"
     ]
    },
    {
     "name": "stderr",
     "output_type": "stream",
     "text": [
      "t:  34%|███▎      | 423/1260 [01:47<03:19,  4.19it/s, now=None]"
     ]
    },
    {
     "name": "stdout",
     "output_type": "stream",
     "text": [
      "640 midpoint\n",
      "397.0 left_base\n",
      "925.0 right_base\n",
      "640 midpoint\n",
      "392.0 left_base\n",
      "929.0 right_base\n"
     ]
    },
    {
     "name": "stderr",
     "output_type": "stream",
     "text": [
      "t:  34%|███▎      | 425/1260 [01:47<03:23,  4.10it/s, now=None]"
     ]
    },
    {
     "name": "stdout",
     "output_type": "stream",
     "text": [
      "640 midpoint\n",
      "390.0 left_base\n",
      "932.0 right_base\n",
      "640 midpoint\n",
      "390.0 left_base\n",
      "917.0 right_base\n"
     ]
    },
    {
     "name": "stderr",
     "output_type": "stream",
     "text": [
      "t:  34%|███▍      | 427/1260 [01:48<03:26,  4.04it/s, now=None]"
     ]
    },
    {
     "name": "stdout",
     "output_type": "stream",
     "text": [
      "640 midpoint\n",
      "384.0 left_base\n",
      "903.0 right_base\n",
      "640"
     ]
    },
    {
     "name": "stderr",
     "output_type": "stream",
     "text": [
      "\r",
      "t:  34%|███▍      | 428/1260 [01:48<03:39,  3.80it/s, now=None]"
     ]
    },
    {
     "name": "stdout",
     "output_type": "stream",
     "text": [
      " midpoint\n",
      "384.0 left_base\n",
      "925.0 right_base\n",
      "640 midpoint\n",
      "382.0 left_base\n",
      "931.0 right_base\n"
     ]
    },
    {
     "name": "stderr",
     "output_type": "stream",
     "text": [
      "t:  34%|███▍      | 430/1260 [01:48<03:33,  3.88it/s, now=None]"
     ]
    },
    {
     "name": "stdout",
     "output_type": "stream",
     "text": [
      "640 midpoint\n",
      "384.0 left_base\n",
      "916.0 right_base\n",
      "640 midpoint\n",
      "383.0 left_base\n",
      "899.0 right_base\n"
     ]
    },
    {
     "name": "stderr",
     "output_type": "stream",
     "text": [
      "t:  34%|███▍      | 432/1260 [01:49<03:28,  3.98it/s, now=None]"
     ]
    },
    {
     "name": "stdout",
     "output_type": "stream",
     "text": [
      "640 midpoint\n",
      "379.0 left_base\n",
      "915.0 right_base\n",
      "640 midpoint\n",
      "379.0 left_base\n",
      "922.0 right_base\n"
     ]
    },
    {
     "name": "stderr",
     "output_type": "stream",
     "text": [
      "t:  34%|███▍      | 434/1260 [01:49<03:16,  4.20it/s, now=None]"
     ]
    },
    {
     "name": "stdout",
     "output_type": "stream",
     "text": [
      "640 midpoint\n",
      "375.0 left_base\n",
      "930.0 right_base\n",
      "640 midpoint\n",
      "375.0 left_base\n",
      "931.0 right_base\n"
     ]
    },
    {
     "name": "stderr",
     "output_type": "stream",
     "text": [
      "t:  35%|███▍      | 436/1260 [01:50<03:20,  4.12it/s, now=None]"
     ]
    },
    {
     "name": "stdout",
     "output_type": "stream",
     "text": [
      "640 midpoint\n",
      "375.0 left_base\n",
      "933.0 right_base\n",
      "640 midpoint\n",
      "376.0 left_base\n",
      "932.0 right_base\n"
     ]
    },
    {
     "name": "stderr",
     "output_type": "stream",
     "text": [
      "t:  35%|███▍      | 438/1260 [01:50<03:12,  4.26it/s, now=None]"
     ]
    },
    {
     "name": "stdout",
     "output_type": "stream",
     "text": [
      "640 midpoint\n",
      "381.0 left_base\n",
      "910.0 right_base\n",
      "640 midpoint\n",
      "377.0 left_base\n",
      "907.0 right_base\n"
     ]
    },
    {
     "name": "stderr",
     "output_type": "stream",
     "text": [
      "t:  35%|███▍      | 440/1260 [01:51<03:16,  4.17it/s, now=None]"
     ]
    },
    {
     "name": "stdout",
     "output_type": "stream",
     "text": [
      "640 midpoint\n",
      "381.0 left_base\n",
      "918.0 right_base\n",
      "640 midpoint\n",
      "386.0 left_base\n",
      "919.0 right_base\n"
     ]
    },
    {
     "name": "stderr",
     "output_type": "stream",
     "text": [
      "t:  35%|███▌      | 442/1260 [01:51<03:12,  4.25it/s, now=None]"
     ]
    },
    {
     "name": "stdout",
     "output_type": "stream",
     "text": [
      "640 midpoint\n",
      "383.0 left_base\n",
      "909.0 right_base\n",
      "640 midpoint\n",
      "383.0 left_base\n",
      "906.0 right_base\n"
     ]
    },
    {
     "name": "stderr",
     "output_type": "stream",
     "text": [
      "t:  35%|███▌      | 444/1260 [01:52<03:16,  4.15it/s, now=None]"
     ]
    },
    {
     "name": "stdout",
     "output_type": "stream",
     "text": [
      "640 midpoint\n",
      "373.0 left_base\n",
      "915.0 right_base\n",
      "640"
     ]
    },
    {
     "name": "stderr",
     "output_type": "stream",
     "text": [
      "\r",
      "t:  35%|███▌      | 445/1260 [01:52<03:19,  4.08it/s, now=None]"
     ]
    },
    {
     "name": "stdout",
     "output_type": "stream",
     "text": [
      " midpoint\n",
      "376.0 left_base\n",
      "922.0 right_base\n",
      "640 midpoint\n",
      "373.0 left_base\n",
      "928.0 "
     ]
    },
    {
     "name": "stderr",
     "output_type": "stream",
     "text": [
      "\r",
      "t:  35%|███▌      | 446/1260 [01:52<03:20,  4.07it/s, now=None]"
     ]
    },
    {
     "name": "stdout",
     "output_type": "stream",
     "text": [
      "right_base\n",
      "640 midpoint\n",
      "375.0 left_base\n",
      "926.0 right_base\n"
     ]
    },
    {
     "name": "stderr",
     "output_type": "stream",
     "text": [
      "t:  36%|███▌      | 448/1260 [01:53<03:20,  4.06it/s, now=None]"
     ]
    },
    {
     "name": "stdout",
     "output_type": "stream",
     "text": [
      "640 midpoint\n",
      "381.0 left_base\n",
      "925.0 right_base\n",
      "640 "
     ]
    },
    {
     "name": "stderr",
     "output_type": "stream",
     "text": [
      "\r",
      "t:  36%|███▌      | 449/1260 [01:53<03:12,  4.22it/s, now=None]"
     ]
    },
    {
     "name": "stdout",
     "output_type": "stream",
     "text": [
      "midpoint\n",
      "380.0 left_base\n",
      "931.0 right_base\n",
      "640 midpoint\n",
      "385.0 left_base\n",
      "908.0 right_base\n"
     ]
    },
    {
     "name": "stderr",
     "output_type": "stream",
     "text": [
      "t:  36%|███▌      | 451/1260 [01:54<03:14,  4.16it/s, now=None]"
     ]
    },
    {
     "name": "stdout",
     "output_type": "stream",
     "text": [
      "640 midpoint\n",
      "384.0 left_base\n",
      "905.0 right_base\n",
      "640 midpoint\n",
      "386.0 left_base\n",
      "920.0 right_base\n"
     ]
    },
    {
     "name": "stderr",
     "output_type": "stream",
     "text": [
      "t:  36%|███▌      | 453/1260 [01:54<03:18,  4.07it/s, now=None]"
     ]
    },
    {
     "name": "stdout",
     "output_type": "stream",
     "text": [
      "640 midpoint\n",
      "387.0 left_base\n",
      "920.0 right_base\n",
      "640 midpoint\n",
      "383.0 left_base\n",
      "919.0 right_base\n"
     ]
    },
    {
     "name": "stderr",
     "output_type": "stream",
     "text": [
      "t:  36%|███▌      | 455/1260 [01:54<03:11,  4.21it/s, now=None]"
     ]
    },
    {
     "name": "stdout",
     "output_type": "stream",
     "text": [
      "640 midpoint\n",
      "390.0 left_base\n",
      "903.0 right_base\n",
      "640 midpoint\n",
      "392.0 left_base\n",
      "913.0 right_base\n"
     ]
    },
    {
     "name": "stderr",
     "output_type": "stream",
     "text": [
      "t:  36%|███▋      | 457/1260 [01:55<03:04,  4.36it/s, now=None]"
     ]
    },
    {
     "name": "stdout",
     "output_type": "stream",
     "text": [
      "640 midpoint\n",
      "393.0 left_base\n",
      "919.0 right_base\n",
      "640 "
     ]
    },
    {
     "name": "stderr",
     "output_type": "stream",
     "text": [
      "\r",
      "t:  36%|███▋      | 458/1260 [01:55<02:58,  4.50it/s, now=None]"
     ]
    },
    {
     "name": "stdout",
     "output_type": "stream",
     "text": [
      "midpoint\n",
      "394.0 left_base\n",
      "922.0 right_base\n",
      "640 midpoint\n",
      "393.0 left_base\n",
      "925.0 right_base\n"
     ]
    },
    {
     "name": "stderr",
     "output_type": "stream",
     "text": [
      "t:  37%|███▋      | 460/1260 [01:56<03:06,  4.28it/s, now=None]"
     ]
    },
    {
     "name": "stdout",
     "output_type": "stream",
     "text": [
      "640 midpoint\n",
      "400.0 left_base\n",
      "923.0 right_base\n",
      "640 midpoint\n",
      "400.0 left_base\n",
      "927.0 right_base\n"
     ]
    },
    {
     "name": "stderr",
     "output_type": "stream",
     "text": [
      "t:  37%|███▋      | 462/1260 [01:56<03:04,  4.33it/s, now=None]"
     ]
    },
    {
     "name": "stdout",
     "output_type": "stream",
     "text": [
      "640 midpoint\n",
      "400.0 left_base\n",
      "908.0 right_base\n",
      "640 midpoint\n",
      "397.0 left_base\n",
      "911.0 right_base\n"
     ]
    },
    {
     "name": "stderr",
     "output_type": "stream",
     "text": [
      "t:  37%|███▋      | 464/1260 [01:57<03:10,  4.18it/s, now=None]"
     ]
    },
    {
     "name": "stdout",
     "output_type": "stream",
     "text": [
      "640 midpoint\n",
      "394.0 left_base\n",
      "930.0 right_base\n",
      "640 midpoint\n",
      "398.0 left_base\n",
      "926.0 right_base\n"
     ]
    },
    {
     "name": "stderr",
     "output_type": "stream",
     "text": [
      "t:  37%|███▋      | 466/1260 [01:57<03:12,  4.13it/s, now=None]"
     ]
    },
    {
     "name": "stdout",
     "output_type": "stream",
     "text": [
      "640 midpoint\n",
      "397.0 left_base\n",
      "917.0 right_base\n",
      "640 midpoint\n",
      "402.0 left_base\n",
      "904.0 right_base\n"
     ]
    },
    {
     "name": "stderr",
     "output_type": "stream",
     "text": [
      "t:  37%|███▋      | 468/1260 [01:58<03:14,  4.07it/s, now=None]"
     ]
    },
    {
     "name": "stdout",
     "output_type": "stream",
     "text": [
      "640 midpoint\n",
      "400.0 left_base\n",
      "918.0 right_base\n",
      "640"
     ]
    },
    {
     "name": "stderr",
     "output_type": "stream",
     "text": [
      "\r",
      "t:  37%|███▋      | 469/1260 [01:58<03:15,  4.04it/s, now=None]"
     ]
    },
    {
     "name": "stdout",
     "output_type": "stream",
     "text": [
      " midpoint\n",
      "401.0 left_base\n",
      "920.0 right_base\n",
      "640 midpoint\n",
      "402.0 left_base\n",
      "923.0 right_base\n"
     ]
    },
    {
     "name": "stderr",
     "output_type": "stream",
     "text": [
      "t:  37%|███▋      | 471/1260 [01:58<03:16,  4.02it/s, now=None]"
     ]
    },
    {
     "name": "stdout",
     "output_type": "stream",
     "text": [
      "640 midpoint\n",
      "394.0 left_base\n",
      "929.0 right_base\n",
      "640 midpoint\n",
      "397.0 left_base\n",
      "927.0 right_base\n"
     ]
    },
    {
     "name": "stderr",
     "output_type": "stream",
     "text": [
      "t:  38%|███▊      | 473/1260 [01:59<03:06,  4.22it/s, now=None]"
     ]
    },
    {
     "name": "stdout",
     "output_type": "stream",
     "text": [
      "640 midpoint\n",
      "395.0 left_base\n",
      "930.0 right_base\n",
      "640 midpoint\n",
      "394.0 left_base\n",
      "913.0 right_base\n"
     ]
    },
    {
     "name": "stderr",
     "output_type": "stream",
     "text": [
      "t:  38%|███▊      | 475/1260 [01:59<03:00,  4.36it/s, now=None]"
     ]
    },
    {
     "name": "stdout",
     "output_type": "stream",
     "text": [
      "640 midpoint\n",
      "394.0 left_base\n",
      "914.0 right_base\n",
      "640 midpoint\n",
      "388.0 left_base\n",
      "936.0 right_base\n"
     ]
    },
    {
     "name": "stderr",
     "output_type": "stream",
     "text": [
      "t:  38%|███▊      | 477/1260 [02:00<02:56,  4.44it/s, now=None]"
     ]
    },
    {
     "name": "stdout",
     "output_type": "stream",
     "text": [
      "640 midpoint\n",
      "388.0 left_base\n",
      "936.0 right_base\n",
      "640 midpoint\n",
      "384.0 left_base\n",
      "934.0 right_base\n"
     ]
    },
    {
     "name": "stderr",
     "output_type": "stream",
     "text": [
      "t:  38%|███▊      | 479/1260 [02:00<02:55,  4.45it/s, now=None]"
     ]
    },
    {
     "name": "stdout",
     "output_type": "stream",
     "text": [
      "640 midpoint\n",
      "382.0 left_base\n",
      "924.0 right_base\n",
      "640 midpoint\n",
      "379.0 left_base\n",
      "932.0 right_base\n"
     ]
    },
    {
     "name": "stderr",
     "output_type": "stream",
     "text": [
      "t:  38%|███▊      | 481/1260 [02:01<02:53,  4.50it/s, now=None]"
     ]
    },
    {
     "name": "stdout",
     "output_type": "stream",
     "text": [
      "640 midpoint\n",
      "377.0 left_base\n",
      "946.0 right_base\n",
      "640 midpoint\n",
      "381.0 left_base\n",
      "947.0 right_base\n"
     ]
    },
    {
     "name": "stderr",
     "output_type": "stream",
     "text": [
      "t:  38%|███▊      | 483/1260 [02:01<02:51,  4.53it/s, now=None]"
     ]
    },
    {
     "name": "stdout",
     "output_type": "stream",
     "text": [
      "640 midpoint\n",
      "378.0 left_base\n",
      "951.0 right_base\n",
      "640 midpoint\n",
      "377.0 left_base\n",
      "954.0 right_base\n"
     ]
    },
    {
     "name": "stderr",
     "output_type": "stream",
     "text": [
      "t:  38%|███▊      | 485/1260 [02:01<02:51,  4.51it/s, now=None]"
     ]
    },
    {
     "name": "stdout",
     "output_type": "stream",
     "text": [
      "640 midpoint\n",
      "382.0 left_base\n",
      "954.0 right_base\n",
      "640 midpoint\n",
      "383.0 left_base\n",
      "941.0 right_base\n"
     ]
    },
    {
     "name": "stderr",
     "output_type": "stream",
     "text": [
      "t:  39%|███▊      | 487/1260 [02:02<03:01,  4.26it/s, now=None]"
     ]
    },
    {
     "name": "stdout",
     "output_type": "stream",
     "text": [
      "640 midpoint\n",
      "388.0 left_base\n",
      "934.0 right_base\n",
      "640 midpoint\n",
      "389.0 left_base\n",
      "942.0 right_base\n"
     ]
    },
    {
     "name": "stderr",
     "output_type": "stream",
     "text": [
      "t:  39%|███▉      | 489/1260 [02:02<02:58,  4.32it/s, now=None]"
     ]
    },
    {
     "name": "stdout",
     "output_type": "stream",
     "text": [
      "640 midpoint\n",
      "392.0 left_base\n",
      "938.0 right_base\n",
      "640"
     ]
    },
    {
     "name": "stderr",
     "output_type": "stream",
     "text": [
      "\r",
      "t:  39%|███▉      | 490/1260 [02:03<02:53,  4.44it/s, now=None]"
     ]
    },
    {
     "name": "stdout",
     "output_type": "stream",
     "text": [
      " midpoint\n",
      "395.0 left_base\n",
      "920.0 right_base\n",
      "640 midpoint\n",
      "394.0 left_base\n",
      "924.0 right_base\n"
     ]
    },
    {
     "name": "stderr",
     "output_type": "stream",
     "text": [
      "t:  39%|███▉      | 492/1260 [02:03<03:01,  4.22it/s, now=None]"
     ]
    },
    {
     "name": "stdout",
     "output_type": "stream",
     "text": [
      "640 midpoint\n",
      "395.0 left_base\n",
      "931.0 right_base\n",
      "640 midpoint\n",
      "393.0 left_base\n",
      "939.0 right_base\n"
     ]
    },
    {
     "name": "stderr",
     "output_type": "stream",
     "text": [
      "t:  39%|███▉      | 494/1260 [02:04<03:05,  4.14it/s, now=None]"
     ]
    },
    {
     "name": "stdout",
     "output_type": "stream",
     "text": [
      "640 midpoint\n",
      "393.0 left_base\n",
      "940.0 right_base\n",
      "640 midpoint\n",
      "390.0 left_base\n",
      "946.0 right_base\n"
     ]
    },
    {
     "name": "stderr",
     "output_type": "stream",
     "text": [
      "t:  39%|███▉      | 496/1260 [02:04<02:59,  4.25it/s, now=None]"
     ]
    },
    {
     "name": "stdout",
     "output_type": "stream",
     "text": [
      "640 midpoint\n",
      "388.0 left_base\n",
      "950.0 right_base\n",
      "640"
     ]
    },
    {
     "name": "stderr",
     "output_type": "stream",
     "text": [
      "\r",
      "t:  39%|███▉      | 497/1260 [02:04<02:54,  4.37it/s, now=None]"
     ]
    },
    {
     "name": "stdout",
     "output_type": "stream",
     "text": [
      " midpoint\n",
      "389.0 left_base\n",
      "950.0 right_base\n",
      "640 midpoint\n",
      "388.0 left_base\n",
      "934.0 right_base\n"
     ]
    },
    {
     "name": "stderr",
     "output_type": "stream",
     "text": [
      "t:  40%|███▉      | 499/1260 [02:05<03:00,  4.22it/s, now=None]"
     ]
    },
    {
     "name": "stdout",
     "output_type": "stream",
     "text": [
      "640 midpoint\n",
      "391.0 left_base\n",
      "933.0 right_base\n",
      "640 midpoint\n",
      "387.0 left_base\n",
      "945.0 right_base\n"
     ]
    },
    {
     "name": "stderr",
     "output_type": "stream",
     "text": [
      "t:  40%|███▉      | 501/1260 [02:05<02:56,  4.31it/s, now=None]"
     ]
    },
    {
     "name": "stdout",
     "output_type": "stream",
     "text": [
      "640 midpoint\n",
      "382.0 left_base\n",
      "951.0 right_base\n",
      "640 midpoint\n",
      "379.0 left_base\n",
      "943.0 right_base\n"
     ]
    },
    {
     "name": "stderr",
     "output_type": "stream",
     "text": [
      "t:  40%|███▉      | 503/1260 [02:06<03:00,  4.18it/s, now=None]"
     ]
    },
    {
     "name": "stdout",
     "output_type": "stream",
     "text": [
      "640 midpoint\n",
      "376.0 left_base\n",
      "956.0 right_base\n",
      "640 midpoint\n",
      "381.0 left_base\n",
      "950.0 right_base\n"
     ]
    },
    {
     "name": "stderr",
     "output_type": "stream",
     "text": [
      "t:  40%|████      | 505/1260 [02:06<03:04,  4.09it/s, now=None]"
     ]
    },
    {
     "name": "stdout",
     "output_type": "stream",
     "text": [
      "640 midpoint\n",
      "382.0 left_base\n",
      "949.0 right_base\n",
      "640"
     ]
    },
    {
     "name": "stderr",
     "output_type": "stream",
     "text": [
      "\r",
      "t:  40%|████      | 506/1260 [02:06<03:05,  4.07it/s, now=None]"
     ]
    },
    {
     "name": "stdout",
     "output_type": "stream",
     "text": [
      " midpoint\n",
      "382.0 left_base\n",
      "951.0 right_base\n",
      "640 midpoint\n",
      "382.0 left_base\n",
      "950.0 right_base\n"
     ]
    },
    {
     "name": "stderr",
     "output_type": "stream",
     "text": [
      "t:  40%|████      | 508/1260 [02:07<03:06,  4.04it/s, now=None]"
     ]
    },
    {
     "name": "stdout",
     "output_type": "stream",
     "text": [
      "640 midpoint\n",
      "379.0 left_base\n",
      "953.0 right_base\n",
      "640 midpoint\n",
      "381.0 left_base\n",
      "953.0 right_base\n"
     ]
    },
    {
     "name": "stderr",
     "output_type": "stream",
     "text": [
      "t:  40%|████      | 510/1260 [02:07<02:55,  4.27it/s, now=None]"
     ]
    },
    {
     "name": "stdout",
     "output_type": "stream",
     "text": [
      "640 midpoint\n",
      "378.0 left_base\n",
      "950.0 right_base\n",
      "640 midpoint\n",
      "379.0 left_base\n",
      "939.0 right_base\n"
     ]
    },
    {
     "name": "stderr",
     "output_type": "stream",
     "text": [
      "t:  41%|████      | 512/1260 [02:08<03:01,  4.13it/s, now=None]"
     ]
    },
    {
     "name": "stdout",
     "output_type": "stream",
     "text": [
      "640 midpoint\n",
      "379.0 left_base\n",
      "942.0 right_base\n",
      "640 midpoint\n",
      "379.0 left_base\n",
      "946.0 right_base\n"
     ]
    },
    {
     "name": "stderr",
     "output_type": "stream",
     "text": [
      "t:  41%|████      | 514/1260 [02:08<02:55,  4.25it/s, now=None]"
     ]
    },
    {
     "name": "stdout",
     "output_type": "stream",
     "text": [
      "640 midpoint\n",
      "382.0 left_base\n",
      "933.0 right_base\n",
      "640 midpoint\n",
      "380.0 left_base\n",
      "935.0 right_base\n"
     ]
    },
    {
     "name": "stderr",
     "output_type": "stream",
     "text": [
      "t:  41%|████      | 516/1260 [02:09<02:57,  4.19it/s, now=None]"
     ]
    },
    {
     "name": "stdout",
     "output_type": "stream",
     "text": [
      "640 midpoint\n",
      "380.0 left_base\n",
      "933.0 right_base\n",
      "640 midpoint\n",
      "377.0 left_base\n",
      "941.0 right_base\n"
     ]
    },
    {
     "name": "stderr",
     "output_type": "stream",
     "text": [
      "t:  41%|████      | 518/1260 [02:09<02:53,  4.28it/s, now=None]"
     ]
    },
    {
     "name": "stdout",
     "output_type": "stream",
     "text": [
      "640 midpoint\n",
      "375.0 left_base\n",
      "943.0 right_base\n",
      "640 midpoint\n",
      "376.0 left_base\n"
     ]
    },
    {
     "name": "stderr",
     "output_type": "stream",
     "text": [
      "\r",
      "t:  41%|████      | 519/1260 [02:10<02:56,  4.20it/s, now=None]"
     ]
    },
    {
     "name": "stdout",
     "output_type": "stream",
     "text": [
      "943.0 right_base\n",
      "640 midpoint\n",
      "375.0 left_base\n",
      "948.0 right_base\n"
     ]
    },
    {
     "name": "stderr",
     "output_type": "stream",
     "text": [
      "t:  41%|████▏     | 521/1260 [02:10<02:58,  4.13it/s, now=None]"
     ]
    },
    {
     "name": "stdout",
     "output_type": "stream",
     "text": [
      "640 midpoint\n",
      "380.0 left_base\n",
      "947.0 right_base\n",
      "640 midpoint\n",
      "383.0 left_base\n",
      "944.0 right_base\n"
     ]
    },
    {
     "name": "stderr",
     "output_type": "stream",
     "text": [
      "t:  42%|████▏     | 523/1260 [02:11<03:01,  4.06it/s, now=None]"
     ]
    },
    {
     "name": "stdout",
     "output_type": "stream",
     "text": [
      "640 midpoint\n",
      "383.0 left_base\n",
      "943.0 right_base\n",
      "640 midpoint\n",
      "385.0 left_base\n",
      "944.0 right_base\n"
     ]
    },
    {
     "name": "stderr",
     "output_type": "stream",
     "text": [
      "t:  42%|████▏     | 525/1260 [02:11<02:53,  4.24it/s, now=None]"
     ]
    },
    {
     "name": "stdout",
     "output_type": "stream",
     "text": [
      "640 midpoint\n",
      "388.0 left_base\n",
      "950.0 right_base\n",
      "640 midpoint\n"
     ]
    },
    {
     "name": "stderr",
     "output_type": "stream",
     "text": [
      "\r",
      "t:  42%|████▏     | 526/1260 [02:11<02:54,  4.21it/s, now=None]"
     ]
    },
    {
     "name": "stdout",
     "output_type": "stream",
     "text": [
      "391.0 left_base\n",
      "943.0 right_base\n",
      "640 midpoint\n",
      "387.0 left_base\n",
      "947.0 right_base\n"
     ]
    },
    {
     "name": "stderr",
     "output_type": "stream",
     "text": [
      "t:  42%|████▏     | 528/1260 [02:12<02:50,  4.30it/s, now=None]"
     ]
    },
    {
     "name": "stdout",
     "output_type": "stream",
     "text": [
      "640 midpoint\n",
      "385.0 left_base\n",
      "950.0 right_base\n",
      "640 midpoint\n",
      "384.0 left_base\n",
      "952.0 right_base\n"
     ]
    },
    {
     "name": "stderr",
     "output_type": "stream",
     "text": [
      "t:  42%|████▏     | 530/1260 [02:12<02:53,  4.20it/s, now=None]"
     ]
    },
    {
     "name": "stdout",
     "output_type": "stream",
     "text": [
      "640 midpoint\n",
      "388.0 left_base\n",
      "952.0 right_base\n",
      "640 midpoint\n",
      "392.0 left_base\n",
      "945.0 right_base\n"
     ]
    },
    {
     "name": "stderr",
     "output_type": "stream",
     "text": [
      "t:  42%|████▏     | 532/1260 [02:13<02:57,  4.10it/s, now=None]"
     ]
    },
    {
     "name": "stdout",
     "output_type": "stream",
     "text": [
      "640 midpoint\n",
      "396.0 left_base\n",
      "943.0 right_base\n",
      "640 midpoint\n",
      "401.0 left_base\n",
      "935.0 right_base\n"
     ]
    },
    {
     "name": "stderr",
     "output_type": "stream",
     "text": [
      "t:  42%|████▏     | 534/1260 [02:13<02:50,  4.25it/s, now=None]"
     ]
    },
    {
     "name": "stdout",
     "output_type": "stream",
     "text": [
      "640 midpoint\n",
      "402.0 left_base\n",
      "929.0 right_base\n",
      "640 midpoint\n",
      "403.0 left_base\n",
      "926.0 right_base\n"
     ]
    },
    {
     "name": "stderr",
     "output_type": "stream",
     "text": [
      "t:  43%|████▎     | 536/1260 [02:14<02:53,  4.16it/s, now=None]"
     ]
    },
    {
     "name": "stdout",
     "output_type": "stream",
     "text": [
      "640 midpoint\n",
      "397.0 left_base\n",
      "937.0 right_base\n",
      "640 midpoint\n",
      "394.0 left_base\n",
      "943.0 right_base\n"
     ]
    },
    {
     "name": "stderr",
     "output_type": "stream",
     "text": [
      "t:  43%|████▎     | 538/1260 [02:14<02:48,  4.27it/s, now=None]"
     ]
    },
    {
     "name": "stdout",
     "output_type": "stream",
     "text": [
      "640 midpoint\n",
      "398.0 left_base\n",
      "943.0 right_base\n",
      "640 midpoint\n",
      "395.0 left_base\n",
      "948.0 right_base\n"
     ]
    },
    {
     "name": "stderr",
     "output_type": "stream",
     "text": [
      "t:  43%|████▎     | 540/1260 [02:15<02:46,  4.33it/s, now=None]"
     ]
    },
    {
     "name": "stdout",
     "output_type": "stream",
     "text": [
      "640 midpoint\n",
      "400.0 left_base\n",
      "952.0 right_base\n",
      "640 midpoint\n",
      "396.0 left_base\n",
      "958.0 right_base\n"
     ]
    },
    {
     "name": "stderr",
     "output_type": "stream",
     "text": [
      "t:  43%|████▎     | 542/1260 [02:15<02:51,  4.20it/s, now=None]"
     ]
    },
    {
     "name": "stdout",
     "output_type": "stream",
     "text": [
      "640 midpoint\n",
      "396.0 left_base\n",
      "954.0 right_base\n",
      "640 midpoint\n",
      "392.0 left_base\n",
      "952.0 right_base\n"
     ]
    },
    {
     "name": "stderr",
     "output_type": "stream",
     "text": [
      "t:  43%|████▎     | 544/1260 [02:16<02:54,  4.10it/s, now=None]"
     ]
    },
    {
     "name": "stdout",
     "output_type": "stream",
     "text": [
      "640 midpoint\n",
      "402.0 left_base\n",
      "954.0 right_base\n",
      "640 midpoint\n",
      "388.0 left_base\n",
      "949.0 right_base\n"
     ]
    },
    {
     "name": "stderr",
     "output_type": "stream",
     "text": [
      "t:  43%|████▎     | 546/1260 [02:16<02:48,  4.24it/s, now=None]"
     ]
    },
    {
     "name": "stdout",
     "output_type": "stream",
     "text": [
      "640 midpoint\n",
      "389.0 left_base\n",
      "955.0 right_base\n",
      "640 midpoint\n",
      "404.0 left_base\n",
      "945.0 right_base\n"
     ]
    },
    {
     "name": "stderr",
     "output_type": "stream",
     "text": [
      "t:  43%|████▎     | 548/1260 [02:16<02:44,  4.34it/s, now=None]"
     ]
    },
    {
     "name": "stdout",
     "output_type": "stream",
     "text": [
      "640 midpoint\n",
      "410.0 left_base\n",
      "947.0 right_base\n",
      "640 midpoint\n",
      "402.0 left_base\n",
      "946.0 right_base\n"
     ]
    },
    {
     "name": "stderr",
     "output_type": "stream",
     "text": [
      "t:  44%|████▎     | 550/1260 [02:17<02:50,  4.16it/s, now=None]"
     ]
    },
    {
     "name": "stdout",
     "output_type": "stream",
     "text": [
      "640 midpoint\n",
      "411.0 left_base\n",
      "948.0 right_base\n",
      "640 midpoint\n",
      "393.0 left_base\n",
      "958.0 right_base\n"
     ]
    },
    {
     "name": "stderr",
     "output_type": "stream",
     "text": [
      "t:  44%|████▍     | 552/1260 [02:17<02:46,  4.26it/s, now=None]"
     ]
    },
    {
     "name": "stdout",
     "output_type": "stream",
     "text": [
      "640 midpoint\n",
      "390.0 left_base\n",
      "963.0 right_base\n",
      "640 midpoint\n",
      "381.0 left_base\n",
      "964.0 right_base\n"
     ]
    },
    {
     "name": "stderr",
     "output_type": "stream",
     "text": [
      "t:  44%|████▍     | 554/1260 [02:18<02:51,  4.11it/s, now=None]"
     ]
    },
    {
     "name": "stdout",
     "output_type": "stream",
     "text": [
      "640 midpoint\n",
      "380.0 left_base\n",
      "987.0 right_base\n",
      "640 midpoint\n",
      "375.0 left_base\n",
      "1021.0 right_base\n"
     ]
    },
    {
     "name": "stderr",
     "output_type": "stream",
     "text": [
      "t:  44%|████▍     | 556/1260 [02:18<02:45,  4.26it/s, now=None]"
     ]
    },
    {
     "name": "stdout",
     "output_type": "stream",
     "text": [
      "640 midpoint\n",
      "381.0 left_base\n",
      "1020.0 right_base\n",
      "640 midpoint\n",
      "389.0 left_base\n",
      "981.0 right_base\n"
     ]
    },
    {
     "name": "stderr",
     "output_type": "stream",
     "text": [
      "t:  44%|████▍     | 558/1260 [02:19<02:41,  4.33it/s, now=None]"
     ]
    },
    {
     "name": "stdout",
     "output_type": "stream",
     "text": [
      "640 midpoint\n",
      "397.0 left_base\n",
      "984.0 right_base\n",
      "640 midpoint\n",
      "400.0 left_base\n",
      "968.0 right_base\n"
     ]
    },
    {
     "name": "stderr",
     "output_type": "stream",
     "text": [
      "t:  44%|████▍     | 560/1260 [02:19<02:38,  4.43it/s, now=None]"
     ]
    },
    {
     "name": "stdout",
     "output_type": "stream",
     "text": [
      "640 midpoint\n",
      "388.0 left_base\n",
      "974.0 right_base\n",
      "640 midpoint\n",
      "361.0 left_base\n",
      "999.0 right_base\n"
     ]
    },
    {
     "name": "stderr",
     "output_type": "stream",
     "text": [
      "t:  45%|████▍     | 562/1260 [02:20<02:45,  4.23it/s, now=None]"
     ]
    },
    {
     "name": "stdout",
     "output_type": "stream",
     "text": [
      "640 midpoint\n",
      "353.0 left_base\n",
      "980.0 right_base\n",
      "640 midpoint\n",
      "349.0 left_base\n",
      "1033.0 right_base\n"
     ]
    },
    {
     "name": "stderr",
     "output_type": "stream",
     "text": [
      "t:  45%|████▍     | 564/1260 [02:20<02:48,  4.12it/s, now=None]"
     ]
    },
    {
     "name": "stdout",
     "output_type": "stream",
     "text": [
      "640 midpoint\n",
      "365.0 left_base\n",
      "1001.0 right_base\n",
      "640 midpoint\n",
      "401.0 left_base\n",
      "974.0 right_base\n"
     ]
    },
    {
     "name": "stderr",
     "output_type": "stream",
     "text": [
      "t:  45%|████▍     | 566/1260 [02:21<02:58,  3.89it/s, now=None]"
     ]
    },
    {
     "name": "stdout",
     "output_type": "stream",
     "text": [
      "640 midpoint\n",
      "410.0 left_base\n",
      "947.0 right_base\n",
      "640 midpoint\n",
      "397.0 "
     ]
    },
    {
     "name": "stderr",
     "output_type": "stream",
     "text": [
      "\r",
      "t:  45%|████▌     | 567/1260 [02:21<02:56,  3.94it/s, now=None]"
     ]
    },
    {
     "name": "stdout",
     "output_type": "stream",
     "text": [
      "left_base\n",
      "939.0 right_base\n",
      "640 midpoint\n",
      "405.0 left_base\n",
      "952.0 right_base\n"
     ]
    },
    {
     "name": "stderr",
     "output_type": "stream",
     "text": [
      "t:  45%|████▌     | 569/1260 [02:22<02:47,  4.12it/s, now=None]"
     ]
    },
    {
     "name": "stdout",
     "output_type": "stream",
     "text": [
      "640 midpoint\n",
      "408.0 left_base\n",
      "956.0 right_base\n",
      "640"
     ]
    },
    {
     "name": "stderr",
     "output_type": "stream",
     "text": [
      "\r",
      "t:  45%|████▌     | 570/1260 [02:22<02:40,  4.31it/s, now=None]"
     ]
    },
    {
     "name": "stdout",
     "output_type": "stream",
     "text": [
      " midpoint\n",
      "403.0 left_base\n",
      "983.0 right_base\n",
      "640 "
     ]
    },
    {
     "name": "stderr",
     "output_type": "stream",
     "text": [
      "\r",
      "t:  45%|████▌     | 571/1260 [02:22<02:41,  4.27it/s, now=None]"
     ]
    },
    {
     "name": "stdout",
     "output_type": "stream",
     "text": [
      "midpoint\n",
      "413.0 left_base\n",
      "1001.0 right_base\n",
      "640 midpoint\n",
      "390.0 left_base\n",
      "997.0 right_base\n"
     ]
    },
    {
     "name": "stderr",
     "output_type": "stream",
     "text": [
      "t:  45%|████▌     | 573/1260 [02:22<02:38,  4.32it/s, now=None]"
     ]
    },
    {
     "name": "stdout",
     "output_type": "stream",
     "text": [
      "640 midpoint\n",
      "394.0 left_base\n",
      "981.0 right_base\n",
      "640 midpoint\n",
      "397.0 left_base\n",
      "980.0 right_base\n"
     ]
    },
    {
     "name": "stderr",
     "output_type": "stream",
     "text": [
      "t:  46%|████▌     | 575/1260 [02:23<02:36,  4.37it/s, now=None]"
     ]
    },
    {
     "name": "stdout",
     "output_type": "stream",
     "text": [
      "640 midpoint\n",
      "392.0 left_base\n",
      "977.0 right_base\n",
      "640 midpoint\n",
      "418.0 left_base\n",
      "973.0 right_base\n"
     ]
    },
    {
     "name": "stderr",
     "output_type": "stream",
     "text": [
      "t:  46%|████▌     | 577/1260 [02:23<02:41,  4.23it/s, now=None]"
     ]
    },
    {
     "name": "stdout",
     "output_type": "stream",
     "text": [
      "640 midpoint\n",
      "439.0 left_base\n",
      "965.0 right_base\n",
      "640 midpoint\n",
      "441.0 left_base"
     ]
    },
    {
     "name": "stderr",
     "output_type": "stream",
     "text": [
      "\r",
      "t:  46%|████▌     | 578/1260 [02:24<02:35,  4.40it/s, now=None]"
     ]
    },
    {
     "name": "stdout",
     "output_type": "stream",
     "text": [
      "\n",
      "959.0 right_base\n",
      "640 midpoint\n",
      "458.0 left_base\n",
      "951.0 right_base\n"
     ]
    },
    {
     "name": "stderr",
     "output_type": "stream",
     "text": [
      "t:  46%|████▌     | 580/1260 [02:24<02:33,  4.43it/s, now=None]"
     ]
    },
    {
     "name": "stdout",
     "output_type": "stream",
     "text": [
      "640 midpoint\n",
      "459.0 left_base\n",
      "919.0 right_base\n",
      "640 midpoint\n",
      "458.0 left_base\n",
      "933.0 right_base\n"
     ]
    },
    {
     "name": "stderr",
     "output_type": "stream",
     "text": [
      "t:  46%|████▌     | 582/1260 [02:24<02:27,  4.61it/s, now=None]"
     ]
    },
    {
     "name": "stdout",
     "output_type": "stream",
     "text": [
      "640 midpoint\n",
      "414.0 left_base\n",
      "939.0 right_base\n",
      "640 midpoint\n",
      "420.0 left_base\n",
      "946.0 right_base\n"
     ]
    },
    {
     "name": "stderr",
     "output_type": "stream",
     "text": [
      "t:  46%|████▋     | 584/1260 [02:25<02:26,  4.62it/s, now=None]"
     ]
    },
    {
     "name": "stdout",
     "output_type": "stream",
     "text": [
      "640 midpoint\n",
      "439.0 left_base\n",
      "946.0 right_base\n",
      "640 midpoint\n",
      "427.0 left_base\n",
      "935.0 right_base\n"
     ]
    },
    {
     "name": "stderr",
     "output_type": "stream",
     "text": [
      "t:  47%|████▋     | 586/1260 [02:25<02:40,  4.21it/s, now=None]"
     ]
    },
    {
     "name": "stdout",
     "output_type": "stream",
     "text": [
      "640 midpoint\n",
      "431.0 left_base\n",
      "1184.0 right_base\n",
      "640 midpoint\n",
      "418.0 left_base\n",
      "923.0 right_base\n"
     ]
    },
    {
     "name": "stderr",
     "output_type": "stream",
     "text": [
      "t:  47%|████▋     | 588/1260 [02:26<02:34,  4.35it/s, now=None]"
     ]
    },
    {
     "name": "stdout",
     "output_type": "stream",
     "text": [
      "640 midpoint\n",
      "436.0 left_base\n",
      "1019.0 right_base\n",
      "640 midpoint\n",
      "434.0"
     ]
    },
    {
     "name": "stderr",
     "output_type": "stream",
     "text": [
      "\r",
      "t:  47%|████▋     | 589/1260 [02:26<02:28,  4.51it/s, now=None]"
     ]
    },
    {
     "name": "stdout",
     "output_type": "stream",
     "text": [
      " left_base\n",
      "909.0 right_base\n",
      "640 midpoint\n",
      "418.0 left_base\n",
      "928.0 right_base\n"
     ]
    },
    {
     "name": "stderr",
     "output_type": "stream",
     "text": [
      "t:  47%|████▋     | 592/1260 [02:27<02:23,  4.65it/s, now=None]"
     ]
    },
    {
     "name": "stdout",
     "output_type": "stream",
     "text": [
      "640 midpoint\n",
      "472.0 left_base\n",
      "955.0 right_base\n",
      "640 midpoint\n",
      "393.0 left_base\n",
      "102.0 right_base\n"
     ]
    },
    {
     "name": "stderr",
     "output_type": "stream",
     "text": [
      "\r",
      "t:  47%|████▋     | 593/1260 [02:27<02:28,  4.48it/s, now=None]"
     ]
    },
    {
     "name": "stdout",
     "output_type": "stream",
     "text": [
      "640 midpoint\n",
      "412.0 left_base\n",
      "-289.0 right_base\n",
      "640 midpoint\n",
      "419.0 left_base\n",
      "-989.0 right_base\n"
     ]
    },
    {
     "name": "stderr",
     "output_type": "stream",
     "text": [
      "t:  47%|████▋     | 595/1260 [02:27<02:22,  4.67it/s, now=None]"
     ]
    },
    {
     "name": "stdout",
     "output_type": "stream",
     "text": [
      "640 midpoint\n",
      "436.0 left_base\n",
      "890.0 right_base\n",
      "640 midpoint\n",
      "429.0 left_base\n",
      "943.0 right_base\n"
     ]
    },
    {
     "name": "stderr",
     "output_type": "stream",
     "text": [
      "t:  47%|████▋     | 597/1260 [02:28<02:25,  4.56it/s, now=None]"
     ]
    },
    {
     "name": "stdout",
     "output_type": "stream",
     "text": [
      "640 midpoint\n",
      "442.0 left_base\n",
      "955.0 right_base\n",
      "640 midpoint\n",
      "424.0 left_base\n",
      "961.0 right_base\n"
     ]
    },
    {
     "name": "stderr",
     "output_type": "stream",
     "text": [
      "t:  48%|████▊     | 599/1260 [02:28<02:35,  4.26it/s, now=None]"
     ]
    },
    {
     "name": "stdout",
     "output_type": "stream",
     "text": [
      "640 midpoint\n",
      "428.0 left_base\n",
      "961.0 right_base\n",
      "640 midpoint\n",
      "424.0 left_base\n",
      "962.0 right_base\n"
     ]
    },
    {
     "name": "stderr",
     "output_type": "stream",
     "text": [
      "t:  48%|████▊     | 601/1260 [02:29<02:32,  4.31it/s, now=None]"
     ]
    },
    {
     "name": "stdout",
     "output_type": "stream",
     "text": [
      "640 midpoint\n",
      "423.0 left_base\n",
      "965.0 right_base\n",
      "640 midpoint\n",
      "403.0 left_base\n",
      "970.0 right_base\n"
     ]
    },
    {
     "name": "stderr",
     "output_type": "stream",
     "text": [
      "t:  48%|████▊     | 603/1260 [02:29<02:28,  4.42it/s, now=None]"
     ]
    },
    {
     "name": "stdout",
     "output_type": "stream",
     "text": [
      "640 midpoint\n",
      "422.0 left_base\n",
      "964.0 right_base\n",
      "640 midpoint\n",
      "450.0 left_base\n",
      "997.0 right_base\n"
     ]
    },
    {
     "name": "stderr",
     "output_type": "stream",
     "text": [
      "t:  48%|████▊     | 605/1260 [02:30<02:20,  4.68it/s, now=None]"
     ]
    },
    {
     "name": "stdout",
     "output_type": "stream",
     "text": [
      "640 midpoint\n",
      "439.0 left_base\n",
      "987.0 right_base\n",
      "640 midpoint\n",
      "426.0 left_base\n",
      "982.0 right_base\n"
     ]
    },
    {
     "name": "stderr",
     "output_type": "stream",
     "text": [
      "t:  48%|████▊     | 607/1260 [02:30<02:22,  4.58it/s, now=None]"
     ]
    },
    {
     "name": "stdout",
     "output_type": "stream",
     "text": [
      "640 midpoint\n",
      "280.0 left_base\n",
      "977.0 right_base\n",
      "640 midpoint\n",
      "303.0 left_base\n",
      "947.0 right_base\n"
     ]
    },
    {
     "name": "stderr",
     "output_type": "stream",
     "text": [
      "t:  48%|████▊     | 609/1260 [02:30<02:16,  4.77it/s, now=None]"
     ]
    },
    {
     "name": "stdout",
     "output_type": "stream",
     "text": [
      "640 midpoint\n",
      "326.0 left_base\n",
      "951.0 right_base\n",
      "640 midpoint\n",
      "350.0 left_base\n",
      "947.0 right_base\n"
     ]
    },
    {
     "name": "stderr",
     "output_type": "stream",
     "text": [
      "t:  48%|████▊     | 611/1260 [02:31<02:14,  4.81it/s, now=None]"
     ]
    },
    {
     "name": "stdout",
     "output_type": "stream",
     "text": [
      "640 midpoint\n",
      "359.0 left_base\n",
      "924.0 right_base\n",
      "640 midpoint\n",
      "350.0 left_base\n",
      "938.0 right_base\n"
     ]
    },
    {
     "name": "stderr",
     "output_type": "stream",
     "text": [
      "t:  49%|████▊     | 613/1260 [02:31<02:34,  4.19it/s, now=None]"
     ]
    },
    {
     "name": "stdout",
     "output_type": "stream",
     "text": [
      "640 midpoint\n",
      "359.0 left_base\n",
      "940.0 right_base\n",
      "640 midpoint\n",
      "365.0 left_base\n",
      "942.0 right_base\n"
     ]
    },
    {
     "name": "stderr",
     "output_type": "stream",
     "text": [
      "t:  49%|████▉     | 615/1260 [02:32<02:34,  4.16it/s, now=None]"
     ]
    },
    {
     "name": "stdout",
     "output_type": "stream",
     "text": [
      "640 midpoint\n",
      "372.0 left_base\n",
      "1169.0 right_base\n",
      "640"
     ]
    },
    {
     "name": "stderr",
     "output_type": "stream",
     "text": [
      "\r",
      "t:  49%|████▉     | 616/1260 [02:32<02:36,  4.11it/s, now=None]"
     ]
    },
    {
     "name": "stdout",
     "output_type": "stream",
     "text": [
      " midpoint\n",
      "376.0 left_base\n",
      "764.0 right_base\n",
      "640 midpoint\n",
      "394.0 left_base\n",
      "823.0 right_base\n"
     ]
    },
    {
     "name": "stderr",
     "output_type": "stream",
     "text": [
      "t:  49%|████▉     | 618/1260 [02:33<02:37,  4.07it/s, now=None]"
     ]
    },
    {
     "name": "stdout",
     "output_type": "stream",
     "text": [
      "640 midpoint\n",
      "401.0 left_base\n",
      "-223.0 right_base\n",
      "640 "
     ]
    },
    {
     "name": "stderr",
     "output_type": "stream",
     "text": [
      "\r",
      "t:  49%|████▉     | 619/1260 [02:33<02:39,  4.03it/s, now=None]"
     ]
    },
    {
     "name": "stdout",
     "output_type": "stream",
     "text": [
      "midpoint\n",
      "398.0 left_base\n",
      "-9795.0 right_base\n",
      "640 "
     ]
    },
    {
     "name": "stderr",
     "output_type": "stream",
     "text": [
      "\r",
      "t:  49%|████▉     | 620/1260 [02:33<02:48,  3.81it/s, now=None]"
     ]
    },
    {
     "name": "stdout",
     "output_type": "stream",
     "text": [
      "midpoint\n",
      "409.0 left_base\n",
      "952.0 right_base\n",
      "640 midpoint\n",
      "405.0 left_base\n",
      "960.0 right_base\n"
     ]
    },
    {
     "name": "stderr",
     "output_type": "stream",
     "text": [
      "t:  49%|████▉     | 622/1260 [02:34<02:33,  4.15it/s, now=None]"
     ]
    },
    {
     "name": "stdout",
     "output_type": "stream",
     "text": [
      "640 midpoint\n",
      "408.0 left_base\n",
      "952.0 right_base\n",
      "640 midpoint\n",
      "402.0 left_base\n",
      "960.0 right_base\n"
     ]
    },
    {
     "name": "stderr",
     "output_type": "stream",
     "text": [
      "t:  50%|████▉     | 624/1260 [02:34<02:28,  4.27it/s, now=None]"
     ]
    },
    {
     "name": "stdout",
     "output_type": "stream",
     "text": [
      "640 midpoint\n",
      "408.0 left_base\n",
      "968.0 right_base\n",
      "640 midpoint\n",
      "416.0 left_base\n",
      "971.0 right_base\n"
     ]
    },
    {
     "name": "stderr",
     "output_type": "stream",
     "text": [
      "t:  50%|████▉     | 626/1260 [02:35<02:26,  4.31it/s, now=None]"
     ]
    },
    {
     "name": "stdout",
     "output_type": "stream",
     "text": [
      "640 midpoint\n",
      "442.0 left_base\n",
      "962.0 right_base\n",
      "640 midpoint\n",
      "451.0 left_base\n",
      "966.0 right_base\n"
     ]
    },
    {
     "name": "stderr",
     "output_type": "stream",
     "text": [
      "t:  50%|████▉     | 628/1260 [02:35<02:47,  3.77it/s, now=None]"
     ]
    },
    {
     "name": "stdout",
     "output_type": "stream",
     "text": [
      "640 midpoint\n",
      "453.0 left_base\n",
      "971.0 right_base\n",
      "640 midpoint\n",
      "468.0 left_base\n",
      "965.0 right_base\n"
     ]
    },
    {
     "name": "stderr",
     "output_type": "stream",
     "text": [
      "t:  50%|█████     | 630/1260 [02:36<02:51,  3.67it/s, now=None]"
     ]
    },
    {
     "name": "stdout",
     "output_type": "stream",
     "text": [
      "640 midpoint\n",
      "464.0 left_base\n",
      "972.0 right_base\n",
      "640 midpoint\n",
      "443.0 left_base\n",
      "988.0 right_base\n"
     ]
    },
    {
     "name": "stderr",
     "output_type": "stream",
     "text": [
      "t:  50%|█████     | 632/1260 [02:36<03:02,  3.44it/s, now=None]"
     ]
    },
    {
     "name": "stdout",
     "output_type": "stream",
     "text": [
      "640 midpoint\n",
      "431.0 left_base\n",
      "996.0 right_base\n",
      "640 midpoint\n",
      "421.0 left_base\n",
      "1006.0 right_base\n"
     ]
    },
    {
     "name": "stderr",
     "output_type": "stream",
     "text": [
      "t:  50%|█████     | 634/1260 [02:37<02:58,  3.51it/s, now=None]"
     ]
    },
    {
     "name": "stdout",
     "output_type": "stream",
     "text": [
      "640 midpoint\n",
      "423.0 left_base\n",
      "1004.0 right_base\n",
      "640 midpoint\n",
      "432.0 left_base\n",
      "990.0 right_base\n"
     ]
    },
    {
     "name": "stderr",
     "output_type": "stream",
     "text": [
      "t:  50%|█████     | 636/1260 [02:37<02:47,  3.72it/s, now=None]"
     ]
    },
    {
     "name": "stdout",
     "output_type": "stream",
     "text": [
      "640 midpoint\n",
      "447.0 left_base\n",
      "977.0 right_base\n",
      "640 midpoint\n",
      "464.0 left_base\n",
      "967.0 right_base\n"
     ]
    },
    {
     "name": "stderr",
     "output_type": "stream",
     "text": [
      "t:  51%|█████     | 638/1260 [02:38<02:47,  3.71it/s, now=None]"
     ]
    },
    {
     "name": "stdout",
     "output_type": "stream",
     "text": [
      "640 midpoint\n",
      "483.0 left_base\n",
      "957.0 right_base\n",
      "640 midpoint\n",
      "485.0 left_base\n",
      "959.0 right_base\n"
     ]
    },
    {
     "name": "stderr",
     "output_type": "stream",
     "text": [
      "t:  51%|█████     | 640/1260 [02:38<02:55,  3.54it/s, now=None]"
     ]
    },
    {
     "name": "stdout",
     "output_type": "stream",
     "text": [
      "640 midpoint\n",
      "477.0 left_base\n",
      "969.0 right_base\n",
      "640 midpoint\n",
      "463.0 left_base\n",
      "983.0 right_base\n"
     ]
    },
    {
     "name": "stderr",
     "output_type": "stream",
     "text": [
      "t:  51%|█████     | 642/1260 [02:39<02:37,  3.92it/s, now=None]"
     ]
    },
    {
     "name": "stdout",
     "output_type": "stream",
     "text": [
      "640 midpoint\n",
      "449.0 left_base\n",
      "997.0 right_base\n",
      "640 midpoint\n",
      "445.0 left_base\n",
      "995.0 right_base\n"
     ]
    },
    {
     "name": "stderr",
     "output_type": "stream",
     "text": [
      "t:  51%|█████     | 644/1260 [02:39<02:35,  3.96it/s, now=None]"
     ]
    },
    {
     "name": "stdout",
     "output_type": "stream",
     "text": [
      "640 midpoint\n",
      "449.0 left_base\n",
      "999.0 right_base\n",
      "640 midpoint\n",
      "456.0 left_base\n",
      "996.0 right_base\n"
     ]
    },
    {
     "name": "stderr",
     "output_type": "stream",
     "text": [
      "t:  51%|█████▏    | 646/1260 [02:40<02:27,  4.16it/s, now=None]"
     ]
    },
    {
     "name": "stdout",
     "output_type": "stream",
     "text": [
      "640 midpoint\n",
      "459.0 left_base\n",
      "992.0 right_base\n",
      "640 midpoint\n",
      "465.0 left_base\n",
      "987.0 right_base\n"
     ]
    },
    {
     "name": "stderr",
     "output_type": "stream",
     "text": [
      "t:  51%|█████▏    | 648/1260 [02:40<02:30,  4.07it/s, now=None]"
     ]
    },
    {
     "name": "stdout",
     "output_type": "stream",
     "text": [
      "640 midpoint\n",
      "465.0 left_base\n",
      "982.0 right_base\n",
      "640 midpoint\n",
      "463.0 "
     ]
    },
    {
     "name": "stderr",
     "output_type": "stream",
     "text": [
      "\r",
      "t:  52%|█████▏    | 649/1260 [02:41<02:30,  4.06it/s, now=None]"
     ]
    },
    {
     "name": "stdout",
     "output_type": "stream",
     "text": [
      "left_base\n",
      "984.0 right_base\n",
      "640 midpoint\n",
      "463.0 left_base\n",
      "986.0 right_base\n"
     ]
    },
    {
     "name": "stderr",
     "output_type": "stream",
     "text": [
      "t:  52%|█████▏    | 651/1260 [02:41<02:40,  3.79it/s, now=None]"
     ]
    },
    {
     "name": "stdout",
     "output_type": "stream",
     "text": [
      "640 midpoint\n",
      "460.0 left_base\n",
      "987.0 right_base\n",
      "640 midpoint\n"
     ]
    },
    {
     "name": "stderr",
     "output_type": "stream",
     "text": [
      "\r",
      "t:  52%|█████▏    | 652/1260 [02:41<02:47,  3.62it/s, now=None]"
     ]
    },
    {
     "name": "stdout",
     "output_type": "stream",
     "text": [
      "459.0 left_base\n",
      "987.0 right_base\n",
      "640 midpoint\n",
      "457.0 left_base\n",
      "989.0 right_base\n"
     ]
    },
    {
     "name": "stderr",
     "output_type": "stream",
     "text": [
      "t:  52%|█████▏    | 654/1260 [02:42<02:44,  3.69it/s, now=None]"
     ]
    },
    {
     "name": "stdout",
     "output_type": "stream",
     "text": [
      "640 midpoint\n",
      "458.0 left_base\n",
      "985.0 right_base\n",
      "640 midpoint\n",
      "457.0 left_base\n",
      "985.0 right_base\n"
     ]
    },
    {
     "name": "stderr",
     "output_type": "stream",
     "text": [
      "t:  52%|█████▏    | 656/1260 [02:42<02:31,  4.00it/s, now=None]"
     ]
    },
    {
     "name": "stdout",
     "output_type": "stream",
     "text": [
      "640 midpoint\n",
      "457.0 left_base\n",
      "988.0 right_base\n",
      "640 midpoint\n",
      "455.0 left_base\n",
      "986.0 right_base\n"
     ]
    },
    {
     "name": "stderr",
     "output_type": "stream",
     "text": [
      "t:  52%|█████▏    | 658/1260 [02:43<02:30,  4.00it/s, now=None]"
     ]
    },
    {
     "name": "stdout",
     "output_type": "stream",
     "text": [
      "640 midpoint\n",
      "454.0 left_base\n",
      "991.0 right_base\n",
      "640 midpoint\n",
      "457.0 left_base\n",
      "985.0 right_base\n"
     ]
    },
    {
     "name": "stderr",
     "output_type": "stream",
     "text": [
      "t:  52%|█████▏    | 660/1260 [02:43<02:21,  4.24it/s, now=None]"
     ]
    },
    {
     "name": "stdout",
     "output_type": "stream",
     "text": [
      "640 midpoint\n",
      "454.0 left_base\n",
      "984.0 right_base\n",
      "640 midpoint\n",
      "456.0 left_base\n",
      "982.0 right_base\n"
     ]
    },
    {
     "name": "stderr",
     "output_type": "stream",
     "text": [
      "t:  53%|█████▎    | 662/1260 [02:44<02:18,  4.31it/s, now=None]"
     ]
    },
    {
     "name": "stdout",
     "output_type": "stream",
     "text": [
      "640 midpoint\n",
      "452.0 left_base\n",
      "987.0 right_base\n",
      "640 midpoint\n",
      "450.0 left_base\n",
      "989.0 right_base\n"
     ]
    },
    {
     "name": "stderr",
     "output_type": "stream",
     "text": [
      "t:  53%|█████▎    | 664/1260 [02:44<02:22,  4.18it/s, now=None]"
     ]
    },
    {
     "name": "stdout",
     "output_type": "stream",
     "text": [
      "640 midpoint\n",
      "451.0 left_base\n",
      "989.0 right_base\n",
      "640 midpoint\n",
      "451.0 left_base\n",
      "990.0 right_base\n"
     ]
    },
    {
     "name": "stderr",
     "output_type": "stream",
     "text": [
      "t:  53%|█████▎    | 666/1260 [02:45<02:57,  3.34it/s, now=None]"
     ]
    },
    {
     "name": "stdout",
     "output_type": "stream",
     "text": [
      "640 midpoint\n",
      "455.0 left_base\n",
      "988.0 right_base\n",
      "640"
     ]
    },
    {
     "name": "stderr",
     "output_type": "stream",
     "text": [
      "\r",
      "t:  53%|█████▎    | 667/1260 [02:45<03:04,  3.22it/s, now=None]"
     ]
    },
    {
     "name": "stdout",
     "output_type": "stream",
     "text": [
      " midpoint\n",
      "457.0 left_base\n",
      "987.0 right_base\n",
      "640 midpoint\n",
      "459.0 left_base\n",
      "982.0 right_base\n"
     ]
    },
    {
     "name": "stderr",
     "output_type": "stream",
     "text": [
      "t:  53%|█████▎    | 669/1260 [02:46<03:11,  3.08it/s, now=None]"
     ]
    },
    {
     "name": "stdout",
     "output_type": "stream",
     "text": [
      "640 midpoint\n",
      "457.0 left_base\n",
      "989.0 right_base\n",
      "640"
     ]
    },
    {
     "name": "stderr",
     "output_type": "stream",
     "text": [
      "\r",
      "t:  53%|█████▎    | 670/1260 [02:46<03:26,  2.86it/s, now=None]"
     ]
    },
    {
     "name": "stdout",
     "output_type": "stream",
     "text": [
      " midpoint\n",
      "457.0 left_base\n",
      "988.0 right_base\n",
      "640 midpoint\n",
      "457.0 left_base\n",
      "991.0 right_base\n"
     ]
    },
    {
     "name": "stderr",
     "output_type": "stream",
     "text": [
      "t:  53%|█████▎    | 672/1260 [02:47<03:30,  2.80it/s, now=None]"
     ]
    },
    {
     "name": "stdout",
     "output_type": "stream",
     "text": [
      "640 midpoint\n",
      "456.0 left_base\n",
      "986.0 right_base\n",
      "640 midpoint\n",
      "460.0 left_base\n",
      "981.0 right_base\n"
     ]
    },
    {
     "name": "stderr",
     "output_type": "stream",
     "text": [
      "t:  53%|█████▎    | 674/1260 [02:48<03:27,  2.83it/s, now=None]"
     ]
    },
    {
     "name": "stdout",
     "output_type": "stream",
     "text": [
      "640 midpoint\n",
      "459.0 left_base\n",
      "989.0 right_base\n",
      "640"
     ]
    },
    {
     "name": "stderr",
     "output_type": "stream",
     "text": [
      "\r",
      "t:  54%|█████▎    | 675/1260 [02:48<03:34,  2.72it/s, now=None]"
     ]
    },
    {
     "name": "stdout",
     "output_type": "stream",
     "text": [
      " midpoint\n",
      "460.0 left_base\n",
      "986.0 right_base\n",
      "640 midpoint\n",
      "461.0 left_base"
     ]
    },
    {
     "name": "stderr",
     "output_type": "stream",
     "text": [
      "\r",
      "t:  54%|█████▎    | 676/1260 [02:49<03:31,  2.76it/s, now=None]"
     ]
    },
    {
     "name": "stdout",
     "output_type": "stream",
     "text": [
      "\n",
      "986.0 right_base\n",
      "640 midpoint\n",
      "463.0 left_base\n",
      "985.0 right_base\n"
     ]
    },
    {
     "name": "stderr",
     "output_type": "stream",
     "text": [
      "t:  54%|█████▍    | 678/1260 [02:49<03:34,  2.72it/s, now=None]"
     ]
    },
    {
     "name": "stdout",
     "output_type": "stream",
     "text": [
      "640 midpoint\n",
      "464.0 left_base\n",
      "985.0 right_base\n",
      "640 midpoint\n",
      "462.0 left_base\n",
      "986.0 right_base\n"
     ]
    },
    {
     "name": "stderr",
     "output_type": "stream",
     "text": [
      "t:  54%|█████▍    | 680/1260 [02:50<03:29,  2.77it/s, now=None]"
     ]
    },
    {
     "name": "stdout",
     "output_type": "stream",
     "text": [
      "640 midpoint\n",
      "463.0 left_base\n",
      "979.0 right_base\n",
      "640 midpoint\n",
      "461.0 left_base\n",
      "983.0 right_base\n"
     ]
    },
    {
     "name": "stderr",
     "output_type": "stream",
     "text": [
      "t:  54%|█████▍    | 682/1260 [02:51<03:42,  2.60it/s, now=None]"
     ]
    },
    {
     "name": "stdout",
     "output_type": "stream",
     "text": [
      "640 midpoint\n",
      "461.0 left_base\n",
      "983.0 right_base\n",
      "640 midpoint\n",
      "460.0 left_base\n",
      "983.0 right_base\n"
     ]
    },
    {
     "name": "stderr",
     "output_type": "stream",
     "text": [
      "t:  54%|█████▍    | 684/1260 [02:52<03:35,  2.67it/s, now=None]"
     ]
    },
    {
     "name": "stdout",
     "output_type": "stream",
     "text": [
      "640 midpoint\n",
      "459.0 left_base\n",
      "984.0 right_base\n",
      "640"
     ]
    },
    {
     "name": "stderr",
     "output_type": "stream",
     "text": [
      "\r",
      "t:  54%|█████▍    | 685/1260 [02:52<03:31,  2.72it/s, now=None]"
     ]
    },
    {
     "name": "stdout",
     "output_type": "stream",
     "text": [
      " midpoint\n",
      "456.0 left_base\n",
      "980.0 right_base\n",
      "640 "
     ]
    },
    {
     "name": "stderr",
     "output_type": "stream",
     "text": [
      "\r",
      "t:  54%|█████▍    | 686/1260 [02:52<03:36,  2.65it/s, now=None]"
     ]
    },
    {
     "name": "stdout",
     "output_type": "stream",
     "text": [
      "midpoint\n",
      "457.0 left_base\n",
      "982.0 right_base\n",
      "640"
     ]
    },
    {
     "name": "stderr",
     "output_type": "stream",
     "text": [
      "\r",
      "t:  55%|█████▍    | 687/1260 [02:53<03:31,  2.70it/s, now=None]"
     ]
    },
    {
     "name": "stdout",
     "output_type": "stream",
     "text": [
      " midpoint\n",
      "459.0 left_base\n",
      "980.0 right_base\n",
      "640 midpoint\n",
      "460.0 left_base\n",
      "981.0 right_base\n"
     ]
    },
    {
     "name": "stderr",
     "output_type": "stream",
     "text": [
      "t:  55%|█████▍    | 689/1260 [02:53<03:10,  3.00it/s, now=None]"
     ]
    },
    {
     "name": "stdout",
     "output_type": "stream",
     "text": [
      "640 midpoint\n",
      "456.0 left_base\n",
      "984.0 right_base\n",
      "640 midpoint\n",
      "452.0 left_base\n",
      "990.0 right_base\n"
     ]
    },
    {
     "name": "stderr",
     "output_type": "stream",
     "text": [
      "t:  55%|█████▍    | 691/1260 [02:54<02:55,  3.25it/s, now=None]"
     ]
    },
    {
     "name": "stdout",
     "output_type": "stream",
     "text": [
      "640 midpoint\n",
      "454.0 left_base\n",
      "989.0 right_base\n",
      "640 midpoint\n",
      "450.0 left_base\n",
      "987.0 right_base\n"
     ]
    },
    {
     "name": "stderr",
     "output_type": "stream",
     "text": [
      "t:  55%|█████▌    | 693/1260 [02:54<02:45,  3.43it/s, now=None]"
     ]
    },
    {
     "name": "stdout",
     "output_type": "stream",
     "text": [
      "640 midpoint\n",
      "453.0 left_base\n",
      "981.0 right_base\n",
      "640 midpoint\n",
      "452.0 left_base\n",
      "983.0 right_base\n"
     ]
    },
    {
     "name": "stderr",
     "output_type": "stream",
     "text": [
      "t:  55%|█████▌    | 695/1260 [02:55<02:49,  3.34it/s, now=None]"
     ]
    },
    {
     "name": "stdout",
     "output_type": "stream",
     "text": [
      "640 midpoint\n",
      "450.0 left_base\n",
      "985.0 right_base\n",
      "640 midpoint\n",
      "450.0 left_base\n",
      "981.0 right_base\n"
     ]
    },
    {
     "name": "stderr",
     "output_type": "stream",
     "text": [
      "t:  55%|█████▌    | 697/1260 [02:56<02:43,  3.45it/s, now=None]"
     ]
    },
    {
     "name": "stdout",
     "output_type": "stream",
     "text": [
      "640 midpoint\n",
      "449.0 left_base\n",
      "982.0 right_base\n",
      "640 midpoint\n",
      "451.0 left_base\n",
      "974.0 right_base\n"
     ]
    },
    {
     "name": "stderr",
     "output_type": "stream",
     "text": [
      "t:  55%|█████▌    | 699/1260 [02:56<02:48,  3.34it/s, now=None]"
     ]
    },
    {
     "name": "stdout",
     "output_type": "stream",
     "text": [
      "640 midpoint\n",
      "452.0 left_base\n",
      "975.0 right_base\n",
      "640 midpoint\n",
      "456.0 left_base\n",
      "974.0 right_base\n"
     ]
    },
    {
     "name": "stderr",
     "output_type": "stream",
     "text": [
      "t:  56%|█████▌    | 701/1260 [02:57<02:38,  3.52it/s, now=None]"
     ]
    },
    {
     "name": "stdout",
     "output_type": "stream",
     "text": [
      "640 midpoint\n",
      "460.0 left_base\n",
      "974.0 right_base\n",
      "640 midpoint\n",
      "463.0 left_base\n",
      "971.0 right_base\n"
     ]
    },
    {
     "name": "stderr",
     "output_type": "stream",
     "text": [
      "t:  56%|█████▌    | 703/1260 [02:57<02:28,  3.76it/s, now=None]"
     ]
    },
    {
     "name": "stdout",
     "output_type": "stream",
     "text": [
      "640 midpoint\n",
      "462.0 left_base\n",
      "972.0 right_base\n",
      "640 midpoint\n",
      "462.0 left_base\n",
      "972.0 right_base\n"
     ]
    },
    {
     "name": "stderr",
     "output_type": "stream",
     "text": [
      "t:  56%|█████▌    | 705/1260 [02:58<02:21,  3.93it/s, now=None]"
     ]
    },
    {
     "name": "stdout",
     "output_type": "stream",
     "text": [
      "640 midpoint\n",
      "462.0 left_base\n",
      "969.0 right_base\n",
      "640 midpoint\n",
      "464.0 left_base\n",
      "971.0 right_base\n"
     ]
    },
    {
     "name": "stderr",
     "output_type": "stream",
     "text": [
      "t:  56%|█████▌    | 707/1260 [02:58<02:19,  3.98it/s, now=None]"
     ]
    },
    {
     "name": "stdout",
     "output_type": "stream",
     "text": [
      "640 midpoint\n",
      "462.0 left_base\n",
      "974.0 right_base\n",
      "640 midpoint\n",
      "461.0 left_base\n",
      "972.0 right_base\n"
     ]
    },
    {
     "name": "stderr",
     "output_type": "stream",
     "text": [
      "t:  56%|█████▋    | 709/1260 [02:59<02:16,  4.05it/s, now=None]"
     ]
    },
    {
     "name": "stdout",
     "output_type": "stream",
     "text": [
      "640 midpoint\n",
      "460.0 left_base\n",
      "969.0 right_base\n",
      "640 midpoint\n",
      "462.0 left_base\n",
      "970.0 right_base\n"
     ]
    },
    {
     "name": "stderr",
     "output_type": "stream",
     "text": [
      "t:  56%|█████▋    | 711/1260 [02:59<02:15,  4.06it/s, now=None]"
     ]
    },
    {
     "name": "stdout",
     "output_type": "stream",
     "text": [
      "640 midpoint\n",
      "461.0 left_base\n",
      "970.0 right_base\n",
      "640 midpoint\n",
      "461.0 left_base\n",
      "971.0 right_base\n"
     ]
    },
    {
     "name": "stderr",
     "output_type": "stream",
     "text": [
      "t:  57%|█████▋    | 713/1260 [03:00<02:15,  4.02it/s, now=None]"
     ]
    },
    {
     "name": "stdout",
     "output_type": "stream",
     "text": [
      "640 midpoint\n",
      "458.0 left_base\n",
      "974.0 right_base\n",
      "640 midpoint\n",
      "457.0 left_base\n",
      "976.0 right_base\n"
     ]
    },
    {
     "name": "stderr",
     "output_type": "stream",
     "text": [
      "t:  57%|█████▋    | 715/1260 [03:00<02:23,  3.80it/s, now=None]"
     ]
    },
    {
     "name": "stdout",
     "output_type": "stream",
     "text": [
      "640 midpoint\n",
      "461.0 left_base\n",
      "974.0 right_base\n",
      "640 midpoint\n",
      "464.0 left_base\n",
      "974.0 "
     ]
    },
    {
     "name": "stderr",
     "output_type": "stream",
     "text": [
      "\r",
      "t:  57%|█████▋    | 716/1260 [03:01<02:23,  3.80it/s, now=None]"
     ]
    },
    {
     "name": "stdout",
     "output_type": "stream",
     "text": [
      "right_base\n",
      "640 midpoint\n",
      "464.0 left_base\n",
      "970.0 right_base\n"
     ]
    },
    {
     "name": "stderr",
     "output_type": "stream",
     "text": [
      "t:  57%|█████▋    | 718/1260 [03:01<02:28,  3.65it/s, now=None]"
     ]
    },
    {
     "name": "stdout",
     "output_type": "stream",
     "text": [
      "640 midpoint\n",
      "462.0 left_base\n",
      "978.0 right_base\n",
      "640 midpoint\n",
      "461.0 left_base\n",
      "982.0 right_base\n"
     ]
    },
    {
     "name": "stderr",
     "output_type": "stream",
     "text": [
      "t:  57%|█████▋    | 720/1260 [03:02<02:14,  4.00it/s, now=None]"
     ]
    },
    {
     "name": "stdout",
     "output_type": "stream",
     "text": [
      "640 midpoint\n",
      "462.0 left_base\n",
      "982.0 right_base\n",
      "640 midpoint\n",
      "461.0 left_base\n",
      "985.0 right_base\n"
     ]
    },
    {
     "name": "stderr",
     "output_type": "stream",
     "text": [
      "t:  57%|█████▋    | 722/1260 [03:02<02:13,  4.04it/s, now=None]"
     ]
    },
    {
     "name": "stdout",
     "output_type": "stream",
     "text": [
      "640 midpoint\n",
      "462.0 left_base\n",
      "981.0 right_base\n",
      "640 midpoint\n",
      "461.0 left_base\n",
      "988.0 right_base\n"
     ]
    },
    {
     "name": "stderr",
     "output_type": "stream",
     "text": [
      "t:  57%|█████▋    | 724/1260 [03:03<02:08,  4.16it/s, now=None]"
     ]
    },
    {
     "name": "stdout",
     "output_type": "stream",
     "text": [
      "640 midpoint\n",
      "461.0 left_base\n",
      "992.0 right_base\n",
      "640 midpoint\n",
      "461.0 left_base\n",
      "993.0 right_base\n"
     ]
    },
    {
     "name": "stderr",
     "output_type": "stream",
     "text": [
      "t:  58%|█████▊    | 726/1260 [03:03<02:09,  4.14it/s, now=None]"
     ]
    },
    {
     "name": "stdout",
     "output_type": "stream",
     "text": [
      "640 midpoint\n",
      "460.0 left_base\n",
      "999.0 right_base\n",
      "640 midpoint\n",
      "462.0 left_base\n",
      "1000.0 right_base\n"
     ]
    },
    {
     "name": "stderr",
     "output_type": "stream",
     "text": [
      "t:  58%|█████▊    | 728/1260 [03:04<02:09,  4.12it/s, now=None]"
     ]
    },
    {
     "name": "stdout",
     "output_type": "stream",
     "text": [
      "640 midpoint\n",
      "463.0 left_base\n",
      "1002.0 right_base\n",
      "640 midpoint\n",
      "464.0 left_base\n",
      "999.0 right_base\n"
     ]
    },
    {
     "name": "stderr",
     "output_type": "stream",
     "text": [
      "t:  58%|█████▊    | 730/1260 [03:04<02:10,  4.06it/s, now=None]"
     ]
    },
    {
     "name": "stdout",
     "output_type": "stream",
     "text": [
      "640 midpoint\n",
      "466.0 left_base\n",
      "994.0 right_base\n",
      "640 "
     ]
    },
    {
     "name": "stderr",
     "output_type": "stream",
     "text": [
      "\r",
      "t:  58%|█████▊    | 731/1260 [03:04<02:10,  4.05it/s, now=None]"
     ]
    },
    {
     "name": "stdout",
     "output_type": "stream",
     "text": [
      "midpoint\n",
      "467.0 left_base\n",
      "1002.0 right_base\n",
      "640 midpoint\n",
      "471.0 left_base\n",
      "1005.0 right_base\n"
     ]
    },
    {
     "name": "stderr",
     "output_type": "stream",
     "text": [
      "t:  58%|█████▊    | 733/1260 [03:05<02:05,  4.20it/s, now=None]"
     ]
    },
    {
     "name": "stdout",
     "output_type": "stream",
     "text": [
      "640 midpoint\n",
      "475.0 left_base\n",
      "999.0 right_base\n",
      "640 midpoint\n",
      "480.0 left_base\n",
      "992.0 right_base\n"
     ]
    },
    {
     "name": "stderr",
     "output_type": "stream",
     "text": [
      "t:  58%|█████▊    | 735/1260 [03:05<02:02,  4.29it/s, now=None]"
     ]
    },
    {
     "name": "stdout",
     "output_type": "stream",
     "text": [
      "640 midpoint\n",
      "480.0 left_base\n",
      "995.0 right_base\n",
      "640 midpoint\n",
      "481.0 left_base\n",
      "997.0 right_base\n"
     ]
    },
    {
     "name": "stderr",
     "output_type": "stream",
     "text": [
      "t:  58%|█████▊    | 737/1260 [03:06<01:59,  4.36it/s, now=None]"
     ]
    },
    {
     "name": "stdout",
     "output_type": "stream",
     "text": [
      "640 midpoint\n",
      "484.0 left_base\n",
      "999.0 right_base\n",
      "640 midpoint\n",
      "484.0 left_base\n",
      "1001.0 right_base\n"
     ]
    },
    {
     "name": "stderr",
     "output_type": "stream",
     "text": [
      "t:  59%|█████▊    | 739/1260 [03:06<02:04,  4.20it/s, now=None]"
     ]
    },
    {
     "name": "stdout",
     "output_type": "stream",
     "text": [
      "640 midpoint\n",
      "488.0 left_base\n",
      "1000.0 right_base\n",
      "640 midpoint\n",
      "486.0 left_base\n",
      "1003.0 right_base\n"
     ]
    },
    {
     "name": "stderr",
     "output_type": "stream",
     "text": [
      "t:  59%|█████▉    | 741/1260 [03:07<02:00,  4.30it/s, now=None]"
     ]
    },
    {
     "name": "stdout",
     "output_type": "stream",
     "text": [
      "640 midpoint\n",
      "489.0 left_base\n",
      "987.0 right_base\n",
      "640 midpoint\n",
      "488.0 left_base\n",
      "998.0 right_base\n"
     ]
    },
    {
     "name": "stderr",
     "output_type": "stream",
     "text": [
      "t:  59%|█████▉    | 743/1260 [03:07<02:05,  4.13it/s, now=None]"
     ]
    },
    {
     "name": "stdout",
     "output_type": "stream",
     "text": [
      "640 midpoint\n",
      "491.0 left_base\n",
      "999.0 right_base\n",
      "640 midpoint\n",
      "492.0 left_base\n",
      "997.0 right_base\n"
     ]
    },
    {
     "name": "stderr",
     "output_type": "stream",
     "text": [
      "t:  59%|█████▉    | 745/1260 [03:08<02:05,  4.10it/s, now=None]"
     ]
    },
    {
     "name": "stdout",
     "output_type": "stream",
     "text": [
      "640 midpoint\n",
      "495.0 left_base\n",
      "993.0 right_base\n",
      "640 midpoint\n",
      "495.0 left_base\n",
      "994.0 right_base\n"
     ]
    },
    {
     "name": "stderr",
     "output_type": "stream",
     "text": [
      "t:  59%|█████▉    | 747/1260 [03:08<02:06,  4.06it/s, now=None]"
     ]
    },
    {
     "name": "stdout",
     "output_type": "stream",
     "text": [
      "640 midpoint\n",
      "494.0 left_base\n",
      "999.0 right_base\n",
      "640 midpoint\n",
      "494.0 left_base\n",
      "1004.0 right_base\n"
     ]
    },
    {
     "name": "stderr",
     "output_type": "stream",
     "text": [
      "t:  59%|█████▉    | 749/1260 [03:09<02:07,  4.02it/s, now=None]"
     ]
    },
    {
     "name": "stdout",
     "output_type": "stream",
     "text": [
      "640 midpoint\n",
      "494.0 left_base\n",
      "1009.0 right_base\n",
      "640"
     ]
    },
    {
     "name": "stderr",
     "output_type": "stream",
     "text": [
      "\r",
      "t:  60%|█████▉    | 750/1260 [03:09<02:06,  4.04it/s, now=None]"
     ]
    },
    {
     "name": "stdout",
     "output_type": "stream",
     "text": [
      " midpoint\n",
      "494.0 left_base\n",
      "1012.0 right_base\n",
      "640 midpoint\n",
      "497.0 left_base\n",
      "1016.0 right_base\n"
     ]
    },
    {
     "name": "stderr",
     "output_type": "stream",
     "text": [
      "t:  60%|█████▉    | 752/1260 [03:09<02:01,  4.17it/s, now=None]"
     ]
    },
    {
     "name": "stdout",
     "output_type": "stream",
     "text": [
      "640 midpoint\n",
      "498.0 left_base\n",
      "1019.0 right_base\n",
      "640 midpoint\n",
      "497.0 left_base\n",
      "1011.0 right_base\n"
     ]
    },
    {
     "name": "stderr",
     "output_type": "stream",
     "text": [
      "t:  60%|█████▉    | 754/1260 [03:10<01:57,  4.30it/s, now=None]"
     ]
    },
    {
     "name": "stdout",
     "output_type": "stream",
     "text": [
      "640 midpoint\n",
      "499.0 left_base\n",
      "1014.0 right_base\n",
      "640 midpoint\n",
      "503.0 left_base\n",
      "1015.0 right_base\n"
     ]
    },
    {
     "name": "stderr",
     "output_type": "stream",
     "text": [
      "t:  60%|██████    | 756/1260 [03:10<01:55,  4.38it/s, now=None]"
     ]
    },
    {
     "name": "stdout",
     "output_type": "stream",
     "text": [
      "640 midpoint\n",
      "505.0 left_base\n",
      "1019.0 right_base\n",
      "640 midpoint\n",
      "504.0 left_base\n",
      "1021.0 right_base\n"
     ]
    },
    {
     "name": "stderr",
     "output_type": "stream",
     "text": [
      "t:  60%|██████    | 758/1260 [03:11<01:59,  4.19it/s, now=None]"
     ]
    },
    {
     "name": "stdout",
     "output_type": "stream",
     "text": [
      "640 midpoint\n",
      "503.0 left_base\n",
      "1016.0 right_base\n",
      "640 midpoint\n",
      "503.0 left_base\n",
      "1019.0 right_base\n"
     ]
    },
    {
     "name": "stderr",
     "output_type": "stream",
     "text": [
      "t:  60%|██████    | 760/1260 [03:11<02:01,  4.13it/s, now=None]"
     ]
    },
    {
     "name": "stdout",
     "output_type": "stream",
     "text": [
      "640 midpoint\n",
      "502.0 left_base\n",
      "1020.0 right_base\n",
      "640 midpoint\n",
      "503.0 left_base\n",
      "1021.0 right_base\n"
     ]
    },
    {
     "name": "stderr",
     "output_type": "stream",
     "text": [
      "t:  60%|██████    | 762/1260 [03:12<01:56,  4.27it/s, now=None]"
     ]
    },
    {
     "name": "stdout",
     "output_type": "stream",
     "text": [
      "640 midpoint\n",
      "504.0 left_base\n",
      "1022.0 right_base\n",
      "640 midpoint\n",
      "500.0 left_base\n",
      "1022.0 right_base\n"
     ]
    },
    {
     "name": "stderr",
     "output_type": "stream",
     "text": [
      "t:  61%|██████    | 764/1260 [03:12<01:53,  4.37it/s, now=None]"
     ]
    },
    {
     "name": "stdout",
     "output_type": "stream",
     "text": [
      "640 midpoint\n",
      "498.0 left_base\n",
      "1027.0 right_base\n",
      "640 midpoint\n",
      "495.0 left_base\n",
      "1020.0 right_base\n"
     ]
    },
    {
     "name": "stderr",
     "output_type": "stream",
     "text": [
      "t:  61%|██████    | 766/1260 [03:13<01:55,  4.27it/s, now=None]"
     ]
    },
    {
     "name": "stdout",
     "output_type": "stream",
     "text": [
      "640 midpoint\n",
      "493.0 left_base\n",
      "1017.0 right_base\n",
      "640 midpoint\n",
      "494.0 left_base\n",
      "1025.0 right_base\n"
     ]
    },
    {
     "name": "stderr",
     "output_type": "stream",
     "text": [
      "t:  61%|██████    | 768/1260 [03:13<01:51,  4.40it/s, now=None]"
     ]
    },
    {
     "name": "stdout",
     "output_type": "stream",
     "text": [
      "640 midpoint\n",
      "492.0 left_base\n",
      "1027.0 right_base\n",
      "640 midpoint\n",
      "494.0 left_base\n",
      "1027.0 right_base\n"
     ]
    },
    {
     "name": "stderr",
     "output_type": "stream",
     "text": [
      "t:  61%|██████    | 770/1260 [03:14<01:56,  4.21it/s, now=None]"
     ]
    },
    {
     "name": "stdout",
     "output_type": "stream",
     "text": [
      "640 midpoint\n",
      "497.0 left_base\n",
      "1012.0 right_base\n",
      "640 midpoint\n",
      "499.0 left_base\n",
      "1015.0 right_base\n"
     ]
    },
    {
     "name": "stderr",
     "output_type": "stream",
     "text": [
      "t:  61%|██████▏   | 772/1260 [03:14<01:53,  4.29it/s, now=None]"
     ]
    },
    {
     "name": "stdout",
     "output_type": "stream",
     "text": [
      "640 midpoint\n",
      "499.0 left_base\n",
      "1016.0 right_base\n",
      "640 midpoint\n",
      "497.0 left_base\n",
      "1019.0 right_base\n"
     ]
    },
    {
     "name": "stderr",
     "output_type": "stream",
     "text": [
      "t:  61%|██████▏   | 774/1260 [03:15<01:57,  4.14it/s, now=None]"
     ]
    },
    {
     "name": "stdout",
     "output_type": "stream",
     "text": [
      "640 midpoint\n",
      "497.0 left_base\n",
      "1021.0 right_base\n",
      "640 midpoint\n",
      "497.0 left_base\n",
      "1020.0 right_base\n"
     ]
    },
    {
     "name": "stderr",
     "output_type": "stream",
     "text": [
      "t:  62%|██████▏   | 776/1260 [03:15<01:58,  4.08it/s, now=None]"
     ]
    },
    {
     "name": "stdout",
     "output_type": "stream",
     "text": [
      "640 midpoint\n",
      "497.0 left_base\n",
      "1022.0 right_base\n",
      "640 midpoint\n",
      "500.0 left_base\n",
      "1006.0 right_base\n"
     ]
    },
    {
     "name": "stderr",
     "output_type": "stream",
     "text": [
      "t:  62%|██████▏   | 778/1260 [03:16<01:59,  4.05it/s, now=None]"
     ]
    },
    {
     "name": "stdout",
     "output_type": "stream",
     "text": [
      "640 midpoint\n",
      "501.0 left_base\n",
      "1011.0 right_base\n",
      "640 midpoint\n",
      "504.0 left_base\n",
      "1011.0 right_base\n"
     ]
    },
    {
     "name": "stderr",
     "output_type": "stream",
     "text": [
      "t:  62%|██████▏   | 780/1260 [03:16<02:06,  3.79it/s, now=None]"
     ]
    },
    {
     "name": "stdout",
     "output_type": "stream",
     "text": [
      "640 midpoint\n",
      "505.0 left_base\n",
      "1016.0 right_base\n",
      "640"
     ]
    },
    {
     "name": "stderr",
     "output_type": "stream",
     "text": [
      "\r",
      "t:  62%|██████▏   | 781/1260 [03:16<02:04,  3.84it/s, now=None]"
     ]
    },
    {
     "name": "stdout",
     "output_type": "stream",
     "text": [
      " midpoint\n",
      "504.0 left_base\n",
      "1009.0 right_base\n",
      "640 midpoint\n",
      "501.0 left_base\n",
      "1006.0 right_base\n"
     ]
    },
    {
     "name": "stderr",
     "output_type": "stream",
     "text": [
      "t:  62%|██████▏   | 783/1260 [03:17<02:08,  3.71it/s, now=None]"
     ]
    },
    {
     "name": "stdout",
     "output_type": "stream",
     "text": [
      "640 midpoint\n",
      "498.0 left_base\n",
      "1013.0 right_base\n",
      "640 midpoint\n",
      "497.0 left_base\n",
      "1015.0 right_base\n"
     ]
    },
    {
     "name": "stderr",
     "output_type": "stream",
     "text": [
      "t:  62%|██████▏   | 785/1260 [03:17<02:10,  3.64it/s, now=None]"
     ]
    },
    {
     "name": "stdout",
     "output_type": "stream",
     "text": [
      "640 midpoint\n",
      "494.0 left_base\n",
      "1016.0 right_base\n",
      "640 midpoint\n",
      "491.0 left_base\n",
      "1016.0 right_base\n"
     ]
    },
    {
     "name": "stderr",
     "output_type": "stream",
     "text": [
      "t:  62%|██████▏   | 787/1260 [03:18<02:16,  3.47it/s, now=None]"
     ]
    },
    {
     "name": "stdout",
     "output_type": "stream",
     "text": [
      "640 midpoint\n",
      "493.0 left_base\n",
      "1017.0 right_base\n",
      "640 midpoint\n",
      "491.0 left_base\n",
      "1017.0 right_base\n"
     ]
    },
    {
     "name": "stderr",
     "output_type": "stream",
     "text": [
      "t:  63%|██████▎   | 789/1260 [03:19<02:10,  3.61it/s, now=None]"
     ]
    },
    {
     "name": "stdout",
     "output_type": "stream",
     "text": [
      "640 midpoint\n",
      "492.0 left_base\n",
      "1000.0 right_base\n",
      "640 midpoint\n",
      "494.0 left_base\n",
      "1008.0 right_base\n"
     ]
    },
    {
     "name": "stderr",
     "output_type": "stream",
     "text": [
      "t:  63%|██████▎   | 791/1260 [03:19<01:58,  3.96it/s, now=None]"
     ]
    },
    {
     "name": "stdout",
     "output_type": "stream",
     "text": [
      "640 midpoint\n",
      "494.0 left_base\n",
      "1012.0 right_base\n",
      "640 midpoint\n",
      "494.0 left_base\n",
      "1015.0 right_base\n"
     ]
    },
    {
     "name": "stderr",
     "output_type": "stream",
     "text": [
      "t:  63%|██████▎   | 793/1260 [03:20<02:06,  3.68it/s, now=None]"
     ]
    },
    {
     "name": "stdout",
     "output_type": "stream",
     "text": [
      "640 midpoint\n",
      "492.0 left_base\n",
      "996.0 right_base\n",
      "640 midpoint\n",
      "494.0 left_base\n",
      "1006.0 right_base\n"
     ]
    },
    {
     "name": "stderr",
     "output_type": "stream",
     "text": [
      "t:  63%|██████▎   | 795/1260 [03:20<02:02,  3.80it/s, now=None]"
     ]
    },
    {
     "name": "stdout",
     "output_type": "stream",
     "text": [
      "640 midpoint\n",
      "494.0 left_base\n",
      "1007.0 right_base\n",
      "640 midpoint\n",
      "497.0 left_base\n",
      "1005.0 right_base\n"
     ]
    },
    {
     "name": "stderr",
     "output_type": "stream",
     "text": [
      "t:  63%|██████▎   | 797/1260 [03:21<02:03,  3.75it/s, now=None]"
     ]
    },
    {
     "name": "stdout",
     "output_type": "stream",
     "text": [
      "640 midpoint\n",
      "499.0 left_base\n",
      "1006.0 right_base\n",
      "640 midpoint\n",
      "497.0 left_base\n",
      "1004.0 right_base\n"
     ]
    },
    {
     "name": "stderr",
     "output_type": "stream",
     "text": [
      "t:  63%|██████▎   | 799/1260 [03:21<02:17,  3.36it/s, now=None]"
     ]
    },
    {
     "name": "stdout",
     "output_type": "stream",
     "text": [
      "640 midpoint\n",
      "496.0 left_base\n",
      "1005.0 right_base\n",
      "640 midpoint\n",
      "490.0 left_base\n",
      "1010.0 right_base\n"
     ]
    },
    {
     "name": "stderr",
     "output_type": "stream",
     "text": [
      "t:  64%|██████▎   | 801/1260 [03:22<02:10,  3.51it/s, now=None]"
     ]
    },
    {
     "name": "stdout",
     "output_type": "stream",
     "text": [
      "640 midpoint\n",
      "487.0 left_base\n",
      "995.0 right_base\n",
      "640 midpoint\n",
      "483.0 left_base\n",
      "1009.0 right_base\n"
     ]
    },
    {
     "name": "stderr",
     "output_type": "stream",
     "text": [
      "t:  64%|██████▎   | 803/1260 [03:22<02:01,  3.76it/s, now=None]"
     ]
    },
    {
     "name": "stdout",
     "output_type": "stream",
     "text": [
      "640 midpoint\n",
      "480.0 left_base\n",
      "1009.0 right_base\n",
      "640 midpoint\n",
      "478.0 left_base\n",
      "1012.0 right_base\n"
     ]
    },
    {
     "name": "stderr",
     "output_type": "stream",
     "text": [
      "t:  64%|██████▍   | 805/1260 [03:23<01:51,  4.07it/s, now=None]"
     ]
    },
    {
     "name": "stdout",
     "output_type": "stream",
     "text": [
      "640 midpoint\n",
      "480.0 left_base\n",
      "986.0 right_base\n",
      "640 midpoint\n",
      "481.0 left_base\n",
      "991.0 right_base\n"
     ]
    },
    {
     "name": "stderr",
     "output_type": "stream",
     "text": [
      "t:  64%|██████▍   | 807/1260 [03:23<01:53,  3.98it/s, now=None]"
     ]
    },
    {
     "name": "stdout",
     "output_type": "stream",
     "text": [
      "640 midpoint\n",
      "479.0 left_base\n",
      "992.0 right_base\n",
      "640 midpoint\n",
      "477.0 left_base\n",
      "993.0 right_base\n"
     ]
    },
    {
     "name": "stderr",
     "output_type": "stream",
     "text": [
      "t:  64%|██████▍   | 809/1260 [03:24<01:51,  4.03it/s, now=None]"
     ]
    },
    {
     "name": "stdout",
     "output_type": "stream",
     "text": [
      "640 midpoint\n",
      "478.0 left_base\n",
      "992.0 right_base\n",
      "640 midpoint\n",
      "472.0 left_base\n",
      "996.0 right_base\n"
     ]
    },
    {
     "name": "stderr",
     "output_type": "stream",
     "text": [
      "t:  64%|██████▍   | 811/1260 [03:24<01:48,  4.14it/s, now=None]"
     ]
    },
    {
     "name": "stdout",
     "output_type": "stream",
     "text": [
      "640 midpoint\n",
      "467.0 left_base\n",
      "998.0 right_base\n",
      "640 midpoint\n",
      "464.0 left_base\n",
      "1001.0 right_base\n"
     ]
    },
    {
     "name": "stderr",
     "output_type": "stream",
     "text": [
      "t:  65%|██████▍   | 813/1260 [03:25<01:58,  3.77it/s, now=None]"
     ]
    },
    {
     "name": "stdout",
     "output_type": "stream",
     "text": [
      "640 midpoint\n",
      "457.0 left_base\n",
      "993.0 right_base\n",
      "640 midpoint\n",
      "454.0 left_base\n",
      "994.0 right_base\n"
     ]
    },
    {
     "name": "stderr",
     "output_type": "stream",
     "text": [
      "t:  65%|██████▍   | 815/1260 [03:25<01:55,  3.86it/s, now=None]"
     ]
    },
    {
     "name": "stdout",
     "output_type": "stream",
     "text": [
      "640 midpoint\n",
      "451.0 left_base\n",
      "998.0 right_base\n",
      "640 midpoint\n",
      "450.0 left_base\n",
      "991.0 right_base\n"
     ]
    },
    {
     "name": "stderr",
     "output_type": "stream",
     "text": [
      "t:  65%|██████▍   | 817/1260 [03:26<01:51,  3.97it/s, now=None]"
     ]
    },
    {
     "name": "stdout",
     "output_type": "stream",
     "text": [
      "640 midpoint\n",
      "453.0 left_base\n",
      "969.0 right_base\n",
      "640 midpoint\n",
      "459.0 left_base\n",
      "972.0 right_base\n"
     ]
    },
    {
     "name": "stderr",
     "output_type": "stream",
     "text": [
      "t:  65%|██████▌   | 819/1260 [03:26<01:47,  4.10it/s, now=None]"
     ]
    },
    {
     "name": "stdout",
     "output_type": "stream",
     "text": [
      "640 midpoint\n",
      "460.0 left_base\n",
      "972.0 right_base\n",
      "640"
     ]
    },
    {
     "name": "stderr",
     "output_type": "stream",
     "text": [
      "\r",
      "t:  65%|██████▌   | 820/1260 [03:27<01:53,  3.86it/s, now=None]"
     ]
    },
    {
     "name": "stdout",
     "output_type": "stream",
     "text": [
      " midpoint\n",
      "458.0 left_base\n",
      "973.0 right_base\n",
      "640 midpoint\n",
      "458.0 left_base\n",
      "977.0 right_base\n"
     ]
    },
    {
     "name": "stderr",
     "output_type": "stream",
     "text": [
      "t:  65%|██████▌   | 822/1260 [03:27<01:50,  3.97it/s, now=None]"
     ]
    },
    {
     "name": "stdout",
     "output_type": "stream",
     "text": [
      "640 midpoint\n",
      "455.0 left_base\n",
      "981.0 right_base\n",
      "640 midpoint\n",
      "452.0 left_base\n",
      "985.0 right_base\n"
     ]
    },
    {
     "name": "stderr",
     "output_type": "stream",
     "text": [
      "t:  65%|██████▌   | 824/1260 [03:28<01:44,  4.17it/s, now=None]"
     ]
    },
    {
     "name": "stdout",
     "output_type": "stream",
     "text": [
      "640 midpoint\n",
      "450.0 left_base\n",
      "979.0 right_base\n",
      "640 midpoint\n",
      "450.0 left_base\n",
      "972.0 right_base\n"
     ]
    },
    {
     "name": "stderr",
     "output_type": "stream",
     "text": [
      "t:  66%|██████▌   | 826/1260 [03:28<01:40,  4.33it/s, now=None]"
     ]
    },
    {
     "name": "stdout",
     "output_type": "stream",
     "text": [
      "640 midpoint\n",
      "450.0 left_base\n",
      "981.0 right_base\n",
      "640 midpoint\n",
      "452.0 left_base\n",
      "981.0 right_base\n"
     ]
    },
    {
     "name": "stderr",
     "output_type": "stream",
     "text": [
      "t:  66%|██████▌   | 828/1260 [03:28<01:38,  4.37it/s, now=None]"
     ]
    },
    {
     "name": "stdout",
     "output_type": "stream",
     "text": [
      "640 midpoint\n",
      "452.0 left_base\n",
      "978.0 right_base\n",
      "640 midpoint\n",
      "451.0 left_base\n",
      "972.0 right_base\n"
     ]
    },
    {
     "name": "stderr",
     "output_type": "stream",
     "text": [
      "t:  66%|██████▌   | 830/1260 [03:29<01:36,  4.45it/s, now=None]"
     ]
    },
    {
     "name": "stdout",
     "output_type": "stream",
     "text": [
      "640 midpoint\n",
      "450.0 left_base\n",
      "974.0 right_base\n",
      "640 midpoint\n",
      "447.0 left_base\n",
      "976.0 right_base\n"
     ]
    },
    {
     "name": "stderr",
     "output_type": "stream",
     "text": [
      "t:  66%|██████▌   | 832/1260 [03:29<01:44,  4.08it/s, now=None]"
     ]
    },
    {
     "name": "stdout",
     "output_type": "stream",
     "text": [
      "640 midpoint\n",
      "444.0 left_base\n",
      "977.0 right_base\n",
      "640 midpoint\n",
      "443.0 left_base\n",
      "979.0 right_base\n"
     ]
    },
    {
     "name": "stderr",
     "output_type": "stream",
     "text": [
      "t:  66%|██████▌   | 834/1260 [03:30<01:49,  3.87it/s, now=None]"
     ]
    },
    {
     "name": "stdout",
     "output_type": "stream",
     "text": [
      "640 midpoint\n",
      "441.0 left_base\n",
      "980.0 right_base\n",
      "640 midpoint\n",
      "437.0 left_base\n",
      "984.0 right_base\n"
     ]
    },
    {
     "name": "stderr",
     "output_type": "stream",
     "text": [
      "t:  66%|██████▋   | 836/1260 [03:30<01:42,  4.13it/s, now=None]"
     ]
    },
    {
     "name": "stdout",
     "output_type": "stream",
     "text": [
      "640 midpoint\n",
      "432.0 left_base\n",
      "983.0 right_base\n",
      "640 midpoint\n",
      "427.0 left_base\n",
      "977.0 right_base\n"
     ]
    },
    {
     "name": "stderr",
     "output_type": "stream",
     "text": [
      "t:  67%|██████▋   | 838/1260 [03:31<01:37,  4.33it/s, now=None]"
     ]
    },
    {
     "name": "stdout",
     "output_type": "stream",
     "text": [
      "640 midpoint\n",
      "422.0 left_base\n",
      "984.0 right_base\n",
      "640 midpoint\n",
      "423.0 left_base\n",
      "986.0 right_base\n"
     ]
    },
    {
     "name": "stderr",
     "output_type": "stream",
     "text": [
      "t:  67%|██████▋   | 840/1260 [03:31<01:44,  4.02it/s, now=None]"
     ]
    },
    {
     "name": "stdout",
     "output_type": "stream",
     "text": [
      "640 midpoint\n",
      "423.0 left_base\n",
      "984.0 right_base\n",
      "640 midpoint\n",
      "423.0 left_base\n",
      "967.0 right_base\n"
     ]
    },
    {
     "name": "stderr",
     "output_type": "stream",
     "text": [
      "t:  67%|██████▋   | 842/1260 [03:32<01:37,  4.27it/s, now=None]"
     ]
    },
    {
     "name": "stdout",
     "output_type": "stream",
     "text": [
      "640 midpoint\n",
      "419.0 left_base\n",
      "972.0 right_base\n",
      "640 midpoint\n",
      "412.0 left_base\n",
      "984.0 right_base\n"
     ]
    },
    {
     "name": "stderr",
     "output_type": "stream",
     "text": [
      "t:  67%|██████▋   | 844/1260 [03:32<01:34,  4.39it/s, now=None]"
     ]
    },
    {
     "name": "stdout",
     "output_type": "stream",
     "text": [
      "640 midpoint\n",
      "411.0 left_base\n",
      "984.0 right_base\n",
      "640 midpoint\n",
      "408.0 left_base\n",
      "986.0 right_base\n"
     ]
    },
    {
     "name": "stderr",
     "output_type": "stream",
     "text": [
      "t:  67%|██████▋   | 846/1260 [03:33<01:33,  4.44it/s, now=None]"
     ]
    },
    {
     "name": "stdout",
     "output_type": "stream",
     "text": [
      "640 midpoint\n",
      "411.0 left_base\n",
      "986.0 right_base\n",
      "640 midpoint\n",
      "415.0 left_base\n",
      "986.0 right_base\n"
     ]
    },
    {
     "name": "stderr",
     "output_type": "stream",
     "text": [
      "t:  67%|██████▋   | 848/1260 [03:33<01:32,  4.47it/s, now=None]"
     ]
    },
    {
     "name": "stdout",
     "output_type": "stream",
     "text": [
      "640 midpoint\n",
      "415.0 left_base\n",
      "974.0 right_base\n",
      "640 midpoint\n",
      "411.0 left_base\n",
      "975.0 right_base\n"
     ]
    },
    {
     "name": "stderr",
     "output_type": "stream",
     "text": [
      "t:  67%|██████▋   | 850/1260 [03:34<01:31,  4.48it/s, now=None]"
     ]
    },
    {
     "name": "stdout",
     "output_type": "stream",
     "text": [
      "640 midpoint\n",
      "413.0 left_base\n",
      "982.0 right_base\n",
      "640 midpoint\n",
      "414.0 left_base\n",
      "992.0 right_base\n"
     ]
    },
    {
     "name": "stderr",
     "output_type": "stream",
     "text": [
      "t:  68%|██████▊   | 852/1260 [03:34<01:35,  4.26it/s, now=None]"
     ]
    },
    {
     "name": "stdout",
     "output_type": "stream",
     "text": [
      "640 midpoint\n",
      "417.0 left_base\n",
      "987.0 right_base\n",
      "640 midpoint\n",
      "417.0 left_base\n",
      "986.0 right_base\n"
     ]
    },
    {
     "name": "stderr",
     "output_type": "stream",
     "text": [
      "t:  68%|██████▊   | 854/1260 [03:35<01:49,  3.70it/s, now=None]"
     ]
    },
    {
     "name": "stdout",
     "output_type": "stream",
     "text": [
      "640 midpoint\n",
      "423.0 left_base\n",
      "982.0 right_base\n",
      "640 midpoint\n",
      "422.0 left_base\n",
      "995.0 right_base\n"
     ]
    },
    {
     "name": "stderr",
     "output_type": "stream",
     "text": [
      "t:  68%|██████▊   | 856/1260 [03:35<01:48,  3.72it/s, now=None]"
     ]
    },
    {
     "name": "stdout",
     "output_type": "stream",
     "text": [
      "640 midpoint\n",
      "423.0 left_base\n",
      "999.0 right_base\n",
      "640 midpoint\n",
      "426.0 left_base\n",
      "997.0 right_base\n"
     ]
    },
    {
     "name": "stderr",
     "output_type": "stream",
     "text": [
      "t:  68%|██████▊   | 858/1260 [03:36<01:40,  4.00it/s, now=None]"
     ]
    },
    {
     "name": "stdout",
     "output_type": "stream",
     "text": [
      "640 midpoint\n",
      "428.0 left_base\n",
      "998.0 right_base\n",
      "640 midpoint\n",
      "426.0 left_base\n",
      "997.0 right_base\n"
     ]
    },
    {
     "name": "stderr",
     "output_type": "stream",
     "text": [
      "t:  68%|██████▊   | 860/1260 [03:36<01:55,  3.46it/s, now=None]"
     ]
    },
    {
     "name": "stdout",
     "output_type": "stream",
     "text": [
      "640 midpoint\n",
      "427.0 left_base\n",
      "978.0 right_base\n",
      "640 midpoint\n",
      "425.0 left_base\n",
      "975.0 right_base\n"
     ]
    },
    {
     "name": "stderr",
     "output_type": "stream",
     "text": [
      "t:  68%|██████▊   | 862/1260 [03:37<01:52,  3.55it/s, now=None]"
     ]
    },
    {
     "name": "stdout",
     "output_type": "stream",
     "text": [
      "640 midpoint\n",
      "426.0 left_base\n",
      "986.0 right_base\n",
      "640 midpoint\n",
      "422.0 left_base\n",
      "992.0 right_base\n"
     ]
    },
    {
     "name": "stderr",
     "output_type": "stream",
     "text": [
      "t:  69%|██████▊   | 864/1260 [03:38<01:55,  3.44it/s, now=None]"
     ]
    },
    {
     "name": "stdout",
     "output_type": "stream",
     "text": [
      "640 midpoint\n",
      "419.0 left_base\n",
      "974.0 right_base\n",
      "640 midpoint\n",
      "415.0 left_base\n",
      "974.0 right_base\n"
     ]
    },
    {
     "name": "stderr",
     "output_type": "stream",
     "text": [
      "t:  69%|██████▊   | 866/1260 [03:38<01:50,  3.56it/s, now=None]"
     ]
    },
    {
     "name": "stdout",
     "output_type": "stream",
     "text": [
      "640 midpoint\n",
      "411.0 left_base\n",
      "988.0 right_base\n",
      "640 midpoint\n",
      "414.0 left_base\n",
      "994.0 right_base\n"
     ]
    },
    {
     "name": "stderr",
     "output_type": "stream",
     "text": [
      "t:  69%|██████▉   | 868/1260 [03:39<01:42,  3.82it/s, now=None]"
     ]
    },
    {
     "name": "stdout",
     "output_type": "stream",
     "text": [
      "640 midpoint\n",
      "411.0 left_base\n",
      "998.0 right_base\n",
      "640 midpoint\n",
      "416.0 left_base\n",
      "999.0 right_base\n"
     ]
    },
    {
     "name": "stderr",
     "output_type": "stream",
     "text": [
      "t:  69%|██████▉   | 870/1260 [03:39<01:38,  3.95it/s, now=None]"
     ]
    },
    {
     "name": "stdout",
     "output_type": "stream",
     "text": [
      "640 midpoint\n",
      "422.0 left_base\n",
      "1000.0 right_base\n",
      "640 midpoint\n",
      "418.0 left_base\n",
      "999.0 right_base\n"
     ]
    },
    {
     "name": "stderr",
     "output_type": "stream",
     "text": [
      "t:  69%|██████▉   | 872/1260 [03:40<01:38,  3.96it/s, now=None]"
     ]
    },
    {
     "name": "stdout",
     "output_type": "stream",
     "text": [
      "640 midpoint\n",
      "419.0 left_base\n",
      "981.0 right_base\n",
      "640 midpoint\n",
      "414.0 left_base\n",
      "979.0"
     ]
    },
    {
     "name": "stderr",
     "output_type": "stream",
     "text": [
      "\r",
      "t:  69%|██████▉   | 873/1260 [03:40<01:36,  3.99it/s, now=None]"
     ]
    },
    {
     "name": "stdout",
     "output_type": "stream",
     "text": [
      " right_base\n",
      "640 midpoint\n",
      "412.0 left_base\n",
      "1005.0 right_base\n"
     ]
    },
    {
     "name": "stderr",
     "output_type": "stream",
     "text": [
      "t:  69%|██████▉   | 875/1260 [03:40<01:32,  4.16it/s, now=None]"
     ]
    },
    {
     "name": "stdout",
     "output_type": "stream",
     "text": [
      "640 midpoint\n",
      "408.0 left_base\n",
      "1004.0 right_base\n",
      "640 midpoint\n",
      "407.0 left_base\n",
      "992.0 right_base\n"
     ]
    },
    {
     "name": "stderr",
     "output_type": "stream",
     "text": [
      "t:  70%|██████▉   | 877/1260 [03:41<01:28,  4.34it/s, now=None]"
     ]
    },
    {
     "name": "stdout",
     "output_type": "stream",
     "text": [
      "640 midpoint\n",
      "411.0 left_base\n",
      "970.0 right_base\n",
      "640 midpoint\n",
      "410.0 left_base\n",
      "994.0 right_base\n"
     ]
    },
    {
     "name": "stderr",
     "output_type": "stream",
     "text": [
      "t:  70%|██████▉   | 879/1260 [03:41<01:25,  4.44it/s, now=None]"
     ]
    },
    {
     "name": "stdout",
     "output_type": "stream",
     "text": [
      "640 midpoint\n",
      "409.0 left_base\n",
      "1009.0 right_base\n",
      "640 midpoint\n",
      "413.0 left_base\n",
      "1010.0 right_base\n"
     ]
    },
    {
     "name": "stderr",
     "output_type": "stream",
     "text": [
      "t:  70%|██████▉   | 881/1260 [03:42<01:25,  4.43it/s, now=None]"
     ]
    },
    {
     "name": "stdout",
     "output_type": "stream",
     "text": [
      "640 midpoint\n",
      "415.0 left_base\n",
      "1009.0 right_base\n",
      "640 midpoint\n",
      "419.0 left_base\n",
      "1014.0 right_base\n"
     ]
    },
    {
     "name": "stderr",
     "output_type": "stream",
     "text": [
      "t:  70%|███████   | 883/1260 [03:42<01:31,  4.13it/s, now=None]"
     ]
    },
    {
     "name": "stdout",
     "output_type": "stream",
     "text": [
      "640 midpoint\n",
      "413.0 left_base\n",
      "1002.0 right_base\n",
      "640 midpoint\n",
      "413.0 left_base\n",
      "991.0 right_base\n"
     ]
    },
    {
     "name": "stderr",
     "output_type": "stream",
     "text": [
      "t:  70%|███████   | 885/1260 [03:43<01:31,  4.08it/s, now=None]"
     ]
    },
    {
     "name": "stdout",
     "output_type": "stream",
     "text": [
      "640 midpoint\n",
      "415.0 left_base\n",
      "990.0 right_base\n",
      "640 midpoint\n",
      "418.0 left_base\n",
      "1009.0 right_base\n"
     ]
    },
    {
     "name": "stderr",
     "output_type": "stream",
     "text": [
      "t:  70%|███████   | 887/1260 [03:43<01:27,  4.26it/s, now=None]"
     ]
    },
    {
     "name": "stdout",
     "output_type": "stream",
     "text": [
      "640 midpoint\n",
      "428.0 left_base\n",
      "992.0 right_base\n",
      "640 midpoint\n",
      "428.0 left_base\n",
      "973.0 right_base\n"
     ]
    },
    {
     "name": "stderr",
     "output_type": "stream",
     "text": [
      "t:  71%|███████   | 889/1260 [03:44<01:29,  4.16it/s, now=None]"
     ]
    },
    {
     "name": "stdout",
     "output_type": "stream",
     "text": [
      "640 midpoint\n",
      "432.0 left_base\n",
      "976.0 right_base\n",
      "640 midpoint\n",
      "432.0 left_base\n",
      "989.0 right_base\n"
     ]
    },
    {
     "name": "stderr",
     "output_type": "stream",
     "text": [
      "t:  71%|███████   | 891/1260 [03:44<01:26,  4.27it/s, now=None]"
     ]
    },
    {
     "name": "stdout",
     "output_type": "stream",
     "text": [
      "640 midpoint\n",
      "430.0 left_base\n",
      "994.0 right_base\n",
      "640 midpoint\n",
      "429.0 left_base\n",
      "997.0 right_base\n"
     ]
    },
    {
     "name": "stderr",
     "output_type": "stream",
     "text": [
      "t:  71%|███████   | 893/1260 [03:45<01:23,  4.38it/s, now=None]"
     ]
    },
    {
     "name": "stdout",
     "output_type": "stream",
     "text": [
      "640 midpoint\n",
      "428.0 left_base\n",
      "1001.0 right_base\n",
      "640 midpoint\n",
      "430.0 left_base\n",
      "1002.0 right_base\n"
     ]
    },
    {
     "name": "stderr",
     "output_type": "stream",
     "text": [
      "t:  71%|███████   | 895/1260 [03:45<01:22,  4.42it/s, now=None]"
     ]
    },
    {
     "name": "stdout",
     "output_type": "stream",
     "text": [
      "640 midpoint\n",
      "426.0 left_base\n",
      "981.0 right_base\n",
      "640 midpoint\n",
      "430.0 left_base\n",
      "966.0 right_base\n"
     ]
    },
    {
     "name": "stderr",
     "output_type": "stream",
     "text": [
      "t:  71%|███████   | 897/1260 [03:45<01:18,  4.61it/s, now=None]"
     ]
    },
    {
     "name": "stdout",
     "output_type": "stream",
     "text": [
      "640 midpoint\n",
      "434.0 left_base\n",
      "989.0 right_base\n",
      "640 midpoint\n",
      "432.0 left_base\n",
      "1009.0 right_base\n"
     ]
    },
    {
     "name": "stderr",
     "output_type": "stream",
     "text": [
      "t:  71%|███████▏  | 899/1260 [03:46<01:19,  4.55it/s, now=None]"
     ]
    },
    {
     "name": "stdout",
     "output_type": "stream",
     "text": [
      "640 midpoint\n",
      "433.0 left_base\n",
      "996.0 right_base\n",
      "640 midpoint\n",
      "432.0 left_base\n",
      "982.0 right_base\n"
     ]
    },
    {
     "name": "stderr",
     "output_type": "stream",
     "text": [
      "t:  72%|███████▏  | 901/1260 [03:46<01:19,  4.54it/s, now=None]"
     ]
    },
    {
     "name": "stdout",
     "output_type": "stream",
     "text": [
      "640 midpoint\n",
      "433.0 left_base\n",
      "969.0 right_base\n",
      "640 midpoint\n",
      "436.0 left_base\n",
      "991.0 right_base\n"
     ]
    },
    {
     "name": "stderr",
     "output_type": "stream",
     "text": [
      "t:  72%|███████▏  | 903/1260 [03:47<01:23,  4.27it/s, now=None]"
     ]
    },
    {
     "name": "stdout",
     "output_type": "stream",
     "text": [
      "640 midpoint\n",
      "432.0 left_base\n",
      "995.0 right_base\n",
      "640 "
     ]
    },
    {
     "name": "stderr",
     "output_type": "stream",
     "text": [
      "\r",
      "t:  72%|███████▏  | 904/1260 [03:47<01:25,  4.19it/s, now=None]"
     ]
    },
    {
     "name": "stdout",
     "output_type": "stream",
     "text": [
      "midpoint\n",
      "431.0 left_base\n",
      "997.0 right_base\n",
      "640 midpoint\n",
      "429.0 left_base\n",
      "1000.0 right_base\n"
     ]
    },
    {
     "name": "stderr",
     "output_type": "stream",
     "text": [
      "t:  72%|███████▏  | 906/1260 [03:48<01:21,  4.36it/s, now=None]"
     ]
    },
    {
     "name": "stdout",
     "output_type": "stream",
     "text": [
      "640 midpoint\n",
      "428.0 left_base\n",
      "1003.0 right_base\n",
      "640 midpoint\n",
      "426.0 left_base\n",
      "982.0 right_base\n"
     ]
    },
    {
     "name": "stderr",
     "output_type": "stream",
     "text": [
      "t:  72%|███████▏  | 908/1260 [03:48<01:20,  4.39it/s, now=None]"
     ]
    },
    {
     "name": "stdout",
     "output_type": "stream",
     "text": [
      "640 midpoint\n",
      "422.0 left_base\n",
      "977.0 right_base\n",
      "640 midpoint\n",
      "425.0 left_base\n",
      "985.0 right_base\n"
     ]
    },
    {
     "name": "stderr",
     "output_type": "stream",
     "text": [
      "t:  72%|███████▏  | 910/1260 [03:48<01:19,  4.41it/s, now=None]"
     ]
    },
    {
     "name": "stdout",
     "output_type": "stream",
     "text": [
      "640 midpoint\n",
      "424.0 left_base\n",
      "990.0 right_base\n",
      "640 midpoint\n",
      "425.0 left_base\n",
      "971.0 right_base\n"
     ]
    },
    {
     "name": "stderr",
     "output_type": "stream",
     "text": [
      "t:  72%|███████▏  | 912/1260 [03:49<01:22,  4.21it/s, now=None]"
     ]
    },
    {
     "name": "stdout",
     "output_type": "stream",
     "text": [
      "640 midpoint\n",
      "423.0 left_base\n",
      "960.0 right_base\n",
      "640 midpoint\n",
      "419.0 left_base\n",
      "979.0 right_base\n"
     ]
    },
    {
     "name": "stderr",
     "output_type": "stream",
     "text": [
      "t:  73%|███████▎  | 914/1260 [03:49<01:16,  4.52it/s, now=None]"
     ]
    },
    {
     "name": "stdout",
     "output_type": "stream",
     "text": [
      "640 midpoint\n",
      "420.0 left_base\n",
      "986.0 right_base\n",
      "640 midpoint\n",
      "419.0 left_base\n",
      "989.0 right_base\n"
     ]
    },
    {
     "name": "stderr",
     "output_type": "stream",
     "text": [
      "t:  73%|███████▎  | 916/1260 [03:50<01:16,  4.50it/s, now=None]"
     ]
    },
    {
     "name": "stdout",
     "output_type": "stream",
     "text": [
      "640 midpoint\n",
      "417.0 left_base\n",
      "992.0 right_base\n",
      "640 midpoint\n",
      "421.0 left_base\n",
      "993.0 right_base\n"
     ]
    },
    {
     "name": "stderr",
     "output_type": "stream",
     "text": [
      "t:  73%|███████▎  | 918/1260 [03:50<01:15,  4.51it/s, now=None]"
     ]
    },
    {
     "name": "stdout",
     "output_type": "stream",
     "text": [
      "640 midpoint\n",
      "418.0 left_base\n",
      "999.0 right_base\n",
      "640 midpoint\n",
      "420.0 left_base\n",
      "976.0 right_base\n"
     ]
    },
    {
     "name": "stderr",
     "output_type": "stream",
     "text": [
      "t:  73%|███████▎  | 920/1260 [03:51<01:15,  4.50it/s, now=None]"
     ]
    },
    {
     "name": "stdout",
     "output_type": "stream",
     "text": [
      "640 midpoint\n",
      "419.0 left_base\n",
      "973.0 right_base\n",
      "640 midpoint\n",
      "422.0 left_base\n",
      "993.0 right_base\n"
     ]
    },
    {
     "name": "stderr",
     "output_type": "stream",
     "text": [
      "t:  73%|███████▎  | 922/1260 [03:51<01:14,  4.52it/s, now=None]"
     ]
    },
    {
     "name": "stdout",
     "output_type": "stream",
     "text": [
      "640 midpoint\n",
      "425.0 left_base\n",
      "992.0 right_base\n",
      "640 midpoint\n",
      "424.0 left_base\n",
      "975.0 right_base\n"
     ]
    },
    {
     "name": "stderr",
     "output_type": "stream",
     "text": [
      "t:  73%|███████▎  | 924/1260 [03:52<01:14,  4.51it/s, now=None]"
     ]
    },
    {
     "name": "stdout",
     "output_type": "stream",
     "text": [
      "640 midpoint\n",
      "422.0 left_base\n",
      "967.0 right_base\n",
      "640 midpoint\n",
      "423.0 left_base\n",
      "986.0 right_base\n"
     ]
    },
    {
     "name": "stderr",
     "output_type": "stream",
     "text": [
      "t:  73%|███████▎  | 926/1260 [03:52<01:14,  4.48it/s, now=None]"
     ]
    },
    {
     "name": "stdout",
     "output_type": "stream",
     "text": [
      "640 midpoint\n",
      "429.0 left_base\n",
      "987.0 right_base\n",
      "640 midpoint\n",
      "433.0 left_base\n",
      "987.0 right_base\n"
     ]
    },
    {
     "name": "stderr",
     "output_type": "stream",
     "text": [
      "t:  74%|███████▎  | 928/1260 [03:53<01:17,  4.30it/s, now=None]"
     ]
    },
    {
     "name": "stdout",
     "output_type": "stream",
     "text": [
      "640 midpoint\n",
      "433.0 left_base\n",
      "991.0 right_base\n",
      "640 midpoint\n",
      "432.0 left_base\n",
      "991.0 right_base\n"
     ]
    },
    {
     "name": "stderr",
     "output_type": "stream",
     "text": [
      "t:  74%|███████▍  | 930/1260 [03:53<01:18,  4.19it/s, now=None]"
     ]
    },
    {
     "name": "stdout",
     "output_type": "stream",
     "text": [
      "640 midpoint\n",
      "430.0 left_base\n",
      "990.0 right_base\n",
      "640 midpoint\n",
      "431.0 left_base\n",
      "968.0 right_base\n"
     ]
    },
    {
     "name": "stderr",
     "output_type": "stream",
     "text": [
      "t:  74%|███████▍  | 932/1260 [03:53<01:16,  4.31it/s, now=None]"
     ]
    },
    {
     "name": "stdout",
     "output_type": "stream",
     "text": [
      "640 midpoint\n",
      "433.0 left_base\n",
      "980.0 right_base\n",
      "640 midpoint\n",
      "432.0 left_base\n",
      "991.0 right_base\n"
     ]
    },
    {
     "name": "stderr",
     "output_type": "stream",
     "text": [
      "t:  74%|███████▍  | 934/1260 [03:54<01:13,  4.43it/s, now=None]"
     ]
    },
    {
     "name": "stdout",
     "output_type": "stream",
     "text": [
      "640 midpoint\n",
      "436.0 left_base\n",
      "987.0 right_base\n",
      "640 midpoint\n",
      "436.0 left_base\n",
      "970.0 right_base\n"
     ]
    },
    {
     "name": "stderr",
     "output_type": "stream",
     "text": [
      "t:  74%|███████▍  | 936/1260 [03:54<01:12,  4.45it/s, now=None]"
     ]
    },
    {
     "name": "stdout",
     "output_type": "stream",
     "text": [
      "640 midpoint\n",
      "438.0 left_base\n",
      "971.0 right_base\n",
      "640 midpoint\n",
      "439.0 left_base\n",
      "987.0 right_base\n"
     ]
    },
    {
     "name": "stderr",
     "output_type": "stream",
     "text": [
      "t:  74%|███████▍  | 938/1260 [03:55<01:11,  4.50it/s, now=None]"
     ]
    },
    {
     "name": "stdout",
     "output_type": "stream",
     "text": [
      "640 midpoint\n",
      "438.0 left_base\n",
      "988.0 right_base\n",
      "640 midpoint\n",
      "442.0 left_base\n",
      "990.0 right_base\n"
     ]
    },
    {
     "name": "stderr",
     "output_type": "stream",
     "text": [
      "t:  75%|███████▍  | 940/1260 [03:55<01:18,  4.07it/s, now=None]"
     ]
    },
    {
     "name": "stdout",
     "output_type": "stream",
     "text": [
      "640 midpoint\n",
      "441.0 left_base\n",
      "991.0 right_base\n",
      "640 midpoint\n",
      "441.0 left_base\n",
      "990.0 right_base\n"
     ]
    },
    {
     "name": "stderr",
     "output_type": "stream",
     "text": [
      "t:  75%|███████▍  | 942/1260 [03:56<01:11,  4.44it/s, now=None]"
     ]
    },
    {
     "name": "stdout",
     "output_type": "stream",
     "text": [
      "640 midpoint\n",
      "437.0 left_base\n",
      "978.0 right_base\n",
      "640 midpoint\n",
      "434.0 left_base\n",
      "966.0 right_base\n"
     ]
    },
    {
     "name": "stderr",
     "output_type": "stream",
     "text": [
      "t:  75%|███████▍  | 944/1260 [03:56<01:10,  4.47it/s, now=None]"
     ]
    },
    {
     "name": "stdout",
     "output_type": "stream",
     "text": [
      "640 midpoint\n",
      "436.0 left_base\n",
      "987.0 right_base\n",
      "640 midpoint\n",
      "429.0 left_base\n",
      "1001.0 right_base\n"
     ]
    },
    {
     "name": "stderr",
     "output_type": "stream",
     "text": [
      "t:  75%|███████▌  | 946/1260 [03:57<01:09,  4.52it/s, now=None]"
     ]
    },
    {
     "name": "stdout",
     "output_type": "stream",
     "text": [
      "640 midpoint\n",
      "433.0 left_base\n",
      "996.0 right_base\n",
      "640 midpoint\n",
      "434.0 left_base\n",
      "981.0 right_base\n"
     ]
    },
    {
     "name": "stderr",
     "output_type": "stream",
     "text": [
      "t:  75%|███████▌  | 948/1260 [03:57<01:09,  4.47it/s, now=None]"
     ]
    },
    {
     "name": "stdout",
     "output_type": "stream",
     "text": [
      "640 midpoint\n",
      "432.0 left_base\n",
      "992.0 right_base\n",
      "640 midpoint\n",
      "438.0 left_base\n",
      "995.0 right_base\n"
     ]
    },
    {
     "name": "stderr",
     "output_type": "stream",
     "text": [
      "t:  75%|███████▌  | 950/1260 [03:58<01:08,  4.50it/s, now=None]"
     ]
    },
    {
     "name": "stdout",
     "output_type": "stream",
     "text": [
      "640 midpoint\n",
      "437.0 left_base\n",
      "1000.0 right_base\n",
      "640 midpoint\n",
      "439.0 left_base\n",
      "1005.0 right_base\n"
     ]
    },
    {
     "name": "stderr",
     "output_type": "stream",
     "text": [
      "t:  76%|███████▌  | 952/1260 [03:58<01:12,  4.26it/s, now=None]"
     ]
    },
    {
     "name": "stdout",
     "output_type": "stream",
     "text": [
      "640 midpoint\n",
      "437.0 left_base\n",
      "1007.0 right_base\n",
      "640 midpoint\n",
      "434.0 left_base\n",
      "1014.0 right_base\n"
     ]
    },
    {
     "name": "stderr",
     "output_type": "stream",
     "text": [
      "t:  76%|███████▌  | 954/1260 [03:59<01:09,  4.41it/s, now=None]"
     ]
    },
    {
     "name": "stdout",
     "output_type": "stream",
     "text": [
      "640 midpoint\n",
      "437.0 left_base\n",
      "1003.0 right_base\n",
      "640 midpoint\n",
      "434.0 left_base\n",
      "1002.0 right_base\n"
     ]
    },
    {
     "name": "stderr",
     "output_type": "stream",
     "text": [
      "t:  76%|███████▌  | 956/1260 [03:59<01:12,  4.19it/s, now=None]"
     ]
    },
    {
     "name": "stdout",
     "output_type": "stream",
     "text": [
      "640 midpoint\n",
      "437.0 left_base\n",
      "1007.0 right_base\n",
      "640 midpoint\n",
      "442.0 left_base\n",
      "1010.0 right_base\n"
     ]
    },
    {
     "name": "stderr",
     "output_type": "stream",
     "text": [
      "t:  76%|███████▌  | 958/1260 [04:00<01:13,  4.09it/s, now=None]"
     ]
    },
    {
     "name": "stdout",
     "output_type": "stream",
     "text": [
      "640 midpoint\n",
      "441.0 left_base\n",
      "1005.0 right_base\n",
      "640 midpoint\n",
      "446.0 left_base\n",
      "990.0 right_base\n"
     ]
    },
    {
     "name": "stderr",
     "output_type": "stream",
     "text": [
      "t:  76%|███████▌  | 960/1260 [04:00<01:13,  4.06it/s, now=None]"
     ]
    },
    {
     "name": "stdout",
     "output_type": "stream",
     "text": [
      "640 midpoint\n",
      "444.0 left_base\n",
      "1004.0 right_base\n"
     ]
    },
    {
     "name": "stderr",
     "output_type": "stream",
     "text": [
      "t:  76%|███████▋  | 963/1260 [04:00<00:54,  5.42it/s, now=None]"
     ]
    },
    {
     "name": "stdout",
     "output_type": "stream",
     "text": [
      "640 midpoint\n",
      "450.0 left_base\n",
      "1007.0 right_base\n",
      "640 midpoint\n",
      "452.0 left_base\n",
      "1012.0 right_base\n",
      "640 midpoint\n",
      "452.0 left_base\n",
      "1015.0 right_base\n"
     ]
    },
    {
     "name": "stderr",
     "output_type": "stream",
     "text": [
      "\r",
      "t:  77%|███████▋  | 965/1260 [04:01<00:45,  6.51it/s, now=None]"
     ]
    },
    {
     "name": "stdout",
     "output_type": "stream",
     "text": [
      "640 midpoint\n",
      "458.0 left_base\n",
      "1017.0 right_base\n",
      "640 midpoint\n",
      "460.0 left_base\n",
      "1022.0 right_base\n",
      "640 midpoint\n",
      "460.0 left_base\n",
      "999.0 right_base\n"
     ]
    },
    {
     "name": "stderr",
     "output_type": "stream",
     "text": [
      "t:  77%|███████▋  | 969/1260 [04:01<00:34,  8.38it/s, now=None]"
     ]
    },
    {
     "name": "stdout",
     "output_type": "stream",
     "text": [
      "640 midpoint\n",
      "463.0 left_base\n",
      "1004.0 right_base\n",
      "640 midpoint\n",
      "463.0 left_base\n",
      "1008.0 right_base\n",
      "640 midpoint\n",
      "467.0 left_base\n",
      "1014.0 right_base\n"
     ]
    },
    {
     "name": "stderr",
     "output_type": "stream",
     "text": [
      "\r",
      "t:  77%|███████▋  | 971/1260 [04:01<00:31,  9.19it/s, now=None]"
     ]
    },
    {
     "name": "stdout",
     "output_type": "stream",
     "text": [
      "640 midpoint\n",
      "465.0 left_base\n",
      "993.0 right_base\n",
      "640 midpoint\n",
      "461.0 left_base\n",
      "996.0 right_base\n",
      "640 midpoint\n",
      "463.0 left_base\n",
      "1008.0 right_base\n"
     ]
    },
    {
     "name": "stderr",
     "output_type": "stream",
     "text": [
      "t:  77%|███████▋  | 975/1260 [04:01<00:28, 10.17it/s, now=None]"
     ]
    },
    {
     "name": "stdout",
     "output_type": "stream",
     "text": [
      "640 midpoint\n",
      "461.0 left_base\n",
      "1012.0 right_base\n",
      "640 midpoint\n",
      "463.0 left_base\n",
      "1011.0 right_base\n",
      "640 midpoint\n",
      "457.0 left_base\n",
      "1013.0 right_base\n"
     ]
    },
    {
     "name": "stderr",
     "output_type": "stream",
     "text": [
      "\r",
      "t:  78%|███████▊  | 977/1260 [04:02<00:27, 10.48it/s, now=None]"
     ]
    },
    {
     "name": "stdout",
     "output_type": "stream",
     "text": [
      "640 midpoint\n",
      "459.0 left_base\n",
      "1014.0 right_base\n",
      "640 midpoint\n",
      "457.0 left_base\n",
      "1012.0 right_base\n",
      "640 midpoint\n",
      "456.0 left_base\n",
      "1001.0 right_base\n"
     ]
    },
    {
     "name": "stderr",
     "output_type": "stream",
     "text": [
      "t:  78%|███████▊  | 981/1260 [04:02<00:25, 11.15it/s, now=None]"
     ]
    },
    {
     "name": "stdout",
     "output_type": "stream",
     "text": [
      "640 midpoint\n",
      "460.0 left_base\n",
      "991.0 right_base\n",
      "640 midpoint\n",
      "457.0 left_base\n",
      "1007.0 right_base\n",
      "640 midpoint\n",
      "455.0 left_base\n",
      "1003.0 right_base\n"
     ]
    },
    {
     "name": "stderr",
     "output_type": "stream",
     "text": [
      "\r",
      "t:  78%|███████▊  | 983/1260 [04:02<00:24, 11.49it/s, now=None]"
     ]
    },
    {
     "name": "stdout",
     "output_type": "stream",
     "text": [
      "640 midpoint\n",
      "452.0 left_base\n",
      "991.0 right_base\n",
      "640 midpoint\n",
      "444.0 left_base\n",
      "987.0 right_base\n",
      "640 midpoint\n",
      "443.0 left_base\n",
      "995.0 right_base\n"
     ]
    },
    {
     "name": "stderr",
     "output_type": "stream",
     "text": [
      "t:  78%|███████▊  | 987/1260 [04:02<00:23, 11.54it/s, now=None]"
     ]
    },
    {
     "name": "stdout",
     "output_type": "stream",
     "text": [
      "640 midpoint\n",
      "446.0 left_base\n",
      "1002.0 right_base\n",
      "640 midpoint\n",
      "440.0 left_base\n",
      "999.0 right_base\n",
      "640 midpoint\n",
      "445.0 left_base\n",
      "996.0 right_base\n"
     ]
    },
    {
     "name": "stderr",
     "output_type": "stream",
     "text": [
      "\r",
      "t:  78%|███████▊  | 989/1260 [04:03<00:23, 11.61it/s, now=None]"
     ]
    },
    {
     "name": "stdout",
     "output_type": "stream",
     "text": [
      "640 midpoint\n",
      "443.0 left_base\n",
      "989.0 right_base\n",
      "640 midpoint\n",
      "447.0 left_base\n",
      "963.0 right_base\n",
      "640 midpoint\n",
      "439.0 left_base\n",
      "712.0 right_base\n"
     ]
    },
    {
     "name": "stderr",
     "output_type": "stream",
     "text": [
      "t:  79%|███████▉  | 993/1260 [04:03<00:22, 11.92it/s, now=None]"
     ]
    },
    {
     "name": "stdout",
     "output_type": "stream",
     "text": [
      "640 midpoint\n",
      "431.0 left_base\n",
      "935.0 right_base\n",
      "640 midpoint\n",
      "425.0 left_base\n",
      "895.0 right_base\n",
      "640 midpoint\n",
      "416.0 left_base\n",
      "683.0 right_base\n"
     ]
    },
    {
     "name": "stderr",
     "output_type": "stream",
     "text": [
      "\r",
      "t:  79%|███████▉  | 995/1260 [04:03<00:22, 12.00it/s, now=None]"
     ]
    },
    {
     "name": "stdout",
     "output_type": "stream",
     "text": [
      "640 midpoint\n",
      "416.0 left_base\n",
      "995.0 right_base\n",
      "640 midpoint\n",
      "413.0 left_base\n",
      "991.0 right_base\n",
      "640 midpoint\n",
      "416.0 left_base\n",
      "985.0 right_base\n"
     ]
    },
    {
     "name": "stderr",
     "output_type": "stream",
     "text": [
      "t:  79%|███████▉  | 999/1260 [04:03<00:21, 12.28it/s, now=None]"
     ]
    },
    {
     "name": "stdout",
     "output_type": "stream",
     "text": [
      "640 midpoint\n",
      "417.0 left_base\n",
      "988.0 right_base\n",
      "640 midpoint\n",
      "414.0 left_base\n",
      "1017.0 right_base\n",
      "640 midpoint\n",
      "419.0 left_base\n",
      "988.0 right_base\n"
     ]
    },
    {
     "name": "stderr",
     "output_type": "stream",
     "text": [
      "\r",
      "t:  79%|███████▉  | 1001/1260 [04:04<00:20, 12.43it/s, now=None]"
     ]
    },
    {
     "name": "stdout",
     "output_type": "stream",
     "text": [
      "640 midpoint\n",
      "414.0 left_base\n",
      "990.0 right_base\n",
      "640 midpoint\n",
      "413.0 left_base\n",
      "985.0 right_base\n",
      "640 midpoint\n",
      "408.0 left_base\n",
      "1130.0 right_base\n"
     ]
    },
    {
     "name": "stderr",
     "output_type": "stream",
     "text": [
      "t:  80%|███████▉  | 1005/1260 [04:04<00:19, 12.97it/s, now=None]"
     ]
    },
    {
     "name": "stdout",
     "output_type": "stream",
     "text": [
      "640 midpoint\n",
      "390.0 left_base\n",
      "977.0 right_base\n",
      "640 midpoint\n",
      "380.0 left_base\n",
      "1006.0 right_base\n",
      "640 midpoint\n",
      "364.0 left_base\n",
      "747.0 right_base\n"
     ]
    },
    {
     "name": "stderr",
     "output_type": "stream",
     "text": [
      "\r",
      "t:  80%|███████▉  | 1007/1260 [04:04<00:20, 12.27it/s, now=None]"
     ]
    },
    {
     "name": "stdout",
     "output_type": "stream",
     "text": [
      "640 midpoint\n",
      "372.0 left_base\n",
      "672.0 right_base\n",
      "640 midpoint\n",
      "407.0 left_base\n",
      "982.0 right_base\n",
      "640 midpoint\n",
      "408.0 left_base\n",
      "980.0 right_base\n"
     ]
    },
    {
     "name": "stderr",
     "output_type": "stream",
     "text": [
      "t:  80%|████████  | 1011/1260 [04:04<00:20, 12.36it/s, now=None]"
     ]
    },
    {
     "name": "stdout",
     "output_type": "stream",
     "text": [
      "640 midpoint\n",
      "429.0 left_base\n",
      "939.0 right_base\n",
      "640 midpoint\n",
      "423.0 left_base\n",
      "952.0 right_base\n",
      "640 midpoint\n",
      "418.0 left_base\n",
      "984.0 right_base\n"
     ]
    },
    {
     "name": "stderr",
     "output_type": "stream",
     "text": [
      "\r",
      "t:  80%|████████  | 1013/1260 [04:05<00:19, 12.43it/s, now=None]"
     ]
    },
    {
     "name": "stdout",
     "output_type": "stream",
     "text": [
      "640 midpoint\n",
      "424.0 left_base\n",
      "982.0 right_base\n",
      "640 midpoint\n",
      "385.0 left_base\n",
      "991.0 right_base\n",
      "640 midpoint\n",
      "383.0 left_base\n",
      "990.0 right_base\n"
     ]
    },
    {
     "name": "stderr",
     "output_type": "stream",
     "text": [
      "t:  81%|████████  | 1017/1260 [04:05<00:19, 12.15it/s, now=None]"
     ]
    },
    {
     "name": "stdout",
     "output_type": "stream",
     "text": [
      "640 midpoint\n",
      "381.0 left_base\n",
      "990.0 right_base\n",
      "640 midpoint\n",
      "382.0 left_base\n",
      "989.0 right_base\n",
      "640 midpoint\n",
      "388.0 left_base\n",
      "993.0 right_base\n"
     ]
    },
    {
     "name": "stderr",
     "output_type": "stream",
     "text": [
      "\r",
      "t:  81%|████████  | 1019/1260 [04:05<00:20, 11.80it/s, now=None]"
     ]
    },
    {
     "name": "stdout",
     "output_type": "stream",
     "text": [
      "640 midpoint\n",
      "381.0 left_base\n",
      "998.0 right_base\n",
      "640 midpoint\n",
      "384.0 left_base\n",
      "990.0 right_base\n",
      "640 midpoint\n",
      "384.0 left_base\n",
      "991.0 right_base\n"
     ]
    },
    {
     "name": "stderr",
     "output_type": "stream",
     "text": [
      "t:  81%|████████  | 1023/1260 [04:05<00:19, 11.94it/s, now=None]"
     ]
    },
    {
     "name": "stdout",
     "output_type": "stream",
     "text": [
      "640 midpoint\n",
      "397.0 left_base\n",
      "1003.0 right_base\n",
      "640 midpoint\n",
      "396.0 left_base\n",
      "988.0 right_base\n",
      "640 midpoint\n",
      "394.0 left_base\n",
      "993.0 right_base\n"
     ]
    },
    {
     "name": "stderr",
     "output_type": "stream",
     "text": [
      "\r",
      "t:  81%|████████▏ | 1025/1260 [04:06<00:19, 11.95it/s, now=None]"
     ]
    },
    {
     "name": "stdout",
     "output_type": "stream",
     "text": [
      "640 midpoint\n",
      "391.0 left_base\n",
      "997.0 right_base\n",
      "640 midpoint\n",
      "396.0 left_base\n",
      "998.0 right_base\n",
      "640 midpoint\n",
      "396.0 left_base\n",
      "1000.0 right_base\n"
     ]
    },
    {
     "name": "stderr",
     "output_type": "stream",
     "text": [
      "t:  82%|████████▏ | 1029/1260 [04:06<00:19, 11.95it/s, now=None]"
     ]
    },
    {
     "name": "stdout",
     "output_type": "stream",
     "text": [
      "640 midpoint\n",
      "388.0 left_base\n",
      "989.0 right_base\n",
      "640 midpoint\n",
      "375.0 left_base\n",
      "983.0 right_base\n",
      "640 midpoint\n",
      "395.0 left_base\n",
      "980.0 right_base\n"
     ]
    },
    {
     "name": "stderr",
     "output_type": "stream",
     "text": [
      "\r",
      "t:  82%|████████▏ | 1031/1260 [04:06<00:18, 12.07it/s, now=None]"
     ]
    },
    {
     "name": "stdout",
     "output_type": "stream",
     "text": [
      "640 midpoint\n",
      "395.0 left_base\n",
      "980.0 right_base\n",
      "640 midpoint\n",
      "386.0 left_base\n",
      "980.0 right_base\n",
      "640 midpoint\n",
      "396.0 left_base\n",
      "967.0 right_base\n"
     ]
    },
    {
     "name": "stderr",
     "output_type": "stream",
     "text": [
      "t:  82%|████████▏ | 1035/1260 [04:06<00:18, 12.23it/s, now=None]"
     ]
    },
    {
     "name": "stdout",
     "output_type": "stream",
     "text": [
      "640 midpoint\n",
      "399.0 left_base\n",
      "968.0 right_base\n",
      "640 midpoint\n",
      "407.0 left_base\n",
      "974.0 right_base\n",
      "640 midpoint\n",
      "354.0 left_base\n",
      "967.0 right_base\n"
     ]
    },
    {
     "name": "stderr",
     "output_type": "stream",
     "text": [
      "\r",
      "t:  82%|████████▏ | 1037/1260 [04:07<00:18, 12.21it/s, now=None]"
     ]
    },
    {
     "name": "stdout",
     "output_type": "stream",
     "text": [
      "640 midpoint\n",
      "342.0 left_base\n",
      "963.0 right_base\n",
      "640 midpoint\n",
      "316.0 left_base\n",
      "910.0 right_base\n",
      "640 midpoint\n",
      "352.0 left_base\n",
      "894.0 right_base\n"
     ]
    },
    {
     "name": "stderr",
     "output_type": "stream",
     "text": [
      "\r",
      "t:  82%|████████▏ | 1039/1260 [04:07<00:18, 11.63it/s, now=None]"
     ]
    },
    {
     "name": "stdout",
     "output_type": "stream",
     "text": [
      "640 midpoint\n",
      "360.0 left_base\n",
      "701.0 right_base\n",
      "640 midpoint\n",
      "398.0 left_base\n",
      "870.0 right_base\n",
      "640 midpoint\n",
      "414.0 left_base\n",
      "846.0 right_base\n"
     ]
    },
    {
     "name": "stderr",
     "output_type": "stream",
     "text": [
      "t:  83%|████████▎ | 1043/1260 [04:07<00:20, 10.65it/s, now=None]"
     ]
    },
    {
     "name": "stdout",
     "output_type": "stream",
     "text": [
      "640 midpoint\n",
      "421.0 left_base\n",
      "902.0 right_base\n",
      "640 midpoint\n",
      "417.0 left_base\n",
      "860.0 right_base\n",
      "640 midpoint\n",
      "388.0 left_base\n",
      "943.0 right_base\n"
     ]
    },
    {
     "name": "stderr",
     "output_type": "stream",
     "text": [
      "\r",
      "t:  83%|████████▎ | 1045/1260 [04:07<00:20, 10.48it/s, now=None]"
     ]
    },
    {
     "name": "stdout",
     "output_type": "stream",
     "text": [
      "640 midpoint\n",
      "379.0 left_base\n",
      "959.0 right_base\n",
      "640 midpoint\n",
      "366.0 left_base\n",
      "874.0 right_base\n"
     ]
    },
    {
     "name": "stderr",
     "output_type": "stream",
     "text": [
      "t:  83%|████████▎ | 1048/1260 [04:08<00:23,  9.18it/s, now=None]"
     ]
    },
    {
     "name": "stdout",
     "output_type": "stream",
     "text": [
      "640 midpoint\n",
      "1075.0 left_base\n",
      "827.0 right_base\n",
      "640 midpoint\n",
      "388.0 left_base\n",
      "1024.0 right_base\n"
     ]
    },
    {
     "name": "stderr",
     "output_type": "stream",
     "text": [
      "t:  83%|████████▎ | 1050/1260 [04:08<00:22,  9.19it/s, now=None]"
     ]
    },
    {
     "name": "stdout",
     "output_type": "stream",
     "text": [
      "640 midpoint\n",
      "379.0 left_base\n",
      "651.0 right_base\n",
      "640 midpoint\n",
      "789.0 left_base\n",
      "556.0 right_base\n"
     ]
    },
    {
     "name": "stderr",
     "output_type": "stream",
     "text": [
      "t:  84%|████████▎ | 1053/1260 [04:08<00:20,  9.86it/s, now=None]"
     ]
    },
    {
     "name": "stdout",
     "output_type": "stream",
     "text": [
      "640 midpoint\n",
      "381.0 left_base\n",
      "235.0 right_base\n",
      "640 midpoint\n",
      "399.0 left_base\n",
      "479.0 right_base\n",
      "640 midpoint\n",
      "411.0 left_base\n",
      "321.0 right_base\n"
     ]
    },
    {
     "name": "stderr",
     "output_type": "stream",
     "text": [
      "\r",
      "t:  84%|████████▎ | 1055/1260 [04:08<00:19, 10.41it/s, now=None]"
     ]
    },
    {
     "name": "stdout",
     "output_type": "stream",
     "text": [
      "640 midpoint\n",
      "401.0 left_base\n",
      "1000.0 right_base\n",
      "640 midpoint\n",
      "432.0 left_base\n",
      "963.0 right_base\n",
      "640 midpoint\n",
      "436.0 left_base\n",
      "988.0 right_base\n"
     ]
    },
    {
     "name": "stderr",
     "output_type": "stream",
     "text": [
      "t:  84%|████████▍ | 1059/1260 [04:09<00:18, 10.94it/s, now=None]"
     ]
    },
    {
     "name": "stdout",
     "output_type": "stream",
     "text": [
      "640 midpoint\n",
      "443.0 left_base\n",
      "987.0 right_base\n",
      "640 midpoint\n",
      "447.0 left_base\n",
      "982.0 right_base\n",
      "640 midpoint\n",
      "452.0 left_base\n",
      "982.0 right_base\n"
     ]
    },
    {
     "name": "stderr",
     "output_type": "stream",
     "text": [
      "\r",
      "t:  84%|████████▍ | 1061/1260 [04:09<00:17, 11.24it/s, now=None]"
     ]
    },
    {
     "name": "stdout",
     "output_type": "stream",
     "text": [
      "640 midpoint\n",
      "458.0 left_base\n",
      "977.0 right_base\n",
      "640 midpoint\n",
      "466.0 left_base\n",
      "967.0 right_base\n",
      "640 midpoint\n",
      "475.0 left_base\n",
      "963.0 right_base\n"
     ]
    },
    {
     "name": "stderr",
     "output_type": "stream",
     "text": [
      "t:  85%|████████▍ | 1065/1260 [04:09<00:16, 11.54it/s, now=None]"
     ]
    },
    {
     "name": "stdout",
     "output_type": "stream",
     "text": [
      "640 midpoint\n",
      "474.0 left_base\n",
      "964.0 right_base\n",
      "640 midpoint\n",
      "457.0 left_base\n",
      "980.0 right_base\n",
      "640 midpoint\n",
      "448.0 left_base\n",
      "987.0 right_base\n"
     ]
    },
    {
     "name": "stderr",
     "output_type": "stream",
     "text": [
      "\r",
      "t:  85%|████████▍ | 1067/1260 [04:09<00:17, 11.30it/s, now=None]"
     ]
    },
    {
     "name": "stdout",
     "output_type": "stream",
     "text": [
      "640 midpoint\n",
      "436.0 left_base\n",
      "999.0 right_base\n",
      "640 midpoint\n",
      "429.0 left_base\n",
      "998.0 right_base\n",
      "640 midpoint\n",
      "433.0 left_base\n",
      "997.0 right_base\n"
     ]
    },
    {
     "name": "stderr",
     "output_type": "stream",
     "text": [
      "t:  85%|████████▌ | 1071/1260 [04:10<00:16, 11.26it/s, now=None]"
     ]
    },
    {
     "name": "stdout",
     "output_type": "stream",
     "text": [
      "640 midpoint\n",
      "434.0 left_base\n",
      "1001.0 right_base\n",
      "640 midpoint\n",
      "441.0 left_base\n",
      "998.0 right_base\n",
      "640 midpoint\n",
      "442.0 left_base\n",
      "1000.0 right_base\n"
     ]
    },
    {
     "name": "stderr",
     "output_type": "stream",
     "text": [
      "\r",
      "t:  85%|████████▌ | 1073/1260 [04:10<00:16, 11.27it/s, now=None]"
     ]
    },
    {
     "name": "stdout",
     "output_type": "stream",
     "text": [
      "640 midpoint\n",
      "437.0 left_base\n",
      "1004.0 right_base\n",
      "640 midpoint\n",
      "440.0 left_base\n",
      "1003.0 right_base\n",
      "640 midpoint\n",
      "439.0 left_base\n",
      "1006.0 right_base\n"
     ]
    },
    {
     "name": "stderr",
     "output_type": "stream",
     "text": [
      "t:  85%|████████▌ | 1077/1260 [04:10<00:16, 11.13it/s, now=None]"
     ]
    },
    {
     "name": "stdout",
     "output_type": "stream",
     "text": [
      "640 midpoint\n",
      "441.0 left_base\n",
      "1008.0 right_base\n",
      "640 midpoint\n",
      "444.0 left_base\n",
      "1016.0 right_base\n",
      "640 midpoint\n",
      "441.0 left_base\n",
      "1016.0 right_base\n"
     ]
    },
    {
     "name": "stderr",
     "output_type": "stream",
     "text": [
      "\r",
      "t:  86%|████████▌ | 1079/1260 [04:10<00:16, 11.08it/s, now=None]"
     ]
    },
    {
     "name": "stdout",
     "output_type": "stream",
     "text": [
      "640 midpoint\n",
      "450.0 left_base\n",
      "1004.0 right_base\n",
      "640 midpoint\n",
      "451.0 left_base\n",
      "1005.0 right_base\n",
      "640 midpoint\n",
      "452.0 left_base\n",
      "1009.0 right_base\n"
     ]
    },
    {
     "name": "stderr",
     "output_type": "stream",
     "text": [
      "t:  86%|████████▌ | 1083/1260 [04:11<00:15, 11.12it/s, now=None]"
     ]
    },
    {
     "name": "stdout",
     "output_type": "stream",
     "text": [
      "640 midpoint\n",
      "451.0 left_base\n",
      "1012.0 right_base\n",
      "640 midpoint\n",
      "441.0 left_base\n",
      "1018.0 right_base\n",
      "640 midpoint\n",
      "444.0 left_base\n",
      "1017.0 right_base\n"
     ]
    },
    {
     "name": "stderr",
     "output_type": "stream",
     "text": [
      "\r",
      "t:  86%|████████▌ | 1085/1260 [04:11<00:15, 11.17it/s, now=None]"
     ]
    },
    {
     "name": "stdout",
     "output_type": "stream",
     "text": [
      "640 midpoint\n",
      "445.0 left_base\n",
      "1020.0 right_base\n",
      "640 midpoint\n",
      "443.0 left_base\n",
      "1015.0 right_base\n",
      "640 midpoint\n",
      "447.0 left_base\n",
      "1014.0 right_base\n"
     ]
    },
    {
     "name": "stderr",
     "output_type": "stream",
     "text": [
      "t:  86%|████████▋ | 1089/1260 [04:11<00:15, 11.08it/s, now=None]"
     ]
    },
    {
     "name": "stdout",
     "output_type": "stream",
     "text": [
      "640 midpoint\n",
      "441.0 left_base\n",
      "1019.0 right_base\n",
      "640 midpoint\n",
      "446.0 left_base\n",
      "1020.0 right_base\n",
      "640 midpoint\n",
      "447.0 left_base\n",
      "1008.0 right_base\n"
     ]
    },
    {
     "name": "stderr",
     "output_type": "stream",
     "text": [
      "\r",
      "t:  87%|████████▋ | 1091/1260 [04:12<00:15, 10.93it/s, now=None]"
     ]
    },
    {
     "name": "stdout",
     "output_type": "stream",
     "text": [
      "640 midpoint\n",
      "447.0 left_base\n",
      "1010.0 right_base\n",
      "640 midpoint\n",
      "452.0 left_base\n",
      "1008.0 right_base\n",
      "640 midpoint\n",
      "449.0 left_base\n",
      "1012.0 right_base\n"
     ]
    },
    {
     "name": "stderr",
     "output_type": "stream",
     "text": [
      "t:  87%|████████▋ | 1095/1260 [04:12<00:14, 11.43it/s, now=None]"
     ]
    },
    {
     "name": "stdout",
     "output_type": "stream",
     "text": [
      "640 midpoint\n",
      "447.0 left_base\n",
      "1011.0 right_base\n",
      "640 midpoint\n",
      "443.0 left_base\n",
      "1012.0 right_base\n",
      "640 midpoint\n",
      "439.0 left_base\n",
      "1017.0 right_base\n"
     ]
    },
    {
     "name": "stderr",
     "output_type": "stream",
     "text": [
      "\r",
      "t:  87%|████████▋ | 1097/1260 [04:12<00:14, 11.52it/s, now=None]"
     ]
    },
    {
     "name": "stdout",
     "output_type": "stream",
     "text": [
      "640 midpoint\n",
      "447.0 left_base\n",
      "1005.0 right_base\n",
      "640 midpoint\n",
      "450.0 left_base\n",
      "1000.0 right_base\n",
      "640 midpoint\n",
      "452.0 left_base\n",
      "1008.0 right_base\n"
     ]
    },
    {
     "name": "stderr",
     "output_type": "stream",
     "text": [
      "t:  87%|████████▋ | 1101/1260 [04:12<00:13, 11.50it/s, now=None]"
     ]
    },
    {
     "name": "stdout",
     "output_type": "stream",
     "text": [
      "640 midpoint\n",
      "455.0 left_base\n",
      "1007.0 right_base\n",
      "640 midpoint\n",
      "455.0 left_base\n",
      "1008.0 right_base\n",
      "640 midpoint\n",
      "456.0 left_base\n",
      "1008.0 right_base\n"
     ]
    },
    {
     "name": "stderr",
     "output_type": "stream",
     "text": [
      "\r",
      "t:  88%|████████▊ | 1103/1260 [04:13<00:13, 11.75it/s, now=None]"
     ]
    },
    {
     "name": "stdout",
     "output_type": "stream",
     "text": [
      "640 midpoint\n",
      "457.0 left_base\n",
      "1009.0 right_base\n",
      "640 midpoint\n",
      "448.0 left_base\n",
      "1016.0 right_base\n",
      "640 midpoint\n",
      "451.0 left_base\n",
      "1015.0 right_base\n"
     ]
    },
    {
     "name": "stderr",
     "output_type": "stream",
     "text": [
      "t:  88%|████████▊ | 1107/1260 [04:13<00:12, 11.92it/s, now=None]"
     ]
    },
    {
     "name": "stdout",
     "output_type": "stream",
     "text": [
      "640 midpoint\n",
      "446.0 left_base\n",
      "1018.0 right_base\n",
      "640 midpoint\n",
      "444.0 left_base\n",
      "1017.0 right_base\n",
      "640 midpoint\n",
      "450.0 left_base\n",
      "1018.0 right_base\n"
     ]
    },
    {
     "name": "stderr",
     "output_type": "stream",
     "text": [
      "\r",
      "t:  88%|████████▊ | 1109/1260 [04:13<00:12, 11.86it/s, now=None]"
     ]
    },
    {
     "name": "stdout",
     "output_type": "stream",
     "text": [
      "640 midpoint\n",
      "443.0 left_base\n",
      "1012.0 right_base\n",
      "640 midpoint\n",
      "446.0 left_base\n",
      "1009.0 right_base\n",
      "640 midpoint\n",
      "443.0 left_base\n",
      "1012.0 right_base\n"
     ]
    },
    {
     "name": "stderr",
     "output_type": "stream",
     "text": [
      "t:  88%|████████▊ | 1113/1260 [04:13<00:12, 11.98it/s, now=None]"
     ]
    },
    {
     "name": "stdout",
     "output_type": "stream",
     "text": [
      "640 midpoint\n",
      "444.0 left_base\n",
      "1010.0 right_base\n",
      "640 midpoint\n",
      "449.0 left_base\n",
      "992.0 right_base\n",
      "640 midpoint\n",
      "442.0 left_base\n",
      "991.0 right_base\n"
     ]
    },
    {
     "name": "stderr",
     "output_type": "stream",
     "text": [
      "\r",
      "t:  88%|████████▊ | 1115/1260 [04:14<00:12, 11.87it/s, now=None]"
     ]
    },
    {
     "name": "stdout",
     "output_type": "stream",
     "text": [
      "640 midpoint\n",
      "447.0 left_base\n",
      "997.0 right_base\n",
      "640 midpoint\n",
      "447.0 left_base\n",
      "998.0 right_base\n",
      "640 midpoint\n",
      "442.0 left_base\n",
      "1000.0 right_base\n"
     ]
    },
    {
     "name": "stderr",
     "output_type": "stream",
     "text": [
      "t:  89%|████████▉ | 1119/1260 [04:14<00:11, 12.21it/s, now=None]"
     ]
    },
    {
     "name": "stdout",
     "output_type": "stream",
     "text": [
      "640 midpoint\n",
      "451.0 left_base\n",
      "993.0 right_base\n",
      "640 midpoint\n",
      "452.0 left_base\n",
      "991.0 right_base\n",
      "640 midpoint\n",
      "453.0 left_base\n",
      "981.0 right_base\n"
     ]
    },
    {
     "name": "stderr",
     "output_type": "stream",
     "text": [
      "\r",
      "t:  89%|████████▉ | 1121/1260 [04:14<00:11, 12.09it/s, now=None]"
     ]
    },
    {
     "name": "stdout",
     "output_type": "stream",
     "text": [
      "640 midpoint\n",
      "451.0 left_base\n",
      "982.0 right_base\n",
      "640 midpoint\n",
      "445.0 left_base\n",
      "1000.0 right_base\n",
      "640 midpoint\n",
      "441.0 left_base\n",
      "1008.0 right_base\n"
     ]
    },
    {
     "name": "stderr",
     "output_type": "stream",
     "text": [
      "t:  89%|████████▉ | 1125/1260 [04:14<00:11, 12.20it/s, now=None]"
     ]
    },
    {
     "name": "stdout",
     "output_type": "stream",
     "text": [
      "640 midpoint\n",
      "435.0 left_base\n",
      "1007.0 right_base\n",
      "640 midpoint\n",
      "426.0 left_base\n",
      "1011.0 right_base\n",
      "640 midpoint\n",
      "431.0 left_base\n",
      "1005.0 right_base\n"
     ]
    },
    {
     "name": "stderr",
     "output_type": "stream",
     "text": [
      "\r",
      "t:  89%|████████▉ | 1127/1260 [04:15<00:10, 12.17it/s, now=None]"
     ]
    },
    {
     "name": "stdout",
     "output_type": "stream",
     "text": [
      "640 midpoint\n",
      "425.0 left_base\n",
      "1012.0 right_base\n",
      "640 midpoint\n",
      "428.0 left_base\n",
      "1014.0 right_base\n",
      "640 midpoint\n",
      "428.0 left_base\n",
      "1015.0 right_base\n"
     ]
    },
    {
     "name": "stderr",
     "output_type": "stream",
     "text": [
      "t:  90%|████████▉ | 1131/1260 [04:15<00:10, 12.08it/s, now=None]"
     ]
    },
    {
     "name": "stdout",
     "output_type": "stream",
     "text": [
      "640 midpoint\n",
      "424.0 left_base\n",
      "1017.0 right_base\n",
      "640 midpoint\n",
      "430.0 left_base\n",
      "1012.0 right_base\n",
      "640 midpoint\n",
      "433.0 left_base\n",
      "1006.0 right_base\n"
     ]
    },
    {
     "name": "stderr",
     "output_type": "stream",
     "text": [
      "\r",
      "t:  90%|████████▉ | 1133/1260 [04:15<00:11, 11.45it/s, now=None]"
     ]
    },
    {
     "name": "stdout",
     "output_type": "stream",
     "text": [
      "640 midpoint\n",
      "433.0 left_base\n",
      "1008.0 right_base\n",
      "640 midpoint\n",
      "442.0 left_base\n",
      "1005.0 right_base\n",
      "640 midpoint\n",
      "435.0 left_base\n",
      "1011.0 right_base\n"
     ]
    },
    {
     "name": "stderr",
     "output_type": "stream",
     "text": [
      "t:  90%|█████████ | 1137/1260 [04:15<00:10, 11.27it/s, now=None]"
     ]
    },
    {
     "name": "stdout",
     "output_type": "stream",
     "text": [
      "640 midpoint\n",
      "436.0 left_base\n",
      "1008.0 right_base\n",
      "640 midpoint\n",
      "436.0 left_base\n",
      "998.0 right_base\n",
      "640 midpoint\n",
      "438.0 left_base\n",
      "1001.0 right_base\n"
     ]
    },
    {
     "name": "stderr",
     "output_type": "stream",
     "text": [
      "\r",
      "t:  90%|█████████ | 1139/1260 [04:16<00:10, 11.23it/s, now=None]"
     ]
    },
    {
     "name": "stdout",
     "output_type": "stream",
     "text": [
      "640 midpoint\n",
      "441.0 left_base\n",
      "997.0 right_base\n",
      "640 midpoint\n",
      "445.0 left_base\n",
      "999.0 right_base\n",
      "640 midpoint\n",
      "441.0 left_base\n",
      "998.0 right_base\n"
     ]
    },
    {
     "name": "stderr",
     "output_type": "stream",
     "text": [
      "\r",
      "t:  91%|█████████ | 1141/1260 [04:16<00:10, 11.42it/s, now=None]"
     ]
    },
    {
     "name": "stdout",
     "output_type": "stream",
     "text": [
      "640 midpoint\n",
      "444.0 left_base\n",
      "998.0 right_base\n",
      "640 midpoint\n",
      "438.0 left_base\n",
      "989.0 right_base\n",
      "640 midpoint\n",
      "440.0 left_base\n",
      "992.0 right_base\n"
     ]
    },
    {
     "name": "stderr",
     "output_type": "stream",
     "text": [
      "t:  91%|█████████ | 1145/1260 [04:16<00:12,  9.17it/s, now=None]"
     ]
    },
    {
     "name": "stdout",
     "output_type": "stream",
     "text": [
      "640 midpoint\n",
      "440.0 left_base\n",
      "998.0 right_base\n",
      "640 midpoint\n",
      "440.0 left_base\n",
      "997.0 right_base\n"
     ]
    },
    {
     "name": "stderr",
     "output_type": "stream",
     "text": [
      "t:  91%|█████████ | 1147/1260 [04:17<00:12,  8.80it/s, now=None]"
     ]
    },
    {
     "name": "stdout",
     "output_type": "stream",
     "text": [
      "640 midpoint\n",
      "444.0 left_base\n",
      "983.0 right_base\n",
      "640 midpoint\n",
      "438.0 left_base\n",
      "986.0 right_base\n"
     ]
    },
    {
     "name": "stderr",
     "output_type": "stream",
     "text": [
      "\r",
      "t:  91%|█████████ | 1148/1260 [04:17<00:12,  9.08it/s, now=None]"
     ]
    },
    {
     "name": "stdout",
     "output_type": "stream",
     "text": [
      "640 midpoint\n",
      "439.0 left_base\n",
      "989.0 right_base\n",
      "640 midpoint\n",
      "441.0 left_base\n",
      "989.0 right_base\n",
      "640 midpoint\n",
      "433.0 left_base\n",
      "996.0 right_base\n"
     ]
    },
    {
     "name": "stderr",
     "output_type": "stream",
     "text": [
      "t:  91%|█████████▏| 1152/1260 [04:17<00:10, 10.24it/s, now=None]"
     ]
    },
    {
     "name": "stdout",
     "output_type": "stream",
     "text": [
      "640 midpoint\n",
      "434.0 left_base\n",
      "994.0 right_base\n",
      "640 midpoint\n",
      "432.0 left_base\n",
      "996.0 right_base\n",
      "640 midpoint\n",
      "431.0 left_base\n",
      "990.0 right_base\n"
     ]
    },
    {
     "name": "stderr",
     "output_type": "stream",
     "text": [
      "t:  92%|█████████▏| 1156/1260 [04:17<00:09, 11.05it/s, now=None]"
     ]
    },
    {
     "name": "stdout",
     "output_type": "stream",
     "text": [
      "640 midpoint\n",
      "434.0 left_base\n",
      "986.0 right_base\n",
      "640 midpoint\n",
      "428.0 left_base\n",
      "996.0 right_base\n",
      "640 midpoint\n",
      "429.0 left_base\n",
      "1000.0 right_base\n"
     ]
    },
    {
     "name": "stderr",
     "output_type": "stream",
     "text": [
      "\r",
      "t:  92%|█████████▏| 1158/1260 [04:17<00:09, 11.08it/s, now=None]"
     ]
    },
    {
     "name": "stdout",
     "output_type": "stream",
     "text": [
      "640 midpoint\n",
      "429.0 left_base\n",
      "996.0 right_base\n",
      "640 midpoint\n",
      "421.0 left_base\n",
      "1001.0 right_base\n",
      "640 midpoint\n",
      "425.0 left_base\n",
      "998.0 right_base\n"
     ]
    },
    {
     "name": "stderr",
     "output_type": "stream",
     "text": [
      "t:  92%|█████████▏| 1162/1260 [04:18<00:08, 11.41it/s, now=None]"
     ]
    },
    {
     "name": "stdout",
     "output_type": "stream",
     "text": [
      "640 midpoint\n",
      "424.0 left_base\n",
      "1005.0 right_base\n",
      "640 midpoint\n",
      "426.0 left_base\n",
      "1003.0 right_base\n",
      "640 midpoint\n",
      "430.0 left_base\n",
      "999.0 right_base\n"
     ]
    },
    {
     "name": "stderr",
     "output_type": "stream",
     "text": [
      "\r",
      "t:  92%|█████████▏| 1164/1260 [04:18<00:08, 11.74it/s, now=None]"
     ]
    },
    {
     "name": "stdout",
     "output_type": "stream",
     "text": [
      "640 midpoint\n",
      "427.0 left_base\n",
      "1005.0 right_base\n",
      "640 midpoint\n",
      "432.0 left_base\n",
      "997.0 right_base\n",
      "640 midpoint\n",
      "433.0 left_base\n",
      "991.0 right_base\n"
     ]
    },
    {
     "name": "stderr",
     "output_type": "stream",
     "text": [
      "t:  93%|█████████▎| 1168/1260 [04:18<00:07, 12.06it/s, now=None]"
     ]
    },
    {
     "name": "stdout",
     "output_type": "stream",
     "text": [
      "640 midpoint\n",
      "428.0 left_base\n",
      "1001.0 right_base\n",
      "640 midpoint\n",
      "433.0 left_base\n",
      "1006.0 right_base\n",
      "640 midpoint\n",
      "434.0 left_base\n",
      "1006.0 right_base\n"
     ]
    },
    {
     "name": "stderr",
     "output_type": "stream",
     "text": [
      "\r",
      "t:  93%|█████████▎| 1170/1260 [04:18<00:07, 11.93it/s, now=None]"
     ]
    },
    {
     "name": "stdout",
     "output_type": "stream",
     "text": [
      "640 midpoint\n",
      "430.0 left_base\n",
      "1002.0 right_base\n",
      "640 midpoint\n",
      "441.0 left_base\n",
      "999.0 right_base\n",
      "640 midpoint\n",
      "443.0 left_base\n",
      "1003.0 right_base\n"
     ]
    },
    {
     "name": "stderr",
     "output_type": "stream",
     "text": [
      "t:  93%|█████████▎| 1174/1260 [04:19<00:07, 11.97it/s, now=None]"
     ]
    },
    {
     "name": "stdout",
     "output_type": "stream",
     "text": [
      "640 midpoint\n",
      "450.0 left_base\n",
      "1001.0 right_base\n",
      "640 midpoint\n",
      "452.0 left_base\n",
      "1004.0 right_base\n",
      "640 midpoint\n",
      "450.0 left_base\n",
      "1008.0 right_base\n"
     ]
    },
    {
     "name": "stderr",
     "output_type": "stream",
     "text": [
      "\r",
      "t:  93%|█████████▎| 1176/1260 [04:19<00:06, 12.27it/s, now=None]"
     ]
    },
    {
     "name": "stdout",
     "output_type": "stream",
     "text": [
      "640 midpoint\n",
      "454.0 left_base\n",
      "1006.0 right_base\n",
      "640 midpoint\n",
      "453.0 left_base\n",
      "1005.0 right_base\n",
      "640 midpoint\n",
      "452.0 left_base\n",
      "1010.0 right_base\n"
     ]
    },
    {
     "name": "stderr",
     "output_type": "stream",
     "text": [
      "t:  94%|█████████▎| 1180/1260 [04:19<00:06, 12.16it/s, now=None]"
     ]
    },
    {
     "name": "stdout",
     "output_type": "stream",
     "text": [
      "640 midpoint\n",
      "457.0 left_base\n",
      "1013.0 right_base\n",
      "640 midpoint\n",
      "453.0 left_base\n",
      "1015.0 right_base\n",
      "640 midpoint\n",
      "456.0 left_base\n",
      "1010.0 right_base\n"
     ]
    },
    {
     "name": "stderr",
     "output_type": "stream",
     "text": [
      "\r",
      "t:  94%|█████████▍| 1182/1260 [04:19<00:06, 11.96it/s, now=None]"
     ]
    },
    {
     "name": "stdout",
     "output_type": "stream",
     "text": [
      "640 midpoint\n",
      "454.0 left_base\n",
      "1012.0 right_base\n",
      "640 midpoint\n",
      "453.0 left_base\n",
      "1015.0 right_base\n",
      "640 midpoint\n",
      "459.0 left_base\n",
      "1015.0 right_base\n"
     ]
    },
    {
     "name": "stderr",
     "output_type": "stream",
     "text": [
      "t:  94%|█████████▍| 1186/1260 [04:20<00:06, 11.74it/s, now=None]"
     ]
    },
    {
     "name": "stdout",
     "output_type": "stream",
     "text": [
      "640 midpoint\n",
      "455.0 left_base\n",
      "1017.0 right_base\n",
      "640 midpoint\n",
      "457.0 left_base\n",
      "1018.0 right_base\n",
      "640 midpoint\n",
      "461.0 left_base\n",
      "1019.0 right_base\n"
     ]
    },
    {
     "name": "stderr",
     "output_type": "stream",
     "text": [
      "\r",
      "t:  94%|█████████▍| 1188/1260 [04:20<00:05, 12.10it/s, now=None]"
     ]
    },
    {
     "name": "stdout",
     "output_type": "stream",
     "text": [
      "640 midpoint\n",
      "458.0 left_base\n",
      "1020.0 right_base\n",
      "640 midpoint\n",
      "459.0 left_base\n",
      "1014.0 right_base\n",
      "640 midpoint\n",
      "460.0 left_base\n",
      "1016.0 right_base\n"
     ]
    },
    {
     "name": "stderr",
     "output_type": "stream",
     "text": [
      "t:  95%|█████████▍| 1192/1260 [04:20<00:05, 12.22it/s, now=None]"
     ]
    },
    {
     "name": "stdout",
     "output_type": "stream",
     "text": [
      "640 midpoint\n",
      "456.0 left_base\n",
      "1022.0 right_base\n",
      "640 midpoint\n",
      "459.0 left_base\n",
      "1011.0 right_base\n",
      "640 midpoint\n",
      "456.0 left_base\n",
      "1010.0 right_base\n"
     ]
    },
    {
     "name": "stderr",
     "output_type": "stream",
     "text": [
      "\r",
      "t:  95%|█████████▍| 1194/1260 [04:20<00:05, 12.01it/s, now=None]"
     ]
    },
    {
     "name": "stdout",
     "output_type": "stream",
     "text": [
      "640 midpoint\n",
      "457.0 left_base\n",
      "1011.0 right_base\n",
      "640 midpoint\n",
      "462.0 left_base\n",
      "1013.0 right_base\n",
      "640 midpoint\n",
      "457.0 left_base\n",
      "1017.0 right_base\n"
     ]
    },
    {
     "name": "stderr",
     "output_type": "stream",
     "text": [
      "t:  95%|█████████▌| 1198/1260 [04:21<00:05, 11.84it/s, now=None]"
     ]
    },
    {
     "name": "stdout",
     "output_type": "stream",
     "text": [
      "640 midpoint\n",
      "462.0 left_base\n",
      "1015.0 right_base\n",
      "640 midpoint\n",
      "464.0 left_base\n",
      "1013.0 right_base\n",
      "640 midpoint\n",
      "460.0 left_base\n",
      "1012.0 right_base\n"
     ]
    },
    {
     "name": "stderr",
     "output_type": "stream",
     "text": [
      "\r",
      "t:  95%|█████████▌| 1200/1260 [04:21<00:04, 12.06it/s, now=None]"
     ]
    },
    {
     "name": "stdout",
     "output_type": "stream",
     "text": [
      "640 midpoint\n",
      "459.0 left_base\n",
      "1009.0 right_base\n",
      "640 midpoint\n",
      "449.0 left_base\n",
      "1019.0 right_base\n",
      "640 midpoint\n",
      "443.0 left_base\n",
      "1027.0 right_base\n"
     ]
    },
    {
     "name": "stderr",
     "output_type": "stream",
     "text": [
      "t:  96%|█████████▌| 1204/1260 [04:21<00:04, 12.08it/s, now=None]"
     ]
    },
    {
     "name": "stdout",
     "output_type": "stream",
     "text": [
      "640 midpoint\n",
      "450.0 left_base\n",
      "1015.0 right_base\n",
      "640 midpoint\n",
      "450.0 left_base\n",
      "1019.0 right_base\n",
      "640 midpoint\n",
      "453.0 left_base\n",
      "1006.0 right_base\n"
     ]
    },
    {
     "name": "stderr",
     "output_type": "stream",
     "text": [
      "\r",
      "t:  96%|█████████▌| 1206/1260 [04:21<00:04, 11.81it/s, now=None]"
     ]
    },
    {
     "name": "stdout",
     "output_type": "stream",
     "text": [
      "640 midpoint\n",
      "460.0 left_base\n",
      "1018.0 right_base\n",
      "640 midpoint\n",
      "463.0 left_base\n",
      "1019.0 right_base\n",
      "640 midpoint\n",
      "471.0 left_base\n",
      "1018.0 right_base\n"
     ]
    },
    {
     "name": "stderr",
     "output_type": "stream",
     "text": [
      "t:  96%|█████████▌| 1210/1260 [04:22<00:04, 11.70it/s, now=None]"
     ]
    },
    {
     "name": "stdout",
     "output_type": "stream",
     "text": [
      "640 midpoint\n",
      "474.0 left_base\n",
      "1021.0 right_base\n",
      "640 midpoint\n",
      "473.0 left_base\n",
      "1020.0 right_base\n",
      "640 midpoint\n",
      "481.0 left_base\n",
      "1011.0 right_base\n"
     ]
    },
    {
     "name": "stderr",
     "output_type": "stream",
     "text": [
      "\r",
      "t:  96%|█████████▌| 1212/1260 [04:22<00:04, 11.87it/s, now=None]"
     ]
    },
    {
     "name": "stdout",
     "output_type": "stream",
     "text": [
      "640 midpoint\n",
      "480.0 left_base\n",
      "1017.0 right_base\n",
      "640 midpoint\n",
      "483.0 left_base\n",
      "1021.0 right_base\n",
      "640 midpoint\n",
      "483.0 left_base\n",
      "1021.0 right_base\n"
     ]
    },
    {
     "name": "stderr",
     "output_type": "stream",
     "text": [
      "t:  97%|█████████▋| 1216/1260 [04:22<00:03, 11.92it/s, now=None]"
     ]
    },
    {
     "name": "stdout",
     "output_type": "stream",
     "text": [
      "640 midpoint\n",
      "478.0 left_base\n",
      "1010.0 right_base\n",
      "640 midpoint\n",
      "481.0 left_base\n",
      "1019.0 right_base\n",
      "640 midpoint\n",
      "481.0 left_base\n",
      "1022.0 right_base\n"
     ]
    },
    {
     "name": "stderr",
     "output_type": "stream",
     "text": [
      "\r",
      "t:  97%|█████████▋| 1218/1260 [04:22<00:03, 11.79it/s, now=None]"
     ]
    },
    {
     "name": "stdout",
     "output_type": "stream",
     "text": [
      "640 midpoint\n",
      "479.0 left_base\n",
      "1025.0 right_base\n",
      "640 midpoint\n",
      "482.0 left_base\n",
      "1026.0 right_base\n",
      "640 midpoint\n",
      "479.0 left_base\n",
      "1027.0 right_base\n"
     ]
    },
    {
     "name": "stderr",
     "output_type": "stream",
     "text": [
      "t:  97%|█████████▋| 1222/1260 [04:23<00:03, 11.64it/s, now=None]"
     ]
    },
    {
     "name": "stdout",
     "output_type": "stream",
     "text": [
      "640 midpoint\n",
      "478.0 left_base\n",
      "1032.0 right_base\n",
      "640 midpoint\n",
      "482.0 left_base\n",
      "1028.0 right_base\n",
      "640 midpoint\n",
      "480.0 left_base\n",
      "1021.0 right_base\n"
     ]
    },
    {
     "name": "stderr",
     "output_type": "stream",
     "text": [
      "\r",
      "t:  97%|█████████▋| 1224/1260 [04:23<00:03, 11.97it/s, now=None]"
     ]
    },
    {
     "name": "stdout",
     "output_type": "stream",
     "text": [
      "640 midpoint\n",
      "485.0 left_base\n",
      "1032.0 right_base\n",
      "640 midpoint\n",
      "492.0 left_base\n",
      "1031.0 right_base\n",
      "640 midpoint\n",
      "491.0 left_base\n",
      "1005.0 right_base\n"
     ]
    },
    {
     "name": "stderr",
     "output_type": "stream",
     "text": [
      "t:  97%|█████████▋| 1228/1260 [04:23<00:02, 11.94it/s, now=None]"
     ]
    },
    {
     "name": "stdout",
     "output_type": "stream",
     "text": [
      "640 midpoint\n",
      "495.0 left_base\n",
      "1017.0 right_base\n",
      "640 midpoint\n",
      "489.0 left_base\n",
      "1020.0 right_base\n",
      "640 midpoint\n",
      "483.0 left_base\n",
      "1026.0 right_base\n"
     ]
    },
    {
     "name": "stderr",
     "output_type": "stream",
     "text": [
      "\r",
      "t:  98%|█████████▊| 1230/1260 [04:23<00:02, 11.91it/s, now=None]"
     ]
    },
    {
     "name": "stdout",
     "output_type": "stream",
     "text": [
      "640 midpoint\n",
      "479.0 left_base\n",
      "1026.0 right_base\n",
      "640 midpoint\n",
      "470.0 left_base\n",
      "1024.0 right_base\n",
      "640 midpoint\n",
      "469.0 left_base\n",
      "1023.0 right_base\n"
     ]
    },
    {
     "name": "stderr",
     "output_type": "stream",
     "text": [
      "\r",
      "t:  98%|█████████▊| 1232/1260 [04:24<00:02, 11.78it/s, now=None]"
     ]
    },
    {
     "name": "stdout",
     "output_type": "stream",
     "text": [
      "640 midpoint\n",
      "470.0 left_base\n",
      "1025.0 right_base\n",
      "640 midpoint\n",
      "469.0 left_base\n",
      "1019.0 right_base\n"
     ]
    },
    {
     "name": "stderr",
     "output_type": "stream",
     "text": [
      "t:  98%|█████████▊| 1236/1260 [04:24<00:02, 10.40it/s, now=None]"
     ]
    },
    {
     "name": "stdout",
     "output_type": "stream",
     "text": [
      "640 midpoint\n",
      "476.0 left_base\n",
      "1027.0 right_base\n",
      "640 midpoint\n",
      "476.0 left_base\n",
      "1028.0 right_base\n",
      "640 midpoint\n",
      "475.0 left_base\n",
      "1017.0 right_base\n"
     ]
    },
    {
     "name": "stderr",
     "output_type": "stream",
     "text": [
      "\r",
      "t:  98%|█████████▊| 1238/1260 [04:24<00:02, 10.69it/s, now=None]"
     ]
    },
    {
     "name": "stdout",
     "output_type": "stream",
     "text": [
      "640 midpoint\n",
      "476.0 left_base\n",
      "1020.0 right_base\n",
      "640 midpoint\n",
      "473.0 left_base\n",
      "1025.0 right_base\n",
      "640 midpoint\n",
      "471.0 left_base\n",
      "1029.0 right_base\n"
     ]
    },
    {
     "name": "stderr",
     "output_type": "stream",
     "text": [
      "t:  99%|█████████▊| 1242/1260 [04:25<00:01, 11.17it/s, now=None]"
     ]
    },
    {
     "name": "stdout",
     "output_type": "stream",
     "text": [
      "640 midpoint\n",
      "472.0 left_base\n",
      "1025.0 right_base\n",
      "640 midpoint\n",
      "469.0 left_base\n",
      "1022.0 right_base\n",
      "640 midpoint\n",
      "470.0 left_base\n",
      "1020.0 right_base\n"
     ]
    },
    {
     "name": "stderr",
     "output_type": "stream",
     "text": [
      "\r",
      "t:  99%|█████████▊| 1244/1260 [04:25<00:01, 11.50it/s, now=None]"
     ]
    },
    {
     "name": "stdout",
     "output_type": "stream",
     "text": [
      "640 midpoint\n",
      "469.0 left_base\n",
      "1010.0 right_base\n",
      "640 midpoint\n",
      "463.0 left_base\n",
      "1009.0 right_base\n",
      "640 midpoint\n",
      "464.0 left_base\n",
      "1019.0 right_base\n"
     ]
    },
    {
     "name": "stderr",
     "output_type": "stream",
     "text": [
      "t:  99%|█████████▉| 1248/1260 [04:25<00:01, 11.72it/s, now=None]"
     ]
    },
    {
     "name": "stdout",
     "output_type": "stream",
     "text": [
      "640 midpoint\n",
      "461.0 left_base\n",
      "1020.0 right_base\n",
      "640 midpoint\n",
      "460.0 left_base\n",
      "1009.0 right_base\n",
      "640 midpoint\n",
      "467.0 left_base\n",
      "1010.0 right_base\n"
     ]
    },
    {
     "name": "stderr",
     "output_type": "stream",
     "text": [
      "\r",
      "t:  99%|█████████▉| 1250/1260 [04:25<00:00, 11.51it/s, now=None]"
     ]
    },
    {
     "name": "stdout",
     "output_type": "stream",
     "text": [
      "640 midpoint\n",
      "465.0 left_base\n",
      "1013.0 right_base\n",
      "640 midpoint\n",
      "465.0 left_base\n",
      "1013.0 right_base\n",
      "640 midpoint\n",
      "465.0 left_base\n",
      "1012.0 right_base\n"
     ]
    },
    {
     "name": "stderr",
     "output_type": "stream",
     "text": [
      "\r",
      "t:  99%|█████████▉| 1252/1260 [04:25<00:00, 11.23it/s, now=None]"
     ]
    },
    {
     "name": "stdout",
     "output_type": "stream",
     "text": [
      "640 midpoint\n",
      "458.0 left_base\n",
      "1015.0 right_base\n",
      "640 midpoint\n",
      "455.0 left_base\n",
      "1016.0 right_base\n"
     ]
    },
    {
     "name": "stderr",
     "output_type": "stream",
     "text": [
      "\r",
      "t: 100%|█████████▉| 1254/1260 [04:26<00:00,  9.69it/s, now=None]"
     ]
    },
    {
     "name": "stdout",
     "output_type": "stream",
     "text": [
      "640 midpoint\n",
      "452.0 left_base\n",
      "1009.0 right_base\n",
      "640 midpoint\n",
      "447.0 left_base\n",
      "1006.0 right_base\n",
      "640 midpoint\n",
      "448.0 left_base\n",
      "1005.0 right_base\n"
     ]
    },
    {
     "name": "stderr",
     "output_type": "stream",
     "text": [
      "t: 100%|█████████▉| 1258/1260 [04:26<00:00, 10.36it/s, now=None]"
     ]
    },
    {
     "name": "stdout",
     "output_type": "stream",
     "text": [
      "640 midpoint\n",
      "446.0 left_base\n",
      "1010.0 right_base\n",
      "640 midpoint\n",
      "444.0 left_base\n",
      "995.0 right_base\n",
      "640 midpoint\n",
      "442.0 left_base\n",
      "984.0 right_base\n"
     ]
    },
    {
     "name": "stderr",
     "output_type": "stream",
     "text": [
      "                                                                "
     ]
    },
    {
     "name": "stdout",
     "output_type": "stream",
     "text": [
      "640 midpoint\n",
      "435.0 left_base\n",
      "991.0 right_base\n",
      "640 midpoint\n",
      "433.0 left_base\n",
      "991.0 right_base\n"
     ]
    },
    {
     "name": "stderr",
     "output_type": "stream",
     "text": [
      "\r"
     ]
    },
    {
     "name": "stdout",
     "output_type": "stream",
     "text": [
      "Moviepy - Done !\n",
      "Moviepy - video ready test_videos_output/project_video.mp4\n",
      "CPU times: user 2min 21s, sys: 14.2 s, total: 2min 35s\n",
      "Wall time: 4min 28s\n"
     ]
    }
   ],
   "source": [
    "from moviepy.editor import VideoFileClip\n",
    "from IPython.display import HTML\n",
    "from matplotlib.path import Path\n",
    "\n",
    "\n",
    "def find_lane_pixels(binary_warped):\n",
    "    # Take a histogram of the bottom half of the image\n",
    "    histogram = np.sum(binary_warped[binary_warped.shape[0]//2:,:], axis=0)\n",
    "    # Create an output image to draw on and visualize the result\n",
    "    out_img = np.dstack((binary_warped, binary_warped, binary_warped))\n",
    "    # Find the peak of the left and right halves of the histogram\n",
    "    # These will be the starting point for the left and right lines\n",
    "    midpoint = np.int(histogram.shape[0]//2)\n",
    "    leftx_base = np.argmax(histogram[:midpoint])\n",
    "    rightx_base = np.argmax(histogram[midpoint:]) + midpoint\n",
    "\n",
    "    # HYPERPARAMETERS\n",
    "    # Choose the number of sliding windows\n",
    "    nwindows = 9\n",
    "    # Set the width of the windows +/- margin\n",
    "    margin = 100\n",
    "    # Set minimum number of pixels found to recenter window\n",
    "    minpix = 50\n",
    "\n",
    "    # Set height of windows - based on nwindows above and image shape\n",
    "    window_height = np.int(binary_warped.shape[0]//nwindows)\n",
    "    # Identify the x and y positions of all nonzero pixels in the image\n",
    "    nonzero = binary_warped.nonzero()\n",
    "    nonzeroy = np.array(nonzero[0])\n",
    "    nonzerox = np.array(nonzero[1])\n",
    "    # Current positions to be updated later for each window in nwindows\n",
    "    leftx_current = leftx_base\n",
    "    rightx_current = rightx_base\n",
    "\n",
    "    # Create empty lists to receive left and right lane pixel indices\n",
    "    left_lane_inds = []\n",
    "    right_lane_inds = []\n",
    "\n",
    "    # Step through the windows one by one\n",
    "    for window in range(nwindows):\n",
    "        # Identify window boundaries in x and y (and right and left)\n",
    "        win_y_low = binary_warped.shape[0] - (window+1)*window_height\n",
    "        win_y_high = binary_warped.shape[0] - window*window_height\n",
    "        win_xleft_low = leftx_current - margin\n",
    "        win_xleft_high = leftx_current + margin\n",
    "        win_xright_low = rightx_current - margin\n",
    "        win_xright_high = rightx_current + margin\n",
    "        \n",
    "        # Draw the windows on the visualization image\n",
    "#         cv2.rectangle(out_img,(win_xleft_low,win_y_low),\n",
    "#         (win_xleft_high,win_y_high),(0,255,0), 2) \n",
    "#         cv2.rectangle(out_img,(win_xright_low,win_y_low),\n",
    "#         (win_xright_high,win_y_high),(0,255,0), 2) \n",
    "        \n",
    "        # Identify the nonzero pixels in x and y within the window #\n",
    "        good_left_inds = ((nonzeroy >= win_y_low) & (nonzeroy < win_y_high) & \n",
    "        (nonzerox >= win_xleft_low) &  (nonzerox < win_xleft_high)).nonzero()[0]\n",
    "        good_right_inds = ((nonzeroy >= win_y_low) & (nonzeroy < win_y_high) & \n",
    "        (nonzerox >= win_xright_low) &  (nonzerox < win_xright_high)).nonzero()[0]\n",
    "        \n",
    "        # Append these indices to the lists\n",
    "        left_lane_inds.append(good_left_inds)\n",
    "        right_lane_inds.append(good_right_inds)\n",
    "        \n",
    "        # If you found > minpix pixels, recenter next window on their mean position\n",
    "        if len(good_left_inds) > minpix:\n",
    "            leftx_current = np.int(np.mean(nonzerox[good_left_inds]))\n",
    "        if len(good_right_inds) > minpix:        \n",
    "            rightx_current = np.int(np.mean(nonzerox[good_right_inds]))\n",
    "\n",
    "    # Concatenate the arrays of indices (previously was a list of lists of pixels)\n",
    "    try:\n",
    "        left_lane_inds = np.concatenate(left_lane_inds)\n",
    "        right_lane_inds = np.concatenate(right_lane_inds)\n",
    "    except ValueError:\n",
    "        # Avoids an error if the above is not implemented fully\n",
    "        pass\n",
    "\n",
    "    # Extract left and right line pixel positions\n",
    "    leftx = nonzerox[left_lane_inds]\n",
    "    lefty = nonzeroy[left_lane_inds] \n",
    "    rightx = nonzerox[right_lane_inds]\n",
    "    righty = nonzeroy[right_lane_inds]\n",
    "\n",
    "    return leftx, lefty, rightx, righty, out_img\n",
    "\n",
    "def measure_curvature_pixels(binary_warped):\n",
    "    '''\n",
    "    Calculates the curvature of polynomial functions in pixels.\n",
    "    '''\n",
    "    # Start by generating our fake example data\n",
    "    # Make sure to feed in your real data instead in your project!\n",
    "    leftx, lefty, rightx, righty, out_img = find_lane_pixels(binary_warped)\n",
    "    # Fit a second order polynomial to each using `np.polyfit`\n",
    "    ym_per_pix = 30/720 # meters per pixel in y dimension\n",
    "    xm_per_pix = 3.7/700 # meters per pixel in x dimension\n",
    "    \n",
    "    left_fit = np.polyfit(lefty*ym_per_pix, leftx*xm_per_pix, 2)\n",
    "    right_fit = np.polyfit(righty*ym_per_pix, rightx*xm_per_pix, 2)\n",
    "\n",
    "    # Generate x and y values for plotting\n",
    "    ploty = np.linspace(0, binary_warped.shape[0]-1, binary_warped.shape[0] )\n",
    "    \n",
    "    # Define y-value where we want radius of curvature\n",
    "    # We'll choose the maximum y-value, corresponding to the bottom of the image\n",
    "    y_eval = np.max(ploty)\n",
    "    \n",
    "    # Calculation of R_curve (radius of curvature)\n",
    "    left_curverad = ((1 + (2*left_fit[0]*y_eval + left_fit[1])**2)**1.5) / np.absolute(2*left_fit[0])\n",
    "    right_curverad = ((1 + (2*right_fit[0]*y_eval + right_fit[1])**2)**1.5) / np.absolute(2*right_fit[0])\n",
    "    \n",
    "    return left_curverad, right_curverad\n",
    "\n",
    "def fit_polynomial(binary_warped):\n",
    "    # Find our lane pixels first\n",
    "    leftx, lefty, rightx, righty, out_img = find_lane_pixels(binary_warped)\n",
    "\n",
    "    # Fit a second order polynomial to each using `np.polyfit`\n",
    "    left_fit = np.polyfit(lefty, leftx, 2)\n",
    "    right_fit = np.polyfit(righty, rightx, 2)\n",
    "\n",
    "    # Generate x and y values for plotting\n",
    "    ploty = np.linspace(0, binary_warped.shape[0]-1, binary_warped.shape[0] )\n",
    "    try:\n",
    "        left_fitx = left_fit[0]*ploty**2 + left_fit[1]*ploty + left_fit[2]\n",
    "        right_fitx = right_fit[0]*ploty**2 + right_fit[1]*ploty + right_fit[2]\n",
    "    except TypeError:\n",
    "        # Avoids an error if `left` and `right_fit` are still none or incorrect\n",
    "        print('The function failed to fit a line!')\n",
    "        left_fitx = 1*ploty**2 + 1*ploty\n",
    "        right_fitx = 1*ploty**2 + 1*ploty\n",
    "\n",
    "    ## Visualization ##\n",
    "    # Colors in the left and right lane regions\n",
    "    out_img[lefty, leftx] = [255, 0, 0]\n",
    "    out_img[righty, rightx] = [0, 0, 255]\n",
    "    \n",
    "\n",
    "    a = np.array(left_fitx)\n",
    "    b = np.array(ploty)\n",
    "    arr1 = np.dstack((a,b))\n",
    "    c = np.array(right_fitx)\n",
    "    arr2 = np.dstack((c,b))\n",
    "    \n",
    "    arrRight = np.concatenate(([[700,0]], arr2[0], [[700,720]]), axis=0)\n",
    "    arrLeft = np.concatenate(([[700,0]], arr1[0], [[700,720]]), axis=0)\n",
    "    \n",
    "    ptsRight = np.array(arrRight, np.int32)\n",
    "    ptsLeft = np.array(arrLeft, np.int32)\n",
    "    cv2.fillConvexPoly(out_img, ptsRight,(255,255,0))\n",
    "    cv2.fillConvexPoly(out_img, ptsLeft,(0,255,0))\n",
    "    return out_img, left_fitx[0], right_fitx[0]\n",
    "\n",
    "def process_image(image):\n",
    "    \n",
    "    # Choose a Sobel kernel size\n",
    "    ksize = 9 # Choose a larger odd number to smooth gradient measurements\n",
    "    xm_per_pix = 3.7/700 # meters per pixel in x dimension\n",
    "    # Convert to HLS color space and separate the S channel\n",
    "    # Note: img is the undistorted image\n",
    "    g_channel = image[:,:,1]\n",
    "    hls = cv2.cvtColor(image, cv2.COLOR_RGB2HLS)\n",
    "    s_channel = hls[:,:,2]\n",
    "\n",
    "    # Grayscale image\n",
    "    # NOTE: we already saw that standard grayscaling lost color information for the lane lines\n",
    "    # Explore gradients in other colors spaces / color channels to see what might work better\n",
    "    gray = cv2.cvtColor(image, cv2.COLOR_RGB2GRAY)\n",
    "\n",
    "    # Sobel x\n",
    "    sobelx = cv2.Sobel(gray, cv2.CV_64F, 1, 0) # Take the derivative in x\n",
    "    abs_sobelx = np.absolute(sobelx) # Absolute x derivative to accentuate lines away from horizontal\n",
    "    scaled_sobel = np.uint8(255*abs_sobelx/np.max(abs_sobelx))\n",
    "\n",
    "    # Threshold x gradient\n",
    "    thresh_min = 20\n",
    "    thresh_max = 100\n",
    "    sxbinary = np.zeros_like(scaled_sobel)\n",
    "    sxbinary[(scaled_sobel >= thresh_min) & (scaled_sobel <= thresh_max)] = 1\n",
    "\n",
    "    # Threshold color channel\n",
    "    s_thresh_min = 170\n",
    "    s_thresh_max = 255\n",
    "    s_binary = np.zeros_like(s_channel)\n",
    "    s_binary[(s_channel >= s_thresh_min) & (s_channel <= s_thresh_max)] = 1\n",
    "    \n",
    "    #Threshold color channel G\n",
    "    g_thresh_min = 170\n",
    "    g_thresh_max = 255\n",
    "    g_binary = np.zeros_like(g_channel)\n",
    "    g_binary[(g_channel >= g_thresh_min) & (g_channel <= g_thresh_max)] = 1\n",
    "    \n",
    "\n",
    "    # Stack each channel to view their individual contributions in green and blue respectively\n",
    "    # This returns a stack of the two binary images, whose components you can see as different colors\n",
    "    color_binary = np.dstack(( np.zeros_like(sxbinary), sxbinary, s_binary)) * 255\n",
    "\n",
    "    # Combine the two binary thresholds\n",
    "    combined_binary = np.zeros_like(sxbinary)\n",
    "    combined_binary[(s_binary == 1) | (sxbinary == 1)] = 1\n",
    "    \n",
    "    #midpoint\n",
    "    histogram = np.sum(combined_binary[combined_binary.shape[0]//2:,:], axis=0)\n",
    "    midpoint = np.int(histogram.shape[0]//2)\n",
    "\n",
    "\n",
    "\n",
    "    #Applying mask if needed\n",
    "    mask = np.zeros_like(combined_binary)\n",
    "    ignore_mask_color = 255  \n",
    "\n",
    "    imshape = image.shape\n",
    "\n",
    "    left_border = imshape[1] * 0.2\n",
    "    right_border = imshape[1]\n",
    "    top_border = imshape[0]/1.5\n",
    "    left_top = left_border * 2\n",
    "    right_top = imshape[1] - left_top\n",
    "\n",
    "\n",
    "    vertices = np.array([[\n",
    "        (left_border,imshape[0]),\n",
    "        (left_top, top_border),\n",
    "        (right_top, top_border),\n",
    "        (right_border,imshape[0])\n",
    "    ]], dtype=np.int32)\n",
    "\n",
    "    cv2.fillPoly(mask, vertices, ignore_mask_color)\n",
    "\n",
    "    masked_edges = cv2.bitwise_and(combined_binary, mask)\n",
    "    \n",
    "    \n",
    "    \n",
    "    img_size = (image.shape[1], image.shape[0])\n",
    "\n",
    "\n",
    "    left_border = img_size[0] * 0.2\n",
    "    right_border = img_size[0] - left_border\n",
    "    top_border = img_size[1] / 1.5\n",
    "    left_top = left_border*2\n",
    "    right_top = img_size[0] - left_top\n",
    "\n",
    "\n",
    "\n",
    "\n",
    "    src = np.float32([\n",
    "        [left_border,img_size[1]],\n",
    "        [left_top, top_border],\n",
    "        [right_top, top_border],\n",
    "        [right_border,img_size[1]]\n",
    "    ])\n",
    "\n",
    "\n",
    "    dst = np.float32([\n",
    "        [left_border,img_size[1]],\n",
    "        [left_border,0],\n",
    "        [right_border,0],\n",
    "        [right_border,img_size[1]]\n",
    "    ])\n",
    "\n",
    "\n",
    "\n",
    "    M = cv2.getPerspectiveTransform(src,dst)\n",
    "    \n",
    "    M_return = cv2.getPerspectiveTransform(dst,src)\n",
    "\n",
    "    warped = cv2.warpPerspective(masked_edges, M, img_size, flags=cv2.INTER_LINEAR)\n",
    "    \n",
    "    curv_left, curv_right = measure_curvature_pixels(warped)\n",
    "  \n",
    "    \n",
    "    itog, leftx, rightx = fit_polynomial(warped)\n",
    "    \n",
    "    print(midpoint, 'midpoint')\n",
    "    print(leftx//1, 'left_base')\n",
    "    print(rightx//1, 'right_base')\n",
    "    width = rightx - leftx\n",
    "    currPos = midpoint - leftx\n",
    "    middle = width / 2\n",
    "    deviation = (middle - currPos) * xm_per_pix\n",
    "    pos = ' left'\n",
    "    if deviation < 0: pos = ' right'\n",
    "    abs_deviation = abs(deviation) \n",
    "    \n",
    "    returned = cv2.warpPerspective(itog, M_return, img_size, flags=cv2.INTER_LINEAR)\n",
    "    \n",
    "    final = cv2.addWeighted(returned, 0.5, image, 1, 0)\n",
    "    \n",
    "    str1 = 'Radius of Curvature = ' + str((curv_left + curv_right)/2//1) + 'm'\n",
    "    str2 = 'Vehicle is ' + str(\"{0:.2f}\".format(abs_deviation)) + pos + ' of center'\n",
    "    \n",
    "    \n",
    "    font                   = cv2.FONT_HERSHEY_SIMPLEX\n",
    "    bottomLeftCornerOfText = (30,30)\n",
    "    fontScale              = 1\n",
    "    fontColor              = (255,255,255)\n",
    "    lineType               = 2\n",
    "\n",
    "    cv2.putText(final,str1, \n",
    "        bottomLeftCornerOfText, \n",
    "        font, \n",
    "        fontScale,\n",
    "        fontColor,\n",
    "        lineType)\n",
    "    \n",
    "    cv2.putText(final,str2, \n",
    "        (30,80), \n",
    "        font, \n",
    "        fontScale,\n",
    "        fontColor,\n",
    "        lineType)\n",
    "    \n",
    "\n",
    "    \n",
    "    return final\n",
    "\n",
    "# fname = 'test_images/test6.jpg'\n",
    "# img = cv2.imread(fname)\n",
    "# converted = cv2.cvtColor(img, cv2.COLOR_RGB2BGR)\n",
    "# dstimg = cv2.undistort(converted, mtx, dist, None, mtx)\n",
    "# out_img = process_image(converted)\n",
    "# plt.subplots_adjust(left=0., right=3, top=5.9, bottom=2.)\n",
    "# plt.imshow(out_img)\n",
    "\n",
    "\n",
    "\n",
    "white_output = 'test_videos_output/project_video.mp4'\n",
    "clip1 = VideoFileClip(\"project_video.mp4\")\n",
    "white_clip = clip1.fl_image(process_image) #NOTE: this function expects color images!!\n",
    "%time white_clip.write_videofile(white_output, audio=False)\n",
    "\n",
    "\n",
    "\n"
   ]
  },
  {
   "cell_type": "code",
   "execution_count": 15,
   "metadata": {},
   "outputs": [
    {
     "data": {
      "text/html": [
       "\n",
       "<video width=\"960\" height=\"540\" controls>\n",
       "  <source src=\"test_videos_output/project_video.mp4\">\n",
       "  \n",
       "</video>\n"
      ],
      "text/plain": [
       "<IPython.core.display.HTML object>"
      ]
     },
     "execution_count": 15,
     "metadata": {},
     "output_type": "execute_result"
    }
   ],
   "source": [
    "HTML(\"\"\"\n",
    "<video width=\"960\" height=\"540\" controls>\n",
    "  <source src=\"{0}\">\n",
    "  \n",
    "</video>\n",
    "\"\"\".format(white_output))"
   ]
  },
  {
   "cell_type": "code",
   "execution_count": null,
   "metadata": {},
   "outputs": [],
   "source": []
  },
  {
   "cell_type": "code",
   "execution_count": null,
   "metadata": {},
   "outputs": [],
   "source": []
  }
 ],
 "metadata": {
  "kernelspec": {
   "display_name": "Python 3",
   "language": "python",
   "name": "python3"
  },
  "language_info": {
   "codemirror_mode": {
    "name": "ipython",
    "version": 3
   },
   "file_extension": ".py",
   "mimetype": "text/x-python",
   "name": "python",
   "nbconvert_exporter": "python",
   "pygments_lexer": "ipython3",
   "version": "3.7.2"
  }
 },
 "nbformat": 4,
 "nbformat_minor": 2
}
