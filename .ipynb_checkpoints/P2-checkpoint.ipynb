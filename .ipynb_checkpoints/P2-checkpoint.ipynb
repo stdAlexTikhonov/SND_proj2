{
 "cells": [
  {
   "cell_type": "code",
   "execution_count": 11,
   "metadata": {},
   "outputs": [],
   "source": [
    "# Import everything needed to edit/save/watch video clips\n",
    "import numpy as np\n",
    "import cv2\n",
    "import glob\n",
    "import matplotlib.pyplot as plt\n",
    "%matplotlib qt\n",
    "\n",
    "\n",
    "# prepare object points, like (0,0,0), (1,0,0), (2,0,0) ....,(6,5,0)\n",
    "objp = np.zeros((6*9,3), np.float32)\n",
    "objp[:,:2] = np.mgrid[0:9,0:6].T.reshape(-1,2)\n",
    "\n",
    "# Arrays to store object points and image points from all the images.\n",
    "objpoints = [] # 3d points in real world space\n",
    "imgpoints = [] # 2d points in image plane.\n",
    "\n",
    "# Make a list of calibration images\n",
    "images = glob.glob('camera_cal/calibration*.jpg')\n",
    "\n",
    "# Step through the list and search for chessboard corners\n",
    "for fname in images:\n",
    "    img = cv2.imread(fname)\n",
    "    gray = cv2.cvtColor(img,cv2.COLOR_BGR2GRAY)\n",
    "\n",
    "    # Find the chessboard corners\n",
    "    ret, corners = cv2.findChessboardCorners(gray, (9,6),None)\n",
    "\n",
    "    # If found, add object points, image points\n",
    "    if ret == True:\n",
    "        objpoints.append(objp)\n",
    "        imgpoints.append(corners)\n",
    "\n",
    "        # Draw and display the corners\n",
    "        img = cv2.drawChessboardCorners(img, (9,6), corners, ret)\n",
    "        cv2.imshow('img',img)\n",
    "        cv2.waitKey(500)\n",
    "\n",
    "cv2.destroyAllWindows()"
   ]
  },
  {
   "cell_type": "code",
   "execution_count": 12,
   "metadata": {},
   "outputs": [],
   "source": [
    "gray = cv2.cvtColor(img, cv2.COLOR_BGR2GRAY)\n",
    "\n",
    "ret, mtx, dist, rvecs, tvecs = cv2.calibrateCamera(objpoints, imgpoints, gray.shape[::-1], None, None)\n"
   ]
  },
  {
   "cell_type": "code",
   "execution_count": 14,
   "metadata": {},
   "outputs": [
    {
     "ename": "RuntimeError",
     "evalue": "imageio.ffmpeg.download() has been deprecated. Use 'pip install imageio-ffmpeg' instead.'",
     "output_type": "error",
     "traceback": [
      "\u001b[0;31m---------------------------------------------------------------------------\u001b[0m",
      "\u001b[0;31mRuntimeError\u001b[0m                              Traceback (most recent call last)",
      "\u001b[0;32m<ipython-input-14-e9fe6295defa>\u001b[0m in \u001b[0;36m<module>\u001b[0;34m\u001b[0m\n\u001b[0;32m----> 1\u001b[0;31m \u001b[0;32mfrom\u001b[0m \u001b[0mmoviepy\u001b[0m\u001b[0;34m.\u001b[0m\u001b[0meditor\u001b[0m \u001b[0;32mimport\u001b[0m \u001b[0mVideoFileClip\u001b[0m\u001b[0;34m\u001b[0m\u001b[0;34m\u001b[0m\u001b[0m\n\u001b[0m\u001b[1;32m      2\u001b[0m \u001b[0;32mfrom\u001b[0m \u001b[0mIPython\u001b[0m\u001b[0;34m.\u001b[0m\u001b[0mdisplay\u001b[0m \u001b[0;32mimport\u001b[0m \u001b[0mHTML\u001b[0m\u001b[0;34m\u001b[0m\u001b[0;34m\u001b[0m\u001b[0m\n\u001b[1;32m      3\u001b[0m \u001b[0;32mfrom\u001b[0m \u001b[0mmatplotlib\u001b[0m\u001b[0;34m.\u001b[0m\u001b[0mpath\u001b[0m \u001b[0;32mimport\u001b[0m \u001b[0mPath\u001b[0m\u001b[0;34m\u001b[0m\u001b[0;34m\u001b[0m\u001b[0m\n\u001b[1;32m      4\u001b[0m \u001b[0;32mimport\u001b[0m \u001b[0mmatplotlib\u001b[0m\u001b[0;34m.\u001b[0m\u001b[0mimage\u001b[0m \u001b[0;32mas\u001b[0m \u001b[0mmpimg\u001b[0m\u001b[0;34m\u001b[0m\u001b[0;34m\u001b[0m\u001b[0m\n\u001b[1;32m      5\u001b[0m \u001b[0;34m\u001b[0m\u001b[0m\n",
      "\u001b[0;32m/miniconda3/envs/sdc/lib/python3.7/site-packages/moviepy/editor.py\u001b[0m in \u001b[0;36m<module>\u001b[0;34m\u001b[0m\n\u001b[1;32m     24\u001b[0m \u001b[0;31m# Checks to see if the user has set a place for their own version of ffmpeg\u001b[0m\u001b[0;34m\u001b[0m\u001b[0;34m\u001b[0m\u001b[0;34m\u001b[0m\u001b[0m\n\u001b[1;32m     25\u001b[0m \u001b[0;32mif\u001b[0m \u001b[0mos\u001b[0m\u001b[0;34m.\u001b[0m\u001b[0mgetenv\u001b[0m\u001b[0;34m(\u001b[0m\u001b[0;34m'FFMPEG_BINARY'\u001b[0m\u001b[0;34m,\u001b[0m \u001b[0;34m'ffmpeg-imageio'\u001b[0m\u001b[0;34m)\u001b[0m \u001b[0;34m==\u001b[0m \u001b[0;34m'ffmpeg-imageio'\u001b[0m\u001b[0;34m:\u001b[0m\u001b[0;34m\u001b[0m\u001b[0;34m\u001b[0m\u001b[0m\n\u001b[0;32m---> 26\u001b[0;31m     \u001b[0mimageio\u001b[0m\u001b[0;34m.\u001b[0m\u001b[0mplugins\u001b[0m\u001b[0;34m.\u001b[0m\u001b[0mffmpeg\u001b[0m\u001b[0;34m.\u001b[0m\u001b[0mdownload\u001b[0m\u001b[0;34m(\u001b[0m\u001b[0;34m)\u001b[0m\u001b[0;34m\u001b[0m\u001b[0;34m\u001b[0m\u001b[0m\n\u001b[0m\u001b[1;32m     27\u001b[0m \u001b[0;34m\u001b[0m\u001b[0m\n\u001b[1;32m     28\u001b[0m \u001b[0;31m# Clips\u001b[0m\u001b[0;34m\u001b[0m\u001b[0;34m\u001b[0m\u001b[0;34m\u001b[0m\u001b[0m\n",
      "\u001b[0;32m/miniconda3/envs/sdc/lib/python3.7/site-packages/imageio/plugins/ffmpeg.py\u001b[0m in \u001b[0;36mdownload\u001b[0;34m(directory, force_download)\u001b[0m\n\u001b[1;32m     38\u001b[0m \u001b[0;34m\u001b[0m\u001b[0m\n\u001b[1;32m     39\u001b[0m \u001b[0mISWIN\u001b[0m \u001b[0;34m=\u001b[0m \u001b[0msys\u001b[0m\u001b[0;34m.\u001b[0m\u001b[0mplatform\u001b[0m\u001b[0;34m.\u001b[0m\u001b[0mstartswith\u001b[0m\u001b[0;34m(\u001b[0m\u001b[0;34m\"win\"\u001b[0m\u001b[0;34m)\u001b[0m\u001b[0;34m\u001b[0m\u001b[0;34m\u001b[0m\u001b[0m\n\u001b[0;32m---> 40\u001b[0;31m \u001b[0;34m\u001b[0m\u001b[0m\n\u001b[0m\u001b[1;32m     41\u001b[0m FNAME_PER_PLATFORM = {\n\u001b[1;32m     42\u001b[0m     \u001b[0;34m\"osx32\"\u001b[0m\u001b[0;34m:\u001b[0m \u001b[0;34m\"ffmpeg-osx-v3.2.4\"\u001b[0m\u001b[0;34m,\u001b[0m\u001b[0;34m\u001b[0m\u001b[0;34m\u001b[0m\u001b[0m\n",
      "\u001b[0;31mRuntimeError\u001b[0m: imageio.ffmpeg.download() has been deprecated. Use 'pip install imageio-ffmpeg' instead.'"
     ]
    }
   ],
   "source": [
    "from moviepy.editor import VideoFileClip\n",
    "from IPython.display import HTML\n",
    "from matplotlib.path import Path\n",
    "import matplotlib.image as mpimg\n",
    "\n",
    "\n",
    "ym_per_p = 30/720 # meters per pixel in y dimension\n",
    "xm_per_p = 3.7/600 # meters per pixel in x dimension\n",
    "\n",
    "def get_offcenter(img, left_fit_m, right_fit_m):\n",
    "    rows, cols = img.shape[:2]\n",
    "    y0 = rows-1\n",
    "    \n",
    "    left = np.polyval(left_fit_m, y0*ym_per_p)\n",
    "    right = np.polyval(right_fit_m, y0*ym_per_p)\n",
    "    center = cols / 2 * xm_per_p\n",
    "    return center - (left + right)/2    \n",
    "\n",
    "\n",
    "\n",
    "def excludeValues(binary_image):\n",
    "    sumval = binary_image.sum(axis=0)\n",
    "    sumvalY = binary_image.sum(axis=1)\n",
    "    \n",
    "    left = sumval[:len(sumval)//2]\n",
    "    right = sumval[len(sumval)//2:]\n",
    "\n",
    "    maxLeft = max(left)\n",
    "    maxRight = max(right)\n",
    "    maxY = max(sumvalY)\n",
    "\n",
    "    tresholdLeft = maxLeft - 50\n",
    "    tresholdRight = maxRight - 50\n",
    "    thresholdY = maxY / 2\n",
    "    \n",
    "    indexiesLeft = [index for index in range(len(left)) if left[index] > tresholdLeft]\n",
    "    indexiesRight = [index for index in range(len(right)) if right[index] > tresholdRight]\n",
    "    indexiesY = [index for index in range(len(sumvalY)) if sumvalY[index] > thresholdY]\n",
    "    \n",
    "    midpoint = binary_image.shape[1]//2\n",
    "    \n",
    "    indexiesRightTransformed = [x + midpoint for x in indexiesRight]\n",
    "    \n",
    "    indexies = np.concatenate((indexiesLeft,indexiesRightTransformed)) \n",
    "  \n",
    "    minX = min(indexiesLeft)\n",
    "    maxX = max(indexiesRight)\n",
    "    minY = min(indexiesY)\n",
    "    maxY = max(indexiesY)\n",
    "    \n",
    "    masked = np.concatenate(([[350,maxY], [50,minY]],[[780, minY], [780,maxY]]), axis=0)\n",
    "    pts = np.array(masked, np.int32)\n",
    "    cv2.fillConvexPoly(binary_image, pts,(0,0,0))\n",
    "    \n",
    "#     for y in range(binary_image.shape[0]):\n",
    "#         if y not in indexiesY:\n",
    "#             for x in range(binary_image.shape[1]):\n",
    "#                 if x not in indexies:\n",
    "#                     binary_image[sumvalY[y],x] = 0\n",
    "    \n",
    "\n",
    "         \n",
    "    return binary_image\n",
    "\n",
    "\n",
    "def find_lane_pixels(binary_warped):\n",
    "    # Take a histogram of the bottom half of the image\n",
    "    histogram = np.sum(binary_warped[binary_warped.shape[0]//2:,:], axis=0)\n",
    "    # Create an output image to draw on and visualize the result\n",
    "    out_img = np.dstack((binary_warped, binary_warped, binary_warped))\n",
    "    # Find the peak of the left and right halves of the histogram\n",
    "    # These will be the starting point for the left and right lines\n",
    "    midpoint = np.int(histogram.shape[0]//2)\n",
    "    leftx_base = np.argmax(histogram[:midpoint])\n",
    "    rightx_base = np.argmax(histogram[midpoint:]) + midpoint\n",
    "\n",
    "    # HYPERPARAMETERS\n",
    "    # Choose the number of sliding windows\n",
    "    nwindows = 9\n",
    "    # Set the width of the windows +/- margin\n",
    "    margin = 100\n",
    "    # Set minimum number of pixels found to recenter window\n",
    "    minpix = 50\n",
    "\n",
    "    # Set height of windows - based on nwindows above and image shape\n",
    "    window_height = np.int(binary_warped.shape[0]//nwindows)\n",
    "    # Identify the x and y positions of all nonzero pixels in the image\n",
    "    nonzero = binary_warped.nonzero()\n",
    "    nonzeroy = np.array(nonzero[0])\n",
    "    nonzerox = np.array(nonzero[1])\n",
    "    # Current positions to be updated later for each window in nwindows\n",
    "    leftx_current = leftx_base\n",
    "    rightx_current = rightx_base\n",
    "\n",
    "    # Create empty lists to receive left and right lane pixel indices\n",
    "    left_lane_inds = []\n",
    "    right_lane_inds = []\n",
    "\n",
    "    # Step through the windows one by one\n",
    "    for window in range(nwindows):\n",
    "        # Identify window boundaries in x and y (and right and left)\n",
    "        win_y_low = binary_warped.shape[0] - (window+1)*window_height\n",
    "        win_y_high = binary_warped.shape[0] - window*window_height\n",
    "        win_xleft_low = leftx_current - margin\n",
    "        win_xleft_high = leftx_current + margin\n",
    "        win_xright_low = rightx_current - margin\n",
    "        win_xright_high = rightx_current + margin\n",
    "        \n",
    "        # Draw the windows on the visualization image\n",
    "#         cv2.rectangle(out_img,(win_xleft_low,win_y_low),\n",
    "#         (win_xleft_high,win_y_high),(0,255,0), 2) \n",
    "#         cv2.rectangle(out_img,(win_xright_low,win_y_low),\n",
    "#         (win_xright_high,win_y_high),(0,255,0), 2) \n",
    "        \n",
    "        # Identify the nonzero pixels in x and y within the window #\n",
    "        good_left_inds = ((nonzeroy >= win_y_low) & (nonzeroy < win_y_high) & \n",
    "        (nonzerox >= win_xleft_low) &  (nonzerox < win_xleft_high)).nonzero()[0]\n",
    "        good_right_inds = ((nonzeroy >= win_y_low) & (nonzeroy < win_y_high) & \n",
    "        (nonzerox >= win_xright_low) &  (nonzerox < win_xright_high)).nonzero()[0]\n",
    "        \n",
    "        # Append these indices to the lists\n",
    "        left_lane_inds.append(good_left_inds)\n",
    "        right_lane_inds.append(good_right_inds)\n",
    "        \n",
    "        # If you found > minpix pixels, recenter next window on their mean position\n",
    "        if len(good_left_inds) > minpix:\n",
    "            leftx_current = np.int(np.mean(nonzerox[good_left_inds]))\n",
    "        if len(good_right_inds) > minpix:        \n",
    "            rightx_current = np.int(np.mean(nonzerox[good_right_inds]))\n",
    "\n",
    "    # Concatenate the arrays of indices (previously was a list of lists of pixels)\n",
    "    try:\n",
    "        left_lane_inds = np.concatenate(left_lane_inds)\n",
    "        right_lane_inds = np.concatenate(right_lane_inds)\n",
    "    except ValueError:\n",
    "        # Avoids an error if the above is not implemented fully\n",
    "        pass\n",
    "\n",
    "    # Extract left and right line pixel positions\n",
    "    try:\n",
    "        leftx = nonzerox[left_lane_inds]\n",
    "        lefty = nonzeroy[left_lane_inds] \n",
    "        rightx = nonzerox[right_lane_inds]\n",
    "        righty = nonzeroy[right_lane_inds]\n",
    "    except ValueError:\n",
    "        plt.imshow(binary_warped)\n",
    "\n",
    "    return leftx, lefty, rightx, righty, out_img\n",
    "\n",
    "\n",
    "def fit_polynomial(binary_warped):\n",
    "    # Find our lane pixels first\n",
    "    leftx, lefty, rightx, righty, out_img = find_lane_pixels(binary_warped)\n",
    "\n",
    "    # Fit a second order polynomial to each using `np.polyfit`\n",
    "    left_fit = np.polyfit(lefty, leftx, 2)\n",
    "    right_fit = np.polyfit(righty, rightx, 2)\n",
    "\n",
    "    # Generate x and y values for plotting\n",
    "    ploty = np.linspace(0, binary_warped.shape[0]-1, binary_warped.shape[0] )\n",
    "    try:\n",
    "        left_fitx = left_fit[0]*ploty**2 + left_fit[1]*ploty + left_fit[2]\n",
    "        right_fitx = right_fit[0]*ploty**2 + right_fit[1]*ploty + right_fit[2]\n",
    "    except TypeError:\n",
    "        # Avoids an error if `left` and `right_fit` are still none or incorrect\n",
    "        print('The function failed to fit a line!')\n",
    "        left_fitx = 1*ploty**2 + 1*ploty\n",
    "        right_fitx = 1*ploty**2 + 1*ploty\n",
    "\n",
    "    ## Visualization ##\n",
    "    # Colors in the left and right lane regions\n",
    "    out_img[lefty, leftx] = [255, 0, 0]\n",
    "    out_img[righty, rightx] = [0, 0, 255]\n",
    "\n",
    "    \n",
    "    # Fit a second order polynomial to each using `np.polyfit`\n",
    "    left_fit = np.polyfit(lefty, leftx, 2)\n",
    "    left_fit_m = np.polyfit(lefty*ym_per_p, leftx*xm_per_p, 2)   # for radius calculation\n",
    "    right_fit = np.polyfit(righty, rightx, 2)\n",
    "    right_fit_m = np.polyfit(righty*ym_per_p, rightx*xm_per_p, 2)  \n",
    "\n",
    "    # Plots the left and right polynomials on the lane lines\n",
    "    # plt.plot(left_fitx, ploty, color='yellow')\n",
    "    #  plt.plot(right_fitx, ploty, color='yellow')\n",
    "\n",
    "    return left_fit, left_fit_m, right_fit, right_fit_m, out_img\n",
    "\n",
    "\n",
    "\n",
    "def process_image(image):\n",
    "    # STEP 2: Apply a distortion correction to raw images\n",
    "    dstimg = cv2.undistort(image, mtx, dist, None, mtx)\n",
    "\n",
    "\n",
    "    # STEP 3: Use color transforms, gradients, etc., to create a thresholded binary image\n",
    "\n",
    "    # Convert to HLS color space and separate the V channel\n",
    "    hls = cv2.cvtColor(dstimg, cv2.COLOR_RGB2HLS)\n",
    "    l_channel = hls[:,:,1]\n",
    "    s_channel = hls[:,:,2]\n",
    "\n",
    "    # Sobel x\n",
    "    sobelx = cv2.Sobel(l_channel, cv2.CV_64F, 1, 0) # Take the derivative in x\n",
    "    abs_sobelx = np.absolute(sobelx) # Absolute x derivative to accentuate lines away from horizontal\n",
    "    scaled_sobel = np.uint8(255*abs_sobelx/np.max(abs_sobelx))\n",
    "\n",
    "    # Threshold x gradient\n",
    "    sxbinary = np.zeros_like(scaled_sobel)\n",
    "    sxbinary[(scaled_sobel >= 30) & (scaled_sobel <= 255)] = 1\n",
    "\n",
    "    # Threshold color channel\n",
    "    s_binary = np.zeros_like(s_channel)\n",
    "    s_binary[(s_channel >= 150) & (s_channel <= 255)] = 1\n",
    "\n",
    "\n",
    "    # Combine the two binary thresholds\n",
    "    combined_binary = np.zeros_like(sxbinary)\n",
    "    combined_binary[(s_binary == 1) | (sxbinary == 1)] = 1\n",
    "\n",
    "\n",
    "\n",
    "    # STEP 4: Apply a perspective transform to rectify binary image \n",
    "    # source and destination points (top left, top right, bottom right, bottom left) for warping street to birds view \n",
    "    img_size = (image.shape[1], image.shape[0])\n",
    "\n",
    "\n",
    "    src = np.float32(\n",
    "        [[(img_size[0] / 2) - 55, img_size[1] / 2 + 100],\n",
    "        [((img_size[0] / 6) - 10), img_size[1]],\n",
    "        [(img_size[0] * 5 / 6) + 60, img_size[1]],\n",
    "        [(img_size[0] / 2 + 55), img_size[1] / 2 + 100]])\n",
    "\n",
    "    dst = np.float32(\n",
    "        [[(img_size[0] / 4), 0],\n",
    "        [(img_size[0] / 4), img_size[1]],\n",
    "        [(img_size[0] * 3 / 4), img_size[1]],\n",
    "        [(img_size[0] * 3 / 4), 0]])  \n",
    "    # use cv2.getPerspectiveTransform() to get M and Minv, the transform matrix and inverse transform matrices to warp the street to birds view and back\n",
    "    M = cv2.getPerspectiveTransform(src, dst)\n",
    "    Minv = cv2.getPerspectiveTransform(dst,src)\n",
    "    \n",
    "    masked_left = np.concatenate(([[550,450], [0,400]],[[0, 700], [180,700]]), axis=0)\n",
    "    ptsLeft = np.array(masked_left, np.int32)\n",
    "    cv2.fillConvexPoly(combined_binary, ptsLeft,(0,0,0))\n",
    "    \n",
    "    \n",
    "    masked_right = np.concatenate(([[750,450],[1280,400]],[[1280, 700], [1180,700]]), axis=0)\n",
    "    ptsRight = np.array(masked_right, np.int32)\n",
    "    cv2.fillConvexPoly(combined_binary, ptsRight,(0,0,0))\n",
    "    \n",
    "    masked_center = np.concatenate(([[650,440], [650,440]],[[1080,720],[320,720]]), axis=0)\n",
    "    pts = np.array(masked_center, np.int32)\n",
    "    cv2.fillConvexPoly(combined_binary, pts,(0,0,0))\n",
    "\n",
    "    binary_warped = cv2.warpPerspective(combined_binary, M, img_size, flags=cv2.INTER_LINEAR)\n",
    "    \n",
    "    \n",
    "#     test = excludeValues(binary_warped)\n",
    "\n",
    "    # STEP 5 - Detect lane pixels and fit to find the lane boundary\n",
    "    # left_fit_p, right_fit_p, left_curverad, right_curverad, left_fit_m, right_fit_m = fit_polynomial(binary_warped)\n",
    "\n",
    "    # plt.subplots_adjust(left=0., right=3, top=5.9, bottom=2.)\n",
    "    # plt.imshow(binary_warped, cmap=\"gray\")\n",
    "\n",
    "    left_fit_p, left_fit_m, right_fit_p, right_fit_m, out_img = fit_polynomial(binary_warped)\n",
    "    \n",
    "    # Create an image to draw the lines on\n",
    "    rows, cols = binary_warped.shape[:2]\n",
    "    warp_zero = np.zeros(out_img.shape[:2], dtype=np.uint8)\n",
    "    lane_image = np.dstack((warp_zero, warp_zero, warp_zero))\n",
    "\n",
    "    # generate the plot points\n",
    "    plot_y = np.linspace(0, rows-1, rows) # return evenly spaced numbers over a specified interval.\n",
    "    left_fit_x = np.polyval(left_fit_p, plot_y)  # calculate the points for the left lane \n",
    "    right_fit_x = np.polyval(right_fit_p, plot_y) # calculate the points for the right lane \n",
    "\n",
    "    # Put left and right points together\n",
    "    leftPoints2Lists = np.vstack([left_fit_x, plot_y])\n",
    "    rigthPoints2Lists = np.vstack([right_fit_x, plot_y])\n",
    "\n",
    "    # make array with [x,y],[x,y],... \n",
    "    leftPoints = np.transpose(leftPoints2Lists)\n",
    "    rightPoints = np.flipud(np.transpose(rigthPoints2Lists))\n",
    "\n",
    "    # lets put the points in yet another array \n",
    "    leftPointsArray = np.array([leftPoints])\n",
    "    rightPointsArray = np.array([rightPoints])\n",
    "\n",
    "    # stack arrays in sequence horizontally (column wise).\n",
    "    polygon_pts = np.hstack((leftPointsArray, rightPointsArray))\n",
    "\n",
    "    # draw the polygon/lane onto the warped blank image\n",
    "    cv2.fillPoly(lane_image, np.int_([polygon_pts]), (0,240, 0))\n",
    "\n",
    "    test = np.dstack((combined_binary, combined_binary, combined_binary))*255\n",
    "\n",
    "    lane_image_warped = cv2.warpPerspective(lane_image, Minv, out_img.shape[1::-1])\n",
    "    \n",
    "    # lane curvuture\n",
    "    y_eval = binary_warped.shape[0]-1\n",
    "    \n",
    "    # Calculation of R_curve (radius of curvature)\n",
    "    left_curverad = ((1 + (2*left_fit_m[0]*y_eval*ym_per_p + left_fit_m[1])**2)**1.5) / np.absolute(2*left_fit_m[0])\n",
    "    right_curverad = ((1 + (2*right_fit_m[0]*y_eval*ym_per_p + right_fit_m[1])**2)**1.5) / np.absolute(2*right_fit_m[0])\n",
    "    \n",
    "    #offcenter\n",
    "    offcenter = get_offcenter(binary_warped, left_fit_m, right_fit_m)\n",
    "    \n",
    "    font = cv2.FONT_HERSHEY_SIMPLEX\n",
    "    cv2.putText(image, 'Radius of curvature:{0:>4.2f} m'.format(left_curverad), (20,60), font, 1.5, (255, 255, 255), 2, cv2.LINE_AA)\n",
    "    cv2.putText(image, 'Distance from lane center:{0:>4.2f} m'.format(offcenter), (20,130), font, 1.5, (255, 255, 255), 2, cv2.LINE_AA)\n",
    "    \n",
    "#     cv2.addWeighted(lane_image_warped, 0.5, image, 1, 0)\n",
    "    return cv2.addWeighted(lane_image_warped, 0.5, image, 1, 0)\n",
    "\n",
    "fname = 'test_images/test2.jpg'\n",
    "image = mpimg.imread(fname)\n",
    "# converted = cv2.cvtColor(image, cv2.COLOR_RGB2BGR)\n",
    "img = process_image(image)\n",
    "plt.subplots_adjust(left=0., right=3, top=5.9, bottom=2.)\n",
    "plt.imshow(img)\n",
    "\n",
    "# white_output = 'test_videos_output/project_video.mp4'\n",
    "# clip1 = VideoFileClip(\"project_video.mp4\")\n",
    "# white_clip = clip1.fl_image(process_image) #NOTE: this function expects color images!!\n",
    "# %time white_clip.write_videofile(white_output, audio=False)\n"
   ]
  },
  {
   "cell_type": "code",
   "execution_count": 130,
   "metadata": {},
   "outputs": [
    {
     "data": {
      "text/html": [
       "\n",
       "<video width=\"960\" height=\"540\" controls>\n",
       "  <source src=\"test_videos_output/project_video.mp4\">\n",
       "  \n",
       "</video>\n"
      ],
      "text/plain": [
       "<IPython.core.display.HTML object>"
      ]
     },
     "execution_count": 130,
     "metadata": {},
     "output_type": "execute_result"
    }
   ],
   "source": [
    "HTML(\"\"\"\n",
    "<video width=\"960\" height=\"540\" controls>\n",
    "  <source src=\"{0}\">\n",
    "  \n",
    "</video>\n",
    "\"\"\".format(white_output))"
   ]
  },
  {
   "cell_type": "code",
   "execution_count": 5,
   "metadata": {},
   "outputs": [],
   "source": [
    "arr = np.array([np.array([22,33,0, 34,3]),np.array([123,0,100,25,4]),np.array([0,0,0,45,5])])"
   ]
  },
  {
   "cell_type": "code",
   "execution_count": 424,
   "metadata": {},
   "outputs": [],
   "source": [
    "sumval = arr.sum(axis=1)"
   ]
  },
  {
   "cell_type": "code",
   "execution_count": 425,
   "metadata": {},
   "outputs": [
    {
     "name": "stdout",
     "output_type": "stream",
     "text": [
      "[ 92 252  50]\n"
     ]
    }
   ],
   "source": [
    "print(sumval)"
   ]
  },
  {
   "cell_type": "code",
   "execution_count": 323,
   "metadata": {},
   "outputs": [
    {
     "name": "stdout",
     "output_type": "stream",
     "text": [
      "115\n",
      "74\n"
     ]
    }
   ],
   "source": [
    "left = sumval[:len(sumval)//2]\n",
    "right = sumval[len(sumval)//2:]\n",
    "\n",
    "maxLeft = max(left)\n",
    "maxRight = max(right)\n",
    "\n",
    "tresholdLeft = maxLeft - 30\n",
    "tresholdRight = maxRight - 30\n",
    "\n",
    "print(tresholdLeft)\n",
    "print(tresholdRight)\n",
    "        "
   ]
  },
  {
   "cell_type": "code",
   "execution_count": 324,
   "metadata": {},
   "outputs": [],
   "source": [
    "indexiesLeft = [index for index in range(len(left)) if left[index] > tresholdLeft]\n",
    "\n",
    "indexiesRight = [index for index in range(len(right)) if right[index] > tresholdRight]"
   ]
  },
  {
   "cell_type": "code",
   "execution_count": 358,
   "metadata": {},
   "outputs": [
    {
     "name": "stdout",
     "output_type": "stream",
     "text": [
      "[[0 0 0 0 0]\n",
      " [0 0 0 0 0]\n",
      " [0 0 0 0 0]]\n"
     ]
    }
   ],
   "source": [
    "print(arr)\n"
   ]
  },
  {
   "cell_type": "code",
   "execution_count": 359,
   "metadata": {},
   "outputs": [
    {
     "name": "stdout",
     "output_type": "stream",
     "text": [
      "1\n"
     ]
    }
   ],
   "source": [
    "arr[:,3] = 0\n",
    "print(midpoint)"
   ]
  },
  {
   "cell_type": "code",
   "execution_count": 371,
   "metadata": {},
   "outputs": [
    {
     "name": "stdout",
     "output_type": "stream",
     "text": [
      "2\n"
     ]
    }
   ],
   "source": [
    "midpoint = arr.shape[1]//2\n",
    "print(midpoint)"
   ]
  },
  {
   "cell_type": "code",
   "execution_count": 372,
   "metadata": {},
   "outputs": [],
   "source": [
    "indexiesRightTransformed = [x + midpoint for x in indexiesRight]"
   ]
  },
  {
   "cell_type": "code",
   "execution_count": 377,
   "metadata": {},
   "outputs": [],
   "source": [
    " indexies = np.concatenate((indexiesLeft,indexiesRightTransformed)) "
   ]
  },
  {
   "cell_type": "code",
   "execution_count": 378,
   "metadata": {},
   "outputs": [
    {
     "name": "stdout",
     "output_type": "stream",
     "text": [
      "[0 2 3]\n"
     ]
    }
   ],
   "source": [
    "print(indexies)"
   ]
  },
  {
   "cell_type": "code",
   "execution_count": 427,
   "metadata": {},
   "outputs": [],
   "source": [
    "for i in range(arr.shape[1]):\n",
    "    if i not in indexies:\n",
    "        arr[0,i] = 0"
   ]
  },
  {
   "cell_type": "code",
   "execution_count": 428,
   "metadata": {},
   "outputs": [
    {
     "name": "stdout",
     "output_type": "stream",
     "text": [
      "[[ 22   0   0  34   0]\n",
      " [123   0 100  25   4]\n",
      " [  0   0   0  45   5]]\n"
     ]
    }
   ],
   "source": [
    "print(arr)"
   ]
  },
  {
   "cell_type": "code",
   "execution_count": 396,
   "metadata": {},
   "outputs": [],
   "source": [
    "def excludeValues(binary_image):\n",
    "    sumval = binary_image.sum(axis=0)\n",
    "    \n",
    "    left = sumval[:len(sumval)//2]\n",
    "    right = sumval[len(sumval)//2:]\n",
    "\n",
    "    maxLeft = max(left)\n",
    "    maxRight = max(right)\n",
    "\n",
    "    tresholdLeft = maxLeft - 50\n",
    "    tresholdRight = maxRight - 50\n",
    "    \n",
    "    \n",
    "    indexiesLeft = [index for index in range(len(left)) if left[index] > tresholdLeft]\n",
    "    indexiesRight = [index for index in range(len(right)) if right[index] > tresholdRight]\n",
    "    \n",
    "    midpoint = binary_image.shape[1]//2\n",
    "    \n",
    "    indexiesRightTransformed = [x + midpoint for x in indexiesRight]\n",
    "    \n",
    "    indexies = np.concatenate((indexiesLeft,indexiesRightTransformed)) \n",
    "    \n",
    "    for i in range(binary_image.shape[1]):\n",
    "        if i not in indexies:\n",
    "            binary_image[:,i] = 0\n",
    "            \n",
    "    return binary_image\n",
    "    "
   ]
  },
  {
   "cell_type": "code",
   "execution_count": 393,
   "metadata": {},
   "outputs": [
    {
     "name": "stdout",
     "output_type": "stream",
     "text": [
      "[[0 0 0 ... 0 0 0]\n",
      " [0 0 0 ... 0 0 0]\n",
      " [0 0 0 ... 0 0 0]\n",
      " ...\n",
      " [0 0 0 ... 0 0 0]\n",
      " [0 0 0 ... 0 0 0]\n",
      " [0 0 0 ... 0 0 0]]\n"
     ]
    }
   ],
   "source": [
    "print(binary_warped)"
   ]
  },
  {
   "cell_type": "code",
   "execution_count": 397,
   "metadata": {},
   "outputs": [],
   "source": [
    "itog = exclude(binary_warped)"
   ]
  },
  {
   "cell_type": "code",
   "execution_count": 398,
   "metadata": {},
   "outputs": [
    {
     "data": {
      "text/plain": [
       "<matplotlib.image.AxesImage at 0x177b0d358>"
      ]
     },
     "execution_count": 398,
     "metadata": {},
     "output_type": "execute_result"
    },
    {
     "data": {
      "image/png": "[encoded data removed]",
      "text/plain": [
       "<Figure size 432x288 with 1 Axes>"
      ]
     },
     "metadata": {
      "needs_background": "light"
     },
     "output_type": "display_data"
    }
   ],
   "source": [
    "plt.imshow(itog)"
   ]
  },
  {
   "cell_type": "code",
   "execution_count": 14,
   "metadata": {},
   "outputs": [
    {
     "name": "stdout",
     "output_type": "stream",
     "text": [
      "22\n"
     ]
    }
   ],
   "source": [
    "print()"
   ]
  },
  {
   "cell_type": "code",
   "execution_count": null,
   "metadata": {},
   "outputs": [],
   "source": []
  },
  {
   "cell_type": "code",
   "execution_count": null,
   "metadata": {},
   "outputs": [],
   "source": []
  }
 ],
 "metadata": {
  "kernelspec": {
   "display_name": "Python 3",
   "language": "python",
   "name": "python3"
  },
  "language_info": {
   "codemirror_mode": {
    "name": "ipython",
    "version": 3
   },
   "file_extension": ".py",
   "mimetype": "text/x-python",
   "name": "python",
   "nbconvert_exporter": "python",
   "pygments_lexer": "ipython3",
   "version": "3.7.3"
  }
 },
 "nbformat": 4,
 "nbformat_minor": 2
}
