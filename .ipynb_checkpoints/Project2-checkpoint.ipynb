{
 "cells": [
  {
   "cell_type": "code",
   "execution_count": 2,
   "metadata": {},
   "outputs": [],
   "source": [
    "# Import everything needed to edit/save/watch video clips\n",
    "import numpy as np\n",
    "import cv2\n",
    "import glob\n",
    "import matplotlib.pyplot as plt\n",
    "%matplotlib qt\n",
    "\n",
    "# prepare object points, like (0,0,0), (1,0,0), (2,0,0) ....,(6,5,0)\n",
    "objp = np.zeros((6*9,3), np.float32)\n",
    "objp[:,:2] = np.mgrid[0:9,0:6].T.reshape(-1,2)\n",
    "\n",
    "# Arrays to store object points and image points from all the images.\n",
    "objpoints = [] # 3d points in real world space\n",
    "imgpoints = [] # 2d points in image plane.\n",
    "\n",
    "# Make a list of calibration images\n",
    "images = glob.glob('camera_cal/calibration*.jpg')\n",
    "\n",
    "# Step through the list and search for chessboard corners\n",
    "for fname in images:\n",
    "    img = cv2.imread(fname)\n",
    "    gray = cv2.cvtColor(img,cv2.COLOR_BGR2GRAY)\n",
    "\n",
    "    # Find the chessboard corners\n",
    "    ret, corners = cv2.findChessboardCorners(gray, (9,6),None)\n",
    "\n",
    "    # If found, add object points, image points\n",
    "    if ret == True:\n",
    "        objpoints.append(objp)\n",
    "        imgpoints.append(corners)\n",
    "\n",
    "        # Draw and display the corners\n",
    "        img = cv2.drawChessboardCorners(img, (9,6), corners, ret)\n",
    "        cv2.imshow('img',img)\n",
    "        cv2.waitKey(500)\n",
    "\n",
    "cv2.destroyAllWindows()\n"
   ]
  },
  {
   "cell_type": "code",
   "execution_count": 3,
   "metadata": {},
   "outputs": [],
   "source": [
    "gray = cv2.cvtColor(img, cv2.COLOR_BGR2GRAY)\n",
    "\n",
    "ret, mtx, dist, rvecs, tvecs = cv2.calibrateCamera(objpoints, imgpoints, gray.shape[::-1], None, None)\n"
   ]
  },
  {
   "cell_type": "code",
   "execution_count": 4,
   "metadata": {},
   "outputs": [
    {
     "name": "stderr",
     "output_type": "stream",
     "text": [
      "\r",
      "t:   0%|          | 0/1260 [00:00<?, ?it/s, now=None]"
     ]
    },
    {
     "name": "stdout",
     "output_type": "stream",
     "text": [
      "[919.13187518   0.        ]\n",
      "Moviepy - Building video test_videos_output/project_video.mp4.\n",
      "Moviepy - Writing video test_videos_output/project_video.mp4\n",
      "\n",
      "[919.13187518   0.        ]\n"
     ]
    },
    {
     "name": "stderr",
     "output_type": "stream",
     "text": [
      "t:   0%|          | 5/1260 [00:00<01:18, 15.99it/s, now=None]"
     ]
    },
    {
     "name": "stdout",
     "output_type": "stream",
     "text": [
      "[922.21037239   0.        ]\n",
      "[924.02819914   0.        ]\n",
      "[922.88867629   0.        ]\n"
     ]
    },
    {
     "name": "stderr",
     "output_type": "stream",
     "text": [
      "\r",
      "t:   1%|          | 7/1260 [00:00<01:23, 15.00it/s, now=None]"
     ]
    },
    {
     "name": "stdout",
     "output_type": "stream",
     "text": [
      "[924.98847041   0.        ]\n",
      "[923.64154248   0.        ]\n",
      "[921.61211402   0.        ]\n"
     ]
    },
    {
     "name": "stderr",
     "output_type": "stream",
     "text": [
      "t:   1%|          | 11/1260 [00:00<01:29, 13.99it/s, now=None]"
     ]
    },
    {
     "name": "stdout",
     "output_type": "stream",
     "text": [
      "[903.98511053   0.        ]\n",
      "[908.59268152   0.        ]\n",
      "[916.70404437   0.        ]\n"
     ]
    },
    {
     "name": "stderr",
     "output_type": "stream",
     "text": [
      "\r",
      "t:   1%|          | 13/1260 [00:00<01:31, 13.62it/s, now=None]"
     ]
    },
    {
     "name": "stdout",
     "output_type": "stream",
     "text": [
      "[914.31550387   0.        ]\n",
      "[915.97255165   0.        ]\n",
      "[898.89885296   0.        ]\n"
     ]
    },
    {
     "name": "stderr",
     "output_type": "stream",
     "text": [
      "t:   1%|▏         | 17/1260 [00:01<01:32, 13.39it/s, now=None]"
     ]
    },
    {
     "name": "stdout",
     "output_type": "stream",
     "text": [
      "[901.30805249   0.        ]\n",
      "[902.55939697   0.        ]\n",
      "[898.84186281   0.        ]\n"
     ]
    },
    {
     "name": "stderr",
     "output_type": "stream",
     "text": [
      "\r",
      "t:   2%|▏         | 19/1260 [00:01<01:34, 13.12it/s, now=None]"
     ]
    },
    {
     "name": "stdout",
     "output_type": "stream",
     "text": [
      "[899.1787953   0.       ]\n",
      "[899.28835546   0.        ]\n",
      "[898.646183   0.      ]\n"
     ]
    },
    {
     "name": "stderr",
     "output_type": "stream",
     "text": [
      "t:   2%|▏         | 23/1260 [00:01<01:34, 13.09it/s, now=None]"
     ]
    },
    {
     "name": "stdout",
     "output_type": "stream",
     "text": [
      "[911.9294512   0.       ]\n",
      "[896.79311402   0.        ]\n",
      "[904.44112257   0.        ]\n"
     ]
    },
    {
     "name": "stderr",
     "output_type": "stream",
     "text": [
      "\r",
      "t:   2%|▏         | 25/1260 [00:01<01:34, 13.04it/s, now=None]"
     ]
    },
    {
     "name": "stdout",
     "output_type": "stream",
     "text": [
      "[916.15826277   0.        ]\n",
      "[917.81412074   0.        ]\n",
      "[914.26063384   0.        ]\n"
     ]
    },
    {
     "name": "stderr",
     "output_type": "stream",
     "text": [
      "\r",
      "t:   2%|▏         | 27/1260 [00:02<01:36, 12.83it/s, now=None]"
     ]
    },
    {
     "name": "stdout",
     "output_type": "stream",
     "text": [
      "[908.42325499   0.        ]\n",
      "[907.41639016   0.        ]\n"
     ]
    },
    {
     "name": "stderr",
     "output_type": "stream",
     "text": [
      "\r",
      "t:   2%|▏         | 29/1260 [00:02<01:46, 11.51it/s, now=None]"
     ]
    },
    {
     "name": "stdout",
     "output_type": "stream",
     "text": [
      "[922.0199987   0.       ]\n",
      "[923.61893385   0.        ]\n"
     ]
    },
    {
     "name": "stderr",
     "output_type": "stream",
     "text": [
      "\r",
      "t:   2%|▏         | 31/1260 [00:02<01:54, 10.75it/s, now=None]"
     ]
    },
    {
     "name": "stdout",
     "output_type": "stream",
     "text": [
      "[919.25199371   0.        ]\n",
      "[916.58960516   0.        ]\n",
      "[906.79280661   0.        ]\n"
     ]
    },
    {
     "name": "stderr",
     "output_type": "stream",
     "text": [
      "t:   3%|▎         | 35/1260 [00:02<02:00, 10.13it/s, now=None]"
     ]
    },
    {
     "name": "stdout",
     "output_type": "stream",
     "text": [
      "[909.07748583   0.        ]\n",
      "[903.9107181   0.       ]\n"
     ]
    },
    {
     "name": "stderr",
     "output_type": "stream",
     "text": [
      "\r",
      "t:   3%|▎         | 37/1260 [00:03<02:03,  9.88it/s, now=None]"
     ]
    },
    {
     "name": "stdout",
     "output_type": "stream",
     "text": [
      "[909.83608975   0.        ]\n",
      "[908.30871297   0.        ]\n"
     ]
    },
    {
     "name": "stderr",
     "output_type": "stream",
     "text": [
      "\r",
      "t:   3%|▎         | 39/1260 [00:03<01:56, 10.48it/s, now=None]"
     ]
    },
    {
     "name": "stdout",
     "output_type": "stream",
     "text": [
      "[903.19400093   0.        ]\n",
      "[894.05614097   0.        ]\n",
      "[890.24745059   0.        ]\n"
     ]
    },
    {
     "name": "stderr",
     "output_type": "stream",
     "text": [
      "\r",
      "t:   3%|▎         | 41/1260 [00:03<01:58, 10.26it/s, now=None]"
     ]
    },
    {
     "name": "stdout",
     "output_type": "stream",
     "text": [
      "[895.6006114   0.       ]\n",
      "[898.31151518   0.        ]\n"
     ]
    },
    {
     "name": "stderr",
     "output_type": "stream",
     "text": [
      "\r",
      "t:   3%|▎         | 43/1260 [00:03<02:00, 10.11it/s, now=None]"
     ]
    },
    {
     "name": "stdout",
     "output_type": "stream",
     "text": [
      "[899.55206978   0.        ]\n",
      "[905.2093035   0.       ]\n"
     ]
    },
    {
     "name": "stderr",
     "output_type": "stream",
     "text": [
      "t:   4%|▎         | 46/1260 [00:04<02:15,  8.99it/s, now=None]"
     ]
    },
    {
     "name": "stdout",
     "output_type": "stream",
     "text": [
      "[913.16450127   0.        ]\n",
      "[915.5885288   0.       ]\n"
     ]
    },
    {
     "name": "stderr",
     "output_type": "stream",
     "text": [
      "t:   4%|▍         | 48/1260 [00:04<02:14,  8.98it/s, now=None]"
     ]
    },
    {
     "name": "stdout",
     "output_type": "stream",
     "text": [
      "[903.10579693   0.        ]\n",
      "[898.88179573   0.        ]\n"
     ]
    },
    {
     "name": "stderr",
     "output_type": "stream",
     "text": [
      "t:   4%|▍         | 50/1260 [00:04<02:15,  8.94it/s, now=None]"
     ]
    },
    {
     "name": "stdout",
     "output_type": "stream",
     "text": [
      "[905.93079741   0.        ]\n",
      "[912.21616639   0.        ]\n"
     ]
    },
    {
     "name": "stderr",
     "output_type": "stream",
     "text": [
      "\r",
      "t:   4%|▍         | 52/1260 [00:04<02:08,  9.42it/s, now=None]"
     ]
    },
    {
     "name": "stdout",
     "output_type": "stream",
     "text": [
      "[907.28532583   0.        ]\n",
      "[893.54785943   0.        ]\n",
      "[894.05468608   0.        ]\n"
     ]
    },
    {
     "name": "stderr",
     "output_type": "stream",
     "text": [
      "t:   4%|▍         | 55/1260 [00:04<02:05,  9.62it/s, now=None]"
     ]
    },
    {
     "name": "stdout",
     "output_type": "stream",
     "text": [
      "[895.12695428   0.        ]\n",
      "[896.3719071   0.       ]\n",
      "[899.05409653   0.        ]\n"
     ]
    },
    {
     "name": "stderr",
     "output_type": "stream",
     "text": [
      "t:   5%|▍         | 57/1260 [00:05<02:02,  9.81it/s, now=None]"
     ]
    },
    {
     "name": "stdout",
     "output_type": "stream",
     "text": [
      "[902.88088134   0.        ]\n",
      "[901.41514866   0.        ]\n",
      "[893.87323072   0.        ]\n"
     ]
    },
    {
     "name": "stderr",
     "output_type": "stream",
     "text": [
      "t:   5%|▍         | 61/1260 [00:05<01:54, 10.51it/s, now=None]"
     ]
    },
    {
     "name": "stdout",
     "output_type": "stream",
     "text": [
      "[878.22702862   0.        ]\n",
      "[887.7022   0.    ]\n",
      "[889.18297336   0.        ]\n"
     ]
    },
    {
     "name": "stderr",
     "output_type": "stream",
     "text": [
      "\r",
      "t:   5%|▌         | 63/1260 [00:05<01:51, 10.73it/s, now=None]"
     ]
    },
    {
     "name": "stdout",
     "output_type": "stream",
     "text": [
      "[875.43359744   0.        ]\n",
      "[870.80241881   0.        ]\n",
      "[871.61064769   0.        ]\n"
     ]
    },
    {
     "name": "stderr",
     "output_type": "stream",
     "text": [
      "t:   5%|▌         | 67/1260 [00:06<01:48, 10.96it/s, now=None]"
     ]
    },
    {
     "name": "stdout",
     "output_type": "stream",
     "text": [
      "[877.79773832   0.        ]\n",
      "[877.29902141   0.        ]\n",
      "[880.43967915   0.        ]\n"
     ]
    },
    {
     "name": "stderr",
     "output_type": "stream",
     "text": [
      "\r",
      "t:   5%|▌         | 69/1260 [00:06<01:48, 10.98it/s, now=None]"
     ]
    },
    {
     "name": "stdout",
     "output_type": "stream",
     "text": [
      "[886.57427788   0.        ]\n",
      "[880.2506791   0.       ]\n",
      "[884.10450696   0.        ]\n"
     ]
    },
    {
     "name": "stderr",
     "output_type": "stream",
     "text": [
      "t:   6%|▌         | 73/1260 [00:06<01:47, 11.04it/s, now=None]"
     ]
    },
    {
     "name": "stdout",
     "output_type": "stream",
     "text": [
      "[874.43675544   0.        ]\n",
      "[887.32125023   0.        ]\n",
      "[891.57725597   0.        ]\n"
     ]
    },
    {
     "name": "stderr",
     "output_type": "stream",
     "text": [
      "\r",
      "t:   6%|▌         | 75/1260 [00:06<01:46, 11.10it/s, now=None]"
     ]
    },
    {
     "name": "stdout",
     "output_type": "stream",
     "text": [
      "[895.64638959   0.        ]\n",
      "[893.68984829   0.        ]\n",
      "[884.93309525   0.        ]\n"
     ]
    },
    {
     "name": "stderr",
     "output_type": "stream",
     "text": [
      "t:   6%|▋         | 79/1260 [00:07<01:43, 11.42it/s, now=None]"
     ]
    },
    {
     "name": "stdout",
     "output_type": "stream",
     "text": [
      "[891.06691824   0.        ]\n",
      "[898.00561775   0.        ]\n",
      "[903.04097174   0.        ]\n"
     ]
    },
    {
     "name": "stderr",
     "output_type": "stream",
     "text": [
      "\r",
      "t:   6%|▋         | 81/1260 [00:07<01:43, 11.38it/s, now=None]"
     ]
    },
    {
     "name": "stdout",
     "output_type": "stream",
     "text": [
      "[903.01738909   0.        ]\n",
      "[901.75806051   0.        ]\n",
      "[903.64470529   0.        ]\n"
     ]
    },
    {
     "name": "stderr",
     "output_type": "stream",
     "text": [
      "t:   7%|▋         | 85/1260 [00:07<01:42, 11.41it/s, now=None]"
     ]
    },
    {
     "name": "stdout",
     "output_type": "stream",
     "text": [
      "[900.70384354   0.        ]\n",
      "[909.45809854   0.        ]\n",
      "[909.57823634   0.        ]\n"
     ]
    },
    {
     "name": "stderr",
     "output_type": "stream",
     "text": [
      "\r",
      "t:   7%|▋         | 87/1260 [00:07<01:42, 11.47it/s, now=None]"
     ]
    },
    {
     "name": "stdout",
     "output_type": "stream",
     "text": [
      "[910.79998008   0.        ]\n",
      "[903.60444397   0.        ]\n",
      "[894.08503235   0.        ]\n"
     ]
    },
    {
     "name": "stderr",
     "output_type": "stream",
     "text": [
      "t:   7%|▋         | 91/1260 [00:08<01:40, 11.63it/s, now=None]"
     ]
    },
    {
     "name": "stdout",
     "output_type": "stream",
     "text": [
      "[882.93698917   0.        ]\n",
      "[878.58942103   0.        ]\n",
      "[883.63185895   0.        ]\n"
     ]
    },
    {
     "name": "stderr",
     "output_type": "stream",
     "text": [
      "\r",
      "t:   7%|▋         | 93/1260 [00:08<01:42, 11.36it/s, now=None]"
     ]
    },
    {
     "name": "stdout",
     "output_type": "stream",
     "text": [
      "[886.88958191   0.        ]\n",
      "[887.45178988   0.        ]\n",
      "[888.94119275   0.        ]\n"
     ]
    },
    {
     "name": "stderr",
     "output_type": "stream",
     "text": [
      "t:   8%|▊         | 97/1260 [00:08<01:41, 11.51it/s, now=None]"
     ]
    },
    {
     "name": "stdout",
     "output_type": "stream",
     "text": [
      "[893.78240268   0.        ]\n",
      "[895.58100718   0.        ]\n",
      "[890.71164894   0.        ]\n"
     ]
    },
    {
     "name": "stderr",
     "output_type": "stream",
     "text": [
      "\r",
      "t:   8%|▊         | 99/1260 [00:08<01:44, 11.12it/s, now=None]"
     ]
    },
    {
     "name": "stdout",
     "output_type": "stream",
     "text": [
      "[900.38011083   0.        ]\n",
      "[896.98143718   0.        ]\n",
      "[903.12785858   0.        ]\n"
     ]
    },
    {
     "name": "stderr",
     "output_type": "stream",
     "text": [
      "t:   8%|▊         | 103/1260 [00:09<01:43, 11.16it/s, now=None]"
     ]
    },
    {
     "name": "stdout",
     "output_type": "stream",
     "text": [
      "[889.21144837   0.        ]\n",
      "[890.95677924   0.        ]\n",
      "[893.09912127   0.        ]\n"
     ]
    },
    {
     "name": "stderr",
     "output_type": "stream",
     "text": [
      "\r",
      "t:   8%|▊         | 105/1260 [00:09<01:43, 11.15it/s, now=None]"
     ]
    },
    {
     "name": "stdout",
     "output_type": "stream",
     "text": [
      "[895.02527057   0.        ]\n",
      "[902.26207812   0.        ]\n",
      "[908.21708529   0.        ]\n"
     ]
    },
    {
     "name": "stderr",
     "output_type": "stream",
     "text": [
      "t:   9%|▊         | 109/1260 [00:09<01:43, 11.12it/s, now=None]"
     ]
    },
    {
     "name": "stdout",
     "output_type": "stream",
     "text": [
      "[914.1762156   0.       ]\n",
      "[910.06691673   0.        ]\n",
      "[903.3377088   0.       ]\n"
     ]
    },
    {
     "name": "stderr",
     "output_type": "stream",
     "text": [
      "\r",
      "t:   9%|▉         | 111/1260 [00:09<01:45, 10.86it/s, now=None]"
     ]
    },
    {
     "name": "stdout",
     "output_type": "stream",
     "text": [
      "[900.04878213   0.        ]\n",
      "[910.51070183   0.        ]\n",
      "[923.84669267   0.        ]\n"
     ]
    },
    {
     "name": "stderr",
     "output_type": "stream",
     "text": [
      "t:   9%|▉         | 115/1260 [00:10<01:43, 11.05it/s, now=None]"
     ]
    },
    {
     "name": "stdout",
     "output_type": "stream",
     "text": [
      "[917.20436521   0.        ]\n",
      "[908.84578614   0.        ]\n",
      "[901.86661581   0.        ]\n"
     ]
    },
    {
     "name": "stderr",
     "output_type": "stream",
     "text": [
      "\r",
      "t:   9%|▉         | 117/1260 [00:10<01:42, 11.18it/s, now=None]"
     ]
    },
    {
     "name": "stdout",
     "output_type": "stream",
     "text": [
      "[905.99705652   0.        ]\n",
      "[909.46715406   0.        ]\n",
      "[908.93193321   0.        ]\n"
     ]
    },
    {
     "name": "stderr",
     "output_type": "stream",
     "text": [
      "t:  10%|▉         | 121/1260 [00:10<01:41, 11.21it/s, now=None]"
     ]
    },
    {
     "name": "stdout",
     "output_type": "stream",
     "text": [
      "[910.42563905   0.        ]\n",
      "[909.06322905   0.        ]\n",
      "[908.22515985   0.        ]\n"
     ]
    },
    {
     "name": "stderr",
     "output_type": "stream",
     "text": [
      "t:  10%|▉         | 125/1260 [00:11<01:39, 11.41it/s, now=None]"
     ]
    },
    {
     "name": "stdout",
     "output_type": "stream",
     "text": [
      "[900.65384745   0.        ]\n",
      "[902.40150069   0.        ]\n",
      "[905.34476659   0.        ]\n"
     ]
    },
    {
     "name": "stderr",
     "output_type": "stream",
     "text": [
      "\r",
      "t:  10%|█         | 127/1260 [00:11<01:39, 11.38it/s, now=None]"
     ]
    },
    {
     "name": "stdout",
     "output_type": "stream",
     "text": [
      "[902.53852082   0.        ]\n",
      "[901.72533798   0.        ]\n",
      "[897.78828754   0.        ]\n"
     ]
    },
    {
     "name": "stderr",
     "output_type": "stream",
     "text": [
      "\r",
      "t:  10%|█         | 129/1260 [00:11<01:42, 11.07it/s, now=None]"
     ]
    },
    {
     "name": "stdout",
     "output_type": "stream",
     "text": [
      "[902.35926646   0.        ]\n",
      "[895.35775009   0.        ]\n",
      "[897.9524936   0.       ]\n"
     ]
    },
    {
     "name": "stderr",
     "output_type": "stream",
     "text": [
      "t:  11%|█         | 133/1260 [00:11<01:38, 11.40it/s, now=None]"
     ]
    },
    {
     "name": "stdout",
     "output_type": "stream",
     "text": [
      "[898.48292517   0.        ]\n",
      "[897.91081014   0.        ]\n",
      "[901.3879616   0.       ]\n"
     ]
    },
    {
     "name": "stderr",
     "output_type": "stream",
     "text": [
      "\r",
      "t:  11%|█         | 135/1260 [00:12<01:39, 11.36it/s, now=None]"
     ]
    },
    {
     "name": "stdout",
     "output_type": "stream",
     "text": [
      "[890.49552786   0.        ]\n",
      "[900.50854829   0.        ]\n",
      "[904.30936918   0.        ]\n"
     ]
    },
    {
     "name": "stderr",
     "output_type": "stream",
     "text": [
      "t:  11%|█         | 139/1260 [00:12<01:38, 11.34it/s, now=None]"
     ]
    },
    {
     "name": "stdout",
     "output_type": "stream",
     "text": [
      "[912.10733697   0.        ]\n",
      "[913.2621951   0.       ]\n",
      "[905.33729918   0.        ]\n"
     ]
    },
    {
     "name": "stderr",
     "output_type": "stream",
     "text": [
      "\r",
      "t:  11%|█         | 141/1260 [00:12<01:40, 11.17it/s, now=None]"
     ]
    },
    {
     "name": "stdout",
     "output_type": "stream",
     "text": [
      "[909.16926382   0.        ]\n",
      "[913.95075113   0.        ]\n",
      "[916.38328434   0.        ]\n"
     ]
    },
    {
     "name": "stderr",
     "output_type": "stream",
     "text": [
      "t:  12%|█▏        | 145/1260 [00:12<01:38, 11.27it/s, now=None]"
     ]
    },
    {
     "name": "stdout",
     "output_type": "stream",
     "text": [
      "[909.27157346   0.        ]\n",
      "[910.68557885   0.        ]\n",
      "[910.41621557   0.        ]\n"
     ]
    },
    {
     "name": "stderr",
     "output_type": "stream",
     "text": [
      "\r",
      "t:  12%|█▏        | 147/1260 [00:13<01:39, 11.19it/s, now=None]"
     ]
    },
    {
     "name": "stdout",
     "output_type": "stream",
     "text": [
      "[910.16811877   0.        ]\n",
      "[899.3765099   0.       ]\n",
      "[898.44548125   0.        ]\n"
     ]
    },
    {
     "name": "stderr",
     "output_type": "stream",
     "text": [
      "t:  12%|█▏        | 151/1260 [00:13<01:38, 11.29it/s, now=None]"
     ]
    },
    {
     "name": "stdout",
     "output_type": "stream",
     "text": [
      "[906.10761836   0.        ]\n",
      "[901.76354986   0.        ]\n",
      "[894.65036597   0.        ]\n"
     ]
    },
    {
     "name": "stderr",
     "output_type": "stream",
     "text": [
      "\r",
      "t:  12%|█▏        | 153/1260 [00:13<01:37, 11.37it/s, now=None]"
     ]
    },
    {
     "name": "stdout",
     "output_type": "stream",
     "text": [
      "[906.1733266   0.       ]\n",
      "[905.35269162   0.        ]\n",
      "[912.2305457   0.       ]\n"
     ]
    },
    {
     "name": "stderr",
     "output_type": "stream",
     "text": [
      "t:  12%|█▏        | 157/1260 [00:14<01:36, 11.44it/s, now=None]"
     ]
    },
    {
     "name": "stdout",
     "output_type": "stream",
     "text": [
      "[915.26696552   0.        ]\n",
      "[915.37656199   0.        ]\n",
      "[913.97396222   0.        ]\n"
     ]
    },
    {
     "name": "stderr",
     "output_type": "stream",
     "text": [
      "\r",
      "t:  13%|█▎        | 159/1260 [00:14<01:37, 11.32it/s, now=None]"
     ]
    },
    {
     "name": "stdout",
     "output_type": "stream",
     "text": [
      "[904.75948558   0.        ]\n",
      "[908.64607833   0.        ]\n",
      "[899.89527601   0.        ]\n"
     ]
    },
    {
     "name": "stderr",
     "output_type": "stream",
     "text": [
      "t:  13%|█▎        | 163/1260 [00:14<01:36, 11.36it/s, now=None]"
     ]
    },
    {
     "name": "stdout",
     "output_type": "stream",
     "text": [
      "[903.20424317   0.        ]\n",
      "[903.93549276   0.        ]\n",
      "[906.10105021   0.        ]\n"
     ]
    },
    {
     "name": "stderr",
     "output_type": "stream",
     "text": [
      "\r",
      "t:  13%|█▎        | 165/1260 [00:14<01:35, 11.43it/s, now=None]"
     ]
    },
    {
     "name": "stdout",
     "output_type": "stream",
     "text": [
      "[891.29297463   0.        ]\n",
      "[890.8431906   0.       ]\n",
      "[893.02869394   0.        ]\n"
     ]
    },
    {
     "name": "stderr",
     "output_type": "stream",
     "text": [
      "t:  13%|█▎        | 169/1260 [00:15<01:35, 11.47it/s, now=None]"
     ]
    },
    {
     "name": "stdout",
     "output_type": "stream",
     "text": [
      "[890.26050202   0.        ]\n",
      "[899.27536264   0.        ]\n",
      "[905.06338545   0.        ]\n"
     ]
    },
    {
     "name": "stderr",
     "output_type": "stream",
     "text": [
      "\r",
      "t:  14%|█▎        | 171/1260 [00:15<01:34, 11.49it/s, now=None]"
     ]
    },
    {
     "name": "stdout",
     "output_type": "stream",
     "text": [
      "[908.06011175   0.        ]\n",
      "[910.94641675   0.        ]\n",
      "[900.31422506   0.        ]\n"
     ]
    },
    {
     "name": "stderr",
     "output_type": "stream",
     "text": [
      "t:  14%|█▍        | 175/1260 [00:15<01:32, 11.78it/s, now=None]"
     ]
    },
    {
     "name": "stdout",
     "output_type": "stream",
     "text": [
      "[905.05972078   0.        ]\n",
      "[897.80426299   0.        ]\n",
      "[893.99831581   0.        ]\n"
     ]
    },
    {
     "name": "stderr",
     "output_type": "stream",
     "text": [
      "\r",
      "t:  14%|█▍        | 177/1260 [00:15<01:33, 11.59it/s, now=None]"
     ]
    },
    {
     "name": "stdout",
     "output_type": "stream",
     "text": [
      "[884.72549091   0.        ]\n",
      "[892.79509098   0.        ]\n",
      "[898.91062097   0.        ]\n"
     ]
    },
    {
     "name": "stderr",
     "output_type": "stream",
     "text": [
      "t:  14%|█▍        | 181/1260 [00:16<01:33, 11.56it/s, now=None]"
     ]
    },
    {
     "name": "stdout",
     "output_type": "stream",
     "text": [
      "[903.26075662   0.        ]\n",
      "[907.68863342   0.        ]\n",
      "[905.49371428   0.        ]\n"
     ]
    },
    {
     "name": "stderr",
     "output_type": "stream",
     "text": [
      "\r",
      "t:  15%|█▍        | 183/1260 [00:16<01:34, 11.40it/s, now=None]"
     ]
    },
    {
     "name": "stdout",
     "output_type": "stream",
     "text": [
      "[909.00973989   0.        ]\n",
      "[908.69383257   0.        ]\n",
      "[886.41140257   0.        ]\n"
     ]
    },
    {
     "name": "stderr",
     "output_type": "stream",
     "text": [
      "t:  15%|█▍        | 187/1260 [00:16<01:34, 11.31it/s, now=None]"
     ]
    },
    {
     "name": "stdout",
     "output_type": "stream",
     "text": [
      "[887.54960966   0.        ]\n",
      "[878.37590022   0.        ]\n",
      "[870.71485182   0.        ]\n"
     ]
    },
    {
     "name": "stderr",
     "output_type": "stream",
     "text": [
      "\r",
      "t:  15%|█▌        | 189/1260 [00:16<01:34, 11.34it/s, now=None]"
     ]
    },
    {
     "name": "stdout",
     "output_type": "stream",
     "text": [
      "[866.78431624   0.        ]\n",
      "[869.27703609   0.        ]\n",
      "[870.71250734   0.        ]\n"
     ]
    },
    {
     "name": "stderr",
     "output_type": "stream",
     "text": [
      "t:  15%|█▌        | 193/1260 [00:17<01:34, 11.29it/s, now=None]"
     ]
    },
    {
     "name": "stdout",
     "output_type": "stream",
     "text": [
      "[868.77488814   0.        ]\n",
      "[874.93759669   0.        ]\n",
      "[873.67396622   0.        ]\n"
     ]
    },
    {
     "name": "stderr",
     "output_type": "stream",
     "text": [
      "\r",
      "t:  15%|█▌        | 195/1260 [00:17<01:34, 11.30it/s, now=None]"
     ]
    },
    {
     "name": "stdout",
     "output_type": "stream",
     "text": [
      "[875.13186117   0.        ]\n",
      "[872.9004626   0.       ]\n",
      "[881.50626596   0.        ]\n"
     ]
    },
    {
     "name": "stderr",
     "output_type": "stream",
     "text": [
      "t:  16%|█▌        | 199/1260 [00:17<01:35, 11.08it/s, now=None]"
     ]
    },
    {
     "name": "stdout",
     "output_type": "stream",
     "text": [
      "[893.42097185   0.        ]\n",
      "[913.63310248   0.        ]\n",
      "[926.95334598   0.        ]\n"
     ]
    },
    {
     "name": "stderr",
     "output_type": "stream",
     "text": [
      "\r",
      "t:  16%|█▌        | 201/1260 [00:17<01:35, 11.13it/s, now=None]"
     ]
    },
    {
     "name": "stdout",
     "output_type": "stream",
     "text": [
      "[918.33739033   0.        ]\n",
      "[908.69325849   0.        ]\n",
      "[903.37345635   0.        ]\n"
     ]
    },
    {
     "name": "stderr",
     "output_type": "stream",
     "text": [
      "t:  16%|█▋        | 205/1260 [00:18<01:33, 11.27it/s, now=None]"
     ]
    },
    {
     "name": "stdout",
     "output_type": "stream",
     "text": [
      "[905.72999696   0.        ]\n",
      "[909.37963788   0.        ]\n",
      "[900.99369684   0.        ]\n"
     ]
    },
    {
     "name": "stderr",
     "output_type": "stream",
     "text": [
      "\r",
      "t:  16%|█▋        | 207/1260 [00:18<01:33, 11.31it/s, now=None]"
     ]
    },
    {
     "name": "stdout",
     "output_type": "stream",
     "text": [
      "[900.60766559   0.        ]\n",
      "[886.39782709   0.        ]\n",
      "[869.29658441   0.        ]\n"
     ]
    },
    {
     "name": "stderr",
     "output_type": "stream",
     "text": [
      "t:  17%|█▋        | 211/1260 [00:18<01:31, 11.44it/s, now=None]"
     ]
    },
    {
     "name": "stdout",
     "output_type": "stream",
     "text": [
      "[878.97295041   0.        ]\n",
      "[896.1023413   0.       ]\n",
      "[903.01565749   0.        ]\n"
     ]
    },
    {
     "name": "stderr",
     "output_type": "stream",
     "text": [
      "\r",
      "t:  17%|█▋        | 213/1260 [00:18<01:32, 11.36it/s, now=None]"
     ]
    },
    {
     "name": "stdout",
     "output_type": "stream",
     "text": [
      "[896.81097151   0.        ]\n",
      "[886.4948647   0.       ]\n",
      "[885.3279226   0.       ]\n"
     ]
    },
    {
     "name": "stderr",
     "output_type": "stream",
     "text": [
      "t:  17%|█▋        | 217/1260 [00:19<01:32, 11.29it/s, now=None]"
     ]
    },
    {
     "name": "stdout",
     "output_type": "stream",
     "text": [
      "[888.46533849   0.        ]\n",
      "[891.53011356   0.        ]\n",
      "[884.37761053   0.        ]\n"
     ]
    },
    {
     "name": "stderr",
     "output_type": "stream",
     "text": [
      "\r",
      "t:  17%|█▋        | 219/1260 [00:19<01:32, 11.27it/s, now=None]"
     ]
    },
    {
     "name": "stdout",
     "output_type": "stream",
     "text": [
      "[888.37013548   0.        ]\n",
      "[875.58079685   0.        ]\n",
      "[891.97537743   0.        ]\n"
     ]
    },
    {
     "name": "stderr",
     "output_type": "stream",
     "text": [
      "t:  18%|█▊        | 223/1260 [00:19<01:32, 11.16it/s, now=None]"
     ]
    },
    {
     "name": "stdout",
     "output_type": "stream",
     "text": [
      "[873.49156802   0.        ]\n",
      "[880.5113845   0.       ]\n",
      "[881.5153009   0.       ]\n"
     ]
    },
    {
     "name": "stderr",
     "output_type": "stream",
     "text": [
      "\r",
      "t:  18%|█▊        | 225/1260 [00:20<01:35, 10.81it/s, now=None]"
     ]
    },
    {
     "name": "stdout",
     "output_type": "stream",
     "text": [
      "[870.10005264   0.        ]\n",
      "[867.10616551   0.        ]\n",
      "[867.6519617   0.       ]\n"
     ]
    },
    {
     "name": "stderr",
     "output_type": "stream",
     "text": [
      "t:  18%|█▊        | 229/1260 [00:20<01:35, 10.84it/s, now=None]"
     ]
    },
    {
     "name": "stdout",
     "output_type": "stream",
     "text": [
      "[872.85931751   0.        ]\n",
      "[878.08758825   0.        ]\n",
      "[879.63106133   0.        ]\n"
     ]
    },
    {
     "name": "stderr",
     "output_type": "stream",
     "text": [
      "\r",
      "t:  18%|█▊        | 231/1260 [00:20<01:33, 10.95it/s, now=None]"
     ]
    },
    {
     "name": "stdout",
     "output_type": "stream",
     "text": [
      "[883.98244741   0.        ]\n",
      "[880.44648951   0.        ]\n",
      "[887.1747158   0.       ]\n"
     ]
    },
    {
     "name": "stderr",
     "output_type": "stream",
     "text": [
      "t:  19%|█▊        | 235/1260 [00:20<01:32, 11.04it/s, now=None]"
     ]
    },
    {
     "name": "stdout",
     "output_type": "stream",
     "text": [
      "[874.23569064   0.        ]\n",
      "[877.58641067   0.        ]\n",
      "[881.63601254   0.        ]\n"
     ]
    },
    {
     "name": "stderr",
     "output_type": "stream",
     "text": [
      "\r",
      "t:  19%|█▉        | 237/1260 [00:21<01:33, 10.95it/s, now=None]"
     ]
    },
    {
     "name": "stdout",
     "output_type": "stream",
     "text": [
      "[875.2328517   0.       ]\n",
      "[866.30508029   0.        ]\n",
      "[864.22997045   0.        ]\n"
     ]
    },
    {
     "name": "stderr",
     "output_type": "stream",
     "text": [
      "t:  19%|█▉        | 241/1260 [00:21<01:32, 11.07it/s, now=None]"
     ]
    },
    {
     "name": "stdout",
     "output_type": "stream",
     "text": [
      "[865.25980646   0.        ]\n",
      "[866.95054866   0.        ]\n",
      "[868.08935607   0.        ]\n"
     ]
    },
    {
     "name": "stderr",
     "output_type": "stream",
     "text": [
      "\r",
      "t:  19%|█▉        | 243/1260 [00:21<01:30, 11.20it/s, now=None]"
     ]
    },
    {
     "name": "stdout",
     "output_type": "stream",
     "text": [
      "[874.9341224   0.       ]\n",
      "[870.64829846   0.        ]\n",
      "[871.53263821   0.        ]\n"
     ]
    },
    {
     "name": "stderr",
     "output_type": "stream",
     "text": [
      "t:  20%|█▉        | 247/1260 [00:22<01:29, 11.26it/s, now=None]"
     ]
    },
    {
     "name": "stdout",
     "output_type": "stream",
     "text": [
      "[859.09404492   0.        ]\n",
      "[862.57805196   0.        ]\n",
      "[861.48055247   0.        ]\n"
     ]
    },
    {
     "name": "stderr",
     "output_type": "stream",
     "text": [
      "\r",
      "t:  20%|█▉        | 249/1260 [00:22<01:30, 11.12it/s, now=None]"
     ]
    },
    {
     "name": "stdout",
     "output_type": "stream",
     "text": [
      "[860.54304065   0.        ]\n",
      "[857.50406746   0.        ]\n",
      "[853.37784021   0.        ]\n"
     ]
    },
    {
     "name": "stderr",
     "output_type": "stream",
     "text": [
      "t:  20%|██        | 253/1260 [00:22<01:28, 11.33it/s, now=None]"
     ]
    },
    {
     "name": "stdout",
     "output_type": "stream",
     "text": [
      "[859.51826056   0.        ]\n",
      "[863.27326038   0.        ]\n",
      "[864.70408678   0.        ]\n"
     ]
    },
    {
     "name": "stderr",
     "output_type": "stream",
     "text": [
      "\r",
      "t:  20%|██        | 255/1260 [00:22<01:28, 11.33it/s, now=None]"
     ]
    },
    {
     "name": "stdout",
     "output_type": "stream",
     "text": [
      "[871.70454929   0.        ]\n",
      "[870.83311182   0.        ]\n",
      "[877.52184375   0.        ]\n"
     ]
    },
    {
     "name": "stderr",
     "output_type": "stream",
     "text": [
      "t:  21%|██        | 259/1260 [00:23<01:26, 11.54it/s, now=None]"
     ]
    },
    {
     "name": "stdout",
     "output_type": "stream",
     "text": [
      "[865.11880554   0.        ]\n",
      "[867.46950281   0.        ]\n",
      "[870.716714   0.      ]\n"
     ]
    },
    {
     "name": "stderr",
     "output_type": "stream",
     "text": [
      "\r",
      "t:  21%|██        | 261/1260 [00:23<01:28, 11.29it/s, now=None]"
     ]
    },
    {
     "name": "stdout",
     "output_type": "stream",
     "text": [
      "[868.22824177   0.        ]\n",
      "[878.38358851   0.        ]\n",
      "[871.23500389   0.        ]\n"
     ]
    },
    {
     "name": "stderr",
     "output_type": "stream",
     "text": [
      "t:  21%|██        | 265/1260 [00:23<01:28, 11.22it/s, now=None]"
     ]
    },
    {
     "name": "stdout",
     "output_type": "stream",
     "text": [
      "[880.58106569   0.        ]\n",
      "[885.08290589   0.        ]\n",
      "[887.37805717   0.        ]\n"
     ]
    },
    {
     "name": "stderr",
     "output_type": "stream",
     "text": [
      "\r",
      "t:  21%|██        | 267/1260 [00:23<01:27, 11.32it/s, now=None]"
     ]
    },
    {
     "name": "stdout",
     "output_type": "stream",
     "text": [
      "[894.55899162   0.        ]\n",
      "[893.78929887   0.        ]\n",
      "[895.44899357   0.        ]\n"
     ]
    },
    {
     "name": "stderr",
     "output_type": "stream",
     "text": [
      "t:  22%|██▏       | 271/1260 [00:24<01:28, 11.15it/s, now=None]"
     ]
    },
    {
     "name": "stdout",
     "output_type": "stream",
     "text": [
      "[903.33663588   0.        ]\n",
      "[886.82573422   0.        ]\n",
      "[894.44928433   0.        ]\n"
     ]
    },
    {
     "name": "stderr",
     "output_type": "stream",
     "text": [
      "\r",
      "t:  22%|██▏       | 273/1260 [00:24<01:27, 11.31it/s, now=None]"
     ]
    },
    {
     "name": "stdout",
     "output_type": "stream",
     "text": [
      "[882.80670973   0.        ]\n",
      "[884.5279025   0.       ]\n",
      "[877.40791257   0.        ]\n"
     ]
    },
    {
     "name": "stderr",
     "output_type": "stream",
     "text": [
      "t:  22%|██▏       | 277/1260 [00:24<01:29, 11.04it/s, now=None]"
     ]
    },
    {
     "name": "stdout",
     "output_type": "stream",
     "text": [
      "[883.48614418   0.        ]\n",
      "[889.40262126   0.        ]\n",
      "[893.13921903   0.        ]\n"
     ]
    },
    {
     "name": "stderr",
     "output_type": "stream",
     "text": [
      "\r",
      "t:  22%|██▏       | 279/1260 [00:24<01:28, 11.12it/s, now=None]"
     ]
    },
    {
     "name": "stdout",
     "output_type": "stream",
     "text": [
      "[901.54648256   0.        ]\n",
      "[900.4839814   0.       ]\n",
      "[903.26821993   0.        ]\n"
     ]
    },
    {
     "name": "stderr",
     "output_type": "stream",
     "text": [
      "t:  22%|██▏       | 283/1260 [00:25<01:26, 11.33it/s, now=None]"
     ]
    },
    {
     "name": "stdout",
     "output_type": "stream",
     "text": [
      "[888.88418284   0.        ]\n",
      "[894.88433377   0.        ]\n",
      "[898.59884778   0.        ]\n"
     ]
    },
    {
     "name": "stderr",
     "output_type": "stream",
     "text": [
      "\r",
      "t:  23%|██▎       | 285/1260 [00:25<01:26, 11.25it/s, now=None]"
     ]
    },
    {
     "name": "stdout",
     "output_type": "stream",
     "text": [
      "[898.61476245   0.        ]\n",
      "[903.47555015   0.        ]\n",
      "[897.9512174   0.       ]\n"
     ]
    },
    {
     "name": "stderr",
     "output_type": "stream",
     "text": [
      "t:  23%|██▎       | 289/1260 [00:25<01:25, 11.32it/s, now=None]"
     ]
    },
    {
     "name": "stdout",
     "output_type": "stream",
     "text": [
      "[909.72495744   0.        ]\n",
      "[917.31144258   0.        ]\n",
      "[915.66247421   0.        ]\n"
     ]
    },
    {
     "name": "stderr",
     "output_type": "stream",
     "text": [
      "\r",
      "t:  23%|██▎       | 291/1260 [00:25<01:26, 11.21it/s, now=None]"
     ]
    },
    {
     "name": "stdout",
     "output_type": "stream",
     "text": [
      "[920.32982619   0.        ]\n",
      "[919.52548307   0.        ]\n",
      "[921.00805691   0.        ]\n"
     ]
    },
    {
     "name": "stderr",
     "output_type": "stream",
     "text": [
      "t:  23%|██▎       | 295/1260 [00:26<01:29, 10.80it/s, now=None]"
     ]
    },
    {
     "name": "stdout",
     "output_type": "stream",
     "text": [
      "[908.23554902   0.        ]\n",
      "[910.80682317   0.        ]\n",
      "[912.14581861   0.        ]\n"
     ]
    },
    {
     "name": "stderr",
     "output_type": "stream",
     "text": [
      "\r",
      "t:  24%|██▎       | 297/1260 [00:26<01:27, 11.07it/s, now=None]"
     ]
    },
    {
     "name": "stdout",
     "output_type": "stream",
     "text": [
      "[911.05134406   0.        ]\n",
      "[909.28555233   0.        ]\n",
      "[904.78819467   0.        ]\n"
     ]
    },
    {
     "name": "stderr",
     "output_type": "stream",
     "text": [
      "t:  24%|██▍       | 301/1260 [00:26<01:24, 11.40it/s, now=None]"
     ]
    },
    {
     "name": "stdout",
     "output_type": "stream",
     "text": [
      "[914.87571052   0.        ]\n",
      "[918.73853579   0.        ]\n",
      "[919.04039009   0.        ]\n"
     ]
    },
    {
     "name": "stderr",
     "output_type": "stream",
     "text": [
      "\r",
      "t:  24%|██▍       | 303/1260 [00:26<01:24, 11.32it/s, now=None]"
     ]
    },
    {
     "name": "stdout",
     "output_type": "stream",
     "text": [
      "[926.21405739   0.        ]\n",
      "[925.75570419   0.        ]\n",
      "[922.46552641   0.        ]\n"
     ]
    },
    {
     "name": "stderr",
     "output_type": "stream",
     "text": [
      "t:  24%|██▍       | 307/1260 [00:27<01:24, 11.31it/s, now=None]"
     ]
    },
    {
     "name": "stdout",
     "output_type": "stream",
     "text": [
      "[913.51964924   0.        ]\n",
      "[908.40546761   0.        ]\n",
      "[917.31929179   0.        ]\n"
     ]
    },
    {
     "name": "stderr",
     "output_type": "stream",
     "text": [
      "\r",
      "t:  25%|██▍       | 309/1260 [00:27<01:24, 11.31it/s, now=None]"
     ]
    },
    {
     "name": "stdout",
     "output_type": "stream",
     "text": [
      "[911.88483449   0.        ]\n",
      "[906.73206423   0.        ]\n",
      "[905.00202696   0.        ]\n"
     ]
    },
    {
     "name": "stderr",
     "output_type": "stream",
     "text": [
      "t:  25%|██▍       | 313/1260 [00:27<01:24, 11.23it/s, now=None]"
     ]
    },
    {
     "name": "stdout",
     "output_type": "stream",
     "text": [
      "[905.26662135   0.        ]\n",
      "[909.65664576   0.        ]\n",
      "[905.38472646   0.        ]\n"
     ]
    },
    {
     "name": "stderr",
     "output_type": "stream",
     "text": [
      "\r",
      "t:  25%|██▌       | 315/1260 [00:28<01:25, 11.10it/s, now=None]"
     ]
    },
    {
     "name": "stdout",
     "output_type": "stream",
     "text": [
      "[915.43790059   0.        ]\n",
      "[917.97431512   0.        ]\n",
      "[925.65321474   0.        ]\n"
     ]
    },
    {
     "name": "stderr",
     "output_type": "stream",
     "text": [
      "t:  25%|██▌       | 319/1260 [00:28<01:25, 11.04it/s, now=None]"
     ]
    },
    {
     "name": "stdout",
     "output_type": "stream",
     "text": [
      "[911.08088238   0.        ]\n",
      "[918.07188807   0.        ]\n",
      "[919.40804478   0.        ]\n"
     ]
    },
    {
     "name": "stderr",
     "output_type": "stream",
     "text": [
      "\r",
      "t:  25%|██▌       | 321/1260 [00:28<01:25, 11.02it/s, now=None]"
     ]
    },
    {
     "name": "stdout",
     "output_type": "stream",
     "text": [
      "[918.34790283   0.        ]\n",
      "[920.91721974   0.        ]\n",
      "[917.74181205   0.        ]\n"
     ]
    },
    {
     "name": "stderr",
     "output_type": "stream",
     "text": [
      "t:  26%|██▌       | 325/1260 [00:28<01:25, 10.91it/s, now=None]"
     ]
    },
    {
     "name": "stdout",
     "output_type": "stream",
     "text": [
      "[924.6430452   0.       ]\n",
      "[932.96768552   0.        ]\n",
      "[933.62303227   0.        ]\n"
     ]
    },
    {
     "name": "stderr",
     "output_type": "stream",
     "text": [
      "\r",
      "t:  26%|██▌       | 327/1260 [00:29<01:28, 10.55it/s, now=None]"
     ]
    },
    {
     "name": "stdout",
     "output_type": "stream",
     "text": [
      "[936.75646455   0.        ]\n",
      "[941.74478928   0.        ]\n",
      "[942.07960326   0.        ]\n"
     ]
    },
    {
     "name": "stderr",
     "output_type": "stream",
     "text": [
      "t:  26%|██▋       | 331/1260 [00:29<01:27, 10.60it/s, now=None]"
     ]
    },
    {
     "name": "stdout",
     "output_type": "stream",
     "text": [
      "[934.77019041   0.        ]\n",
      "[932.47343271   0.        ]\n",
      "[933.63440516   0.        ]\n"
     ]
    },
    {
     "name": "stderr",
     "output_type": "stream",
     "text": [
      "\r",
      "t:  26%|██▋       | 333/1260 [00:29<01:26, 10.73it/s, now=None]"
     ]
    },
    {
     "name": "stdout",
     "output_type": "stream",
     "text": [
      "[931.42817576   0.        ]\n",
      "[920.66939028   0.        ]\n",
      "[920.84028052   0.        ]\n"
     ]
    },
    {
     "name": "stderr",
     "output_type": "stream",
     "text": [
      "t:  27%|██▋       | 337/1260 [00:30<01:25, 10.81it/s, now=None]"
     ]
    },
    {
     "name": "stdout",
     "output_type": "stream",
     "text": [
      "[924.87752938   0.        ]\n",
      "[934.50257311   0.        ]\n",
      "[937.82830679   0.        ]\n"
     ]
    },
    {
     "name": "stderr",
     "output_type": "stream",
     "text": [
      "\r",
      "t:  27%|██▋       | 339/1260 [00:30<01:25, 10.72it/s, now=None]"
     ]
    },
    {
     "name": "stdout",
     "output_type": "stream",
     "text": [
      "[941.06638563   0.        ]\n",
      "[939.70970688   0.        ]\n",
      "[934.34194407   0.        ]\n"
     ]
    },
    {
     "name": "stderr",
     "output_type": "stream",
     "text": [
      "t:  27%|██▋       | 343/1260 [00:30<01:23, 10.92it/s, now=None]"
     ]
    },
    {
     "name": "stdout",
     "output_type": "stream",
     "text": [
      "[925.45167592   0.        ]\n",
      "[927.6512658   0.       ]\n",
      "[930.70547743   0.        ]\n"
     ]
    },
    {
     "name": "stderr",
     "output_type": "stream",
     "text": [
      "\r",
      "t:  27%|██▋       | 345/1260 [00:30<01:23, 10.99it/s, now=None]"
     ]
    },
    {
     "name": "stdout",
     "output_type": "stream",
     "text": [
      "[937.67353742   0.        ]\n",
      "[937.26126138   0.        ]\n",
      "[929.66571345   0.        ]\n"
     ]
    },
    {
     "name": "stderr",
     "output_type": "stream",
     "text": [
      "t:  28%|██▊       | 349/1260 [00:31<01:23, 10.95it/s, now=None]"
     ]
    },
    {
     "name": "stdout",
     "output_type": "stream",
     "text": [
      "[933.73318454   0.        ]\n",
      "[939.52578235   0.        ]\n",
      "[940.16405217   0.        ]\n"
     ]
    },
    {
     "name": "stderr",
     "output_type": "stream",
     "text": [
      "\r",
      "t:  28%|██▊       | 351/1260 [00:31<01:23, 10.95it/s, now=None]"
     ]
    },
    {
     "name": "stdout",
     "output_type": "stream",
     "text": [
      "[946.75891846   0.        ]\n",
      "[947.77201481   0.        ]\n",
      "[949.62670583   0.        ]\n"
     ]
    },
    {
     "name": "stderr",
     "output_type": "stream",
     "text": [
      "t:  28%|██▊       | 355/1260 [00:31<01:23, 10.89it/s, now=None]"
     ]
    },
    {
     "name": "stdout",
     "output_type": "stream",
     "text": [
      "[945.9469885   0.       ]\n",
      "[930.40760761   0.        ]\n",
      "[947.20583533   0.        ]\n"
     ]
    },
    {
     "name": "stderr",
     "output_type": "stream",
     "text": [
      "\r",
      "t:  28%|██▊       | 357/1260 [00:31<01:21, 11.05it/s, now=None]"
     ]
    },
    {
     "name": "stdout",
     "output_type": "stream",
     "text": [
      "[949.67450585   0.        ]\n",
      "[935.74534029   0.        ]\n",
      "[927.35528081   0.        ]\n"
     ]
    },
    {
     "name": "stderr",
     "output_type": "stream",
     "text": [
      "t:  29%|██▊       | 361/1260 [00:32<01:20, 11.13it/s, now=None]"
     ]
    },
    {
     "name": "stdout",
     "output_type": "stream",
     "text": [
      "[938.22897106   0.        ]\n",
      "[943.64854088   0.        ]\n",
      "[946.81918301   0.        ]\n"
     ]
    },
    {
     "name": "stderr",
     "output_type": "stream",
     "text": [
      "\r",
      "t:  29%|██▉       | 363/1260 [00:32<01:20, 11.09it/s, now=None]"
     ]
    },
    {
     "name": "stdout",
     "output_type": "stream",
     "text": [
      "[945.51228326   0.        ]\n",
      "[947.45100166   0.        ]\n",
      "[943.31609785   0.        ]\n"
     ]
    },
    {
     "name": "stderr",
     "output_type": "stream",
     "text": [
      "t:  29%|██▉       | 367/1260 [00:32<01:20, 11.05it/s, now=None]"
     ]
    },
    {
     "name": "stdout",
     "output_type": "stream",
     "text": [
      "[926.48455716   0.        ]\n",
      "[933.50726111   0.        ]\n",
      "[941.78301069   0.        ]\n"
     ]
    },
    {
     "name": "stderr",
     "output_type": "stream",
     "text": [
      "\r",
      "t:  29%|██▉       | 369/1260 [00:33<01:19, 11.14it/s, now=None]"
     ]
    },
    {
     "name": "stdout",
     "output_type": "stream",
     "text": [
      "[944.05154078   0.        ]\n",
      "[929.02001426   0.        ]\n",
      "[926.84069804   0.        ]\n"
     ]
    },
    {
     "name": "stderr",
     "output_type": "stream",
     "text": [
      "t:  30%|██▉       | 373/1260 [00:33<01:20, 11.08it/s, now=None]"
     ]
    },
    {
     "name": "stdout",
     "output_type": "stream",
     "text": [
      "[937.12870913   0.        ]\n",
      "[943.79689016   0.        ]\n",
      "[944.81788711   0.        ]\n"
     ]
    },
    {
     "name": "stderr",
     "output_type": "stream",
     "text": [
      "\r",
      "t:  30%|██▉       | 375/1260 [00:33<01:20, 11.00it/s, now=None]"
     ]
    },
    {
     "name": "stdout",
     "output_type": "stream",
     "text": [
      "[942.86167533   0.        ]\n",
      "[943.84954116   0.        ]\n",
      "[937.42274793   0.        ]\n"
     ]
    },
    {
     "name": "stderr",
     "output_type": "stream",
     "text": [
      "t:  30%|███       | 379/1260 [00:33<01:19, 11.13it/s, now=None]"
     ]
    },
    {
     "name": "stdout",
     "output_type": "stream",
     "text": [
      "[921.17993056   0.        ]\n",
      "[927.06977808   0.        ]\n",
      "[929.01985352   0.        ]\n"
     ]
    },
    {
     "name": "stderr",
     "output_type": "stream",
     "text": [
      "\r",
      "t:  30%|███       | 381/1260 [00:34<01:19, 11.00it/s, now=None]"
     ]
    },
    {
     "name": "stdout",
     "output_type": "stream",
     "text": [
      "[939.93836636   0.        ]\n",
      "[928.36431916   0.        ]\n",
      "[926.52999693   0.        ]\n"
     ]
    },
    {
     "name": "stderr",
     "output_type": "stream",
     "text": [
      "t:  31%|███       | 385/1260 [00:34<01:20, 10.84it/s, now=None]"
     ]
    },
    {
     "name": "stdout",
     "output_type": "stream",
     "text": [
      "[936.03685322   0.        ]\n",
      "[936.57524166   0.        ]\n",
      "[939.25488532   0.        ]\n"
     ]
    },
    {
     "name": "stderr",
     "output_type": "stream",
     "text": [
      "\r",
      "t:  31%|███       | 387/1260 [00:34<01:21, 10.75it/s, now=None]"
     ]
    },
    {
     "name": "stdout",
     "output_type": "stream",
     "text": [
      "[945.79274708   0.        ]\n",
      "[951.92752009   0.        ]\n",
      "[951.37543819   0.        ]\n"
     ]
    },
    {
     "name": "stderr",
     "output_type": "stream",
     "text": [
      "t:  31%|███       | 391/1260 [00:35<01:20, 10.77it/s, now=None]"
     ]
    },
    {
     "name": "stdout",
     "output_type": "stream",
     "text": [
      "[955.59591796   0.        ]\n",
      "[929.55755096   0.        ]\n",
      "[944.55119801   0.        ]\n"
     ]
    },
    {
     "name": "stderr",
     "output_type": "stream",
     "text": [
      "\r",
      "t:  31%|███       | 393/1260 [00:35<01:20, 10.80it/s, now=None]"
     ]
    },
    {
     "name": "stdout",
     "output_type": "stream",
     "text": [
      "[951.49579404   0.        ]\n",
      "[934.50597974   0.        ]\n",
      "[919.79775181   0.        ]\n"
     ]
    },
    {
     "name": "stderr",
     "output_type": "stream",
     "text": [
      "t:  32%|███▏      | 397/1260 [00:35<01:19, 10.91it/s, now=None]"
     ]
    },
    {
     "name": "stdout",
     "output_type": "stream",
     "text": [
      "[929.40069914   0.        ]\n",
      "[933.70198729   0.        ]\n",
      "[941.6945144   0.       ]\n"
     ]
    },
    {
     "name": "stderr",
     "output_type": "stream",
     "text": [
      "\r",
      "t:  32%|███▏      | 399/1260 [00:35<01:18, 10.92it/s, now=None]"
     ]
    },
    {
     "name": "stdout",
     "output_type": "stream",
     "text": [
      "[942.17749966   0.        ]\n",
      "[946.91995218   0.        ]\n",
      "[945.30660698   0.        ]\n"
     ]
    },
    {
     "name": "stderr",
     "output_type": "stream",
     "text": [
      "t:  32%|███▏      | 403/1260 [00:36<01:18, 10.93it/s, now=None]"
     ]
    },
    {
     "name": "stdout",
     "output_type": "stream",
     "text": [
      "[948.77832776   0.        ]\n",
      "[922.27710983   0.        ]\n",
      "[936.76356568   0.        ]\n"
     ]
    },
    {
     "name": "stderr",
     "output_type": "stream",
     "text": [
      "\r",
      "t:  32%|███▏      | 405/1260 [00:36<01:17, 11.03it/s, now=None]"
     ]
    },
    {
     "name": "stdout",
     "output_type": "stream",
     "text": [
      "[945.38203292   0.        ]\n",
      "[931.03007911   0.        ]\n",
      "[920.42839176   0.        ]\n"
     ]
    },
    {
     "name": "stderr",
     "output_type": "stream",
     "text": [
      "t:  32%|███▏      | 409/1260 [00:36<01:17, 10.97it/s, now=None]"
     ]
    },
    {
     "name": "stdout",
     "output_type": "stream",
     "text": [
      "[920.55641651   0.        ]\n",
      "[935.58964509   0.        ]\n",
      "[940.75104299   0.        ]\n"
     ]
    },
    {
     "name": "stderr",
     "output_type": "stream",
     "text": [
      "\r",
      "t:  33%|███▎      | 411/1260 [00:36<01:18, 10.88it/s, now=None]"
     ]
    },
    {
     "name": "stdout",
     "output_type": "stream",
     "text": [
      "[939.39956398   0.        ]\n",
      "[941.7848581   0.       ]\n",
      "[942.99493113   0.        ]\n"
     ]
    },
    {
     "name": "stderr",
     "output_type": "stream",
     "text": [
      "t:  33%|███▎      | 415/1260 [00:37<01:17, 10.92it/s, now=None]"
     ]
    },
    {
     "name": "stdout",
     "output_type": "stream",
     "text": [
      "[931.83436408   0.        ]\n",
      "[912.94116266   0.        ]\n",
      "[924.9596109   0.       ]\n"
     ]
    },
    {
     "name": "stderr",
     "output_type": "stream",
     "text": [
      "\r",
      "t:  33%|███▎      | 417/1260 [00:37<01:17, 10.94it/s, now=None]"
     ]
    },
    {
     "name": "stdout",
     "output_type": "stream",
     "text": [
      "[937.88241997   0.        ]\n",
      "[928.12205938   0.        ]\n",
      "[910.65128175   0.        ]\n"
     ]
    },
    {
     "name": "stderr",
     "output_type": "stream",
     "text": [
      "t:  33%|███▎      | 421/1260 [00:37<01:17, 10.83it/s, now=None]"
     ]
    },
    {
     "name": "stdout",
     "output_type": "stream",
     "text": [
      "[920.75945892   0.        ]\n",
      "[925.98565123   0.        ]\n",
      "[928.47091376   0.        ]\n"
     ]
    },
    {
     "name": "stderr",
     "output_type": "stream",
     "text": [
      "\r",
      "t:  34%|███▎      | 423/1260 [00:37<01:16, 10.88it/s, now=None]"
     ]
    },
    {
     "name": "stdout",
     "output_type": "stream",
     "text": [
      "[925.6820232   0.       ]\n",
      "[929.24735519   0.        ]\n",
      "[932.67433802   0.        ]\n"
     ]
    },
    {
     "name": "stderr",
     "output_type": "stream",
     "text": [
      "t:  34%|███▍      | 427/1260 [00:38<01:16, 10.85it/s, now=None]"
     ]
    },
    {
     "name": "stdout",
     "output_type": "stream",
     "text": [
      "[917.95943062   0.        ]\n",
      "[903.53664307   0.        ]\n",
      "[925.89285516   0.        ]\n"
     ]
    },
    {
     "name": "stderr",
     "output_type": "stream",
     "text": [
      "\r",
      "t:  34%|███▍      | 429/1260 [00:38<01:15, 10.97it/s, now=None]"
     ]
    },
    {
     "name": "stdout",
     "output_type": "stream",
     "text": [
      "[931.89756233   0.        ]\n",
      "[916.99591127   0.        ]\n",
      "[899.66222141   0.        ]\n"
     ]
    },
    {
     "name": "stderr",
     "output_type": "stream",
     "text": [
      "t:  34%|███▍      | 433/1260 [00:38<01:16, 10.84it/s, now=None]"
     ]
    },
    {
     "name": "stdout",
     "output_type": "stream",
     "text": [
      "[915.62193051   0.        ]\n",
      "[922.07245752   0.        ]\n",
      "[930.91866586   0.        ]\n"
     ]
    },
    {
     "name": "stderr",
     "output_type": "stream",
     "text": [
      "\r",
      "t:  35%|███▍      | 435/1260 [00:39<01:16, 10.82it/s, now=None]"
     ]
    },
    {
     "name": "stdout",
     "output_type": "stream",
     "text": [
      "[931.04206716   0.        ]\n",
      "[933.6237141   0.       ]\n",
      "[932.67253199   0.        ]\n"
     ]
    },
    {
     "name": "stderr",
     "output_type": "stream",
     "text": [
      "t:  35%|███▍      | 439/1260 [00:39<01:17, 10.61it/s, now=None]"
     ]
    },
    {
     "name": "stdout",
     "output_type": "stream",
     "text": [
      "[910.47409737   0.        ]\n",
      "[907.93151028   0.        ]\n",
      "[918.82143495   0.        ]\n"
     ]
    },
    {
     "name": "stderr",
     "output_type": "stream",
     "text": [
      "\r",
      "t:  35%|███▌      | 441/1260 [00:39<01:17, 10.58it/s, now=None]"
     ]
    },
    {
     "name": "stdout",
     "output_type": "stream",
     "text": [
      "[919.09963112   0.        ]\n",
      "[909.58041933   0.        ]\n",
      "[906.5597909   0.       ]\n"
     ]
    },
    {
     "name": "stderr",
     "output_type": "stream",
     "text": [
      "t:  35%|███▌      | 445/1260 [00:39<01:16, 10.72it/s, now=None]"
     ]
    },
    {
     "name": "stdout",
     "output_type": "stream",
     "text": [
      "[915.26455482   0.        ]\n",
      "[922.13654825   0.        ]\n",
      "[928.02424783   0.        ]\n"
     ]
    },
    {
     "name": "stderr",
     "output_type": "stream",
     "text": [
      "\r",
      "t:  35%|███▌      | 447/1260 [00:40<01:15, 10.79it/s, now=None]"
     ]
    },
    {
     "name": "stdout",
     "output_type": "stream",
     "text": [
      "[926.79829352   0.        ]\n",
      "[925.73183009   0.        ]\n",
      "[931.0791125   0.       ]\n"
     ]
    },
    {
     "name": "stderr",
     "output_type": "stream",
     "text": [
      "t:  36%|███▌      | 451/1260 [00:40<01:13, 10.96it/s, now=None]"
     ]
    },
    {
     "name": "stdout",
     "output_type": "stream",
     "text": [
      "[908.113131   0.      ]\n",
      "[905.22653796   0.        ]\n",
      "[920.34493667   0.        ]\n"
     ]
    },
    {
     "name": "stderr",
     "output_type": "stream",
     "text": [
      "\r",
      "t:  36%|███▌      | 453/1260 [00:40<01:13, 10.98it/s, now=None]"
     ]
    },
    {
     "name": "stdout",
     "output_type": "stream",
     "text": [
      "[920.86299561   0.        ]\n",
      "[919.32518213   0.        ]\n",
      "[903.3531867   0.       ]\n"
     ]
    },
    {
     "name": "stderr",
     "output_type": "stream",
     "text": [
      "t:  36%|███▋      | 457/1260 [00:41<01:13, 10.97it/s, now=None]"
     ]
    },
    {
     "name": "stdout",
     "output_type": "stream",
     "text": [
      "[913.70637081   0.        ]\n",
      "[919.20292325   0.        ]\n",
      "[922.64261661   0.        ]\n"
     ]
    },
    {
     "name": "stderr",
     "output_type": "stream",
     "text": [
      "\r",
      "t:  36%|███▋      | 459/1260 [00:41<01:12, 11.00it/s, now=None]"
     ]
    },
    {
     "name": "stdout",
     "output_type": "stream",
     "text": [
      "[925.84124572   0.        ]\n",
      "[923.72784435   0.        ]\n",
      "[927.80570962   0.        ]\n"
     ]
    },
    {
     "name": "stderr",
     "output_type": "stream",
     "text": [
      "t:  37%|███▋      | 463/1260 [00:41<01:13, 10.89it/s, now=None]"
     ]
    },
    {
     "name": "stdout",
     "output_type": "stream",
     "text": [
      "[908.49952828   0.        ]\n",
      "[911.86185173   0.        ]\n",
      "[930.90756567   0.        ]\n"
     ]
    },
    {
     "name": "stderr",
     "output_type": "stream",
     "text": [
      "\r",
      "t:  37%|███▋      | 465/1260 [00:41<01:13, 10.82it/s, now=None]"
     ]
    },
    {
     "name": "stdout",
     "output_type": "stream",
     "text": [
      "[926.84948525   0.        ]\n",
      "[917.17873305   0.        ]\n",
      "[904.70579547   0.        ]\n"
     ]
    },
    {
     "name": "stderr",
     "output_type": "stream",
     "text": [
      "t:  37%|███▋      | 469/1260 [00:42<01:12, 10.91it/s, now=None]"
     ]
    },
    {
     "name": "stdout",
     "output_type": "stream",
     "text": [
      "[918.64131602   0.        ]\n",
      "[920.5933594   0.       ]\n",
      "[923.04526499   0.        ]\n"
     ]
    },
    {
     "name": "stderr",
     "output_type": "stream",
     "text": [
      "\r",
      "t:  37%|███▋      | 471/1260 [00:42<01:12, 10.88it/s, now=None]"
     ]
    },
    {
     "name": "stdout",
     "output_type": "stream",
     "text": [
      "[929.24233589   0.        ]\n",
      "[927.14640913   0.        ]\n",
      "[930.07072679   0.        ]\n"
     ]
    },
    {
     "name": "stderr",
     "output_type": "stream",
     "text": [
      "t:  38%|███▊      | 475/1260 [00:42<01:11, 10.99it/s, now=None]"
     ]
    },
    {
     "name": "stdout",
     "output_type": "stream",
     "text": [
      "[913.07633476   0.        ]\n",
      "[914.91535272   0.        ]\n",
      "[936.40700013   0.        ]\n"
     ]
    },
    {
     "name": "stderr",
     "output_type": "stream",
     "text": [
      "\r",
      "t:  38%|███▊      | 477/1260 [00:42<01:12, 10.85it/s, now=None]"
     ]
    },
    {
     "name": "stdout",
     "output_type": "stream",
     "text": [
      "[936.63178139   0.        ]\n",
      "[934.3004126   0.       ]\n",
      "[924.98353056   0.        ]\n"
     ]
    },
    {
     "name": "stderr",
     "output_type": "stream",
     "text": [
      "t:  38%|███▊      | 481/1260 [00:43<01:13, 10.65it/s, now=None]"
     ]
    },
    {
     "name": "stdout",
     "output_type": "stream",
     "text": [
      "[932.36426354   0.        ]\n",
      "[946.64465818   0.        ]\n",
      "[947.33641759   0.        ]\n"
     ]
    },
    {
     "name": "stderr",
     "output_type": "stream",
     "text": [
      "\r",
      "t:  38%|███▊      | 483/1260 [00:43<01:13, 10.55it/s, now=None]"
     ]
    },
    {
     "name": "stdout",
     "output_type": "stream",
     "text": [
      "[951.83268204   0.        ]\n",
      "[954.77367277   0.        ]\n",
      "[954.39357126   0.        ]\n"
     ]
    },
    {
     "name": "stderr",
     "output_type": "stream",
     "text": [
      "t:  39%|███▊      | 487/1260 [00:43<01:12, 10.73it/s, now=None]"
     ]
    },
    {
     "name": "stdout",
     "output_type": "stream",
     "text": [
      "[941.1367157   0.       ]\n",
      "[934.44330014   0.        ]\n",
      "[942.73624562   0.        ]\n"
     ]
    },
    {
     "name": "stderr",
     "output_type": "stream",
     "text": [
      "\r",
      "t:  39%|███▉      | 489/1260 [00:44<01:12, 10.58it/s, now=None]"
     ]
    },
    {
     "name": "stdout",
     "output_type": "stream",
     "text": [
      "[938.46836216   0.        ]\n",
      "[920.62350894   0.        ]\n",
      "[924.81358255   0.        ]\n"
     ]
    },
    {
     "name": "stderr",
     "output_type": "stream",
     "text": [
      "t:  39%|███▉      | 493/1260 [00:44<01:18,  9.74it/s, now=None]"
     ]
    },
    {
     "name": "stdout",
     "output_type": "stream",
     "text": [
      "[931.75939455   0.        ]\n",
      "[939.84427394   0.        ]\n"
     ]
    },
    {
     "name": "stderr",
     "output_type": "stream",
     "text": [
      "t:  39%|███▉      | 495/1260 [00:44<01:25,  8.95it/s, now=None]"
     ]
    },
    {
     "name": "stdout",
     "output_type": "stream",
     "text": [
      "[940.87414221   0.        ]\n",
      "[946.15010789   0.        ]\n"
     ]
    },
    {
     "name": "stderr",
     "output_type": "stream",
     "text": [
      "t:  39%|███▉      | 497/1260 [00:44<01:29,  8.52it/s, now=None]"
     ]
    },
    {
     "name": "stdout",
     "output_type": "stream",
     "text": [
      "[950.07548846   0.        ]\n",
      "[950.85087188   0.        ]\n"
     ]
    },
    {
     "name": "stderr",
     "output_type": "stream",
     "text": [
      "\r",
      "t:  40%|███▉      | 498/1260 [00:45<01:31,  8.37it/s, now=None]"
     ]
    },
    {
     "name": "stdout",
     "output_type": "stream",
     "text": [
      "[934.84026568   0.        ]\n",
      "[933.27175445   0.        ]\n",
      "[945.45084891   0.        ]\n"
     ]
    },
    {
     "name": "stderr",
     "output_type": "stream",
     "text": [
      "t:  40%|███▉      | 501/1260 [00:45<01:23,  9.08it/s, now=None]"
     ]
    },
    {
     "name": "stdout",
     "output_type": "stream",
     "text": [
      "[951.00785193   0.        ]\n",
      "[943.2857775   0.       ]\n",
      "[956.88763645   0.        ]\n"
     ]
    },
    {
     "name": "stderr",
     "output_type": "stream",
     "text": [
      "t:  40%|████      | 505/1260 [00:45<01:18,  9.60it/s, now=None]"
     ]
    },
    {
     "name": "stdout",
     "output_type": "stream",
     "text": [
      "[950.72879312   0.        ]\n",
      "[949.06638479   0.        ]\n"
     ]
    },
    {
     "name": "stderr",
     "output_type": "stream",
     "text": [
      "t:  40%|████      | 507/1260 [00:46<01:22,  9.15it/s, now=None]"
     ]
    },
    {
     "name": "stdout",
     "output_type": "stream",
     "text": [
      "[951.82353243   0.        ]\n",
      "[950.65454294   0.        ]\n"
     ]
    },
    {
     "name": "stderr",
     "output_type": "stream",
     "text": [
      "t:  40%|████      | 509/1260 [00:46<01:27,  8.54it/s, now=None]"
     ]
    },
    {
     "name": "stdout",
     "output_type": "stream",
     "text": [
      "[953.93715485   0.        ]\n",
      "[953.56314642   0.        ]\n"
     ]
    },
    {
     "name": "stderr",
     "output_type": "stream",
     "text": [
      "t:  41%|████      | 511/1260 [00:46<01:27,  8.57it/s, now=None]"
     ]
    },
    {
     "name": "stdout",
     "output_type": "stream",
     "text": [
      "[950.45272097   0.        ]\n",
      "[939.15082264   0.        ]\n"
     ]
    },
    {
     "name": "stderr",
     "output_type": "stream",
     "text": [
      "t:  41%|████      | 513/1260 [00:46<01:28,  8.43it/s, now=None]"
     ]
    },
    {
     "name": "stdout",
     "output_type": "stream",
     "text": [
      "[942.45349915   0.        ]\n",
      "[946.9353261   0.       ]\n"
     ]
    },
    {
     "name": "stderr",
     "output_type": "stream",
     "text": [
      "t:  41%|████      | 515/1260 [00:46<01:30,  8.22it/s, now=None]"
     ]
    },
    {
     "name": "stdout",
     "output_type": "stream",
     "text": [
      "[933.83521417   0.        ]\n",
      "[935.14673248   0.        ]\n"
     ]
    },
    {
     "name": "stderr",
     "output_type": "stream",
     "text": [
      "t:  41%|████      | 517/1260 [00:47<01:33,  7.97it/s, now=None]"
     ]
    },
    {
     "name": "stdout",
     "output_type": "stream",
     "text": [
      "[933.01424403   0.        ]\n",
      "[941.51928032   0.        ]\n"
     ]
    },
    {
     "name": "stderr",
     "output_type": "stream",
     "text": [
      "t:  41%|████      | 519/1260 [00:47<01:34,  7.84it/s, now=None]"
     ]
    },
    {
     "name": "stdout",
     "output_type": "stream",
     "text": [
      "[943.8378307   0.       ]\n",
      "[943.34985515   0.        ]\n"
     ]
    },
    {
     "name": "stderr",
     "output_type": "stream",
     "text": [
      "\r",
      "t:  41%|████▏     | 520/1260 [00:47<01:34,  7.79it/s, now=None]"
     ]
    },
    {
     "name": "stdout",
     "output_type": "stream",
     "text": [
      "[948.85752306   0.        ]\n",
      "[947.77456489   0.        ]\n"
     ]
    },
    {
     "name": "stderr",
     "output_type": "stream",
     "text": [
      "t:  42%|████▏     | 523/1260 [00:48<01:32,  7.96it/s, now=None]"
     ]
    },
    {
     "name": "stdout",
     "output_type": "stream",
     "text": [
      "[944.00842643   0.        ]\n",
      "[943.89052371   0.        ]\n"
     ]
    },
    {
     "name": "stderr",
     "output_type": "stream",
     "text": [
      "t:  42%|████▏     | 525/1260 [00:48<01:31,  8.00it/s, now=None]"
     ]
    },
    {
     "name": "stdout",
     "output_type": "stream",
     "text": [
      "[944.98180304   0.        ]\n",
      "[950.28986854   0.        ]\n"
     ]
    },
    {
     "name": "stderr",
     "output_type": "stream",
     "text": [
      "t:  42%|████▏     | 527/1260 [00:48<01:32,  7.96it/s, now=None]"
     ]
    },
    {
     "name": "stdout",
     "output_type": "stream",
     "text": [
      "[943.39668021   0.        ]\n",
      "[947.89773764   0.        ]\n"
     ]
    },
    {
     "name": "stderr",
     "output_type": "stream",
     "text": [
      "t:  42%|████▏     | 529/1260 [00:48<01:33,  7.80it/s, now=None]"
     ]
    },
    {
     "name": "stdout",
     "output_type": "stream",
     "text": [
      "[950.61309647   0.        ]\n",
      "[952.86573471   0.        ]\n"
     ]
    },
    {
     "name": "stderr",
     "output_type": "stream",
     "text": [
      "t:  42%|████▏     | 531/1260 [00:49<01:30,  8.09it/s, now=None]"
     ]
    },
    {
     "name": "stdout",
     "output_type": "stream",
     "text": [
      "[952.3601586   0.       ]\n",
      "[945.75284279   0.        ]\n"
     ]
    },
    {
     "name": "stderr",
     "output_type": "stream",
     "text": [
      "t:  42%|████▏     | 533/1260 [00:49<01:25,  8.49it/s, now=None]"
     ]
    },
    {
     "name": "stdout",
     "output_type": "stream",
     "text": [
      "[943.04926921   0.        ]\n",
      "[935.13906988   0.        ]\n"
     ]
    },
    {
     "name": "stderr",
     "output_type": "stream",
     "text": [
      "\r",
      "t:  42%|████▏     | 534/1260 [00:49<01:23,  8.67it/s, now=None]"
     ]
    },
    {
     "name": "stdout",
     "output_type": "stream",
     "text": [
      "[929.53065539   0.        ]\n",
      "[926.58159064   0.        ]\n",
      "[937.84778126   0.        ]\n"
     ]
    },
    {
     "name": "stderr",
     "output_type": "stream",
     "text": [
      "t:  43%|████▎     | 538/1260 [00:49<01:21,  8.84it/s, now=None]"
     ]
    },
    {
     "name": "stdout",
     "output_type": "stream",
     "text": [
      "[943.36854052   0.        ]\n",
      "[943.88351653   0.        ]\n"
     ]
    },
    {
     "name": "stderr",
     "output_type": "stream",
     "text": [
      "\r",
      "t:  43%|████▎     | 539/1260 [00:49<01:19,  9.04it/s, now=None]"
     ]
    },
    {
     "name": "stdout",
     "output_type": "stream",
     "text": [
      "[948.75289604   0.        ]\n",
      "[952.93221378   0.        ]\n",
      "[958.44459335   0.        ]\n"
     ]
    },
    {
     "name": "stderr",
     "output_type": "stream",
     "text": [
      "t:  43%|████▎     | 543/1260 [00:50<01:15,  9.45it/s, now=None]"
     ]
    },
    {
     "name": "stdout",
     "output_type": "stream",
     "text": [
      "[954.96333717   0.        ]\n",
      "[952.08447843   0.        ]\n"
     ]
    },
    {
     "name": "stderr",
     "output_type": "stream",
     "text": [
      "t:  43%|████▎     | 545/1260 [00:50<01:24,  8.46it/s, now=None]"
     ]
    },
    {
     "name": "stdout",
     "output_type": "stream",
     "text": [
      "[954.85313793   0.        ]\n",
      "[949.83182484   0.        ]\n"
     ]
    },
    {
     "name": "stderr",
     "output_type": "stream",
     "text": [
      "t:  43%|████▎     | 547/1260 [00:50<01:22,  8.67it/s, now=None]"
     ]
    },
    {
     "name": "stdout",
     "output_type": "stream",
     "text": [
      "[955.1617157   0.       ]\n",
      "[945.75636832   0.        ]\n"
     ]
    },
    {
     "name": "stderr",
     "output_type": "stream",
     "text": [
      "t:  44%|████▎     | 549/1260 [00:51<01:21,  8.72it/s, now=None]"
     ]
    },
    {
     "name": "stdout",
     "output_type": "stream",
     "text": [
      "[947.17015794   0.        ]\n",
      "[946.73191762   0.        ]\n"
     ]
    },
    {
     "name": "stderr",
     "output_type": "stream",
     "text": [
      "t:  44%|████▎     | 551/1260 [00:51<01:21,  8.74it/s, now=None]"
     ]
    },
    {
     "name": "stdout",
     "output_type": "stream",
     "text": [
      "[948.66982317   0.        ]\n",
      "[958.14688694   0.        ]\n"
     ]
    },
    {
     "name": "stderr",
     "output_type": "stream",
     "text": [
      "t:  44%|████▍     | 553/1260 [00:51<01:24,  8.34it/s, now=None]"
     ]
    },
    {
     "name": "stdout",
     "output_type": "stream",
     "text": [
      "[963.82066962   0.        ]\n",
      "[964.1990393   0.       ]\n"
     ]
    },
    {
     "name": "stderr",
     "output_type": "stream",
     "text": [
      "t:  44%|████▍     | 555/1260 [00:51<01:22,  8.58it/s, now=None]"
     ]
    },
    {
     "name": "stdout",
     "output_type": "stream",
     "text": [
      "[987.45692276   0.        ]\n",
      "[1021.92204067    0.        ]\n"
     ]
    },
    {
     "name": "stderr",
     "output_type": "stream",
     "text": [
      "t:  44%|████▍     | 557/1260 [00:51<01:23,  8.38it/s, now=None]"
     ]
    },
    {
     "name": "stdout",
     "output_type": "stream",
     "text": [
      "[1020.46419415    0.        ]\n",
      "[981.48594892   0.        ]\n"
     ]
    },
    {
     "name": "stderr",
     "output_type": "stream",
     "text": [
      "t:  44%|████▍     | 559/1260 [00:52<01:20,  8.70it/s, now=None]"
     ]
    },
    {
     "name": "stdout",
     "output_type": "stream",
     "text": [
      "[984.34095235   0.        ]\n",
      "[968.96763853   0.        ]\n"
     ]
    },
    {
     "name": "stderr",
     "output_type": "stream",
     "text": [
      "t:  45%|████▍     | 561/1260 [00:52<01:21,  8.56it/s, now=None]"
     ]
    },
    {
     "name": "stdout",
     "output_type": "stream",
     "text": [
      "[974.17946052   0.        ]\n",
      "[999.80625255   0.        ]\n"
     ]
    },
    {
     "name": "stderr",
     "output_type": "stream",
     "text": [
      "t:  45%|████▍     | 563/1260 [00:52<01:23,  8.31it/s, now=None]"
     ]
    },
    {
     "name": "stdout",
     "output_type": "stream",
     "text": [
      "[980.81496877   0.        ]\n",
      "[1033.11706126    0.        ]\n"
     ]
    },
    {
     "name": "stderr",
     "output_type": "stream",
     "text": [
      "t:  45%|████▍     | 565/1260 [00:52<01:21,  8.50it/s, now=None]"
     ]
    },
    {
     "name": "stdout",
     "output_type": "stream",
     "text": [
      "[1001.28350279    0.        ]\n",
      "[974.6601522   0.       ]\n"
     ]
    },
    {
     "name": "stderr",
     "output_type": "stream",
     "text": [
      "\r",
      "t:  45%|████▍     | 566/1260 [00:53<01:21,  8.56it/s, now=None]"
     ]
    },
    {
     "name": "stdout",
     "output_type": "stream",
     "text": [
      "[947.90446446   0.        ]\n",
      "[939.89591366   0.        ]\n",
      "[952.68047535   0.        ]\n"
     ]
    },
    {
     "name": "stderr",
     "output_type": "stream",
     "text": [
      "t:  45%|████▌     | 570/1260 [00:53<01:19,  8.66it/s, now=None]"
     ]
    },
    {
     "name": "stdout",
     "output_type": "stream",
     "text": [
      "[956.66479311   0.        ]\n",
      "[983.62459041   0.        ]\n"
     ]
    },
    {
     "name": "stderr",
     "output_type": "stream",
     "text": [
      "\r",
      "t:  45%|████▌     | 571/1260 [00:53<01:18,  8.82it/s, now=None]"
     ]
    },
    {
     "name": "stdout",
     "output_type": "stream",
     "text": [
      "[1001.78922929    0.        ]\n",
      "[997.49312438   0.        ]\n",
      "[981.16569679   0.        ]\n"
     ]
    },
    {
     "name": "stderr",
     "output_type": "stream",
     "text": [
      "t:  46%|████▌     | 575/1260 [00:53<01:12,  9.46it/s, now=None]"
     ]
    },
    {
     "name": "stdout",
     "output_type": "stream",
     "text": [
      "[980.7552519   0.       ]\n",
      "[977.82304709   0.        ]\n",
      "[973.88270323   0.        ]\n"
     ]
    },
    {
     "name": "stderr",
     "output_type": "stream",
     "text": [
      "t:  46%|████▌     | 577/1260 [00:54<01:12,  9.46it/s, now=None]"
     ]
    },
    {
     "name": "stdout",
     "output_type": "stream",
     "text": [
      "[965.7677881   0.       ]\n",
      "[959.99916094   0.        ]\n",
      "[951.51664117   0.        ]\n"
     ]
    },
    {
     "name": "stderr",
     "output_type": "stream",
     "text": [
      "t:  46%|████▌     | 581/1260 [00:54<01:10,  9.59it/s, now=None]"
     ]
    },
    {
     "name": "stdout",
     "output_type": "stream",
     "text": [
      "[919.63333444   0.        ]\n",
      "[933.0803692   0.       ]\n"
     ]
    },
    {
     "name": "stderr",
     "output_type": "stream",
     "text": [
      "\r",
      "t:  46%|████▌     | 582/1260 [00:54<01:11,  9.52it/s, now=None]"
     ]
    },
    {
     "name": "stdout",
     "output_type": "stream",
     "text": [
      "[939.2895792   0.       ]\n",
      "[946.39743122   0.        ]\n",
      "[946.57373157   0.        ]\n"
     ]
    },
    {
     "name": "stderr",
     "output_type": "stream",
     "text": [
      "t:  47%|████▋     | 586/1260 [00:55<01:08,  9.83it/s, now=None]"
     ]
    },
    {
     "name": "stdout",
     "output_type": "stream",
     "text": [
      "[935.12839848   0.        ]\n",
      "[1184.62230531    0.        ]\n",
      "[923.81403637   0.        ]\n"
     ]
    },
    {
     "name": "stderr",
     "output_type": "stream",
     "text": [
      "t:  47%|████▋     | 589/1260 [00:55<01:07,  9.99it/s, now=None]"
     ]
    },
    {
     "name": "stdout",
     "output_type": "stream",
     "text": [
      "[1019.13454664    0.        ]\n",
      "[909.1923526   0.       ]\n",
      "[928.72190915   0.        ]\n"
     ]
    },
    {
     "name": "stderr",
     "output_type": "stream",
     "text": [
      "\r",
      "t:  47%|████▋     | 591/1260 [00:55<01:04, 10.31it/s, now=None]"
     ]
    },
    {
     "name": "stdout",
     "output_type": "stream",
     "text": [
      "[955.96222163   0.        ]\n",
      "[102.43565156   0.        ]\n",
      "[-288.54280056    0.        ]\n"
     ]
    },
    {
     "name": "stderr",
     "output_type": "stream",
     "text": [
      "t:  47%|████▋     | 595/1260 [00:55<01:03, 10.44it/s, now=None]"
     ]
    },
    {
     "name": "stdout",
     "output_type": "stream",
     "text": [
      "[-988.28757635    0.        ]\n",
      "[890.82221036   0.        ]\n",
      "[943.72412592   0.        ]\n"
     ]
    },
    {
     "name": "stderr",
     "output_type": "stream",
     "text": [
      "\r",
      "t:  47%|████▋     | 597/1260 [00:56<01:02, 10.62it/s, now=None]"
     ]
    },
    {
     "name": "stdout",
     "output_type": "stream",
     "text": [
      "[955.43666691   0.        ]\n",
      "[961.82306282   0.        ]\n",
      "[961.63498589   0.        ]\n"
     ]
    },
    {
     "name": "stderr",
     "output_type": "stream",
     "text": [
      "t:  48%|████▊     | 601/1260 [00:56<01:01, 10.66it/s, now=None]"
     ]
    },
    {
     "name": "stdout",
     "output_type": "stream",
     "text": [
      "[962.59097771   0.        ]\n",
      "[965.49172517   0.        ]\n",
      "[970.9293734   0.       ]\n"
     ]
    },
    {
     "name": "stderr",
     "output_type": "stream",
     "text": [
      "\r",
      "t:  48%|████▊     | 603/1260 [00:56<01:01, 10.69it/s, now=None]"
     ]
    },
    {
     "name": "stdout",
     "output_type": "stream",
     "text": [
      "[964.735084   0.      ]\n",
      "[997.18728421   0.        ]\n",
      "[987.73624372   0.        ]\n"
     ]
    },
    {
     "name": "stderr",
     "output_type": "stream",
     "text": [
      "t:  48%|████▊     | 607/1260 [00:57<01:01, 10.63it/s, now=None]"
     ]
    },
    {
     "name": "stdout",
     "output_type": "stream",
     "text": [
      "[982.64366245   0.        ]\n",
      "[977.38756014   0.        ]\n",
      "[947.86252326   0.        ]\n"
     ]
    },
    {
     "name": "stderr",
     "output_type": "stream",
     "text": [
      "\r",
      "t:  48%|████▊     | 609/1260 [00:57<01:01, 10.58it/s, now=None]"
     ]
    },
    {
     "name": "stdout",
     "output_type": "stream",
     "text": [
      "[951.12644768   0.        ]\n",
      "[947.26146787   0.        ]\n",
      "[924.82177854   0.        ]\n"
     ]
    },
    {
     "name": "stderr",
     "output_type": "stream",
     "text": [
      "t:  49%|████▊     | 613/1260 [00:57<01:01, 10.57it/s, now=None]"
     ]
    },
    {
     "name": "stdout",
     "output_type": "stream",
     "text": [
      "[938.21363117   0.        ]\n",
      "[940.08088216   0.        ]\n",
      "[942.80306964   0.        ]\n"
     ]
    },
    {
     "name": "stderr",
     "output_type": "stream",
     "text": [
      "\r",
      "t:  49%|████▉     | 615/1260 [00:57<01:02, 10.24it/s, now=None]"
     ]
    },
    {
     "name": "stdout",
     "output_type": "stream",
     "text": [
      "[1169.35608751    0.        ]\n",
      "[764.83476525   0.        ]\n",
      "[823.34738448   0.        ]\n"
     ]
    },
    {
     "name": "stderr",
     "output_type": "stream",
     "text": [
      "t:  49%|████▉     | 619/1260 [00:58<01:01, 10.41it/s, now=None]"
     ]
    },
    {
     "name": "stdout",
     "output_type": "stream",
     "text": [
      "[-222.76667789    0.        ]\n",
      "[-9794.45721608     0.        ]\n",
      "[952.96683368   0.        ]\n"
     ]
    },
    {
     "name": "stderr",
     "output_type": "stream",
     "text": [
      "\r",
      "t:  49%|████▉     | 621/1260 [00:58<01:01, 10.31it/s, now=None]"
     ]
    },
    {
     "name": "stdout",
     "output_type": "stream",
     "text": [
      "[960.77825782   0.        ]\n",
      "[952.03799265   0.        ]\n",
      "[960.21305445   0.        ]\n"
     ]
    },
    {
     "name": "stderr",
     "output_type": "stream",
     "text": [
      "t:  50%|████▉     | 625/1260 [00:58<01:01, 10.28it/s, now=None]"
     ]
    },
    {
     "name": "stdout",
     "output_type": "stream",
     "text": [
      "[968.47908833   0.        ]\n",
      "[971.72645751   0.        ]\n",
      "[962.52899592   0.        ]\n"
     ]
    },
    {
     "name": "stderr",
     "output_type": "stream",
     "text": [
      "\r",
      "t:  50%|████▉     | 627/1260 [00:59<01:02, 10.14it/s, now=None]"
     ]
    },
    {
     "name": "stdout",
     "output_type": "stream",
     "text": [
      "[966.5031403   0.       ]\n",
      "[971.21969034   0.        ]\n"
     ]
    },
    {
     "name": "stderr",
     "output_type": "stream",
     "text": [
      "\r",
      "t:  50%|████▉     | 629/1260 [00:59<01:02, 10.02it/s, now=None]"
     ]
    },
    {
     "name": "stdout",
     "output_type": "stream",
     "text": [
      "[965.58243391   0.        ]\n",
      "[972.34925346   0.        ]\n",
      "[988.43217574   0.        ]\n"
     ]
    },
    {
     "name": "stderr",
     "output_type": "stream",
     "text": [
      "t:  50%|█████     | 633/1260 [00:59<01:02, 10.01it/s, now=None]"
     ]
    },
    {
     "name": "stdout",
     "output_type": "stream",
     "text": [
      "[996.81082017   0.        ]\n",
      "[1006.58288833    0.        ]\n",
      "[1004.12196211    0.        ]\n"
     ]
    },
    {
     "name": "stderr",
     "output_type": "stream",
     "text": [
      "\r",
      "t:  50%|█████     | 635/1260 [00:59<01:01, 10.08it/s, now=None]"
     ]
    },
    {
     "name": "stdout",
     "output_type": "stream",
     "text": [
      "[990.81925472   0.        ]\n",
      "[977.45066102   0.        ]\n"
     ]
    },
    {
     "name": "stderr",
     "output_type": "stream",
     "text": [
      "\r",
      "t:  51%|█████     | 637/1260 [01:00<01:03,  9.81it/s, now=None]"
     ]
    },
    {
     "name": "stdout",
     "output_type": "stream",
     "text": [
      "[967.79841591   0.        ]\n",
      "[957.85461904   0.        ]\n",
      "[959.42837266   0.        ]\n"
     ]
    },
    {
     "name": "stderr",
     "output_type": "stream",
     "text": [
      "t:  51%|█████     | 641/1260 [01:00<01:01, 10.07it/s, now=None]"
     ]
    },
    {
     "name": "stdout",
     "output_type": "stream",
     "text": [
      "[969.1151724   0.       ]\n",
      "[983.44723242   0.        ]\n",
      "[997.85402503   0.        ]\n"
     ]
    },
    {
     "name": "stderr",
     "output_type": "stream",
     "text": [
      "\r",
      "t:  51%|█████     | 643/1260 [01:00<01:00, 10.28it/s, now=None]"
     ]
    },
    {
     "name": "stdout",
     "output_type": "stream",
     "text": [
      "[995.56462104   0.        ]\n",
      "[999.29943927   0.        ]\n",
      "[996.4319059   0.       ]\n"
     ]
    },
    {
     "name": "stderr",
     "output_type": "stream",
     "text": [
      "t:  51%|█████▏    | 647/1260 [01:00<00:58, 10.44it/s, now=None]"
     ]
    },
    {
     "name": "stdout",
     "output_type": "stream",
     "text": [
      "[992.78214752   0.        ]\n",
      "[987.43145272   0.        ]\n",
      "[982.58557109   0.        ]\n"
     ]
    },
    {
     "name": "stderr",
     "output_type": "stream",
     "text": [
      "\r",
      "t:  52%|█████▏    | 649/1260 [01:01<00:58, 10.41it/s, now=None]"
     ]
    },
    {
     "name": "stdout",
     "output_type": "stream",
     "text": [
      "[984.44804625   0.        ]\n",
      "[986.88125831   0.        ]\n",
      "[987.94341352   0.        ]\n"
     ]
    },
    {
     "name": "stderr",
     "output_type": "stream",
     "text": [
      "t:  52%|█████▏    | 653/1260 [01:01<00:58, 10.30it/s, now=None]"
     ]
    },
    {
     "name": "stdout",
     "output_type": "stream",
     "text": [
      "[987.74681975   0.        ]\n",
      "[989.10101461   0.        ]\n",
      "[985.93113157   0.        ]\n"
     ]
    },
    {
     "name": "stderr",
     "output_type": "stream",
     "text": [
      "\r",
      "t:  52%|█████▏    | 655/1260 [01:01<00:58, 10.39it/s, now=None]"
     ]
    },
    {
     "name": "stdout",
     "output_type": "stream",
     "text": [
      "[985.6211259   0.       ]\n",
      "[988.31805168   0.        ]\n",
      "[986.91501777   0.        ]\n"
     ]
    },
    {
     "name": "stderr",
     "output_type": "stream",
     "text": [
      "t:  52%|█████▏    | 659/1260 [01:02<00:57, 10.46it/s, now=None]"
     ]
    },
    {
     "name": "stdout",
     "output_type": "stream",
     "text": [
      "[991.64342328   0.        ]\n",
      "[985.29820116   0.        ]\n",
      "[984.00167995   0.        ]\n"
     ]
    },
    {
     "name": "stderr",
     "output_type": "stream",
     "text": [
      "\r",
      "t:  52%|█████▏    | 661/1260 [01:02<00:58, 10.27it/s, now=None]"
     ]
    },
    {
     "name": "stdout",
     "output_type": "stream",
     "text": [
      "[982.72572792   0.        ]\n",
      "[987.59458458   0.        ]\n",
      "[989.83750445   0.        ]\n"
     ]
    },
    {
     "name": "stderr",
     "output_type": "stream",
     "text": [
      "t:  53%|█████▎    | 665/1260 [01:02<00:56, 10.49it/s, now=None]"
     ]
    },
    {
     "name": "stdout",
     "output_type": "stream",
     "text": [
      "[989.67605254   0.        ]\n",
      "[990.78577522   0.        ]\n",
      "[988.64346053   0.        ]\n"
     ]
    },
    {
     "name": "stderr",
     "output_type": "stream",
     "text": [
      "\r",
      "t:  53%|█████▎    | 667/1260 [01:02<00:57, 10.39it/s, now=None]"
     ]
    },
    {
     "name": "stdout",
     "output_type": "stream",
     "text": [
      "[987.83715474   0.        ]\n",
      "[982.87738147   0.        ]\n",
      "[989.09563026   0.        ]\n"
     ]
    },
    {
     "name": "stderr",
     "output_type": "stream",
     "text": [
      "t:  53%|█████▎    | 671/1260 [01:03<00:55, 10.58it/s, now=None]"
     ]
    },
    {
     "name": "stdout",
     "output_type": "stream",
     "text": [
      "[988.38703206   0.        ]\n",
      "[991.39689282   0.        ]\n",
      "[986.81618461   0.        ]\n"
     ]
    },
    {
     "name": "stderr",
     "output_type": "stream",
     "text": [
      "\r",
      "t:  53%|█████▎    | 673/1260 [01:03<00:56, 10.40it/s, now=None]"
     ]
    },
    {
     "name": "stdout",
     "output_type": "stream",
     "text": [
      "[981.65636145   0.        ]\n",
      "[989.40591365   0.        ]\n",
      "[986.73993582   0.        ]\n"
     ]
    },
    {
     "name": "stderr",
     "output_type": "stream",
     "text": [
      "t:  54%|█████▎    | 677/1260 [01:03<00:56, 10.34it/s, now=None]"
     ]
    },
    {
     "name": "stdout",
     "output_type": "stream",
     "text": [
      "[986.24258098   0.        ]\n",
      "[985.05563897   0.        ]\n",
      "[985.79972051   0.        ]\n"
     ]
    },
    {
     "name": "stderr",
     "output_type": "stream",
     "text": [
      "\r",
      "t:  54%|█████▍    | 679/1260 [01:04<00:56, 10.31it/s, now=None]"
     ]
    },
    {
     "name": "stdout",
     "output_type": "stream",
     "text": [
      "[986.35808474   0.        ]\n",
      "[979.81986472   0.        ]\n",
      "[983.07173179   0.        ]\n"
     ]
    },
    {
     "name": "stderr",
     "output_type": "stream",
     "text": [
      "t:  54%|█████▍    | 683/1260 [01:04<00:56, 10.30it/s, now=None]"
     ]
    },
    {
     "name": "stdout",
     "output_type": "stream",
     "text": [
      "[983.02158332   0.        ]\n",
      "[983.76669183   0.        ]\n",
      "[984.18878762   0.        ]\n"
     ]
    },
    {
     "name": "stderr",
     "output_type": "stream",
     "text": [
      "\r",
      "t:  54%|█████▍    | 685/1260 [01:04<00:56, 10.19it/s, now=None]"
     ]
    },
    {
     "name": "stdout",
     "output_type": "stream",
     "text": [
      "[980.64998104   0.        ]\n",
      "[982.69635038   0.        ]\n",
      "[980.18012164   0.        ]\n"
     ]
    },
    {
     "name": "stderr",
     "output_type": "stream",
     "text": [
      "t:  55%|█████▍    | 689/1260 [01:05<00:56, 10.10it/s, now=None]"
     ]
    },
    {
     "name": "stdout",
     "output_type": "stream",
     "text": [
      "[981.25372408   0.        ]\n",
      "[984.43143408   0.        ]\n",
      "[990.72382243   0.        ]\n"
     ]
    },
    {
     "name": "stderr",
     "output_type": "stream",
     "text": [
      "\r",
      "t:  55%|█████▍    | 691/1260 [01:05<00:56, 10.00it/s, now=None]"
     ]
    },
    {
     "name": "stdout",
     "output_type": "stream",
     "text": [
      "[989.9579963   0.       ]\n",
      "[987.16079648   0.        ]\n",
      "[981.45822254   0.        ]\n"
     ]
    },
    {
     "name": "stderr",
     "output_type": "stream",
     "text": [
      "t:  55%|█████▌    | 695/1260 [01:05<00:58,  9.59it/s, now=None]"
     ]
    },
    {
     "name": "stdout",
     "output_type": "stream",
     "text": [
      "[983.61041962   0.        ]\n",
      "[985.60632766   0.        ]\n"
     ]
    },
    {
     "name": "stderr",
     "output_type": "stream",
     "text": [
      "t:  55%|█████▌    | 697/1260 [01:05<00:58,  9.67it/s, now=None]"
     ]
    },
    {
     "name": "stdout",
     "output_type": "stream",
     "text": [
      "[981.00998846   0.        ]\n",
      "[982.52916315   0.        ]\n"
     ]
    },
    {
     "name": "stderr",
     "output_type": "stream",
     "text": [
      "\r",
      "t:  55%|█████▌    | 699/1260 [01:06<00:56,  9.92it/s, now=None]"
     ]
    },
    {
     "name": "stdout",
     "output_type": "stream",
     "text": [
      "[974.26884339   0.        ]\n",
      "[975.6638296   0.       ]\n",
      "[974.9244606   0.       ]\n"
     ]
    },
    {
     "name": "stderr",
     "output_type": "stream",
     "text": [
      "t:  56%|█████▌    | 701/1260 [01:06<01:01,  9.16it/s, now=None]"
     ]
    },
    {
     "name": "stdout",
     "output_type": "stream",
     "text": [
      "[974.01171032   0.        ]\n",
      "[971.88294545   0.        ]\n",
      "[972.90064626   0.        ]\n"
     ]
    },
    {
     "name": "stderr",
     "output_type": "stream",
     "text": [
      "t:  56%|█████▌    | 704/1260 [01:06<00:58,  9.53it/s, now=None]"
     ]
    },
    {
     "name": "stdout",
     "output_type": "stream",
     "text": [
      "[972.72703466   0.        ]\n",
      "[969.56138408   0.        ]\n",
      "[971.0211066   0.       ]\n"
     ]
    },
    {
     "name": "stderr",
     "output_type": "stream",
     "text": [
      "t:  56%|█████▌    | 707/1260 [01:06<00:57,  9.61it/s, now=None]"
     ]
    },
    {
     "name": "stdout",
     "output_type": "stream",
     "text": [
      "[974.44864101   0.        ]\n",
      "[972.98716192   0.        ]\n",
      "[969.6031313   0.       ]\n"
     ]
    },
    {
     "name": "stderr",
     "output_type": "stream",
     "text": [
      "t:  56%|█████▋    | 711/1260 [01:07<00:57,  9.62it/s, now=None]"
     ]
    },
    {
     "name": "stdout",
     "output_type": "stream",
     "text": [
      "[970.89390367   0.        ]\n",
      "[970.89028044   0.        ]\n",
      "[971.56984857   0.        ]\n"
     ]
    },
    {
     "name": "stderr",
     "output_type": "stream",
     "text": [
      "t:  57%|█████▋    | 714/1260 [01:07<00:54, 10.06it/s, now=None]"
     ]
    },
    {
     "name": "stdout",
     "output_type": "stream",
     "text": [
      "[974.48141616   0.        ]\n",
      "[976.25359393   0.        ]\n",
      "[974.9434333   0.       ]\n"
     ]
    },
    {
     "name": "stderr",
     "output_type": "stream",
     "text": [
      "\r",
      "t:  57%|█████▋    | 716/1260 [01:07<00:53, 10.16it/s, now=None]"
     ]
    },
    {
     "name": "stdout",
     "output_type": "stream",
     "text": [
      "[974.12069189   0.        ]\n",
      "[970.38185899   0.        ]\n",
      "[978.00875297   0.        ]\n"
     ]
    },
    {
     "name": "stderr",
     "output_type": "stream",
     "text": [
      "t:  57%|█████▋    | 720/1260 [01:08<00:51, 10.41it/s, now=None]"
     ]
    },
    {
     "name": "stdout",
     "output_type": "stream",
     "text": [
      "[982.49929009   0.        ]\n",
      "[982.73443133   0.        ]\n",
      "[985.44954338   0.        ]\n"
     ]
    },
    {
     "name": "stderr",
     "output_type": "stream",
     "text": [
      "\r",
      "t:  57%|█████▋    | 722/1260 [01:08<00:50, 10.59it/s, now=None]"
     ]
    },
    {
     "name": "stdout",
     "output_type": "stream",
     "text": [
      "[981.65466933   0.        ]\n",
      "[988.83723339   0.        ]\n",
      "[992.41181335   0.        ]\n"
     ]
    },
    {
     "name": "stderr",
     "output_type": "stream",
     "text": [
      "t:  58%|█████▊    | 726/1260 [01:08<00:50, 10.62it/s, now=None]"
     ]
    },
    {
     "name": "stdout",
     "output_type": "stream",
     "text": [
      "[993.92643683   0.        ]\n",
      "[999.43189642   0.        ]\n",
      "[1000.12107817    0.        ]\n"
     ]
    },
    {
     "name": "stderr",
     "output_type": "stream",
     "text": [
      "\r",
      "t:  58%|█████▊    | 728/1260 [01:08<00:50, 10.58it/s, now=None]"
     ]
    },
    {
     "name": "stdout",
     "output_type": "stream",
     "text": [
      "[1002.21652993    0.        ]\n",
      "[999.48355799   0.        ]\n",
      "[994.19382866   0.        ]\n"
     ]
    },
    {
     "name": "stderr",
     "output_type": "stream",
     "text": [
      "t:  58%|█████▊    | 732/1260 [01:09<00:49, 10.62it/s, now=None]"
     ]
    },
    {
     "name": "stdout",
     "output_type": "stream",
     "text": [
      "[1002.69268532    0.        ]\n",
      "[1005.50913453    0.        ]\n",
      "[999.26126584   0.        ]\n"
     ]
    },
    {
     "name": "stderr",
     "output_type": "stream",
     "text": [
      "\r",
      "t:  58%|█████▊    | 734/1260 [01:09<00:48, 10.76it/s, now=None]"
     ]
    },
    {
     "name": "stdout",
     "output_type": "stream",
     "text": [
      "[992.77594927   0.        ]\n",
      "[995.29049432   0.        ]\n",
      "[997.65797719   0.        ]\n"
     ]
    },
    {
     "name": "stderr",
     "output_type": "stream",
     "text": [
      "t:  59%|█████▊    | 738/1260 [01:09<00:48, 10.69it/s, now=None]"
     ]
    },
    {
     "name": "stdout",
     "output_type": "stream",
     "text": [
      "[999.32670704   0.        ]\n",
      "[1001.47476535    0.        ]\n",
      "[1000.91962915    0.        ]\n"
     ]
    },
    {
     "name": "stderr",
     "output_type": "stream",
     "text": [
      "\r",
      "t:  59%|█████▊    | 740/1260 [01:10<00:48, 10.65it/s, now=None]"
     ]
    },
    {
     "name": "stdout",
     "output_type": "stream",
     "text": [
      "[1003.01057807    0.        ]\n",
      "[987.42008098   0.        ]\n",
      "[998.37768495   0.        ]\n"
     ]
    },
    {
     "name": "stderr",
     "output_type": "stream",
     "text": [
      "t:  59%|█████▉    | 744/1260 [01:10<00:48, 10.69it/s, now=None]"
     ]
    },
    {
     "name": "stdout",
     "output_type": "stream",
     "text": [
      "[999.77006547   0.        ]\n",
      "[997.3770883   0.       ]\n",
      "[993.10727489   0.        ]\n"
     ]
    },
    {
     "name": "stderr",
     "output_type": "stream",
     "text": [
      "\r",
      "t:  59%|█████▉    | 746/1260 [01:10<00:47, 10.90it/s, now=None]"
     ]
    },
    {
     "name": "stdout",
     "output_type": "stream",
     "text": [
      "[994.01936126   0.        ]\n",
      "[999.81644143   0.        ]\n",
      "[1004.38266884    0.        ]\n"
     ]
    },
    {
     "name": "stderr",
     "output_type": "stream",
     "text": [
      "t:  60%|█████▉    | 750/1260 [01:10<00:46, 10.86it/s, now=None]"
     ]
    },
    {
     "name": "stdout",
     "output_type": "stream",
     "text": [
      "[1009.26708778    0.        ]\n",
      "[1012.15609781    0.        ]\n",
      "[1016.44150943    0.        ]\n"
     ]
    },
    {
     "name": "stderr",
     "output_type": "stream",
     "text": [
      "\r",
      "t:  60%|█████▉    | 752/1260 [01:11<00:47, 10.63it/s, now=None]"
     ]
    },
    {
     "name": "stdout",
     "output_type": "stream",
     "text": [
      "[1019.20278546    0.        ]\n",
      "[1011.50768538    0.        ]\n",
      "[1014.90252016    0.        ]\n"
     ]
    },
    {
     "name": "stderr",
     "output_type": "stream",
     "text": [
      "t:  60%|██████    | 756/1260 [01:11<00:47, 10.57it/s, now=None]"
     ]
    },
    {
     "name": "stdout",
     "output_type": "stream",
     "text": [
      "[1015.25289096    0.        ]\n",
      "[1019.59549558    0.        ]\n",
      "[1021.73039403    0.        ]\n"
     ]
    },
    {
     "name": "stderr",
     "output_type": "stream",
     "text": [
      "\r",
      "t:  60%|██████    | 758/1260 [01:11<00:46, 10.72it/s, now=None]"
     ]
    },
    {
     "name": "stdout",
     "output_type": "stream",
     "text": [
      "[1016.5562057    0.       ]\n",
      "[1019.17717693    0.        ]\n",
      "[1020.42172416    0.        ]\n"
     ]
    },
    {
     "name": "stderr",
     "output_type": "stream",
     "text": [
      "t:  60%|██████    | 762/1260 [01:12<00:46, 10.76it/s, now=None]"
     ]
    },
    {
     "name": "stdout",
     "output_type": "stream",
     "text": [
      "[1021.58087434    0.        ]\n",
      "[1022.45948101    0.        ]\n",
      "[1022.43078688    0.        ]\n"
     ]
    },
    {
     "name": "stderr",
     "output_type": "stream",
     "text": [
      "\r",
      "t:  61%|██████    | 764/1260 [01:12<00:46, 10.64it/s, now=None]"
     ]
    },
    {
     "name": "stdout",
     "output_type": "stream",
     "text": [
      "[1027.44457575    0.        ]\n",
      "[1020.25626096    0.        ]\n",
      "[1017.12938578    0.        ]\n"
     ]
    },
    {
     "name": "stderr",
     "output_type": "stream",
     "text": [
      "t:  61%|██████    | 768/1260 [01:12<00:46, 10.64it/s, now=None]"
     ]
    },
    {
     "name": "stdout",
     "output_type": "stream",
     "text": [
      "[1025.77019385    0.        ]\n",
      "[1027.82745513    0.        ]\n",
      "[1027.71965599    0.        ]\n"
     ]
    },
    {
     "name": "stderr",
     "output_type": "stream",
     "text": [
      "\r",
      "t:  61%|██████    | 770/1260 [01:12<00:45, 10.82it/s, now=None]"
     ]
    },
    {
     "name": "stdout",
     "output_type": "stream",
     "text": [
      "[1012.11729745    0.        ]\n",
      "[1015.10241204    0.        ]\n",
      "[1016.95328309    0.        ]\n"
     ]
    },
    {
     "name": "stderr",
     "output_type": "stream",
     "text": [
      "t:  61%|██████▏   | 774/1260 [01:13<00:45, 10.78it/s, now=None]"
     ]
    },
    {
     "name": "stdout",
     "output_type": "stream",
     "text": [
      "[1019.47513329    0.        ]\n",
      "[1021.7482088    0.       ]\n",
      "[1020.78256554    0.        ]\n"
     ]
    },
    {
     "name": "stderr",
     "output_type": "stream",
     "text": [
      "\r",
      "t:  62%|██████▏   | 776/1260 [01:13<00:45, 10.56it/s, now=None]"
     ]
    },
    {
     "name": "stdout",
     "output_type": "stream",
     "text": [
      "[1022.13629435    0.        ]\n",
      "[1006.13462001    0.        ]\n",
      "[1011.39739839    0.        ]\n"
     ]
    },
    {
     "name": "stderr",
     "output_type": "stream",
     "text": [
      "t:  62%|██████▏   | 780/1260 [01:13<00:45, 10.62it/s, now=None]"
     ]
    },
    {
     "name": "stdout",
     "output_type": "stream",
     "text": [
      "[1011.46285744    0.        ]\n",
      "[1016.30014493    0.        ]\n",
      "[1009.28301597    0.        ]\n"
     ]
    },
    {
     "name": "stderr",
     "output_type": "stream",
     "text": [
      "\r",
      "t:  62%|██████▏   | 782/1260 [01:13<00:44, 10.84it/s, now=None]"
     ]
    },
    {
     "name": "stdout",
     "output_type": "stream",
     "text": [
      "[1006.51786059    0.        ]\n",
      "[1013.60264635    0.        ]\n",
      "[1015.32834878    0.        ]\n"
     ]
    },
    {
     "name": "stderr",
     "output_type": "stream",
     "text": [
      "t:  62%|██████▏   | 786/1260 [01:14<00:43, 10.90it/s, now=None]"
     ]
    },
    {
     "name": "stdout",
     "output_type": "stream",
     "text": [
      "[1016.69416739    0.        ]\n",
      "[1016.89961805    0.        ]\n",
      "[1017.6381394    0.       ]\n"
     ]
    },
    {
     "name": "stderr",
     "output_type": "stream",
     "text": [
      "\r",
      "t:  63%|██████▎   | 788/1260 [01:14<00:43, 10.79it/s, now=None]"
     ]
    },
    {
     "name": "stdout",
     "output_type": "stream",
     "text": [
      "[1017.31400804    0.        ]\n",
      "[1000.32400102    0.        ]\n",
      "[1008.84664434    0.        ]\n"
     ]
    },
    {
     "name": "stderr",
     "output_type": "stream",
     "text": [
      "t:  63%|██████▎   | 792/1260 [01:14<00:43, 10.70it/s, now=None]"
     ]
    },
    {
     "name": "stdout",
     "output_type": "stream",
     "text": [
      "[1012.77978998    0.        ]\n",
      "[1015.98135252    0.        ]\n",
      "[996.49406365   0.        ]\n"
     ]
    },
    {
     "name": "stderr",
     "output_type": "stream",
     "text": [
      "\r",
      "t:  63%|██████▎   | 794/1260 [01:15<00:43, 10.77it/s, now=None]"
     ]
    },
    {
     "name": "stdout",
     "output_type": "stream",
     "text": [
      "[1006.6184328    0.       ]\n",
      "[1007.6270466    0.       ]\n",
      "[1005.99134372    0.        ]\n"
     ]
    },
    {
     "name": "stderr",
     "output_type": "stream",
     "text": [
      "t:  63%|██████▎   | 798/1260 [01:15<00:42, 10.95it/s, now=None]"
     ]
    },
    {
     "name": "stdout",
     "output_type": "stream",
     "text": [
      "[1006.02192598    0.        ]\n",
      "[1004.80176075    0.        ]\n",
      "[1005.61418264    0.        ]\n"
     ]
    },
    {
     "name": "stderr",
     "output_type": "stream",
     "text": [
      "\r",
      "t:  63%|██████▎   | 800/1260 [01:15<00:42, 10.87it/s, now=None]"
     ]
    },
    {
     "name": "stdout",
     "output_type": "stream",
     "text": [
      "[1010.4334728    0.       ]\n",
      "[995.20966585   0.        ]\n",
      "[1009.11544998    0.        ]\n"
     ]
    },
    {
     "name": "stderr",
     "output_type": "stream",
     "text": [
      "t:  64%|██████▍   | 804/1260 [01:15<00:42, 10.72it/s, now=None]"
     ]
    },
    {
     "name": "stdout",
     "output_type": "stream",
     "text": [
      "[1009.80111935    0.        ]\n",
      "[1012.07638237    0.        ]\n",
      "[986.374374   0.      ]\n"
     ]
    },
    {
     "name": "stderr",
     "output_type": "stream",
     "text": [
      "\r",
      "t:  64%|██████▍   | 806/1260 [01:16<00:41, 10.88it/s, now=None]"
     ]
    },
    {
     "name": "stdout",
     "output_type": "stream",
     "text": [
      "[991.62980665   0.        ]\n",
      "[992.64907747   0.        ]\n",
      "[993.76661263   0.        ]\n"
     ]
    },
    {
     "name": "stderr",
     "output_type": "stream",
     "text": [
      "t:  64%|██████▍   | 810/1260 [01:16<00:41, 10.81it/s, now=None]"
     ]
    },
    {
     "name": "stdout",
     "output_type": "stream",
     "text": [
      "[992.8928786   0.       ]\n",
      "[996.93483316   0.        ]\n",
      "[998.37430748   0.        ]\n"
     ]
    },
    {
     "name": "stderr",
     "output_type": "stream",
     "text": [
      "\r",
      "t:  64%|██████▍   | 812/1260 [01:16<00:42, 10.65it/s, now=None]"
     ]
    },
    {
     "name": "stdout",
     "output_type": "stream",
     "text": [
      "[1001.3927526    0.       ]\n",
      "[993.41561796   0.        ]\n",
      "[994.68414618   0.        ]\n"
     ]
    },
    {
     "name": "stderr",
     "output_type": "stream",
     "text": [
      "t:  65%|██████▍   | 816/1260 [01:17<00:41, 10.62it/s, now=None]"
     ]
    },
    {
     "name": "stdout",
     "output_type": "stream",
     "text": [
      "[998.89981174   0.        ]\n",
      "[991.16783118   0.        ]\n",
      "[969.78412602   0.        ]\n"
     ]
    },
    {
     "name": "stderr",
     "output_type": "stream",
     "text": [
      "\r",
      "t:  65%|██████▍   | 818/1260 [01:17<00:40, 10.90it/s, now=None]"
     ]
    },
    {
     "name": "stdout",
     "output_type": "stream",
     "text": [
      "[972.27970559   0.        ]\n",
      "[972.58360557   0.        ]\n",
      "[973.91427685   0.        ]\n"
     ]
    },
    {
     "name": "stderr",
     "output_type": "stream",
     "text": [
      "t:  65%|██████▌   | 822/1260 [01:17<00:40, 10.88it/s, now=None]"
     ]
    },
    {
     "name": "stdout",
     "output_type": "stream",
     "text": [
      "[977.05180614   0.        ]\n",
      "[981.58639443   0.        ]\n",
      "[985.93371269   0.        ]\n"
     ]
    },
    {
     "name": "stderr",
     "output_type": "stream",
     "text": [
      "\r",
      "t:  65%|██████▌   | 824/1260 [01:17<00:41, 10.62it/s, now=None]"
     ]
    },
    {
     "name": "stdout",
     "output_type": "stream",
     "text": [
      "[979.78944031   0.        ]\n",
      "[972.00854377   0.        ]\n",
      "[981.61757162   0.        ]\n"
     ]
    },
    {
     "name": "stderr",
     "output_type": "stream",
     "text": [
      "t:  66%|██████▌   | 828/1260 [01:18<00:40, 10.59it/s, now=None]"
     ]
    },
    {
     "name": "stdout",
     "output_type": "stream",
     "text": [
      "[981.64136629   0.        ]\n",
      "[978.34888104   0.        ]\n",
      "[972.63671334   0.        ]\n"
     ]
    },
    {
     "name": "stderr",
     "output_type": "stream",
     "text": [
      "\r",
      "t:  66%|██████▌   | 830/1260 [01:18<00:39, 10.81it/s, now=None]"
     ]
    },
    {
     "name": "stdout",
     "output_type": "stream",
     "text": [
      "[974.83757917   0.        ]\n",
      "[976.07961332   0.        ]\n",
      "[977.12873002   0.        ]\n"
     ]
    },
    {
     "name": "stderr",
     "output_type": "stream",
     "text": [
      "t:  66%|██████▌   | 834/1260 [01:18<00:39, 10.74it/s, now=None]"
     ]
    },
    {
     "name": "stdout",
     "output_type": "stream",
     "text": [
      "[979.76433297   0.        ]\n",
      "[980.46141181   0.        ]\n",
      "[984.43045835   0.        ]\n"
     ]
    },
    {
     "name": "stderr",
     "output_type": "stream",
     "text": [
      "\r",
      "t:  66%|██████▋   | 836/1260 [01:18<00:40, 10.49it/s, now=None]"
     ]
    },
    {
     "name": "stdout",
     "output_type": "stream",
     "text": [
      "[983.22259209   0.        ]\n",
      "[977.66705609   0.        ]\n",
      "[984.25220264   0.        ]\n"
     ]
    },
    {
     "name": "stderr",
     "output_type": "stream",
     "text": [
      "t:  67%|██████▋   | 840/1260 [01:19<00:40, 10.36it/s, now=None]"
     ]
    },
    {
     "name": "stdout",
     "output_type": "stream",
     "text": [
      "[986.18022525   0.        ]\n",
      "[984.36322201   0.        ]\n",
      "[967.97512857   0.        ]\n"
     ]
    },
    {
     "name": "stderr",
     "output_type": "stream",
     "text": [
      "\r",
      "t:  67%|██████▋   | 842/1260 [01:19<00:39, 10.53it/s, now=None]"
     ]
    },
    {
     "name": "stdout",
     "output_type": "stream",
     "text": [
      "[972.25833242   0.        ]\n",
      "[984.27266223   0.        ]\n",
      "[984.55941434   0.        ]\n"
     ]
    },
    {
     "name": "stderr",
     "output_type": "stream",
     "text": [
      "t:  67%|██████▋   | 846/1260 [01:19<00:39, 10.54it/s, now=None]"
     ]
    },
    {
     "name": "stdout",
     "output_type": "stream",
     "text": [
      "[986.94754925   0.        ]\n",
      "[986.8518851   0.       ]\n",
      "[986.74802766   0.        ]\n"
     ]
    },
    {
     "name": "stderr",
     "output_type": "stream",
     "text": [
      "\r",
      "t:  67%|██████▋   | 848/1260 [01:20<00:40, 10.23it/s, now=None]"
     ]
    },
    {
     "name": "stdout",
     "output_type": "stream",
     "text": [
      "[974.08808176   0.        ]\n",
      "[975.20500876   0.        ]\n",
      "[982.94074347   0.        ]\n"
     ]
    },
    {
     "name": "stderr",
     "output_type": "stream",
     "text": [
      "t:  68%|██████▊   | 852/1260 [01:20<00:39, 10.25it/s, now=None]"
     ]
    },
    {
     "name": "stdout",
     "output_type": "stream",
     "text": [
      "[992.66909286   0.        ]\n",
      "[987.9917592   0.       ]\n",
      "[986.36585434   0.        ]\n"
     ]
    },
    {
     "name": "stderr",
     "output_type": "stream",
     "text": [
      "\r",
      "t:  68%|██████▊   | 854/1260 [01:20<00:38, 10.42it/s, now=None]"
     ]
    },
    {
     "name": "stdout",
     "output_type": "stream",
     "text": [
      "[982.50813299   0.        ]\n",
      "[995.85244547   0.        ]\n",
      "[999.21136555   0.        ]\n"
     ]
    },
    {
     "name": "stderr",
     "output_type": "stream",
     "text": [
      "t:  68%|██████▊   | 858/1260 [01:21<00:38, 10.47it/s, now=None]"
     ]
    },
    {
     "name": "stdout",
     "output_type": "stream",
     "text": [
      "[997.96825678   0.        ]\n",
      "[998.98478072   0.        ]\n",
      "[997.06824986   0.        ]\n"
     ]
    },
    {
     "name": "stderr",
     "output_type": "stream",
     "text": [
      "\r",
      "t:  68%|██████▊   | 860/1260 [01:21<00:39, 10.26it/s, now=None]"
     ]
    },
    {
     "name": "stdout",
     "output_type": "stream",
     "text": [
      "[978.94245524   0.        ]\n",
      "[975.06605098   0.        ]\n",
      "[986.53898648   0.        ]\n"
     ]
    },
    {
     "name": "stderr",
     "output_type": "stream",
     "text": [
      "t:  69%|██████▊   | 864/1260 [01:21<00:38, 10.18it/s, now=None]"
     ]
    },
    {
     "name": "stdout",
     "output_type": "stream",
     "text": [
      "[992.10414433   0.        ]\n",
      "[974.48591425   0.        ]\n",
      "[974.25907293   0.        ]\n"
     ]
    },
    {
     "name": "stderr",
     "output_type": "stream",
     "text": [
      "\r",
      "t:  69%|██████▊   | 866/1260 [01:21<00:37, 10.40it/s, now=None]"
     ]
    },
    {
     "name": "stdout",
     "output_type": "stream",
     "text": [
      "[988.10347352   0.        ]\n",
      "[994.07616674   0.        ]\n",
      "[998.93758192   0.        ]\n"
     ]
    },
    {
     "name": "stderr",
     "output_type": "stream",
     "text": [
      "t:  69%|██████▉   | 870/1260 [01:22<00:37, 10.41it/s, now=None]"
     ]
    },
    {
     "name": "stdout",
     "output_type": "stream",
     "text": [
      "[999.75342965   0.        ]\n",
      "[1000.11018    0.     ]\n",
      "[999.51891047   0.        ]\n"
     ]
    },
    {
     "name": "stderr",
     "output_type": "stream",
     "text": [
      "\r",
      "t:  69%|██████▉   | 872/1260 [01:22<00:37, 10.44it/s, now=None]"
     ]
    },
    {
     "name": "stdout",
     "output_type": "stream",
     "text": [
      "[981.33946474   0.        ]\n",
      "[979.52531736   0.        ]\n",
      "[1005.7546746    0.       ]\n"
     ]
    },
    {
     "name": "stderr",
     "output_type": "stream",
     "text": [
      "t:  70%|██████▉   | 876/1260 [01:22<00:35, 10.67it/s, now=None]"
     ]
    },
    {
     "name": "stdout",
     "output_type": "stream",
     "text": [
      "[1004.7399616    0.       ]\n",
      "[992.81912783   0.        ]\n",
      "[970.26110476   0.        ]\n"
     ]
    },
    {
     "name": "stderr",
     "output_type": "stream",
     "text": [
      "\r",
      "t:  70%|██████▉   | 878/1260 [01:22<00:34, 10.95it/s, now=None]"
     ]
    },
    {
     "name": "stdout",
     "output_type": "stream",
     "text": [
      "[994.5989432   0.       ]\n",
      "[1009.28419543    0.        ]\n",
      "[1010.45772687    0.        ]\n"
     ]
    },
    {
     "name": "stderr",
     "output_type": "stream",
     "text": [
      "t:  70%|███████   | 882/1260 [01:23<00:34, 10.86it/s, now=None]"
     ]
    },
    {
     "name": "stdout",
     "output_type": "stream",
     "text": [
      "[1009.96630124    0.        ]\n",
      "[1014.11947059    0.        ]\n",
      "[1002.7752604    0.       ]\n"
     ]
    },
    {
     "name": "stderr",
     "output_type": "stream",
     "text": [
      "\r",
      "t:  70%|███████   | 884/1260 [01:23<00:34, 10.76it/s, now=None]"
     ]
    },
    {
     "name": "stdout",
     "output_type": "stream",
     "text": [
      "[991.23681695   0.        ]\n",
      "[990.32471995   0.        ]\n",
      "[1009.07830802    0.        ]\n"
     ]
    },
    {
     "name": "stderr",
     "output_type": "stream",
     "text": [
      "t:  70%|███████   | 888/1260 [01:23<00:34, 10.71it/s, now=None]"
     ]
    },
    {
     "name": "stdout",
     "output_type": "stream",
     "text": [
      "[992.40268021   0.        ]\n",
      "[973.97509801   0.        ]\n",
      "[976.37159603   0.        ]\n"
     ]
    },
    {
     "name": "stderr",
     "output_type": "stream",
     "text": [
      "\r",
      "t:  71%|███████   | 890/1260 [01:24<00:33, 10.88it/s, now=None]"
     ]
    },
    {
     "name": "stdout",
     "output_type": "stream",
     "text": [
      "[989.32176976   0.        ]\n",
      "[994.49906674   0.        ]\n",
      "[997.07648951   0.        ]\n"
     ]
    },
    {
     "name": "stderr",
     "output_type": "stream",
     "text": [
      "t:  71%|███████   | 894/1260 [01:24<00:33, 10.87it/s, now=None]"
     ]
    },
    {
     "name": "stdout",
     "output_type": "stream",
     "text": [
      "[1001.08515425    0.        ]\n",
      "[1002.33197958    0.        ]\n",
      "[981.8922928   0.       ]\n"
     ]
    },
    {
     "name": "stderr",
     "output_type": "stream",
     "text": [
      "\r",
      "t:  71%|███████   | 896/1260 [01:24<00:33, 10.77it/s, now=None]"
     ]
    },
    {
     "name": "stdout",
     "output_type": "stream",
     "text": [
      "[966.28533508   0.        ]\n",
      "[989.72236329   0.        ]\n",
      "[1009.23483219    0.        ]\n"
     ]
    },
    {
     "name": "stderr",
     "output_type": "stream",
     "text": [
      "t:  71%|███████▏  | 900/1260 [01:25<00:33, 10.87it/s, now=None]"
     ]
    },
    {
     "name": "stdout",
     "output_type": "stream",
     "text": [
      "[996.37880363   0.        ]\n",
      "[982.65657078   0.        ]\n",
      "[969.8989434   0.       ]\n"
     ]
    },
    {
     "name": "stderr",
     "output_type": "stream",
     "text": [
      "\r",
      "t:  72%|███████▏  | 902/1260 [01:25<00:32, 11.06it/s, now=None]"
     ]
    },
    {
     "name": "stdout",
     "output_type": "stream",
     "text": [
      "[991.52598214   0.        ]\n",
      "[995.70193851   0.        ]\n",
      "[997.10277928   0.        ]\n"
     ]
    },
    {
     "name": "stderr",
     "output_type": "stream",
     "text": [
      "t:  72%|███████▏  | 906/1260 [01:25<00:32, 11.00it/s, now=None]"
     ]
    },
    {
     "name": "stdout",
     "output_type": "stream",
     "text": [
      "[1000.93891689    0.        ]\n",
      "[1003.02541716    0.        ]\n",
      "[982.38964494   0.        ]\n"
     ]
    },
    {
     "name": "stderr",
     "output_type": "stream",
     "text": [
      "\r",
      "t:  72%|███████▏  | 908/1260 [01:25<00:32, 10.88it/s, now=None]"
     ]
    },
    {
     "name": "stdout",
     "output_type": "stream",
     "text": [
      "[977.47991152   0.        ]\n",
      "[985.58341834   0.        ]\n",
      "[990.91781057   0.        ]\n"
     ]
    },
    {
     "name": "stderr",
     "output_type": "stream",
     "text": [
      "t:  72%|███████▏  | 912/1260 [01:26<00:32, 10.81it/s, now=None]"
     ]
    },
    {
     "name": "stdout",
     "output_type": "stream",
     "text": [
      "[971.07355317   0.        ]\n",
      "[960.42459209   0.        ]\n",
      "[979.69890096   0.        ]\n"
     ]
    },
    {
     "name": "stderr",
     "output_type": "stream",
     "text": [
      "\r",
      "t:  73%|███████▎  | 914/1260 [01:26<00:31, 10.94it/s, now=None]"
     ]
    },
    {
     "name": "stdout",
     "output_type": "stream",
     "text": [
      "[986.59893075   0.        ]\n",
      "[989.26334935   0.        ]\n",
      "[992.79992199   0.        ]\n"
     ]
    },
    {
     "name": "stderr",
     "output_type": "stream",
     "text": [
      "t:  73%|███████▎  | 918/1260 [01:26<00:31, 10.75it/s, now=None]"
     ]
    },
    {
     "name": "stdout",
     "output_type": "stream",
     "text": [
      "[993.60389497   0.        ]\n",
      "[999.86430952   0.        ]\n",
      "[976.8078976   0.       ]\n"
     ]
    },
    {
     "name": "stderr",
     "output_type": "stream",
     "text": [
      "\r",
      "t:  73%|███████▎  | 920/1260 [01:26<00:31, 10.66it/s, now=None]"
     ]
    },
    {
     "name": "stdout",
     "output_type": "stream",
     "text": [
      "[973.92033932   0.        ]\n",
      "[993.56220744   0.        ]\n",
      "[992.80700137   0.        ]\n"
     ]
    },
    {
     "name": "stderr",
     "output_type": "stream",
     "text": [
      "t:  73%|███████▎  | 924/1260 [01:27<00:31, 10.59it/s, now=None]"
     ]
    },
    {
     "name": "stdout",
     "output_type": "stream",
     "text": [
      "[975.82175423   0.        ]\n",
      "[967.8893392   0.       ]\n",
      "[986.18038484   0.        ]\n"
     ]
    },
    {
     "name": "stderr",
     "output_type": "stream",
     "text": [
      "\r",
      "t:  73%|███████▎  | 926/1260 [01:27<00:30, 10.79it/s, now=None]"
     ]
    },
    {
     "name": "stdout",
     "output_type": "stream",
     "text": [
      "[987.26172734   0.        ]\n",
      "[987.53892878   0.        ]\n",
      "[991.01603542   0.        ]\n"
     ]
    },
    {
     "name": "stderr",
     "output_type": "stream",
     "text": [
      "t:  74%|███████▍  | 930/1260 [01:27<00:30, 10.71it/s, now=None]"
     ]
    },
    {
     "name": "stdout",
     "output_type": "stream",
     "text": [
      "[991.28547496   0.        ]\n",
      "[990.08514985   0.        ]\n",
      "[968.93716673   0.        ]\n"
     ]
    },
    {
     "name": "stderr",
     "output_type": "stream",
     "text": [
      "\r",
      "t:  74%|███████▍  | 932/1260 [01:27<00:31, 10.46it/s, now=None]"
     ]
    },
    {
     "name": "stdout",
     "output_type": "stream",
     "text": [
      "[980.47719292   0.        ]\n",
      "[991.01156365   0.        ]\n",
      "[987.67692705   0.        ]\n"
     ]
    },
    {
     "name": "stderr",
     "output_type": "stream",
     "text": [
      "t:  74%|███████▍  | 936/1260 [01:28<00:30, 10.52it/s, now=None]"
     ]
    },
    {
     "name": "stdout",
     "output_type": "stream",
     "text": [
      "[970.85077853   0.        ]\n",
      "[971.47917903   0.        ]\n",
      "[987.046264   0.      ]\n"
     ]
    },
    {
     "name": "stderr",
     "output_type": "stream",
     "text": [
      "\r",
      "t:  74%|███████▍  | 938/1260 [01:28<00:30, 10.61it/s, now=None]"
     ]
    },
    {
     "name": "stdout",
     "output_type": "stream",
     "text": [
      "[988.89764613   0.        ]\n",
      "[990.07034741   0.        ]\n",
      "[991.5650477   0.       ]\n"
     ]
    },
    {
     "name": "stderr",
     "output_type": "stream",
     "text": [
      "t:  75%|███████▍  | 942/1260 [01:28<00:29, 10.60it/s, now=None]"
     ]
    },
    {
     "name": "stdout",
     "output_type": "stream",
     "text": [
      "[990.6003473   0.       ]\n",
      "[978.0111653   0.       ]\n",
      "[966.73261443   0.        ]\n"
     ]
    },
    {
     "name": "stderr",
     "output_type": "stream",
     "text": [
      "\r",
      "t:  75%|███████▍  | 944/1260 [01:29<00:31, 10.14it/s, now=None]"
     ]
    },
    {
     "name": "stdout",
     "output_type": "stream",
     "text": [
      "[987.66771747   0.        ]\n",
      "[1001.73306959    0.        ]\n",
      "[996.50649217   0.        ]\n"
     ]
    },
    {
     "name": "stderr",
     "output_type": "stream",
     "text": [
      "t:  75%|███████▌  | 948/1260 [01:29<00:31,  9.82it/s, now=None]"
     ]
    },
    {
     "name": "stdout",
     "output_type": "stream",
     "text": [
      "[981.32351075   0.        ]\n",
      "[992.1189434   0.       ]\n",
      "[995.30309034   0.        ]\n"
     ]
    },
    {
     "name": "stderr",
     "output_type": "stream",
     "text": [
      "t:  75%|███████▌  | 951/1260 [01:29<00:30, 10.04it/s, now=None]"
     ]
    },
    {
     "name": "stdout",
     "output_type": "stream",
     "text": [
      "[1000.94581518    0.        ]\n",
      "[1005.06173521    0.        ]\n",
      "[1007.47046266    0.        ]\n"
     ]
    },
    {
     "name": "stderr",
     "output_type": "stream",
     "text": [
      "\r",
      "t:  76%|███████▌  | 953/1260 [01:30<00:29, 10.28it/s, now=None]"
     ]
    },
    {
     "name": "stdout",
     "output_type": "stream",
     "text": [
      "[1014.12999499    0.        ]\n",
      "[1003.44846027    0.        ]\n",
      "[1002.24939716    0.        ]\n"
     ]
    },
    {
     "name": "stderr",
     "output_type": "stream",
     "text": [
      "t:  76%|███████▌  | 957/1260 [01:30<00:28, 10.57it/s, now=None]"
     ]
    },
    {
     "name": "stdout",
     "output_type": "stream",
     "text": [
      "[1007.35554606    0.        ]\n",
      "[1010.99842952    0.        ]\n",
      "[1005.75282697    0.        ]\n"
     ]
    },
    {
     "name": "stderr",
     "output_type": "stream",
     "text": [
      "\r",
      "t:  76%|███████▌  | 959/1260 [01:30<00:28, 10.61it/s, now=None]"
     ]
    },
    {
     "name": "stdout",
     "output_type": "stream",
     "text": [
      "[990.30952083   0.        ]\n",
      "[1004.95564387    0.        ]\n",
      "[1007.88608794    0.        ]\n"
     ]
    },
    {
     "name": "stderr",
     "output_type": "stream",
     "text": [
      "t:  76%|███████▋  | 963/1260 [01:31<00:29, 10.22it/s, now=None]"
     ]
    },
    {
     "name": "stdout",
     "output_type": "stream",
     "text": [
      "[1012.0725671    0.       ]\n",
      "[1015.78421731    0.        ]\n",
      "[1017.45740571    0.        ]\n"
     ]
    },
    {
     "name": "stderr",
     "output_type": "stream",
     "text": [
      "\r",
      "t:  77%|███████▋  | 965/1260 [01:31<00:29, 10.09it/s, now=None]"
     ]
    },
    {
     "name": "stdout",
     "output_type": "stream",
     "text": [
      "[1022.25049904    0.        ]\n",
      "[999.21975776   0.        ]\n",
      "[1004.04938526    0.        ]\n"
     ]
    },
    {
     "name": "stderr",
     "output_type": "stream",
     "text": [
      "t:  77%|███████▋  | 968/1260 [01:31<00:29,  9.89it/s, now=None]"
     ]
    },
    {
     "name": "stdout",
     "output_type": "stream",
     "text": [
      "[1008.00811855    0.        ]\n",
      "[1014.33500162    0.        ]\n",
      "[993.26447513   0.        ]\n"
     ]
    },
    {
     "name": "stderr",
     "output_type": "stream",
     "text": [
      "t:  77%|███████▋  | 972/1260 [01:31<00:28, 10.05it/s, now=None]"
     ]
    },
    {
     "name": "stdout",
     "output_type": "stream",
     "text": [
      "[996.75312462   0.        ]\n",
      "[1008.9085182    0.       ]\n",
      "[1012.49556743    0.        ]\n"
     ]
    },
    {
     "name": "stderr",
     "output_type": "stream",
     "text": [
      "\r",
      "t:  77%|███████▋  | 974/1260 [01:32<00:28, 10.10it/s, now=None]"
     ]
    },
    {
     "name": "stdout",
     "output_type": "stream",
     "text": [
      "[1011.87942954    0.        ]\n",
      "[1013.88064505    0.        ]\n"
     ]
    },
    {
     "name": "stderr",
     "output_type": "stream",
     "text": [
      "\r",
      "t:  77%|███████▋  | 976/1260 [01:32<00:29,  9.76it/s, now=None]"
     ]
    },
    {
     "name": "stdout",
     "output_type": "stream",
     "text": [
      "[1014.23670051    0.        ]\n",
      "[1012.15877993    0.        ]\n",
      "[1001.74391155    0.        ]\n"
     ]
    },
    {
     "name": "stderr",
     "output_type": "stream",
     "text": [
      "t:  78%|███████▊  | 979/1260 [01:32<00:29,  9.49it/s, now=None]"
     ]
    },
    {
     "name": "stdout",
     "output_type": "stream",
     "text": [
      "[991.42957915   0.        ]\n",
      "[1007.36395744    0.        ]\n",
      "[1003.55745942    0.        ]\n"
     ]
    },
    {
     "name": "stderr",
     "output_type": "stream",
     "text": [
      "t:  78%|███████▊  | 983/1260 [01:33<00:27, 10.11it/s, now=None]"
     ]
    },
    {
     "name": "stdout",
     "output_type": "stream",
     "text": [
      "[991.16535751   0.        ]\n",
      "[987.81216373   0.        ]\n",
      "[995.47850233   0.        ]\n"
     ]
    },
    {
     "name": "stderr",
     "output_type": "stream",
     "text": [
      "\r",
      "t:  78%|███████▊  | 985/1260 [01:33<00:26, 10.22it/s, now=None]"
     ]
    },
    {
     "name": "stdout",
     "output_type": "stream",
     "text": [
      "[1002.39852164    0.        ]\n",
      "[999.62299186   0.        ]\n",
      "[996.75429776   0.        ]\n"
     ]
    },
    {
     "name": "stderr",
     "output_type": "stream",
     "text": [
      "t:  78%|███████▊  | 989/1260 [01:33<00:25, 10.43it/s, now=None]"
     ]
    },
    {
     "name": "stdout",
     "output_type": "stream",
     "text": [
      "[989.02921659   0.        ]\n",
      "[963.73309146   0.        ]\n",
      "[712.42784586   0.        ]\n"
     ]
    },
    {
     "name": "stderr",
     "output_type": "stream",
     "text": [
      "\r",
      "t:  79%|███████▊  | 991/1260 [01:33<00:25, 10.54it/s, now=None]"
     ]
    },
    {
     "name": "stdout",
     "output_type": "stream",
     "text": [
      "[935.77545937   0.        ]\n",
      "[895.60426441   0.        ]\n",
      "[683.88381851   0.        ]\n"
     ]
    },
    {
     "name": "stderr",
     "output_type": "stream",
     "text": [
      "t:  79%|███████▉  | 995/1260 [01:34<00:25, 10.52it/s, now=None]"
     ]
    },
    {
     "name": "stdout",
     "output_type": "stream",
     "text": [
      "[995.78487824   0.        ]\n",
      "[991.83634627   0.        ]\n",
      "[985.27280443   0.        ]\n"
     ]
    },
    {
     "name": "stderr",
     "output_type": "stream",
     "text": [
      "\r",
      "t:  79%|███████▉  | 997/1260 [01:34<00:25, 10.46it/s, now=None]"
     ]
    },
    {
     "name": "stdout",
     "output_type": "stream",
     "text": [
      "[988.9107118   0.       ]\n",
      "[1017.68814031    0.        ]\n",
      "[988.34292145   0.        ]\n"
     ]
    },
    {
     "name": "stderr",
     "output_type": "stream",
     "text": [
      "t:  79%|███████▉  | 1001/1260 [01:34<00:24, 10.62it/s, now=None]"
     ]
    },
    {
     "name": "stdout",
     "output_type": "stream",
     "text": [
      "[990.438094   0.      ]\n",
      "[985.52770219   0.        ]\n",
      "[1130.98991326    0.        ]\n"
     ]
    },
    {
     "name": "stderr",
     "output_type": "stream",
     "text": [
      "\r",
      "t:  80%|███████▉  | 1003/1260 [01:34<00:24, 10.63it/s, now=None]"
     ]
    },
    {
     "name": "stdout",
     "output_type": "stream",
     "text": [
      "[977.35610375   0.        ]\n",
      "[1006.67365514    0.        ]\n",
      "[747.00947581   0.        ]\n"
     ]
    },
    {
     "name": "stderr",
     "output_type": "stream",
     "text": [
      "t:  80%|███████▉  | 1007/1260 [01:35<00:24, 10.47it/s, now=None]"
     ]
    },
    {
     "name": "stdout",
     "output_type": "stream",
     "text": [
      "[672.3043565   0.       ]\n",
      "[982.61802132   0.        ]\n",
      "[980.83297804   0.        ]\n"
     ]
    },
    {
     "name": "stderr",
     "output_type": "stream",
     "text": [
      "\r",
      "t:  80%|████████  | 1009/1260 [01:35<00:24, 10.19it/s, now=None]"
     ]
    },
    {
     "name": "stdout",
     "output_type": "stream",
     "text": [
      "[939.30782611   0.        ]\n",
      "[952.02635223   0.        ]\n"
     ]
    },
    {
     "name": "stderr",
     "output_type": "stream",
     "text": [
      "\r",
      "t:  80%|████████  | 1011/1260 [01:35<00:24, 10.01it/s, now=None]"
     ]
    },
    {
     "name": "stdout",
     "output_type": "stream",
     "text": [
      "[984.12515738   0.        ]\n",
      "[982.05091265   0.        ]\n",
      "[991.90974074   0.        ]\n"
     ]
    },
    {
     "name": "stderr",
     "output_type": "stream",
     "text": [
      "t:  81%|████████  | 1015/1260 [01:36<00:25,  9.43it/s, now=None]"
     ]
    },
    {
     "name": "stdout",
     "output_type": "stream",
     "text": [
      "[990.33171366   0.        ]\n",
      "[990.38478971   0.        ]\n"
     ]
    },
    {
     "name": "stderr",
     "output_type": "stream",
     "text": [
      "t:  81%|████████  | 1017/1260 [01:36<00:27,  8.73it/s, now=None]"
     ]
    },
    {
     "name": "stdout",
     "output_type": "stream",
     "text": [
      "[989.89612617   0.        ]\n",
      "[993.0350899   0.       ]\n"
     ]
    },
    {
     "name": "stderr",
     "output_type": "stream",
     "text": [
      "t:  81%|████████  | 1019/1260 [01:36<00:30,  8.01it/s, now=None]"
     ]
    },
    {
     "name": "stdout",
     "output_type": "stream",
     "text": [
      "[998.72067551   0.        ]\n",
      "[990.6934905   0.       ]\n"
     ]
    },
    {
     "name": "stderr",
     "output_type": "stream",
     "text": [
      "t:  81%|████████  | 1021/1260 [01:36<00:30,  7.86it/s, now=None]"
     ]
    },
    {
     "name": "stdout",
     "output_type": "stream",
     "text": [
      "[991.78351098   0.        ]\n",
      "[1003.8277078    0.       ]\n"
     ]
    },
    {
     "name": "stderr",
     "output_type": "stream",
     "text": [
      "t:  81%|████████  | 1023/1260 [01:37<00:31,  7.60it/s, now=None]"
     ]
    },
    {
     "name": "stdout",
     "output_type": "stream",
     "text": [
      "[988.45990415   0.        ]\n",
      "[993.41369155   0.        ]\n"
     ]
    },
    {
     "name": "stderr",
     "output_type": "stream",
     "text": [
      "\r",
      "t:  81%|████████▏ | 1024/1260 [01:37<00:31,  7.47it/s, now=None]"
     ]
    },
    {
     "name": "stdout",
     "output_type": "stream",
     "text": [
      "[997.55133474   0.        ]\n",
      "[998.5393012   0.       ]\n"
     ]
    },
    {
     "name": "stderr",
     "output_type": "stream",
     "text": [
      "t:  82%|████████▏ | 1027/1260 [01:37<00:30,  7.59it/s, now=None]"
     ]
    },
    {
     "name": "stdout",
     "output_type": "stream",
     "text": [
      "[1000.56485881    0.        ]\n",
      "[989.1205445   0.       ]\n"
     ]
    },
    {
     "name": "stderr",
     "output_type": "stream",
     "text": [
      "t:  82%|████████▏ | 1029/1260 [01:37<00:29,  7.90it/s, now=None]"
     ]
    },
    {
     "name": "stdout",
     "output_type": "stream",
     "text": [
      "[983.10333469   0.        ]\n",
      "[980.33238342   0.        ]\n"
     ]
    },
    {
     "name": "stderr",
     "output_type": "stream",
     "text": [
      "t:  82%|████████▏ | 1031/1260 [01:38<00:29,  7.89it/s, now=None]"
     ]
    },
    {
     "name": "stdout",
     "output_type": "stream",
     "text": [
      "[980.94281231   0.        ]\n",
      "[980.40774993   0.        ]\n"
     ]
    },
    {
     "name": "stderr",
     "output_type": "stream",
     "text": [
      "t:  82%|████████▏ | 1033/1260 [01:38<00:29,  7.81it/s, now=None]"
     ]
    },
    {
     "name": "stdout",
     "output_type": "stream",
     "text": [
      "[967.20472202   0.        ]\n",
      "[968.58707666   0.        ]\n"
     ]
    },
    {
     "name": "stderr",
     "output_type": "stream",
     "text": [
      "t:  82%|████████▏ | 1035/1260 [01:38<00:28,  7.98it/s, now=None]"
     ]
    },
    {
     "name": "stdout",
     "output_type": "stream",
     "text": [
      "[974.09798104   0.        ]\n",
      "[967.36475345   0.        ]\n"
     ]
    },
    {
     "name": "stderr",
     "output_type": "stream",
     "text": [
      "t:  82%|████████▏ | 1037/1260 [01:38<00:28,  7.79it/s, now=None]"
     ]
    },
    {
     "name": "stdout",
     "output_type": "stream",
     "text": [
      "[963.49646684   0.        ]\n",
      "[910.89832674   0.        ]\n"
     ]
    },
    {
     "name": "stderr",
     "output_type": "stream",
     "text": [
      "\r",
      "t:  82%|████████▏ | 1038/1260 [01:39<00:29,  7.46it/s, now=None]"
     ]
    },
    {
     "name": "stdout",
     "output_type": "stream",
     "text": [
      "[894.66753359   0.        ]\n",
      "[701.46674088   0.        ]\n"
     ]
    },
    {
     "name": "stderr",
     "output_type": "stream",
     "text": [
      "t:  83%|████████▎ | 1041/1260 [01:39<00:30,  7.29it/s, now=None]"
     ]
    },
    {
     "name": "stdout",
     "output_type": "stream",
     "text": [
      "[870.71205834   0.        ]\n",
      "[846.19772122   0.        ]\n"
     ]
    },
    {
     "name": "stderr",
     "output_type": "stream",
     "text": [
      "t:  83%|████████▎ | 1043/1260 [01:39<00:29,  7.31it/s, now=None]"
     ]
    },
    {
     "name": "stdout",
     "output_type": "stream",
     "text": [
      "[902.73115643   0.        ]\n",
      "[860.50627197   0.        ]\n"
     ]
    },
    {
     "name": "stderr",
     "output_type": "stream",
     "text": [
      "t:  83%|████████▎ | 1045/1260 [01:40<00:29,  7.34it/s, now=None]"
     ]
    },
    {
     "name": "stdout",
     "output_type": "stream",
     "text": [
      "[943.69547996   0.        ]\n",
      "[959.33746902   0.        ]\n"
     ]
    },
    {
     "name": "stderr",
     "output_type": "stream",
     "text": [
      "t:  83%|████████▎ | 1047/1260 [01:40<00:28,  7.36it/s, now=None]"
     ]
    },
    {
     "name": "stdout",
     "output_type": "stream",
     "text": [
      "[874.08733787   0.        ]\n",
      "[827.72825576   0.        ]\n"
     ]
    },
    {
     "name": "stderr",
     "output_type": "stream",
     "text": [
      "t:  83%|████████▎ | 1049/1260 [01:40<00:26,  7.82it/s, now=None]"
     ]
    },
    {
     "name": "stdout",
     "output_type": "stream",
     "text": [
      "[1024.20362132    0.        ]\n",
      "[651.57305202   0.        ]\n"
     ]
    },
    {
     "name": "stderr",
     "output_type": "stream",
     "text": [
      "t:  83%|████████▎ | 1051/1260 [01:40<00:26,  7.93it/s, now=None]"
     ]
    },
    {
     "name": "stdout",
     "output_type": "stream",
     "text": [
      "[556.35727193   0.        ]\n",
      "[235.78287459   0.        ]\n"
     ]
    },
    {
     "name": "stderr",
     "output_type": "stream",
     "text": [
      "t:  84%|████████▎ | 1053/1260 [01:41<00:24,  8.35it/s, now=None]"
     ]
    },
    {
     "name": "stdout",
     "output_type": "stream",
     "text": [
      "[479.47307932   0.        ]\n",
      "[321.9184037   0.       ]\n"
     ]
    },
    {
     "name": "stderr",
     "output_type": "stream",
     "text": [
      "t:  84%|████████▎ | 1055/1260 [01:41<00:23,  8.59it/s, now=None]"
     ]
    },
    {
     "name": "stdout",
     "output_type": "stream",
     "text": [
      "[1000.54161372    0.        ]\n",
      "[963.21510733   0.        ]\n"
     ]
    },
    {
     "name": "stderr",
     "output_type": "stream",
     "text": [
      "t:  84%|████████▍ | 1057/1260 [01:41<00:22,  8.91it/s, now=None]"
     ]
    },
    {
     "name": "stdout",
     "output_type": "stream",
     "text": [
      "[988.37942125   0.        ]\n",
      "[987.45091856   0.        ]\n"
     ]
    },
    {
     "name": "stderr",
     "output_type": "stream",
     "text": [
      "t:  84%|████████▍ | 1059/1260 [01:41<00:22,  9.12it/s, now=None]"
     ]
    },
    {
     "name": "stdout",
     "output_type": "stream",
     "text": [
      "[982.90133288   0.        ]\n",
      "[982.88140562   0.        ]\n"
     ]
    },
    {
     "name": "stderr",
     "output_type": "stream",
     "text": [
      "t:  84%|████████▍ | 1061/1260 [01:41<00:21,  9.27it/s, now=None]"
     ]
    },
    {
     "name": "stdout",
     "output_type": "stream",
     "text": [
      "[977.49433684   0.        ]\n",
      "[967.22568341   0.        ]\n"
     ]
    },
    {
     "name": "stderr",
     "output_type": "stream",
     "text": [
      "t:  84%|████████▍ | 1063/1260 [01:42<00:20,  9.43it/s, now=None]"
     ]
    },
    {
     "name": "stdout",
     "output_type": "stream",
     "text": [
      "[963.92102617   0.        ]\n",
      "[964.20986689   0.        ]\n"
     ]
    },
    {
     "name": "stderr",
     "output_type": "stream",
     "text": [
      "t:  85%|████████▍ | 1065/1260 [01:42<00:20,  9.47it/s, now=None]"
     ]
    },
    {
     "name": "stdout",
     "output_type": "stream",
     "text": [
      "[980.78798141   0.        ]\n",
      "[987.01055757   0.        ]\n"
     ]
    },
    {
     "name": "stderr",
     "output_type": "stream",
     "text": [
      "\r",
      "t:  85%|████████▍ | 1066/1260 [01:42<00:20,  9.32it/s, now=None]"
     ]
    },
    {
     "name": "stdout",
     "output_type": "stream",
     "text": [
      "[999.59798197   0.        ]\n",
      "[998.27532536   0.        ]\n"
     ]
    },
    {
     "name": "stderr",
     "output_type": "stream",
     "text": [
      "t:  85%|████████▍ | 1069/1260 [01:42<00:20,  9.50it/s, now=None]"
     ]
    },
    {
     "name": "stdout",
     "output_type": "stream",
     "text": [
      "[997.42254373   0.        ]\n",
      "[1001.24428463    0.        ]\n"
     ]
    },
    {
     "name": "stderr",
     "output_type": "stream",
     "text": [
      "t:  85%|████████▌ | 1071/1260 [01:43<00:19,  9.62it/s, now=None]"
     ]
    },
    {
     "name": "stdout",
     "output_type": "stream",
     "text": [
      "[998.45425835   0.        ]\n",
      "[1000.03725299    0.        ]\n"
     ]
    },
    {
     "name": "stderr",
     "output_type": "stream",
     "text": [
      "t:  85%|████████▌ | 1073/1260 [01:43<00:20,  9.22it/s, now=None]"
     ]
    },
    {
     "name": "stdout",
     "output_type": "stream",
     "text": [
      "[1004.82376314    0.        ]\n",
      "[1003.68768402    0.        ]\n"
     ]
    },
    {
     "name": "stderr",
     "output_type": "stream",
     "text": [
      "t:  85%|████████▌ | 1075/1260 [01:43<00:20,  9.09it/s, now=None]"
     ]
    },
    {
     "name": "stdout",
     "output_type": "stream",
     "text": [
      "[1006.28686732    0.        ]\n",
      "[1008.96753528    0.        ]\n"
     ]
    },
    {
     "name": "stderr",
     "output_type": "stream",
     "text": [
      "t:  85%|████████▌ | 1077/1260 [01:43<00:20,  9.02it/s, now=None]"
     ]
    },
    {
     "name": "stdout",
     "output_type": "stream",
     "text": [
      "[1016.83242381    0.        ]\n",
      "[1016.18909021    0.        ]\n"
     ]
    },
    {
     "name": "stderr",
     "output_type": "stream",
     "text": [
      "t:  86%|████████▌ | 1079/1260 [01:43<00:20,  8.78it/s, now=None]"
     ]
    },
    {
     "name": "stdout",
     "output_type": "stream",
     "text": [
      "[1004.8786877    0.       ]\n",
      "[1005.80173686    0.        ]\n"
     ]
    },
    {
     "name": "stderr",
     "output_type": "stream",
     "text": [
      "t:  86%|████████▌ | 1081/1260 [01:44<00:21,  8.51it/s, now=None]"
     ]
    },
    {
     "name": "stdout",
     "output_type": "stream",
     "text": [
      "[1009.68665457    0.        ]\n",
      "[1012.04795468    0.        ]\n"
     ]
    },
    {
     "name": "stderr",
     "output_type": "stream",
     "text": [
      "t:  86%|████████▌ | 1083/1260 [01:44<00:20,  8.71it/s, now=None]"
     ]
    },
    {
     "name": "stdout",
     "output_type": "stream",
     "text": [
      "[1018.74607687    0.        ]\n",
      "[1017.271174    0.      ]\n"
     ]
    },
    {
     "name": "stderr",
     "output_type": "stream",
     "text": [
      "\r",
      "t:  86%|████████▌ | 1084/1260 [01:44<00:21,  8.23it/s, now=None]"
     ]
    },
    {
     "name": "stdout",
     "output_type": "stream",
     "text": [
      "[1020.23000058    0.        ]\n",
      "[1015.23504514    0.        ]\n"
     ]
    },
    {
     "name": "stderr",
     "output_type": "stream",
     "text": [
      "t:  86%|████████▋ | 1087/1260 [01:44<00:20,  8.55it/s, now=None]"
     ]
    },
    {
     "name": "stdout",
     "output_type": "stream",
     "text": [
      "[1014.89738851    0.        ]\n",
      "[1019.9354249    0.       ]\n"
     ]
    },
    {
     "name": "stderr",
     "output_type": "stream",
     "text": [
      "\r",
      "t:  86%|████████▋ | 1088/1260 [01:44<00:20,  8.58it/s, now=None]"
     ]
    },
    {
     "name": "stdout",
     "output_type": "stream",
     "text": [
      "[1020.61659606    0.        ]\n",
      "[1008.9747828    0.       ]\n",
      "[1010.20566626    0.        ]\n"
     ]
    },
    {
     "name": "stderr",
     "output_type": "stream",
     "text": [
      "t:  87%|████████▋ | 1091/1260 [01:45<00:18,  9.17it/s, now=None]"
     ]
    },
    {
     "name": "stdout",
     "output_type": "stream",
     "text": [
      "[1008.38215635    0.        ]\n",
      "[1012.41371608    0.        ]\n",
      "[1011.50113248    0.        ]\n"
     ]
    },
    {
     "name": "stderr",
     "output_type": "stream",
     "text": [
      "t:  87%|████████▋ | 1095/1260 [01:45<00:17,  9.48it/s, now=None]"
     ]
    },
    {
     "name": "stdout",
     "output_type": "stream",
     "text": [
      "[1012.39382295    0.        ]\n",
      "[1017.71328284    0.        ]\n",
      "[1005.97167345    0.        ]\n"
     ]
    },
    {
     "name": "stderr",
     "output_type": "stream",
     "text": [
      "t:  87%|████████▋ | 1097/1260 [01:45<00:16,  9.64it/s, now=None]"
     ]
    },
    {
     "name": "stdout",
     "output_type": "stream",
     "text": [
      "[1000.18904212    0.        ]\n",
      "[1008.86289656    0.        ]\n",
      "[1007.95537351    0.        ]\n"
     ]
    },
    {
     "name": "stderr",
     "output_type": "stream",
     "text": [
      "t:  87%|████████▋ | 1101/1260 [01:46<00:15, 10.05it/s, now=None]"
     ]
    },
    {
     "name": "stdout",
     "output_type": "stream",
     "text": [
      "[1008.64055604    0.        ]\n",
      "[1008.31370035    0.        ]\n",
      "[1009.41720654    0.        ]\n"
     ]
    },
    {
     "name": "stderr",
     "output_type": "stream",
     "text": [
      "\r",
      "t:  88%|████████▊ | 1103/1260 [01:46<00:15, 10.07it/s, now=None]"
     ]
    },
    {
     "name": "stdout",
     "output_type": "stream",
     "text": [
      "[1016.06211471    0.        ]\n",
      "[1015.66421895    0.        ]\n",
      "[1018.5270105    0.       ]\n"
     ]
    },
    {
     "name": "stderr",
     "output_type": "stream",
     "text": [
      "t:  88%|████████▊ | 1107/1260 [01:46<00:14, 10.20it/s, now=None]"
     ]
    },
    {
     "name": "stdout",
     "output_type": "stream",
     "text": [
      "[1017.85820011    0.        ]\n",
      "[1018.65963598    0.        ]\n",
      "[1012.18880069    0.        ]\n"
     ]
    },
    {
     "name": "stderr",
     "output_type": "stream",
     "text": [
      "\r",
      "t:  88%|████████▊ | 1109/1260 [01:47<00:14, 10.33it/s, now=None]"
     ]
    },
    {
     "name": "stdout",
     "output_type": "stream",
     "text": [
      "[1009.25357903    0.        ]\n",
      "[1012.88512084    0.        ]\n",
      "[1010.78495354    0.        ]\n"
     ]
    },
    {
     "name": "stderr",
     "output_type": "stream",
     "text": [
      "t:  88%|████████▊ | 1113/1260 [01:47<00:13, 10.55it/s, now=None]"
     ]
    },
    {
     "name": "stdout",
     "output_type": "stream",
     "text": [
      "[992.71025812   0.        ]\n",
      "[991.74038431   0.        ]\n",
      "[997.60399822   0.        ]\n"
     ]
    },
    {
     "name": "stderr",
     "output_type": "stream",
     "text": [
      "\r",
      "t:  88%|████████▊ | 1115/1260 [01:47<00:13, 10.65it/s, now=None]"
     ]
    },
    {
     "name": "stdout",
     "output_type": "stream",
     "text": [
      "[998.47656546   0.        ]\n",
      "[1000.0186962    0.       ]\n",
      "[993.17155898   0.        ]\n"
     ]
    },
    {
     "name": "stderr",
     "output_type": "stream",
     "text": [
      "t:  89%|████████▉ | 1119/1260 [01:48<00:13, 10.64it/s, now=None]"
     ]
    },
    {
     "name": "stdout",
     "output_type": "stream",
     "text": [
      "[991.64538899   0.        ]\n",
      "[981.0291586   0.       ]\n",
      "[982.93061805   0.        ]\n"
     ]
    },
    {
     "name": "stderr",
     "output_type": "stream",
     "text": [
      "\r",
      "t:  89%|████████▉ | 1121/1260 [01:48<00:13, 10.40it/s, now=None]"
     ]
    },
    {
     "name": "stdout",
     "output_type": "stream",
     "text": [
      "[1000.30345232    0.        ]\n",
      "[1008.36835377    0.        ]\n",
      "[1007.07972629    0.        ]\n"
     ]
    },
    {
     "name": "stderr",
     "output_type": "stream",
     "text": [
      "t:  89%|████████▉ | 1125/1260 [01:48<00:12, 10.42it/s, now=None]"
     ]
    },
    {
     "name": "stdout",
     "output_type": "stream",
     "text": [
      "[1011.42718005    0.        ]\n",
      "[1005.92036469    0.        ]\n",
      "[1012.6078538    0.       ]\n"
     ]
    },
    {
     "name": "stderr",
     "output_type": "stream",
     "text": [
      "\r",
      "t:  89%|████████▉ | 1127/1260 [01:48<00:12, 10.46it/s, now=None]"
     ]
    },
    {
     "name": "stdout",
     "output_type": "stream",
     "text": [
      "[1014.53910523    0.        ]\n",
      "[1015.11984024    0.        ]\n",
      "[1017.21658321    0.        ]\n"
     ]
    },
    {
     "name": "stderr",
     "output_type": "stream",
     "text": [
      "t:  90%|████████▉ | 1131/1260 [01:49<00:12, 10.43it/s, now=None]"
     ]
    },
    {
     "name": "stdout",
     "output_type": "stream",
     "text": [
      "[1012.07464358    0.        ]\n",
      "[1006.95025974    0.        ]\n",
      "[1008.7693172    0.       ]\n"
     ]
    },
    {
     "name": "stderr",
     "output_type": "stream",
     "text": [
      "\r",
      "t:  90%|████████▉ | 1133/1260 [01:49<00:12, 10.07it/s, now=None]"
     ]
    },
    {
     "name": "stdout",
     "output_type": "stream",
     "text": [
      "[1005.07867179    0.        ]\n",
      "[1011.72828663    0.        ]\n",
      "[1008.31817656    0.        ]\n"
     ]
    },
    {
     "name": "stderr",
     "output_type": "stream",
     "text": [
      "t:  90%|█████████ | 1137/1260 [01:49<00:12, 10.20it/s, now=None]"
     ]
    },
    {
     "name": "stdout",
     "output_type": "stream",
     "text": [
      "[998.57293448   0.        ]\n",
      "[1001.29221722    0.        ]\n",
      "[997.19806334   0.        ]\n"
     ]
    },
    {
     "name": "stderr",
     "output_type": "stream",
     "text": [
      "\r",
      "t:  90%|█████████ | 1139/1260 [01:49<00:11, 10.20it/s, now=None]"
     ]
    },
    {
     "name": "stdout",
     "output_type": "stream",
     "text": [
      "[999.38483456   0.        ]\n",
      "[998.35727811   0.        ]\n",
      "[998.75967013   0.        ]\n"
     ]
    },
    {
     "name": "stderr",
     "output_type": "stream",
     "text": [
      "t:  91%|█████████ | 1143/1260 [01:50<00:11, 10.37it/s, now=None]"
     ]
    },
    {
     "name": "stdout",
     "output_type": "stream",
     "text": [
      "[989.14999807   0.        ]\n",
      "[992.84064314   0.        ]\n",
      "[998.86617743   0.        ]\n"
     ]
    },
    {
     "name": "stderr",
     "output_type": "stream",
     "text": [
      "\r",
      "t:  91%|█████████ | 1145/1260 [01:50<00:11, 10.16it/s, now=None]"
     ]
    },
    {
     "name": "stdout",
     "output_type": "stream",
     "text": [
      "[997.97841024   0.        ]\n",
      "[983.38145151   0.        ]\n",
      "[986.90527488   0.        ]\n"
     ]
    },
    {
     "name": "stderr",
     "output_type": "stream",
     "text": [
      "t:  91%|█████████ | 1149/1260 [01:50<00:10, 10.21it/s, now=None]"
     ]
    },
    {
     "name": "stdout",
     "output_type": "stream",
     "text": [
      "[989.58607416   0.        ]\n",
      "[989.52542647   0.        ]\n",
      "[996.35135421   0.        ]\n"
     ]
    },
    {
     "name": "stderr",
     "output_type": "stream",
     "text": [
      "\r",
      "t:  91%|█████████▏| 1151/1260 [01:51<00:10, 10.28it/s, now=None]"
     ]
    },
    {
     "name": "stdout",
     "output_type": "stream",
     "text": [
      "[994.87358718   0.        ]\n",
      "[996.63445102   0.        ]\n",
      "[990.6859647   0.       ]\n"
     ]
    },
    {
     "name": "stderr",
     "output_type": "stream",
     "text": [
      "t:  92%|█████████▏| 1155/1260 [01:51<00:10, 10.32it/s, now=None]"
     ]
    },
    {
     "name": "stdout",
     "output_type": "stream",
     "text": [
      "[986.79333419   0.        ]\n",
      "[996.02082752   0.        ]\n",
      "[1000.76690016    0.        ]\n"
     ]
    },
    {
     "name": "stderr",
     "output_type": "stream",
     "text": [
      "\r",
      "t:  92%|█████████▏| 1157/1260 [01:51<00:10, 10.29it/s, now=None]"
     ]
    },
    {
     "name": "stdout",
     "output_type": "stream",
     "text": [
      "[996.44037153   0.        ]\n",
      "[1001.20124786    0.        ]\n",
      "[998.91447745   0.        ]\n"
     ]
    },
    {
     "name": "stderr",
     "output_type": "stream",
     "text": [
      "t:  92%|█████████▏| 1161/1260 [01:52<00:09, 10.30it/s, now=None]"
     ]
    },
    {
     "name": "stdout",
     "output_type": "stream",
     "text": [
      "[1005.02240479    0.        ]\n",
      "[1003.01279863    0.        ]\n",
      "[999.60512274   0.        ]\n"
     ]
    },
    {
     "name": "stderr",
     "output_type": "stream",
     "text": [
      "\r",
      "t:  92%|█████████▏| 1163/1260 [01:52<00:09, 10.33it/s, now=None]"
     ]
    },
    {
     "name": "stdout",
     "output_type": "stream",
     "text": [
      "[1005.95221817    0.        ]\n",
      "[997.82409434   0.        ]\n",
      "[991.52491101   0.        ]\n"
     ]
    },
    {
     "name": "stderr",
     "output_type": "stream",
     "text": [
      "t:  93%|█████████▎| 1167/1260 [01:52<00:08, 10.41it/s, now=None]"
     ]
    },
    {
     "name": "stdout",
     "output_type": "stream",
     "text": [
      "[1001.44053972    0.        ]\n",
      "[1006.35771427    0.        ]\n",
      "[1006.44564723    0.        ]\n"
     ]
    },
    {
     "name": "stderr",
     "output_type": "stream",
     "text": [
      "\r",
      "t:  93%|█████████▎| 1169/1260 [01:52<00:08, 10.39it/s, now=None]"
     ]
    },
    {
     "name": "stdout",
     "output_type": "stream",
     "text": [
      "[1002.82098784    0.        ]\n",
      "[999.59865445   0.        ]\n",
      "[1003.84736644    0.        ]\n"
     ]
    },
    {
     "name": "stderr",
     "output_type": "stream",
     "text": [
      "t:  93%|█████████▎| 1173/1260 [01:53<00:08, 10.42it/s, now=None]"
     ]
    },
    {
     "name": "stdout",
     "output_type": "stream",
     "text": [
      "[1001.13929834    0.        ]\n",
      "[1004.90088759    0.        ]\n",
      "[1008.90388572    0.        ]\n"
     ]
    },
    {
     "name": "stderr",
     "output_type": "stream",
     "text": [
      "\r",
      "t:  93%|█████████▎| 1175/1260 [01:53<00:07, 10.66it/s, now=None]"
     ]
    },
    {
     "name": "stdout",
     "output_type": "stream",
     "text": [
      "[1006.19924851    0.        ]\n",
      "[1005.73857022    0.        ]\n",
      "[1010.79559647    0.        ]\n"
     ]
    },
    {
     "name": "stderr",
     "output_type": "stream",
     "text": [
      "t:  94%|█████████▎| 1179/1260 [01:53<00:07, 10.75it/s, now=None]"
     ]
    },
    {
     "name": "stdout",
     "output_type": "stream",
     "text": [
      "[1013.86717839    0.        ]\n",
      "[1015.93153681    0.        ]\n",
      "[1010.96256215    0.        ]\n"
     ]
    },
    {
     "name": "stderr",
     "output_type": "stream",
     "text": [
      "\r",
      "t:  94%|█████████▎| 1181/1260 [01:53<00:07, 10.49it/s, now=None]"
     ]
    },
    {
     "name": "stdout",
     "output_type": "stream",
     "text": [
      "[1012.99926778    0.        ]\n",
      "[1015.58131841    0.        ]\n",
      "[1015.35763729    0.        ]\n"
     ]
    },
    {
     "name": "stderr",
     "output_type": "stream",
     "text": [
      "t:  94%|█████████▍| 1185/1260 [01:54<00:07, 10.51it/s, now=None]"
     ]
    },
    {
     "name": "stdout",
     "output_type": "stream",
     "text": [
      "[1017.91007625    0.        ]\n",
      "[1018.2794252    0.       ]\n",
      "[1019.61472697    0.        ]\n"
     ]
    },
    {
     "name": "stderr",
     "output_type": "stream",
     "text": [
      "\r",
      "t:  94%|█████████▍| 1187/1260 [01:54<00:06, 10.70it/s, now=None]"
     ]
    },
    {
     "name": "stdout",
     "output_type": "stream",
     "text": [
      "[1020.00568829    0.        ]\n",
      "[1014.61493629    0.        ]\n",
      "[1016.46157522    0.        ]\n"
     ]
    },
    {
     "name": "stderr",
     "output_type": "stream",
     "text": [
      "t:  95%|█████████▍| 1191/1260 [01:54<00:06, 10.68it/s, now=None]"
     ]
    },
    {
     "name": "stdout",
     "output_type": "stream",
     "text": [
      "[1022.75169036    0.        ]\n",
      "[1011.35105929    0.        ]\n",
      "[1010.57195999    0.        ]\n"
     ]
    },
    {
     "name": "stderr",
     "output_type": "stream",
     "text": [
      "\r",
      "t:  95%|█████████▍| 1193/1260 [01:55<00:06, 10.36it/s, now=None]"
     ]
    },
    {
     "name": "stdout",
     "output_type": "stream",
     "text": [
      "[1011.94935507    0.        ]\n",
      "[1013.36139267    0.        ]\n",
      "[1017.01159251    0.        ]\n"
     ]
    },
    {
     "name": "stderr",
     "output_type": "stream",
     "text": [
      "t:  95%|█████████▌| 1197/1260 [01:55<00:06, 10.24it/s, now=None]"
     ]
    },
    {
     "name": "stdout",
     "output_type": "stream",
     "text": [
      "[1015.5672312    0.       ]\n",
      "[1013.92870823    0.        ]\n",
      "[1012.65495696    0.        ]\n"
     ]
    },
    {
     "name": "stderr",
     "output_type": "stream",
     "text": [
      "t:  95%|█████████▌| 1200/1260 [01:55<00:06,  8.79it/s, now=None]"
     ]
    },
    {
     "name": "stdout",
     "output_type": "stream",
     "text": [
      "[1009.19623982    0.        ]\n",
      "[1019.87505641    0.        ]\n"
     ]
    },
    {
     "name": "stderr",
     "output_type": "stream",
     "text": [
      "\r",
      "t:  95%|█████████▌| 1201/1260 [01:56<00:06,  8.48it/s, now=None]"
     ]
    },
    {
     "name": "stdout",
     "output_type": "stream",
     "text": [
      "[1027.76874435    0.        ]\n",
      "[1015.07327582    0.        ]\n"
     ]
    },
    {
     "name": "stderr",
     "output_type": "stream",
     "text": [
      "t:  95%|█████████▌| 1203/1260 [01:56<00:07,  7.76it/s, now=None]"
     ]
    },
    {
     "name": "stdout",
     "output_type": "stream",
     "text": [
      "[1019.57909277    0.        ]\n",
      "[1006.83917703    0.        ]\n"
     ]
    },
    {
     "name": "stderr",
     "output_type": "stream",
     "text": [
      "t:  96%|█████████▌| 1206/1260 [01:56<00:06,  8.10it/s, now=None]"
     ]
    },
    {
     "name": "stdout",
     "output_type": "stream",
     "text": [
      "[1018.25352368    0.        ]\n",
      "[1019.3649865    0.       ]\n"
     ]
    },
    {
     "name": "stderr",
     "output_type": "stream",
     "text": [
      "t:  96%|█████████▌| 1208/1260 [01:56<00:06,  7.80it/s, now=None]"
     ]
    },
    {
     "name": "stdout",
     "output_type": "stream",
     "text": [
      "[1018.85832609    0.        ]\n",
      "[1021.4028368    0.       ]\n"
     ]
    },
    {
     "name": "stderr",
     "output_type": "stream",
     "text": [
      "t:  96%|█████████▌| 1210/1260 [01:57<00:06,  7.66it/s, now=None]"
     ]
    },
    {
     "name": "stdout",
     "output_type": "stream",
     "text": [
      "[1020.89867177    0.        ]\n",
      "[1011.05649919    0.        ]\n"
     ]
    },
    {
     "name": "stderr",
     "output_type": "stream",
     "text": [
      "\r",
      "t:  96%|█████████▌| 1211/1260 [01:57<00:07,  6.57it/s, now=None]"
     ]
    },
    {
     "name": "stdout",
     "output_type": "stream",
     "text": [
      "[1017.50772192    0.        ]\n"
     ]
    },
    {
     "name": "stderr",
     "output_type": "stream",
     "text": [
      "\r",
      "t:  96%|█████████▌| 1212/1260 [01:57<00:08,  5.48it/s, now=None]"
     ]
    },
    {
     "name": "stdout",
     "output_type": "stream",
     "text": [
      "[1021.19991739    0.        ]\n",
      "[1021.76269742    0.        ]\n"
     ]
    },
    {
     "name": "stderr",
     "output_type": "stream",
     "text": [
      "t:  96%|█████████▋| 1215/1260 [01:58<00:06,  6.79it/s, now=None]"
     ]
    },
    {
     "name": "stdout",
     "output_type": "stream",
     "text": [
      "[1010.33456521    0.        ]\n",
      "[1019.56046359    0.        ]\n"
     ]
    },
    {
     "name": "stderr",
     "output_type": "stream",
     "text": [
      "t:  97%|█████████▋| 1217/1260 [01:58<00:05,  7.34it/s, now=None]"
     ]
    },
    {
     "name": "stdout",
     "output_type": "stream",
     "text": [
      "[1022.6115044    0.       ]\n",
      "[1025.20791261    0.        ]\n"
     ]
    },
    {
     "name": "stderr",
     "output_type": "stream",
     "text": [
      "t:  97%|█████████▋| 1219/1260 [01:58<00:05,  7.86it/s, now=None]"
     ]
    },
    {
     "name": "stdout",
     "output_type": "stream",
     "text": [
      "[1026.4262117    0.       ]\n",
      "[1027.91391802    0.        ]\n"
     ]
    },
    {
     "name": "stderr",
     "output_type": "stream",
     "text": [
      "t:  97%|█████████▋| 1221/1260 [01:58<00:04,  8.02it/s, now=None]"
     ]
    },
    {
     "name": "stdout",
     "output_type": "stream",
     "text": [
      "[1032.01145112    0.        ]\n",
      "[1028.05098246    0.        ]\n"
     ]
    },
    {
     "name": "stderr",
     "output_type": "stream",
     "text": [
      "t:  97%|█████████▋| 1223/1260 [01:59<00:04,  8.40it/s, now=None]"
     ]
    },
    {
     "name": "stdout",
     "output_type": "stream",
     "text": [
      "[1021.3242869    0.       ]\n",
      "[1032.22201941    0.        ]\n"
     ]
    },
    {
     "name": "stderr",
     "output_type": "stream",
     "text": [
      "\r",
      "t:  97%|█████████▋| 1224/1260 [01:59<00:04,  7.32it/s, now=None]"
     ]
    },
    {
     "name": "stdout",
     "output_type": "stream",
     "text": [
      "[1031.13465606    0.        ]\n",
      "[1005.63493435    0.        ]\n"
     ]
    },
    {
     "name": "stderr",
     "output_type": "stream",
     "text": [
      "t:  97%|█████████▋| 1227/1260 [01:59<00:04,  7.78it/s, now=None]"
     ]
    },
    {
     "name": "stdout",
     "output_type": "stream",
     "text": [
      "[1017.47490842    0.        ]\n",
      "[1020.35990266    0.        ]\n"
     ]
    },
    {
     "name": "stderr",
     "output_type": "stream",
     "text": [
      "t:  98%|█████████▊| 1229/1260 [01:59<00:03,  8.04it/s, now=None]"
     ]
    },
    {
     "name": "stdout",
     "output_type": "stream",
     "text": [
      "[1026.87835829    0.        ]\n",
      "[1026.03428137    0.        ]\n"
     ]
    },
    {
     "name": "stderr",
     "output_type": "stream",
     "text": [
      "t:  98%|█████████▊| 1231/1260 [02:00<00:03,  8.06it/s, now=None]"
     ]
    },
    {
     "name": "stdout",
     "output_type": "stream",
     "text": [
      "[1024.36598054    0.        ]\n",
      "[1023.90869808    0.        ]\n"
     ]
    },
    {
     "name": "stderr",
     "output_type": "stream",
     "text": [
      "\r",
      "t:  98%|█████████▊| 1232/1260 [02:00<00:03,  8.19it/s, now=None]"
     ]
    },
    {
     "name": "stdout",
     "output_type": "stream",
     "text": [
      "[1025.27306124    0.        ]\n",
      "[1019.34520597    0.        ]\n"
     ]
    },
    {
     "name": "stderr",
     "output_type": "stream",
     "text": [
      "t:  98%|█████████▊| 1235/1260 [02:00<00:03,  7.85it/s, now=None]"
     ]
    },
    {
     "name": "stdout",
     "output_type": "stream",
     "text": [
      "[1027.68515156    0.        ]\n",
      "[1028.99297894    0.        ]\n"
     ]
    },
    {
     "name": "stderr",
     "output_type": "stream",
     "text": [
      "t:  98%|█████████▊| 1237/1260 [02:00<00:02,  7.69it/s, now=None]"
     ]
    },
    {
     "name": "stdout",
     "output_type": "stream",
     "text": [
      "[1017.17043931    0.        ]\n",
      "[1020.99353645    0.        ]\n"
     ]
    },
    {
     "name": "stderr",
     "output_type": "stream",
     "text": [
      "t:  98%|█████████▊| 1239/1260 [02:01<00:02,  8.42it/s, now=None]"
     ]
    },
    {
     "name": "stdout",
     "output_type": "stream",
     "text": [
      "[1025.84076442    0.        ]\n",
      "[1029.77015894    0.        ]\n"
     ]
    },
    {
     "name": "stderr",
     "output_type": "stream",
     "text": [
      "t:  98%|█████████▊| 1241/1260 [02:01<00:02,  8.17it/s, now=None]"
     ]
    },
    {
     "name": "stdout",
     "output_type": "stream",
     "text": [
      "[1025.11541262    0.        ]\n",
      "[1022.52999518    0.        ]\n"
     ]
    },
    {
     "name": "stderr",
     "output_type": "stream",
     "text": [
      "t:  99%|█████████▊| 1243/1260 [02:01<00:02,  7.97it/s, now=None]"
     ]
    },
    {
     "name": "stdout",
     "output_type": "stream",
     "text": [
      "[1020.61921895    0.        ]\n",
      "[1010.62317656    0.        ]\n"
     ]
    },
    {
     "name": "stderr",
     "output_type": "stream",
     "text": [
      "t:  99%|█████████▉| 1245/1260 [02:01<00:01,  7.97it/s, now=None]"
     ]
    },
    {
     "name": "stdout",
     "output_type": "stream",
     "text": [
      "[1009.25120973    0.        ]\n",
      "[1019.21301062    0.        ]\n"
     ]
    },
    {
     "name": "stderr",
     "output_type": "stream",
     "text": [
      "t:  99%|█████████▉| 1247/1260 [02:02<00:01,  7.88it/s, now=None]"
     ]
    },
    {
     "name": "stdout",
     "output_type": "stream",
     "text": [
      "[1020.97842272    0.        ]\n",
      "[1009.39405604    0.        ]\n"
     ]
    },
    {
     "name": "stderr",
     "output_type": "stream",
     "text": [
      "t:  99%|█████████▉| 1249/1260 [02:02<00:01,  8.20it/s, now=None]"
     ]
    },
    {
     "name": "stdout",
     "output_type": "stream",
     "text": [
      "[1010.13659527    0.        ]\n",
      "[1013.81448529    0.        ]\n"
     ]
    },
    {
     "name": "stderr",
     "output_type": "stream",
     "text": [
      "t:  99%|█████████▉| 1251/1260 [02:02<00:01,  8.37it/s, now=None]"
     ]
    },
    {
     "name": "stdout",
     "output_type": "stream",
     "text": [
      "[1013.41188584    0.        ]\n",
      "[1012.04104532    0.        ]\n"
     ]
    },
    {
     "name": "stderr",
     "output_type": "stream",
     "text": [
      "t:  99%|█████████▉| 1253/1260 [02:02<00:00,  8.10it/s, now=None]"
     ]
    },
    {
     "name": "stdout",
     "output_type": "stream",
     "text": [
      "[1015.3557434    0.       ]\n",
      "[1016.76257083    0.        ]\n"
     ]
    },
    {
     "name": "stderr",
     "output_type": "stream",
     "text": [
      "t: 100%|█████████▉| 1255/1260 [02:03<00:00,  7.93it/s, now=None]"
     ]
    },
    {
     "name": "stdout",
     "output_type": "stream",
     "text": [
      "[1009.77390966    0.        ]\n",
      "[1006.8138286    0.       ]\n"
     ]
    },
    {
     "name": "stderr",
     "output_type": "stream",
     "text": [
      "t: 100%|█████████▉| 1257/1260 [02:03<00:00,  7.85it/s, now=None]"
     ]
    },
    {
     "name": "stdout",
     "output_type": "stream",
     "text": [
      "[1005.85982811    0.        ]\n",
      "[1010.25037639    0.        ]\n"
     ]
    },
    {
     "name": "stderr",
     "output_type": "stream",
     "text": [
      "t: 100%|█████████▉| 1259/1260 [02:03<00:00,  8.25it/s, now=None]"
     ]
    },
    {
     "name": "stdout",
     "output_type": "stream",
     "text": [
      "[995.68375171   0.        ]\n",
      "[984.82302296   0.        ]\n"
     ]
    },
    {
     "name": "stderr",
     "output_type": "stream",
     "text": [
      "\r",
      "t: 100%|██████████| 1260/1260 [02:03<00:00,  8.06it/s, now=None]"
     ]
    },
    {
     "name": "stdout",
     "output_type": "stream",
     "text": [
      "[991.17237081   0.        ]\n",
      "[991.3378907   0.       ]\n"
     ]
    },
    {
     "name": "stderr",
     "output_type": "stream",
     "text": [
      "                                                                \r"
     ]
    },
    {
     "name": "stdout",
     "output_type": "stream",
     "text": [
      "Moviepy - Done !\n",
      "Moviepy - video ready test_videos_output/project_video.mp4\n",
      "CPU times: user 3min 36s, sys: 14 s, total: 3min 50s\n",
      "Wall time: 2min 5s\n"
     ]
    },
    {
     "data": {
      "image/png": "[encoded data removed]",
      "text/plain": [
       "<Figure size 432x288 with 1 Axes>"
      ]
     },
     "metadata": {
      "needs_background": "light"
     },
     "output_type": "display_data"
    }
   ],
   "source": [
    "from moviepy.editor import VideoFileClip\n",
    "from IPython.display import HTML\n",
    "from matplotlib.path import Path\n",
    "\n",
    "\n",
    "def find_lane_pixels(binary_warped):\n",
    "    # Take a histogram of the bottom half of the image\n",
    "    histogram = np.sum(binary_warped[binary_warped.shape[0]//2:,:], axis=0)\n",
    "    # Create an output image to draw on and visualize the result\n",
    "    out_img = np.dstack((binary_warped, binary_warped, binary_warped))\n",
    "    # Find the peak of the left and right halves of the histogram\n",
    "    # These will be the starting point for the left and right lines\n",
    "    midpoint = np.int(histogram.shape[0]//2)\n",
    "    leftx_base = np.argmax(histogram[:midpoint])\n",
    "    rightx_base = np.argmax(histogram[midpoint:]) + midpoint\n",
    "\n",
    "    # HYPERPARAMETERS\n",
    "    # Choose the number of sliding windows\n",
    "    nwindows = 9\n",
    "    # Set the width of the windows +/- margin\n",
    "    margin = 100\n",
    "    # Set minimum number of pixels found to recenter window\n",
    "    minpix = 50\n",
    "\n",
    "    # Set height of windows - based on nwindows above and image shape\n",
    "    window_height = np.int(binary_warped.shape[0]//nwindows)\n",
    "    # Identify the x and y positions of all nonzero pixels in the image\n",
    "    nonzero = binary_warped.nonzero()\n",
    "    nonzeroy = np.array(nonzero[0])\n",
    "    nonzerox = np.array(nonzero[1])\n",
    "    # Current positions to be updated later for each window in nwindows\n",
    "    leftx_current = leftx_base\n",
    "    rightx_current = rightx_base\n",
    "\n",
    "    # Create empty lists to receive left and right lane pixel indices\n",
    "    left_lane_inds = []\n",
    "    right_lane_inds = []\n",
    "\n",
    "    # Step through the windows one by one\n",
    "    for window in range(nwindows):\n",
    "        # Identify window boundaries in x and y (and right and left)\n",
    "        win_y_low = binary_warped.shape[0] - (window+1)*window_height\n",
    "        win_y_high = binary_warped.shape[0] - window*window_height\n",
    "        win_xleft_low = leftx_current - margin\n",
    "        win_xleft_high = leftx_current + margin\n",
    "        win_xright_low = rightx_current - margin\n",
    "        win_xright_high = rightx_current + margin\n",
    "        \n",
    "        # Draw the windows on the visualization image\n",
    "#         cv2.rectangle(out_img,(win_xleft_low,win_y_low),\n",
    "#         (win_xleft_high,win_y_high),(0,255,0), 2) \n",
    "#         cv2.rectangle(out_img,(win_xright_low,win_y_low),\n",
    "#         (win_xright_high,win_y_high),(0,255,0), 2) \n",
    "        \n",
    "        # Identify the nonzero pixels in x and y within the window #\n",
    "        good_left_inds = ((nonzeroy >= win_y_low) & (nonzeroy < win_y_high) & \n",
    "        (nonzerox >= win_xleft_low) &  (nonzerox < win_xleft_high)).nonzero()[0]\n",
    "        good_right_inds = ((nonzeroy >= win_y_low) & (nonzeroy < win_y_high) & \n",
    "        (nonzerox >= win_xright_low) &  (nonzerox < win_xright_high)).nonzero()[0]\n",
    "        \n",
    "        # Append these indices to the lists\n",
    "        left_lane_inds.append(good_left_inds)\n",
    "        right_lane_inds.append(good_right_inds)\n",
    "        \n",
    "        # If you found > minpix pixels, recenter next window on their mean position\n",
    "        if len(good_left_inds) > minpix:\n",
    "            leftx_current = np.int(np.mean(nonzerox[good_left_inds]))\n",
    "        if len(good_right_inds) > minpix:        \n",
    "            rightx_current = np.int(np.mean(nonzerox[good_right_inds]))\n",
    "\n",
    "    # Concatenate the arrays of indices (previously was a list of lists of pixels)\n",
    "    try:\n",
    "        left_lane_inds = np.concatenate(left_lane_inds)\n",
    "        right_lane_inds = np.concatenate(right_lane_inds)\n",
    "    except ValueError:\n",
    "        # Avoids an error if the above is not implemented fully\n",
    "        pass\n",
    "\n",
    "    # Extract left and right line pixel positions\n",
    "    leftx = nonzerox[left_lane_inds]\n",
    "    lefty = nonzeroy[left_lane_inds] \n",
    "    rightx = nonzerox[right_lane_inds]\n",
    "    righty = nonzeroy[right_lane_inds]\n",
    "\n",
    "    return leftx, lefty, rightx, righty, out_img\n",
    "\n",
    "def fit_polynomial(binary_warped):\n",
    "    # Find our lane pixels first\n",
    "    leftx, lefty, rightx, righty, out_img = find_lane_pixels(binary_warped)\n",
    "\n",
    "    # Fit a second order polynomial to each using `np.polyfit`\n",
    "    left_fit = np.polyfit(lefty, leftx, 2)\n",
    "    right_fit = np.polyfit(righty, rightx, 2)\n",
    "\n",
    "    # Generate x and y values for plotting\n",
    "    ploty = np.linspace(0, binary_warped.shape[0]-1, binary_warped.shape[0] )\n",
    "    try:\n",
    "        left_fitx = left_fit[0]*ploty**2 + left_fit[1]*ploty + left_fit[2]\n",
    "        right_fitx = right_fit[0]*ploty**2 + right_fit[1]*ploty + right_fit[2]\n",
    "    except TypeError:\n",
    "        # Avoids an error if `left` and `right_fit` are still none or incorrect\n",
    "        print('The function failed to fit a line!')\n",
    "        left_fitx = 1*ploty**2 + 1*ploty\n",
    "        right_fitx = 1*ploty**2 + 1*ploty\n",
    "\n",
    "    ## Visualization ##\n",
    "    # Colors in the left and right lane regions\n",
    "#     out_img[lefty, leftx] = [255, 0, 0]\n",
    "#     out_img[righty, rightx] = [0, 0, 255]\n",
    "    \n",
    "#     pts = np.array([[100,50],[200,300],[700,200],[500,100]], np.int32)\n",
    "#     pts = pts.reshape((-1,1,2))\n",
    "#     cv2.polylines(img, [pts], True, (0,255,255), 3)\n",
    "\n",
    "#     cv2.line(out_img, left_fitx, ploty, (0,255,0), 2)\n",
    "\n",
    "    # Plots the left and right polynomials on the lane lines\n",
    "#     plt.plot(left_fitx, ploty, color='yellow')\n",
    "#     plt.plot(right_fitx, ploty, color='yellow')\n",
    "   \n",
    "    a = np.array(left_fitx)\n",
    "    b = np.array(ploty)\n",
    "    arr1 = np.dstack((a,b))\n",
    "    c = np.array(right_fitx)\n",
    "    arr2 = np.dstack((c,b))\n",
    "    \n",
    "#     arr = np.concatenate(([[700,0]], arr2[0], [[700,720]]), axis=0)\n",
    "    arr = np.concatenate(([arr2[0,0]], arr1[0], arr2[0]), axis=0)\n",
    "    \n",
    "    print(arr2[0,0])\n",
    "    \n",
    "    pts = np.array(arr, np.int32)\n",
    "#     pts = pts.reshape((-1,1,2))\n",
    "    cv2.fillConvexPoly(out_img, pts,(0,255,255))\n",
    "#     print(len(left_fitx))\n",
    "    return out_img\n",
    "\n",
    "def process_image(image):\n",
    "    \n",
    "#     overlay = image.copy()\n",
    "#     pts = np.array([[600,500],[750,500],[1000,700],[350,700]], np.int32)\n",
    "#     pts = pts.reshape((-1,1,2))\n",
    "#     cv2.fillConvexPoly(overlay, pts,(0,255,255))\n",
    "    #cv2.polylines(image,[pts],True,(0,255,255), 5)\n",
    "#     cv2.addWeighted(overlay, 0.5, image, 1, 0)\n",
    "    \n",
    "\n",
    "    # Choose a Sobel kernel size\n",
    "    ksize = 9 # Choose a larger odd number to smooth gradient measurements\n",
    "\n",
    "    # Convert to HLS color space and separate the S channel\n",
    "    # Note: img is the undistorted image\n",
    "    g_channel = image[:,:,1]\n",
    "    hls = cv2.cvtColor(image, cv2.COLOR_RGB2HLS)\n",
    "    s_channel = hls[:,:,2]\n",
    "\n",
    "    # Grayscale image\n",
    "    # NOTE: we already saw that standard grayscaling lost color information for the lane lines\n",
    "    # Explore gradients in other colors spaces / color channels to see what might work better\n",
    "    gray = cv2.cvtColor(image, cv2.COLOR_RGB2GRAY)\n",
    "\n",
    "    # Sobel x\n",
    "    sobelx = cv2.Sobel(gray, cv2.CV_64F, 1, 0) # Take the derivative in x\n",
    "    abs_sobelx = np.absolute(sobelx) # Absolute x derivative to accentuate lines away from horizontal\n",
    "    scaled_sobel = np.uint8(255*abs_sobelx/np.max(abs_sobelx))\n",
    "\n",
    "    # Threshold x gradient\n",
    "    thresh_min = 20\n",
    "    thresh_max = 100\n",
    "    sxbinary = np.zeros_like(scaled_sobel)\n",
    "    sxbinary[(scaled_sobel >= thresh_min) & (scaled_sobel <= thresh_max)] = 1\n",
    "\n",
    "    # Threshold color channel\n",
    "    s_thresh_min = 170\n",
    "    s_thresh_max = 255\n",
    "    s_binary = np.zeros_like(s_channel)\n",
    "    s_binary[(s_channel >= s_thresh_min) & (s_channel <= s_thresh_max)] = 1\n",
    "    \n",
    "    #Threshold color channel G\n",
    "    g_thresh_min = 170\n",
    "    g_thresh_max = 255\n",
    "    g_binary = np.zeros_like(g_channel)\n",
    "    g_binary[(g_channel >= g_thresh_min) & (g_channel <= g_thresh_max)] = 1\n",
    "    \n",
    "\n",
    "    # Stack each channel to view their individual contributions in green and blue respectively\n",
    "    # This returns a stack of the two binary images, whose components you can see as different colors\n",
    "    color_binary = np.dstack(( np.zeros_like(sxbinary), sxbinary, s_binary)) * 255\n",
    "\n",
    "    # Combine the two binary thresholds\n",
    "    combined_binary = np.zeros_like(sxbinary)\n",
    "    combined_binary[(s_binary == 1) | (sxbinary == 1)] = 1\n",
    "\n",
    "    #Applying mask if needed\n",
    "    mask = np.zeros_like(combined_binary)\n",
    "    ignore_mask_color = 255  \n",
    "\n",
    "    imshape = image.shape\n",
    "\n",
    "    left_border = imshape[1] * 0.2\n",
    "    right_border = imshape[1]\n",
    "    top_border = imshape[0]/1.5\n",
    "    left_top = left_border * 2\n",
    "    right_top = imshape[1] - left_top\n",
    "\n",
    "\n",
    "    vertices = np.array([[\n",
    "        (left_border,imshape[0]),\n",
    "        (left_top, top_border),\n",
    "        (right_top, top_border),\n",
    "        (right_border,imshape[0])\n",
    "    ]], dtype=np.int32)\n",
    "\n",
    "    cv2.fillPoly(mask, vertices, ignore_mask_color)\n",
    "\n",
    "    masked_edges = cv2.bitwise_and(combined_binary, mask)\n",
    "    \n",
    "    \n",
    "    \n",
    "    img_size = (image.shape[1], image.shape[0])\n",
    "\n",
    "\n",
    "    left_border = img_size[0] * 0.2\n",
    "    right_border = img_size[0] - left_border\n",
    "    top_border = img_size[1] / 1.5\n",
    "    left_top = left_border*2\n",
    "    right_top = img_size[0] - left_top\n",
    "\n",
    "\n",
    "\n",
    "\n",
    "    src = np.float32([\n",
    "        [left_border,img_size[1]],\n",
    "        [left_top, top_border],\n",
    "        [right_top, top_border],\n",
    "        [right_border,img_size[1]]\n",
    "    ])\n",
    "\n",
    "\n",
    "    dst = np.float32([\n",
    "        [left_border,img_size[1]],\n",
    "        [left_border,0],\n",
    "        [right_border,0],\n",
    "        [right_border,img_size[1]]\n",
    "    ])\n",
    "\n",
    "\n",
    "\n",
    "    M = cv2.getPerspectiveTransform(src,dst)\n",
    "    \n",
    "    M_return = cv2.getPerspectiveTransform(dst,src)\n",
    "\n",
    "    warped = cv2.warpPerspective(masked_edges, M, img_size, flags=cv2.INTER_LINEAR)\n",
    "    \n",
    "    itog = fit_polynomial(warped)\n",
    "    \n",
    "    returned = cv2.warpPerspective(itog, M_return, img_size, flags=cv2.INTER_LINEAR)\n",
    "    \n",
    "#     dstimg = cv2.undistort(converted, mtx, dist, None, mtx)\n",
    "    plt.imshow(image)\n",
    "    final = cv2.addWeighted(returned, 0.5, image, 1, 0)\n",
    "    \n",
    "    return final\n",
    "\n",
    "# fname = 'test_images/test6.jpg'\n",
    "# img = cv2.imread(fname)\n",
    "# converted = cv2.cvtColor(img, cv2.COLOR_RGB2BGR)\n",
    "# dstimg = cv2.undistort(converted, mtx, dist, None, mtx)\n",
    "# out_img = process_image(converted)\n",
    "# # final = cv2.addWeighted(out_img, 0.5, dstimg, 1, 0)\n",
    "# plt.imshow(out_img)\n",
    "\n",
    "\n",
    "white_output = 'test_videos_output/project_video.mp4'\n",
    "## To speed up the testing process you may want to try your pipeline on a shorter subclip of the video\n",
    "## To do so add .subclip(start_second,end_second) to the end of the line below\n",
    "## Where start_second and end_second are integer values representing the start and end of the subclip\n",
    "## You may also uncomment the following line for a subclip of the first 5 seconds\n",
    "# clip1 = VideoFileClip(\"challenge_video.mp4\").subclip(0,5)\n",
    "clip1 = VideoFileClip(\"project_video.mp4\")\n",
    "white_clip = clip1.fl_image(process_image) #NOTE: this function expects color images!!\n",
    "%time white_clip.write_videofile(white_output, audio=False)\n",
    "\n",
    "\n",
    "\n"
   ]
  },
  {
   "cell_type": "code",
   "execution_count": 5,
   "metadata": {},
   "outputs": [
    {
     "data": {
      "text/html": [
       "\n",
       "<video width=\"960\" height=\"540\" controls>\n",
       "  <source src=\"test_videos_output/project_video.mp4\">\n",
       "  \n",
       "</video>\n"
      ],
      "text/plain": [
       "<IPython.core.display.HTML object>"
      ]
     },
     "execution_count": 5,
     "metadata": {},
     "output_type": "execute_result"
    }
   ],
   "source": [
    "HTML(\"\"\"\n",
    "<video width=\"960\" height=\"540\" controls>\n",
    "  <source src=\"{0}\">\n",
    "  \n",
    "</video>\n",
    "\"\"\".format(white_output))"
   ]
  },
  {
   "cell_type": "code",
   "execution_count": null,
   "metadata": {},
   "outputs": [],
   "source": []
  },
  {
   "cell_type": "code",
   "execution_count": null,
   "metadata": {},
   "outputs": [],
   "source": []
  }
 ],
 "metadata": {
  "kernelspec": {
   "display_name": "Python 3",
   "language": "python",
   "name": "python3"
  },
  "language_info": {
   "codemirror_mode": {
    "name": "ipython",
    "version": 3
   },
   "file_extension": ".py",
   "mimetype": "text/x-python",
   "name": "python",
   "nbconvert_exporter": "python",
   "pygments_lexer": "ipython3",
   "version": "3.7.2"
  }
 },
 "nbformat": 4,
 "nbformat_minor": 2
}
